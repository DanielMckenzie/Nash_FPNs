{
 "cells": [
  {
   "cell_type": "markdown",
   "metadata": {},
   "source": [
    "## Description\n",
    "This notebook produces Figure 3 in the paper.\n",
    "It loads the pretrained models and plots how the compete against an optimal player in a matrix game"
   ]
  },
  {
   "cell_type": "code",
   "execution_count": 28,
   "metadata": {},
   "outputs": [],
   "source": [
    "import time\n",
    "import torch\n",
    "import torch.nn               as nn\n",
    "import torch.optim            as optim\n",
    "import numpy                  as np\n",
    "import matplotlib.pyplot      as plt\n",
    "from torch.utils.data         import Dataset, TensorDataset, DataLoader\n",
    "from torch.utils.data.dataset import random_split\n",
    "from Networks import NFPN_RPS_Net, Payoff_Net\n",
    "from Payoff_Net_Utils import VecToAntiSymMatrix\n",
    "\n",
    "context       = torch.tensor\n",
    "action        = torch.tensor\n",
    "weight_matrix = torch.tensor\n",
    "payoff_matrix = torch.tensor\n",
    "\n",
    "# seed = 30\n",
    "# torch.manual_seed(seed)\n",
    "# W = torch.rand(3, 3) * torch.tensor([0.5, 10, 20])\n",
    "# W = W.permute(1,0)\n",
    "# print(W)"
   ]
  },
  {
   "cell_type": "code",
   "execution_count": 29,
   "metadata": {},
   "outputs": [],
   "source": [
    "## Load test data\n",
    "action_size = 5\n",
    "state = torch.load('./data/RPS_training_data_QRE'+str(action_size)+'.pth')\n",
    "train_dataset = state['train_dataset']\n",
    "test_dataset = state['test_dataset']\n",
    "train_size = state['train_size']\n",
    "test_size = state['test_size']\n",
    "W = state['W']\n",
    "\n",
    "train_loader = DataLoader(dataset=train_dataset, batch_size=200,\n",
    "                          shuffle=True)\n",
    "test_loader = DataLoader(dataset=test_dataset, batch_size=test_size,\n",
    "                         shuffle=False)"
   ]
  },
  {
   "cell_type": "code",
   "execution_count": 62,
   "metadata": {},
   "outputs": [],
   "source": [
    "def create_payoff_matrix(d: context, action_size, W) -> payoff_matrix:\n",
    "    ind_params = torch.matmul(W, d.permute(1, 0))\n",
    "    P = VecToAntiSymMatrix(ind_params.permute(1, 0), action_size)\n",
    "    return P"
   ]
  },
  {
   "cell_type": "code",
   "execution_count": 11,
   "metadata": {},
   "outputs": [
    {
     "data": {
      "text/plain": [
       "Payoff_Net(\n",
       "  (fc1): Linear(in_features=3, out_features=3, bias=True)\n",
       "  (fc2): Linear(in_features=3, out_features=10, bias=True)\n",
       "  (leaky_relu): LeakyReLU(negative_slope=0.1)\n",
       ")"
      ]
     },
     "execution_count": 11,
     "metadata": {},
     "output_type": "execute_result"
    }
   ],
   "source": [
    "## Load models\n",
    "NFPN_data = torch.load('./experiment1/NFPN_RPS_data'+str(action_size)+'.pth')\n",
    "PayoffNet_data = torch.load('./experiment1/Payoff_Net_RPS_data'+str(action_size)+'.pth')\n",
    "\n",
    "NFPN_weights = NFPN_data['T_state_dict']\n",
    "PayoffNet_weights = PayoffNet_data['Payoff_Net_State_dict']\n",
    "\n",
    "NFPN = NFPN_RPS_Net(action_size)\n",
    "PayoffNet = Payoff_Net(action_size)\n",
    "\n",
    "## Attach trained weights\n",
    "NFPN.load_state_dict(NFPN_weights)\n",
    "NFPN.eval()\n",
    "PayoffNet.load_state_dict(PayoffNet_weights)\n",
    "PayoffNet.eval()"
   ]
  },
  {
   "cell_type": "code",
   "execution_count": 12,
   "metadata": {},
   "outputs": [],
   "source": [
    "## Simulate Play Utilities\n",
    "def sample_distribution(prob_vec) -> action:\n",
    "    '''Sample from a discrete probability distribution\n",
    "\n",
    "       Create a cumulative distribution vector and sample a point p uniformly\n",
    "       from [0,1]. Then p will have a value between two of the cumulative\n",
    "       entries, which indicates the sample index to pick for the sampling.\n",
    "    '''\n",
    "    p_sample      = torch.rand(1) \n",
    "    dist_vec      = torch.cumsum(prob_vec, dim=0)\n",
    "    action_sample = torch.zeros(prob_vec.shape)\n",
    "    for idx, ref in enumerate(dist_vec):\n",
    "        if ref > p_sample: \n",
    "            action_sample[idx] = 1.0\n",
    "            return action_sample\n",
    "    print(\"Error: Unable to assign action\")"
   ]
  },
  {
   "cell_type": "code",
   "execution_count": 95,
   "metadata": {},
   "outputs": [],
   "source": [
    "def Simulate_Play(net1, net2, test_loader, action_size, num_rounds, W):\n",
    "    '''\n",
    "    Simulates play of rock-paper-scissors. net1 and net2 are pre-trained NNs designed to predict nash equilibria.\n",
    "    For each context in test_loader, we simulate 50 rounds of play.\n",
    "    '''\n",
    "    \n",
    "    for x_batch, d_batch in test_loader:\n",
    "        \n",
    "        # Compute strategies given contexts.\n",
    "        x_net1 = net1(d_batch)\n",
    "        x_net2 = net2(d_batch)\n",
    "        x_uniform = (1.0/action_size)*torch.ones(test_size, action_size)\n",
    "        x_optimal = x_batch\n",
    "    \n",
    "        # Create all payoff matrices\n",
    "        P = create_payoff_matrix(d_batch, action_size, W)\n",
    "        \n",
    "        # Initialize cost lists\n",
    "        Cost_net1 = []\n",
    "        Cost_uniform = []\n",
    "        Cost_optimal = []\n",
    "        Cost_net2 = []\n",
    "    \n",
    "        # Iterate over batches\n",
    "        for i, d in enumerate(d_batch):\n",
    "            # play a few rounds\n",
    "            for j in range(num_rounds):\n",
    "                action_net1 = sample_distribution(x_net1[i, 0:action_size])\n",
    "                action_uniform = sample_distribution(x_uniform[i, 0:action_size])\n",
    "                action_optimal = sample_distribution(x_optimal[i,0:action_size])\n",
    "                action_net2 = sample_distribution(x_net2[i,0:action_size])\n",
    "        \n",
    "                # Nash player\n",
    "                action_nash = sample_distribution(x_optimal[i,action_size:])\n",
    "        \n",
    "                # Compute costs incurred. Note we do not add the entropic regularizer.\n",
    "                Cost_vec = torch.matmul(P[i,:,:], action_nash)\n",
    "                Cost_net1.append(torch.matmul(Cost_vec, action_net1).item())\n",
    "                Cost_uniform.append(torch.matmul(Cost_vec, action_uniform).item())\n",
    "                Cost_net2.append(torch.matmul(Cost_vec, action_net2).item())\n",
    "                Cost_optimal.append(torch.matmul(Cost_vec, action_optimal).item())\n",
    "                \n",
    "        # Compute statistics\n",
    "        Cost_net1_mean = np.mean(Cost_net1)\n",
    "        Cost_net1_std = np.std(Cost_net1)\n",
    "        Cost_net2_mean = np.mean(Cost_net2)\n",
    "        Cost_net2_std = np.std(Cost_net2)\n",
    "        Cost_uniform_mean = np.mean(Cost_uniform)\n",
    "        Cost_uniform_std = np.std(Cost_uniform)\n",
    "        Cost_optimal_mean = np.mean(Cost_optimal)\n",
    "        Cost_optimal_std = np.std(Cost_optimal)\n",
    "        \n",
    "        return Cost_net1_mean, Cost_net1_std, Cost_net2_mean, Cost_net2_std, Cost_uniform_mean, Cost_uniform_std, Cost_optimal_mean, Cost_optimal_std   "
   ]
  },
  {
   "cell_type": "code",
   "execution_count": 96,
   "metadata": {},
   "outputs": [],
   "source": [
    "Cost_net1_mean, Cost_net1_std, Cost_net2_mean, Cost_net2_std,Cost_uniform_mean, Cost_uniform_std, Cost_optimal_mean, Cost_optimal_std = Simulate_Play(NFPN, PayoffNet, test_loader, action_size, num_rounds, W)"
   ]
  },
  {
   "cell_type": "code",
   "execution_count": 97,
   "metadata": {},
   "outputs": [],
   "source": [
    "## Loop over all pretrained networks\n",
    "\n",
    "# Initialize cost lists\n",
    "mean_Cost_net1_array = np.zeros(5)\n",
    "mean_Cost_uniform_array = np.zeros(5)\n",
    "mean_Cost_optimal_array = np.zeros(5)\n",
    "mean_Cost_net2_array = np.zeros(5)\n",
    "\n",
    "std_Cost_net1_array = np.zeros(5)\n",
    "std_Cost_uniform_array = np.zeros(5)\n",
    "std_Cost_optimal_array = np.zeros(5)\n",
    "std_Cost_net2_array = np.zeros(5)\n",
    "\n",
    "num_rounds = 100\n",
    "        \n",
    "for i, action_size in enumerate(range(5,30,5)):\n",
    "    \n",
    "    ## Load test data\n",
    "    state = torch.load('./data/RPS_training_data_QRE'+str(action_size)+'.pth')\n",
    "    train_dataset = state['train_dataset']\n",
    "    test_dataset = state['test_dataset']\n",
    "    train_size = state['train_size']\n",
    "    test_size = state['test_size']\n",
    "    W = state['W']\n",
    "\n",
    "    train_loader = DataLoader(dataset=train_dataset, batch_size=200, shuffle=True)\n",
    "    test_loader = DataLoader(dataset=test_dataset, batch_size=test_size, shuffle=False)\n",
    "    \n",
    "    ## Load models\n",
    "    NFPN_data = torch.load('./experiment1/NFPN_RPS_data'+str(action_size)+'.pth')\n",
    "    PayoffNet_data = torch.load('./experiment1/Payoff_Net_RPS_data'+str(action_size)+'.pth')\n",
    "\n",
    "    NFPN_weights = NFPN_data['T_state_dict']\n",
    "    PayoffNet_weights = PayoffNet_data['Payoff_Net_State_dict']\n",
    "\n",
    "    NFPN = NFPN_RPS_Net(action_size)\n",
    "    PayoffNet = Payoff_Net(action_size)\n",
    "\n",
    "    ## Attach trained weights\n",
    "    NFPN.load_state_dict(NFPN_weights)\n",
    "    NFPN.eval()\n",
    "    PayoffNet.load_state_dict(PayoffNet_weights)\n",
    "    PayoffNet.eval()\n",
    "\n",
    "    ## Simulate play\n",
    "    Cost_net1_mean, Cost_net1_std, Cost_net2_mean, Cost_net2_std,Cost_uniform_mean, Cost_uniform_std, Cost_optimal_mean, Cost_optimal_std = Simulate_Play(NFPN, PayoffNet, test_loader, action_size, num_rounds, W)\n",
    "    \n",
    "    ## Store Data\n",
    "    mean_Cost_net1_array[i] = Cost_net1_mean\n",
    "    mean_Cost_uniform_array[i] = Cost_uniform_mean\n",
    "    mean_Cost_optimal_array[i] = Cost_optimal_mean\n",
    "    mean_Cost_net2_array[i] = Cost_net2_mean\n",
    "    \n",
    "    std_Cost_net1_array[i] = Cost_net1_std\n",
    "    std_Cost_uniform_array[i] = Cost_uniform_std\n",
    "    std_Cost_optimal_array[i] = Cost_optimal_std\n",
    "    std_Cost_net2_array[i] = Cost_net2_std\n",
    "    "
   ]
  },
  {
   "cell_type": "code",
   "execution_count": 105,
   "metadata": {},
   "outputs": [
    {
     "name": "stdout",
     "output_type": "stream",
     "text": [
      "[4.30553725 3.69387778 3.58637042 4.15468401 3.2990223 ]\n",
      "[-0.03248235  0.05612648  0.01382179 -0.01198919 -0.10248805]\n"
     ]
    }
   ],
   "source": [
    "## Convert to arrays. Weird\n",
    "# mean_Cost_net1_array = np.array(mean_Cost_net1_array)\n",
    "# mean_Cost_uniform_array = np.array(mean_Cost_uniform_array)\n",
    "# mean_Cost_optimal_array = np.array(mean_Cost_optimal_array)\n",
    "# mean_Cost_net2_array = np.array(mean_Cost_net2_array)\n",
    "\n",
    "# std_Cost_net1_array = np.array(std_Cost_net1_array)\n",
    "# std_Cost_uniform_array = np.array(std_Cost_uniform_array)\n",
    "# std_Cost_optimal_array = np.array(std_Cost_optimal_array)\n",
    "# std_Cost_net2_array = np.array(std_Cost_net2_array)\n",
    "print(std_Cost_net1_array)\n",
    "print(mean_Cost_net1_array)"
   ]
  },
  {
   "cell_type": "code",
   "execution_count": 111,
   "metadata": {},
   "outputs": [
    {
     "data": {
      "image/png": "[encoded data removed]",
      "text/plain": [
       "<Figure size 432x288 with 1 Axes>"
      ]
     },
     "metadata": {
      "needs_background": "light"
     },
     "output_type": "display_data"
    }
   ],
   "source": [
    "## Plot Results\n",
    "sizes = np.arange(5,30,5)\n",
    "fig1 = plt.figure(1)\n",
    "plt.plot(sizes, mean_Cost_net1_array, label=\"N-FPN\", color = 'blue', marker = '*')\n",
    "# plt.fill_between(sizes, mean_Cost_net1_array - std_Cost_net1_array, mean_Cost_net1_array + std_Cost_net1_array, color = 'blue', alpha = .2)\n",
    "\n",
    "plt.plot(sizes, mean_Cost_net2_array, label=\"PayoffNet\", color = 'red', marker = '*')\n",
    "# plt.fill_between(sizes, mean_Cost_net2_array - std_Cost_net2_array, mean_Cost_net2_array + std_Cost_net2_array, color = 'red', alpha = .2)\n",
    "\n",
    "plt.plot(sizes, mean_Cost_uniform_array, label=\"Uniform\", color = 'black', marker = '*')\n",
    "# plt.fill_between(sizes, mean_Cost_uniform_array - std_Cost_uniform_array, mean_Cost_uniform_array + std_Cost_uniform_array, color = 'black', alpha = .2)\n",
    "\n",
    "plt.plot(sizes, mean_Cost_optimal_array, label=\"Optimal\", color = 'green', marker = '*')\n",
    "# plt.fill_between(sizes, mean_Cost_optimal_array - std_Cost_optimal_array, mean_Cost_optimal_array + std_Cost_optimal_array, color = 'green', alpha = .2)\n",
    "\n",
    "plt.legend()\n",
    "plt.savefig('RPS_performance.pdf')\n",
    "plt.show()\n",
    "\n"
   ]
  },
  {
   "cell_type": "code",
   "execution_count": 110,
   "metadata": {},
   "outputs": [
    {
     "data": {
      "image/png": "[encoded data removed]",
      "text/plain": [
       "<Figure size 432x288 with 1 Axes>"
      ]
     },
     "metadata": {
      "needs_background": "light"
     },
     "output_type": "display_data"
    }
   ],
   "source": [
    "## Plot Results, log scale\n",
    "fig1 = plt.figure(1)\n",
    "plt.semilogy(sizes, np.abs(mean_Cost_net1_array), label=\"N-FPN\", color = 'blue', marker = '*')\n",
    "# plt.fill_between(sizes, mean_Cost_net1_array - std_Cost_net1_array, mean_Cost_net1_array + std_Cost_net1_array, color = 'blue', alpha = .2)\n",
    "\n",
    "plt.semilogy(sizes, np.abs(mean_Cost_net2_array), label=\"PayoffNet\", color = 'red', marker = '*')\n",
    "# plt.fill_between(sizes, mean_Cost_net2_array - std_Cost_net2_array, mean_Cost_net2_array + std_Cost_net2_array, color = 'red', alpha = .2)\n",
    "\n",
    "plt.semilogy(sizes, np.abs(mean_Cost_uniform_array), label=\"Uniform\", color = 'black', marker = '*')\n",
    "# plt.fill_between(sizes, mean_Cost_uniform_array - std_Cost_uniform_array, mean_Cost_uniform_array + std_Cost_uniform_array, color = 'black', alpha = .2)\n",
    "\n",
    "plt.semilogy(sizes, np.abs(mean_Cost_optimal_array), label=\"Optimal\", color = 'green', marker = '*')\n",
    "# plt.fill_between(sizes, mean_Cost_optimal_array - std_Cost_optimal_array, mean_Cost_optimal_array + std_Cost_optimal_array, color = 'green', alpha = .2)\n",
    "\n",
    "plt.legend()\n",
    "plt.savefig('RPS_performance_logScale.pdf')\n",
    "plt.show()"
   ]
  },
  {
   "cell_type": "code",
   "execution_count": null,
   "metadata": {},
   "outputs": [],
   "source": []
  }
 ],
 "metadata": {
  "kernelspec": {
   "display_name": "Python 3",
   "language": "python",
   "name": "python3"
  },
  "language_info": {
   "codemirror_mode": {
    "name": "ipython",
    "version": 3
   },
   "file_extension": ".py",
   "mimetype": "text/x-python",
   "name": "python",
   "nbconvert_exporter": "python",
   "pygments_lexer": "ipython3",
   "version": "3.8.10"
  }
 },
 "nbformat": 4,
 "nbformat_minor": 4
}
