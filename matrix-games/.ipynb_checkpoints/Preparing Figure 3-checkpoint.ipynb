{
 "cells": [
  {
   "cell_type": "markdown",
   "metadata": {},
   "source": [
    "## Description\n",
    "This notebook produces Figure 3 in the paper.\n",
    "It loads the pretrained models and plots how the compete against an optimal player in a matrix game"
   ]
  },
  {
   "cell_type": "code",
   "execution_count": 28,
   "metadata": {},
   "outputs": [],
   "source": [
    "import time\n",
    "import torch\n",
    "import torch.nn               as nn\n",
    "import torch.optim            as optim\n",
    "import numpy                  as np\n",
    "import matplotlib.pyplot      as plt\n",
    "from torch.utils.data         import Dataset, TensorDataset, DataLoader\n",
    "from torch.utils.data.dataset import random_split\n",
    "from Networks import NFPN_RPS_Net, Payoff_Net\n",
    "from Payoff_Net_Utils import VecToAntiSymMatrix\n",
    "\n",
    "context       = torch.tensor\n",
    "action        = torch.tensor\n",
    "weight_matrix = torch.tensor\n",
    "payoff_matrix = torch.tensor\n",
    "\n",
    "# seed = 30\n",
    "# torch.manual_seed(seed)\n",
    "# W = torch.rand(3, 3) * torch.tensor([0.5, 10, 20])\n",
    "# W = W.permute(1,0)\n",
    "# print(W)"
   ]
  },
  {
   "cell_type": "code",
   "execution_count": 29,
   "metadata": {},
   "outputs": [],
   "source": [
    "## Load test data\n",
    "action_size = 5\n",
    "state = torch.load('./data/RPS_training_data_QRE'+str(action_size)+'.pth')\n",
    "train_dataset = state['train_dataset']\n",
    "test_dataset = state['test_dataset']\n",
    "train_size = state['train_size']\n",
    "test_size = state['test_size']\n",
    "W = state['W']\n",
    "\n",
    "train_loader = DataLoader(dataset=train_dataset, batch_size=200,\n",
    "                          shuffle=True)\n",
    "test_loader = DataLoader(dataset=test_dataset, batch_size=test_size,\n",
    "                         shuffle=False)"
   ]
  },
  {
   "cell_type": "code",
   "execution_count": 62,
   "metadata": {},
   "outputs": [],
   "source": [
    "def create_payoff_matrix(d: context, action_size, W) -> payoff_matrix:\n",
    "    ind_params = torch.matmul(W, d.permute(1, 0))\n",
    "    P = VecToAntiSymMatrix(ind_params.permute(1, 0), action_size)\n",
    "    return P"
   ]
  },
  {
   "cell_type": "code",
   "execution_count": 11,
   "metadata": {},
   "outputs": [
    {
     "data": {
      "text/plain": [
       "Payoff_Net(\n",
       "  (fc1): Linear(in_features=3, out_features=3, bias=True)\n",
       "  (fc2): Linear(in_features=3, out_features=10, bias=True)\n",
       "  (leaky_relu): LeakyReLU(negative_slope=0.1)\n",
       ")"
      ]
     },
     "execution_count": 11,
     "metadata": {},
     "output_type": "execute_result"
    }
   ],
   "source": [
    "## Load models\n",
    "NFPN_data = torch.load('./experiment1/NFPN_RPS_data'+str(action_size)+'.pth')\n",
    "PayoffNet_data = torch.load('./experiment1/Payoff_Net_RPS_data'+str(action_size)+'.pth')\n",
    "\n",
    "NFPN_weights = NFPN_data['T_state_dict']\n",
    "PayoffNet_weights = PayoffNet_data['Payoff_Net_State_dict']\n",
    "\n",
    "NFPN = NFPN_RPS_Net(action_size)\n",
    "PayoffNet = Payoff_Net(action_size)\n",
    "\n",
    "## Attach trained weights\n",
    "NFPN.load_state_dict(NFPN_weights)\n",
    "NFPN.eval()\n",
    "PayoffNet.load_state_dict(PayoffNet_weights)\n",
    "PayoffNet.eval()"
   ]
  },
  {
   "cell_type": "code",
   "execution_count": 12,
   "metadata": {},
   "outputs": [],
   "source": [
    "## Simulate Play Utilities\n",
    "def sample_distribution(prob_vec) -> action:\n",
    "    '''Sample from a discrete probability distribution\n",
    "\n",
    "       Create a cumulative distribution vector and sample a point p uniformly\n",
    "       from [0,1]. Then p will have a value between two of the cumulative\n",
    "       entries, which indicates the sample index to pick for the sampling.\n",
    "    '''\n",
    "    p_sample      = torch.rand(1) \n",
    "    dist_vec      = torch.cumsum(prob_vec, dim=0)\n",
    "    action_sample = torch.zeros(prob_vec.shape)\n",
    "    for idx, ref in enumerate(dist_vec):\n",
    "        if ref > p_sample: \n",
    "            action_sample[idx] = 1.0\n",
    "            return action_sample\n",
    "    print(\"Error: Unable to assign action\")"
   ]
  },
  {
   "cell_type": "code",
   "execution_count": 88,
   "metadata": {},
   "outputs": [],
   "source": [
    "def Simulate_Play(net1, net2, test_loader, action_size, num_rounds, W):\n",
    "    '''\n",
    "    Simulates play of rock-paper-scissors. net1 and net2 are pre-trained NNs designed to predict nash equilibria.\n",
    "    For each context in test_loader, we simulate 50 rounds of play.\n",
    "    '''\n",
    "    \n",
    "    for x_batch, d_batch in test_loader:\n",
    "        \n",
    "        # Compute strategies given contexts.\n",
    "        x_net1 = net1(d_batch)\n",
    "        x_net2 = net2(d_batch)\n",
    "        x_uniform = (1.0/action_size)*torch.ones(test_size, action_size)\n",
    "        x_optimal = x_batch\n",
    "    \n",
    "        # Create all payoff matrices\n",
    "        P = create_payoff_matrix(d_batch, action_size, W)\n",
    "        \n",
    "        # Initialize cost lists\n",
    "        Cost_net1 = []\n",
    "        Cost_uniform = []\n",
    "        Cost_optimal = []\n",
    "        Cost_net2 = []\n",
    "    \n",
    "        # Iterate over batches\n",
    "        for i, d in enumerate(d_batch):\n",
    "            # play a few rounds\n",
    "            for j in range(num_rounds):\n",
    "                action_net1 = sample_distribution(x_net1[i, 0:action_size])\n",
    "                action_uniform = sample_distribution(x_uniform[i, 0:action_size])\n",
    "                action_optimal = sample_distribution(x_optimal[i,0:action_size])\n",
    "                action_net2 = sample_distribution(x_net2[i,0:action_size])\n",
    "        \n",
    "                # Nash player\n",
    "                action_nash = sample_distribution(x_optimal[i,action_size:])\n",
    "        \n",
    "                # Compute costs incurred. Note we do not add the entropic regularizer.\n",
    "                Cost_vec = torch.matmul(P[i,:,:], action_nash)\n",
    "                Cost_net1.append(torch.matmul(Cost_vec, action_net1).item())\n",
    "                Cost_uniform.append(torch.matmul(Cost_vec, action_uniform).item())\n",
    "                Cost_net2.append(torch.matmul(Cost_vec, action_net2).item())\n",
    "                Cost_optimal.append(torch.matmul(Cost_vec, action_optimal).item())\n",
    "                \n",
    "        # Compute statistics\n",
    "        Cost_net1_mean = np.mean(Cost_net1)\n",
    "        Cost_net1_std = np.std(Cost_net1)\n",
    "        Cost_net2_mean = np.mean(Cost_net2)\n",
    "        Cost_net2_std = np.std(Cost_net2)\n",
    "        Cost_uniform_mean = np.mean(Cost_uniform)\n",
    "        Cost_uniform_std = np.std(Cost_uniform)\n",
    "        Cost_optimal_mean = np.mean(Cost_optimal)\n",
    "        Cost_optimal_std = np.std(Cost_optimal)\n",
    "        \n",
    "        return Cost_net1_mean, Cost_net1_std, Cost_net2_mean, Cost_net2_std, Cost_uniform_mean, Cost_uniform_std, Cost_optimal_mean, Cost_optimal_std   "
   ]
  },
  {
   "cell_type": "code",
   "execution_count": 89,
   "metadata": {},
   "outputs": [],
   "source": [
    "Cost_net1_mean, Cost_net1_std, Cost_net2_mean, Cost_net2_std,Cost_uniform_mean, Cost_uniform_std, Cost_optimal_mean, Cost_optimal_std = Simulate_Play(NFPN, PayoffNet, test_loader, action_size, num_rounds, W)"
   ]
  },
  {
   "cell_type": "code",
   "execution_count": 86,
   "metadata": {},
   "outputs": [],
   "source": [
    "## Loop over all pretrained networks\n",
    "\n",
    "# Initialize cost lists\n",
    "mean_Cost_net1_array = np.zeros(5)\n",
    "mean_Cost_uniform_array = np.zeros(5)\n",
    "mean_Cost_optimal_array = np.zeros(5)\n",
    "mean_Cost_net2_array = np.zeros(5)\n",
    "\n",
    "std_Cost_net1_array = np.zeros(5)\n",
    "std_Cost_uniform_array = np.zeros(5)\n",
    "std_Cost_optimal_array = np.zeros(5)\n",
    "std_Cost_net2_array = np.zeros(5)\n",
    "\n",
    "num_rounds = 100\n",
    "        \n",
    "for i, action_size in enumerate(range(5,30,5)):\n",
    "    \n",
    "    ## Load test data\n",
    "    state = torch.load('./data/RPS_training_data_QRE'+str(action_size)+'.pth')\n",
    "    train_dataset = state['train_dataset']\n",
    "    test_dataset = state['test_dataset']\n",
    "    train_size = state['train_size']\n",
    "    test_size = state['test_size']\n",
    "    W = state['W']\n",
    "\n",
    "    train_loader = DataLoader(dataset=train_dataset, batch_size=200, shuffle=True)\n",
    "    test_loader = DataLoader(dataset=test_dataset, batch_size=test_size, shuffle=False)\n",
    "    \n",
    "    ## Load models\n",
    "    NFPN_data = torch.load('./experiment1/NFPN_RPS_data'+str(action_size)+'.pth')\n",
    "    PayoffNet_data = torch.load('./experiment1/Payoff_Net_RPS_data'+str(action_size)+'.pth')\n",
    "\n",
    "    NFPN_weights = NFPN_data['T_state_dict']\n",
    "    PayoffNet_weights = PayoffNet_data['Payoff_Net_State_dict']\n",
    "\n",
    "    NFPN = NFPN_RPS_Net(action_size)\n",
    "    PayoffNet = Payoff_Net(action_size)\n",
    "\n",
    "    ## Attach trained weights\n",
    "    NFPN.load_state_dict(NFPN_weights)\n",
    "    NFPN.eval()\n",
    "    PayoffNet.load_state_dict(PayoffNet_weights)\n",
    "    PayoffNet.eval()\n",
    "\n",
    "    ## Simulate play\n",
    "    Cost_net1_mean, Cost_net1_std, Cost_net2_mean, Cost_net2_std,Cost_uniform_mean, Cost_uniform_std, Cost_optimal_mean, Cost_optimal_std = Simulate_Play(NFPN, PayoffNet, test_loader, action_size, num_rounds, W)\n",
    "    \n",
    "    ## Store Data\n",
    "    mean_Cost_net1_list.append(Cost_net1_mean)\n",
    "    mean_Cost_uniform_list.append(Cost_uniform_mean)\n",
    "    mean_Cost_optimal_list.append(Cost_optimal_mean)\n",
    "    mean_Cost_net2_list.append(Cost_net2_mean)\n",
    "    \n",
    "    std_Cost_net1_list.append(Cost_net1_std)\n",
    "    std_Cost_uniform_list.append(Cost_uniform_std)\n",
    "    std_Cost_optimal_list.append(Cost_optimal_std)\n",
    "    std_Cost_net2_list.append(Cost_net2_std)\n",
    "    "
   ]
  },
  {
   "cell_type": "code",
   "execution_count": 87,
   "metadata": {},
   "outputs": [
    {
     "name": "stdout",
     "output_type": "stream",
     "text": [
      "[array(-0.0108542), array(0.07270737), array(-0.07340739), array(-0.00456847), array(-0.05106649)]\n"
     ]
    }
   ],
   "source": [
    "print(mean_Cost_net1_list)"
   ]
  },
  {
   "cell_type": "code",
   "execution_count": 83,
   "metadata": {},
   "outputs": [
    {
     "ename": "TypeError",
     "evalue": "unsupported operand type(s) for -: 'list' and 'list'",
     "output_type": "error",
     "traceback": [
      "\u001b[0;31m---------------------------------------------------------------------------\u001b[0m",
      "\u001b[0;31mTypeError\u001b[0m                                 Traceback (most recent call last)",
      "\u001b[0;32m<ipython-input-83-a75c1c2d6406>\u001b[0m in \u001b[0;36m<module>\u001b[0;34m\u001b[0m\n\u001b[1;32m      3\u001b[0m \u001b[0mfig1\u001b[0m \u001b[0;34m=\u001b[0m \u001b[0mplt\u001b[0m\u001b[0;34m.\u001b[0m\u001b[0mfigure\u001b[0m\u001b[0;34m(\u001b[0m\u001b[0;36m1\u001b[0m\u001b[0;34m)\u001b[0m\u001b[0;34m\u001b[0m\u001b[0;34m\u001b[0m\u001b[0m\n\u001b[1;32m      4\u001b[0m \u001b[0mplt\u001b[0m\u001b[0;34m.\u001b[0m\u001b[0mplot\u001b[0m\u001b[0;34m(\u001b[0m\u001b[0msizes\u001b[0m\u001b[0;34m,\u001b[0m \u001b[0mmean_Cost_net1_list\u001b[0m\u001b[0;34m,\u001b[0m \u001b[0mlabel\u001b[0m\u001b[0;34m=\u001b[0m\u001b[0;34m\"N-FPN\"\u001b[0m\u001b[0;34m,\u001b[0m \u001b[0mcolor\u001b[0m \u001b[0;34m=\u001b[0m \u001b[0;34m'blue'\u001b[0m\u001b[0;34m,\u001b[0m \u001b[0mmarker\u001b[0m \u001b[0;34m=\u001b[0m \u001b[0;34m'*'\u001b[0m\u001b[0;34m)\u001b[0m\u001b[0;34m\u001b[0m\u001b[0;34m\u001b[0m\u001b[0m\n\u001b[0;32m----> 5\u001b[0;31m \u001b[0mplt\u001b[0m\u001b[0;34m.\u001b[0m\u001b[0mfill_between\u001b[0m\u001b[0;34m(\u001b[0m\u001b[0msizes\u001b[0m\u001b[0;34m,\u001b[0m \u001b[0mmean_Cost_net1_list\u001b[0m \u001b[0;34m-\u001b[0m \u001b[0mstd_Cost_net1_list\u001b[0m\u001b[0;34m,\u001b[0m \u001b[0mmean_Cost_net1_list\u001b[0m \u001b[0;34m+\u001b[0m \u001b[0mstd_Cost_net1_list\u001b[0m\u001b[0;34m,\u001b[0m \u001b[0mcolor\u001b[0m \u001b[0;34m=\u001b[0m \u001b[0;34m'blue'\u001b[0m\u001b[0;34m,\u001b[0m \u001b[0malpha\u001b[0m \u001b[0;34m=\u001b[0m \u001b[0;36m.2\u001b[0m\u001b[0;34m)\u001b[0m\u001b[0;34m\u001b[0m\u001b[0;34m\u001b[0m\u001b[0m\n\u001b[0m\u001b[1;32m      6\u001b[0m \u001b[0mplt\u001b[0m\u001b[0;34m.\u001b[0m\u001b[0mshow\u001b[0m\u001b[0;34m(\u001b[0m\u001b[0;34m)\u001b[0m\u001b[0;34m\u001b[0m\u001b[0;34m\u001b[0m\u001b[0m\n\u001b[1;32m      7\u001b[0m \u001b[0;34m\u001b[0m\u001b[0m\n",
      "\u001b[0;31mTypeError\u001b[0m: unsupported operand type(s) for -: 'list' and 'list'"
     ]
    },
    {
     "data": {
      "image/png": "[encoded data removed]",
      "text/plain": [
       "<Figure size 432x288 with 1 Axes>"
      ]
     },
     "metadata": {
      "needs_background": "light"
     },
     "output_type": "display_data"
    }
   ],
   "source": [
    "## Plot Results\n",
    "sizes = np.arange(5,30,5)\n",
    "fig1 = plt.figure(1)\n",
    "plt.plot(sizes, mean_Cost_net1_list, label=\"N-FPN\", color = 'blue', marker = '*')\n",
    "plt.fill_between(sizes, mean_Cost_net1_list - std_Cost_net1_list, mean_Cost_net1_list + std_Cost_net1_list, color = 'blue', alpha = .2)\n",
    "plt.show()\n",
    "\n"
   ]
  },
  {
   "cell_type": "raw",
   "metadata": {},
   "source": [
    "\n",
    "\n",
    "\n",
    "for context in range(num_samples):\n",
    "    print(\"Playing Games for Context {:2d} of {:2d}\".format(context + 1, \n",
    "                                                            num_samples))\n",
    "    d_sample = sample_context(num_samples=1)\n",
    "    Bd       = create_payoff_matrix(d_sample)\n",
    "    x_nash   = get_nash_eq(d_sample) \n",
    "    x_nfpn   = model(d_sample)\n",
    "    for idx in range(num_games):\n",
    "        action_nash1 = sample_distribution(x_nash[0, :player_size])\n",
    "        action_nash1 = action_nash1.view(1, player_size, 1)\n",
    "        action_nash2 = sample_distribution(x_nash[0, player_size:])\n",
    "        action_nash2 = action_nash2.view(1, player_size, 1)       \n",
    "        action_nfpn  = sample_distribution(x_nfpn[0, player_size:])\n",
    "        action_nfpn  = action_nfpn.view(1, player_size, 1)\n",
    "        action_unif  = sample_distribution(x_uniform)\n",
    "        action_unif  = action_unif.view(1, player_size, 1)        \n",
    "        Bd_nfpn      = torch.bmm(Bd, action_nfpn)\n",
    "        Bd_nash2     = torch.bmm(Bd, action_nash2)\n",
    "        Bd_unif      = torch.bmm(Bd, action_unif)    \n",
    "        reward_nash_nfpn = torch.bmm(action_nash1.permute(0, 2, 1), Bd_nfpn)[0,0,0]\n",
    "        reward_nash_nash = torch.bmm(action_nash1.permute(0, 2, 1), Bd_nash2)[0,0,0]\n",
    "        reward_nash_unif = torch.bmm(action_nash1.permute(0, 2, 1), Bd_unif)[0,0,0]\n",
    "        rewards_nash_nfpn[context, idx] = (reward_nash_nfpn)\n",
    "        rewards_nash_nash[context, idx] = (reward_nash_nash)\n",
    "        rewards_nash_unif[context, idx] = (reward_nash_unif) \n",
    "\n",
    "lin_space    = torch.cumsum(torch.ones(rewards_nash_nfpn.shape), dim=1) \n",
    "nash_vs_nfpn = torch.mean(rewards_nash_nfpn ** 2, dim=0, keepdim=True) ** 0.5\n",
    "nash_vs_nfpn = torch.cumsum(nash_vs_nfpn, dim=1) / lin_space\n",
    "nash_vs_nash = torch.mean(rewards_nash_nash ** 2, dim=0, keepdim=True) ** 0.5\n",
    "nash_vs_nash = torch.cumsum(nash_vs_nash, dim=1) / lin_space\n",
    "nash_vs_unif = torch.mean(rewards_nash_unif ** 2, dim=0, keepdim=True) ** 0.5\n",
    "nash_vs_unif = torch.cumsum(nash_vs_unif, dim=1) / lin_space\n",
    "\n",
    "fig1 = plt.figure(1)\n",
    "plt.plot(nash_vs_unif[0,5:], '--', linewidth=2) \n",
    "plt.plot(nash_vs_nfpn[0,5:], linewidth=2)\n",
    "plt.plot(nash_vs_nash[0,5:],  '--', linewidth=2) \n",
    "plt.legend(['Nash vs Uniform', 'Nash vs NFPN', 'Nash vs Nash'], fontsize=15)\n",
    "plt.xlabel('Games Played', fontsize=15)\n",
    "plt.ylabel('Variance $y^k$', fontsize=15)"
   ]
  }
 ],
 "metadata": {
  "kernelspec": {
   "display_name": "Python 3",
   "language": "python",
   "name": "python3"
  },
  "language_info": {
   "codemirror_mode": {
    "name": "ipython",
    "version": 3
   },
   "file_extension": ".py",
   "mimetype": "text/x-python",
   "name": "python",
   "nbconvert_exporter": "python",
   "pygments_lexer": "ipython3",
   "version": "3.8.10"
  }
 },
 "nbformat": 4,
 "nbformat_minor": 4
}
