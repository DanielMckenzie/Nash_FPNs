{
  "nbformat": 4,
  "nbformat_minor": 0,
  "metadata": {
    "accelerator": "GPU",
    "colab": {
      "name": "Nash-FPN-TRAFFIX-Driver-SiouxFalls.ipynb",
      "provenance": [],
      "collapsed_sections": [],
      "toc_visible": true
    },
    "kernelspec": {
      "display_name": "Python 3",
      "name": "python3"
    },
    "language_info": {
      "name": "python"
    }
  },
  "cells": [
    {
      "cell_type": "code",
      "metadata": {
        "id": "nVWmv8cbI4MI",
        "colab": {
          "base_uri": "https://localhost:8080/",
          "height": 528
        },
        "outputId": "55822ba2-28d5-45ef-88cb-eb3d377670f8"
      },
      "source": [
        "import numpy as np\n",
        "import torch\n",
        "import torch.nn               as nn\n",
        "import torch.distributions as tdist\n",
        "import os\n",
        "import sys\n",
        "from torch.utils.data import Dataset, TensorDataset, DataLoader\n",
        "import torch.optim as optim\n",
        "import torch.nn.utils.spectral_norm as spectral_norm\n",
        "from torch.utils.data         import Dataset, TensorDataset, DataLoader\n",
        "from torchvision              import datasets\n",
        "import time\n",
        "from time import sleep\n",
        "from tqdm import tqdm\n",
        "from prettytable import PrettyTable\n",
        "\n",
        "from google.colab import drive\n",
        "drive.mount('/content/drive')\n",
        "sys.path.append('/content/drive/MyDrive/NashFPNs/TransportationNetworks/')\n",
        "save_dir = './drive/MyDrive/NashFPNs/' # generated data should be saved in this path\n",
        "\n",
        "device = \"cuda\"\n",
        "\n",
        "capacity   = torch.tensor\n",
        "context    = torch.tensor\n",
        "action     = torch.tensor\n",
        "edge       = torch.tensor\n",
        "inference  = torch.tensor \n",
        "context    = torch.tensor\n",
        "\n",
        "seed = 42\n",
        "torch.manual_seed(seed)"
      ],
      "execution_count": null,
      "outputs": [
        {
          "output_type": "error",
          "ename": "KeyboardInterrupt",
          "evalue": "ignored",
          "traceback": [
            "\u001b[0;31m---------------------------------------------------------------------------\u001b[0m",
            "\u001b[0;31mKeyboardInterrupt\u001b[0m                         Traceback (most recent call last)",
            "\u001b[0;32m/usr/local/lib/python3.7/dist-packages/ipykernel/kernelbase.py\u001b[0m in \u001b[0;36m_input_request\u001b[0;34m(self, prompt, ident, parent, password)\u001b[0m\n\u001b[1;32m    728\u001b[0m             \u001b[0;32mtry\u001b[0m\u001b[0;34m:\u001b[0m\u001b[0;34m\u001b[0m\u001b[0;34m\u001b[0m\u001b[0m\n\u001b[0;32m--> 729\u001b[0;31m                 \u001b[0mident\u001b[0m\u001b[0;34m,\u001b[0m \u001b[0mreply\u001b[0m \u001b[0;34m=\u001b[0m \u001b[0mself\u001b[0m\u001b[0;34m.\u001b[0m\u001b[0msession\u001b[0m\u001b[0;34m.\u001b[0m\u001b[0mrecv\u001b[0m\u001b[0;34m(\u001b[0m\u001b[0mself\u001b[0m\u001b[0;34m.\u001b[0m\u001b[0mstdin_socket\u001b[0m\u001b[0;34m,\u001b[0m \u001b[0;36m0\u001b[0m\u001b[0;34m)\u001b[0m\u001b[0;34m\u001b[0m\u001b[0;34m\u001b[0m\u001b[0m\n\u001b[0m\u001b[1;32m    730\u001b[0m             \u001b[0;32mexcept\u001b[0m \u001b[0mException\u001b[0m\u001b[0;34m:\u001b[0m\u001b[0;34m\u001b[0m\u001b[0;34m\u001b[0m\u001b[0m\n",
            "\u001b[0;32m/usr/local/lib/python3.7/dist-packages/jupyter_client/session.py\u001b[0m in \u001b[0;36mrecv\u001b[0;34m(self, socket, mode, content, copy)\u001b[0m\n\u001b[1;32m    802\u001b[0m         \u001b[0;32mtry\u001b[0m\u001b[0;34m:\u001b[0m\u001b[0;34m\u001b[0m\u001b[0;34m\u001b[0m\u001b[0m\n\u001b[0;32m--> 803\u001b[0;31m             \u001b[0mmsg_list\u001b[0m \u001b[0;34m=\u001b[0m \u001b[0msocket\u001b[0m\u001b[0;34m.\u001b[0m\u001b[0mrecv_multipart\u001b[0m\u001b[0;34m(\u001b[0m\u001b[0mmode\u001b[0m\u001b[0;34m,\u001b[0m \u001b[0mcopy\u001b[0m\u001b[0;34m=\u001b[0m\u001b[0mcopy\u001b[0m\u001b[0;34m)\u001b[0m\u001b[0;34m\u001b[0m\u001b[0;34m\u001b[0m\u001b[0m\n\u001b[0m\u001b[1;32m    804\u001b[0m         \u001b[0;32mexcept\u001b[0m \u001b[0mzmq\u001b[0m\u001b[0;34m.\u001b[0m\u001b[0mZMQError\u001b[0m \u001b[0;32mas\u001b[0m \u001b[0me\u001b[0m\u001b[0;34m:\u001b[0m\u001b[0;34m\u001b[0m\u001b[0;34m\u001b[0m\u001b[0m\n",
            "\u001b[0;32m/usr/local/lib/python3.7/dist-packages/zmq/sugar/socket.py\u001b[0m in \u001b[0;36mrecv_multipart\u001b[0;34m(self, flags, copy, track)\u001b[0m\n\u001b[1;32m    582\u001b[0m         \"\"\"\n\u001b[0;32m--> 583\u001b[0;31m         \u001b[0mparts\u001b[0m \u001b[0;34m=\u001b[0m \u001b[0;34m[\u001b[0m\u001b[0mself\u001b[0m\u001b[0;34m.\u001b[0m\u001b[0mrecv\u001b[0m\u001b[0;34m(\u001b[0m\u001b[0mflags\u001b[0m\u001b[0;34m,\u001b[0m \u001b[0mcopy\u001b[0m\u001b[0;34m=\u001b[0m\u001b[0mcopy\u001b[0m\u001b[0;34m,\u001b[0m \u001b[0mtrack\u001b[0m\u001b[0;34m=\u001b[0m\u001b[0mtrack\u001b[0m\u001b[0;34m)\u001b[0m\u001b[0;34m]\u001b[0m\u001b[0;34m\u001b[0m\u001b[0;34m\u001b[0m\u001b[0m\n\u001b[0m\u001b[1;32m    584\u001b[0m         \u001b[0;31m# have first part already, only loop while more to receive\u001b[0m\u001b[0;34m\u001b[0m\u001b[0;34m\u001b[0m\u001b[0;34m\u001b[0m\u001b[0m\n",
            "\u001b[0;32mzmq/backend/cython/socket.pyx\u001b[0m in \u001b[0;36mzmq.backend.cython.socket.Socket.recv\u001b[0;34m()\u001b[0m\n",
            "\u001b[0;32mzmq/backend/cython/socket.pyx\u001b[0m in \u001b[0;36mzmq.backend.cython.socket.Socket.recv\u001b[0;34m()\u001b[0m\n",
            "\u001b[0;32mzmq/backend/cython/socket.pyx\u001b[0m in \u001b[0;36mzmq.backend.cython.socket._recv_copy\u001b[0;34m()\u001b[0m\n",
            "\u001b[0;32m/usr/local/lib/python3.7/dist-packages/zmq/backend/cython/checkrc.pxd\u001b[0m in \u001b[0;36mzmq.backend.cython.checkrc._check_rc\u001b[0;34m()\u001b[0m\n",
            "\u001b[0;31mKeyboardInterrupt\u001b[0m: ",
            "\nDuring handling of the above exception, another exception occurred:\n",
            "\u001b[0;31mKeyboardInterrupt\u001b[0m                         Traceback (most recent call last)",
            "\u001b[0;32m<ipython-input-1-72a4ef8e3f96>\u001b[0m in \u001b[0;36m<module>\u001b[0;34m()\u001b[0m\n\u001b[1;32m     16\u001b[0m \u001b[0;34m\u001b[0m\u001b[0m\n\u001b[1;32m     17\u001b[0m \u001b[0;32mfrom\u001b[0m \u001b[0mgoogle\u001b[0m\u001b[0;34m.\u001b[0m\u001b[0mcolab\u001b[0m \u001b[0;32mimport\u001b[0m \u001b[0mdrive\u001b[0m\u001b[0;34m\u001b[0m\u001b[0;34m\u001b[0m\u001b[0m\n\u001b[0;32m---> 18\u001b[0;31m \u001b[0mdrive\u001b[0m\u001b[0;34m.\u001b[0m\u001b[0mmount\u001b[0m\u001b[0;34m(\u001b[0m\u001b[0;34m'/content/drive'\u001b[0m\u001b[0;34m)\u001b[0m\u001b[0;34m\u001b[0m\u001b[0;34m\u001b[0m\u001b[0m\n\u001b[0m\u001b[1;32m     19\u001b[0m \u001b[0msys\u001b[0m\u001b[0;34m.\u001b[0m\u001b[0mpath\u001b[0m\u001b[0;34m.\u001b[0m\u001b[0mappend\u001b[0m\u001b[0;34m(\u001b[0m\u001b[0;34m'/content/drive/MyDrive/NashFPNs/TransportationNetworks/'\u001b[0m\u001b[0;34m)\u001b[0m\u001b[0;34m\u001b[0m\u001b[0;34m\u001b[0m\u001b[0m\n\u001b[1;32m     20\u001b[0m \u001b[0msave_dir\u001b[0m \u001b[0;34m=\u001b[0m \u001b[0;34m'./drive/MyDrive/NashFPNs/'\u001b[0m \u001b[0;31m# generated data should be saved in this path\u001b[0m\u001b[0;34m\u001b[0m\u001b[0;34m\u001b[0m\u001b[0m\n",
            "\u001b[0;32m/usr/local/lib/python3.7/dist-packages/google/colab/drive.py\u001b[0m in \u001b[0;36mmount\u001b[0;34m(mountpoint, force_remount, timeout_ms, use_metadata_server)\u001b[0m\n\u001b[1;32m    258\u001b[0m       \u001b[0;32mwith\u001b[0m \u001b[0m_output\u001b[0m\u001b[0;34m.\u001b[0m\u001b[0muse_tags\u001b[0m\u001b[0;34m(\u001b[0m\u001b[0;34m'dfs-auth-dance'\u001b[0m\u001b[0;34m)\u001b[0m\u001b[0;34m:\u001b[0m\u001b[0;34m\u001b[0m\u001b[0;34m\u001b[0m\u001b[0m\n\u001b[1;32m    259\u001b[0m         \u001b[0;32mwith\u001b[0m \u001b[0mopen\u001b[0m\u001b[0;34m(\u001b[0m\u001b[0mfifo\u001b[0m\u001b[0;34m,\u001b[0m \u001b[0;34m'w'\u001b[0m\u001b[0;34m)\u001b[0m \u001b[0;32mas\u001b[0m \u001b[0mfifo_file\u001b[0m\u001b[0;34m:\u001b[0m\u001b[0;34m\u001b[0m\u001b[0;34m\u001b[0m\u001b[0m\n\u001b[0;32m--> 260\u001b[0;31m           \u001b[0mfifo_file\u001b[0m\u001b[0;34m.\u001b[0m\u001b[0mwrite\u001b[0m\u001b[0;34m(\u001b[0m\u001b[0mget_code\u001b[0m\u001b[0;34m(\u001b[0m\u001b[0mauth_prompt\u001b[0m\u001b[0;34m)\u001b[0m \u001b[0;34m+\u001b[0m \u001b[0;34m'\\n'\u001b[0m\u001b[0;34m)\u001b[0m\u001b[0;34m\u001b[0m\u001b[0;34m\u001b[0m\u001b[0m\n\u001b[0m\u001b[1;32m    261\u001b[0m       \u001b[0mwrote_to_fifo\u001b[0m \u001b[0;34m=\u001b[0m \u001b[0;32mTrue\u001b[0m\u001b[0;34m\u001b[0m\u001b[0;34m\u001b[0m\u001b[0m\n\u001b[1;32m    262\u001b[0m     \u001b[0;32melif\u001b[0m \u001b[0mcase\u001b[0m \u001b[0;34m==\u001b[0m \u001b[0;36m5\u001b[0m\u001b[0;34m:\u001b[0m\u001b[0;34m\u001b[0m\u001b[0;34m\u001b[0m\u001b[0m\n",
            "\u001b[0;32m/usr/local/lib/python3.7/dist-packages/ipykernel/kernelbase.py\u001b[0m in \u001b[0;36mraw_input\u001b[0;34m(self, prompt)\u001b[0m\n\u001b[1;32m    702\u001b[0m             \u001b[0mself\u001b[0m\u001b[0;34m.\u001b[0m\u001b[0m_parent_ident\u001b[0m\u001b[0;34m,\u001b[0m\u001b[0;34m\u001b[0m\u001b[0;34m\u001b[0m\u001b[0m\n\u001b[1;32m    703\u001b[0m             \u001b[0mself\u001b[0m\u001b[0;34m.\u001b[0m\u001b[0m_parent_header\u001b[0m\u001b[0;34m,\u001b[0m\u001b[0;34m\u001b[0m\u001b[0;34m\u001b[0m\u001b[0m\n\u001b[0;32m--> 704\u001b[0;31m             \u001b[0mpassword\u001b[0m\u001b[0;34m=\u001b[0m\u001b[0;32mFalse\u001b[0m\u001b[0;34m,\u001b[0m\u001b[0;34m\u001b[0m\u001b[0;34m\u001b[0m\u001b[0m\n\u001b[0m\u001b[1;32m    705\u001b[0m         )\n\u001b[1;32m    706\u001b[0m \u001b[0;34m\u001b[0m\u001b[0m\n",
            "\u001b[0;32m/usr/local/lib/python3.7/dist-packages/ipykernel/kernelbase.py\u001b[0m in \u001b[0;36m_input_request\u001b[0;34m(self, prompt, ident, parent, password)\u001b[0m\n\u001b[1;32m    732\u001b[0m             \u001b[0;32mexcept\u001b[0m \u001b[0mKeyboardInterrupt\u001b[0m\u001b[0;34m:\u001b[0m\u001b[0;34m\u001b[0m\u001b[0;34m\u001b[0m\u001b[0m\n\u001b[1;32m    733\u001b[0m                 \u001b[0;31m# re-raise KeyboardInterrupt, to truncate traceback\u001b[0m\u001b[0;34m\u001b[0m\u001b[0;34m\u001b[0m\u001b[0;34m\u001b[0m\u001b[0m\n\u001b[0;32m--> 734\u001b[0;31m                 \u001b[0;32mraise\u001b[0m \u001b[0mKeyboardInterrupt\u001b[0m\u001b[0;34m\u001b[0m\u001b[0;34m\u001b[0m\u001b[0m\n\u001b[0m\u001b[1;32m    735\u001b[0m             \u001b[0;32melse\u001b[0m\u001b[0;34m:\u001b[0m\u001b[0;34m\u001b[0m\u001b[0;34m\u001b[0m\u001b[0m\n\u001b[1;32m    736\u001b[0m                 \u001b[0;32mbreak\u001b[0m\u001b[0;34m\u001b[0m\u001b[0;34m\u001b[0m\u001b[0m\n",
            "\u001b[0;31mKeyboardInterrupt\u001b[0m: "
          ]
        }
      ]
    },
    {
      "cell_type": "markdown",
      "metadata": {
        "id": "UJrw1eNdJXFO"
      },
      "source": [
        "## Load Training Data"
      ]
    },
    {
      "cell_type": "code",
      "metadata": {
        "id": "7fAsRmF3C0XA"
      },
      "source": [
        "data_set = 'SiouxFalls'\n",
        "save_dir = 'drive/MyDrive/NashFPNs/TrafficTrainingData/'\n",
        "state_path = save_dir + data_set + '_training_data.pth'\n",
        "state = torch.load(state_path)"
      ],
      "execution_count": null,
      "outputs": []
    },
    {
      "cell_type": "code",
      "metadata": {
        "id": "SdRvrGubJgNI"
      },
      "source": [
        "capacity        = state['capacity']\n",
        "W               = state['W']\n",
        "N               = state['N']\n",
        "free_flow_time  = state['free_flow_time']\n",
        "x_train         = state['x_train']\n",
        "x_test          = state['x_test']\n",
        "d_train         = state['d_train']\n",
        "d_test          = state['d_test']\n",
        "b               = state['origin_destination_pairs']\n",
        "\n",
        "context_size    = d_train.shape[1]\n",
        "n_train         = d_train.shape[0]\n",
        "n_test          = d_test.shape[0]\n",
        "\n",
        "n_ODpairs       = b.shape[1]\n",
        "n_edges         = x_train.shape[1]\n",
        "n_nodes         = b.shape[0]"
      ],
      "execution_count": null,
      "outputs": []
    },
    {
      "cell_type": "code",
      "metadata": {
        "id": "X9b3A_YXJq2C"
      },
      "source": [
        "train_dataset   = TensorDataset(x_train, d_train)\n",
        "test_dataset    = TensorDataset(x_test, d_test)\n",
        "\n",
        "train_batch_size = 500\n",
        "test_batch_size  = 500\n",
        "\n",
        "train_loader  = DataLoader(dataset=train_dataset,  \n",
        "                            batch_size=train_batch_size, shuffle=True) \n",
        "test_loader   = DataLoader(dataset=test_dataset,   \n",
        "                            batch_size=test_batch_size,  shuffle=False) "
      ],
      "execution_count": null,
      "outputs": []
    },
    {
      "cell_type": "code",
      "metadata": {
        "colab": {
          "base_uri": "https://localhost:8080/"
        },
        "id": "0-3HZWnVIO6l",
        "outputId": "e9f408f6-5bb2-4255-f6f0-c0ffd1e84085"
      },
      "source": [
        "print('n_ODpairs = ', n_ODpairs, 'n_nodes = ', n_nodes, ', n_edges = ', n_edges, ', n_train = ', x_train.shape[0])"
      ],
      "execution_count": null,
      "outputs": [
        {
          "output_type": "stream",
          "text": [
            "n_ODpairs =  528 n_nodes =  24 , n_edges =  76 , n_train =  5000\n"
          ],
          "name": "stdout"
        }
      ]
    },
    {
      "cell_type": "markdown",
      "metadata": {
        "id": "wijoA6pndMlk"
      },
      "source": [
        "## Create Neural Network Architecture"
      ]
    },
    {
      "cell_type": "code",
      "metadata": {
        "id": "6WxTVgZPyugn"
      },
      "source": [
        "inference = torch.tensor\n",
        "latent_variable = torch.tensor\n",
        "context = torch.tensor\n",
        "\n",
        "class Traffix_Net(nn.Module):\n",
        "    def __init__(self, N, b, context_size, alpha, device):\n",
        "        super().__init__()\n",
        "        \n",
        "        self.b = b.to(device)\n",
        "        self.alpha = alpha\n",
        "\n",
        "        U,s,VT = torch.linalg.svd(N, full_matrices=False)\n",
        "        ind = s >= 1e-5 \n",
        "        s = s[ind]\n",
        "        U = U[:,ind]\n",
        "        VT = VT[ind, :]\n",
        "        self.V = VT.t().to(device)\n",
        "        self.V_Sinv_UT = VT.t().matmul( torch.diag(1/s).matmul(U.t()) ).to(device)\n",
        "\n",
        "        self.n_nodes    = N.shape[0]\n",
        "        self.n_edges    = N.shape[1] \n",
        "        self.n_ODpairs  = b.shape[1] \n",
        "\n",
        "        self.F_fcs_d = nn.ModuleList([nn.Linear(context_size, 100), \n",
        "                                    nn.Linear(100, 100),\n",
        "                                    nn.Linear(100, self.n_edges)])\n",
        "        self.fc_final_d = nn.Linear(self.n_edges, self.n_edges)\n",
        "\n",
        "        self.F_fcs = nn.ModuleList([nn.Linear(self.n_edges, 100), \n",
        "                                    nn.Linear(100, self.n_edges)])\n",
        "        self.fc_final = nn.Linear(self.n_edges, self.n_edges)\n",
        "        self.relu = nn.ReLU()\n",
        "        self.leaky_relu = nn.LeakyReLU(0.1)\n",
        "\n",
        "        self.tanh = nn.Tanh()\n",
        "\n",
        "        for fc in self.F_fcs: \n",
        "          torch.nn.init.zeros_(fc.weight)\n",
        "        for fc in self.F_fcs_d: \n",
        "          torch.nn.init.zeros_(fc.weight)\n",
        "\n",
        "        torch.nn.init.zeros_(self.fc_final.weight)\n",
        "        torch.nn.init.zeros_(self.fc_final_d.weight)\n",
        "\n",
        "    def device(self):\n",
        "        return next(self.parameters()).data.device\n",
        "\n",
        "    def project_C1(self, z: latent_variable) -> latent_variable: \n",
        "        return torch.clamp(z, min=0)\n",
        "\n",
        "    def project_C2(self, z: latent_variable) -> latent_variable:\n",
        "        Pz    = z - (self.V).matmul(self.V.t().matmul(z)) + self.V_Sinv_UT.matmul(self.b.unsqueeze(0))\n",
        "        return Pz\n",
        "\n",
        "    def F(self, x: action, d: context) -> action: \n",
        "      \"\"\"\n",
        "        Game Gradient Parameterization\n",
        "          Inputs: \n",
        "            x = action with shape (batch_size x n_edges) \n",
        "            d = context with shape (batch_size x context_size)\n",
        "      \"\"\"\n",
        "\n",
        "        Fd = d\n",
        "        for fc in self.F_fcs_d:\n",
        "          Fd = self.tanh(fc(Fd))\n",
        "        Fd = self.leaky_relu(self.fc_final_d(Fd))\n",
        "        \n",
        "        Fx = x\n",
        "        for fc in self.F_fcs: \n",
        "            Fx = self.tanh(fc(Fx)) \n",
        "\n",
        "        Fx = self.leaky_relu(self.fc_final(Fx))\n",
        "        Fx = torch.clamp(Fx, min = -5e6, max=5e6) \n",
        "        \n",
        "        return self.leaky_relu(Fx*Fd)\n",
        "        \n",
        "\n",
        "    def T(self, z: latent_variable, d: context) -> latent_variable: \n",
        "      \"\"\"\n",
        "        Davis-Yin Splitting described in Algorithm 3 \n",
        "          Inputs: \n",
        "            z = action with shape (batch_size x n_edges x n_ODpairs) \n",
        "            d = context with shape (batch_size x context_size)\n",
        "      \"\"\"\n",
        "\n",
        "        x = self.project_C1(z)\n",
        "        v = torch.sum(x, dim=2)\n",
        "        Fv = self.F(v,d)\n",
        "        y = 2*x - z - self.alpha*Fv.unsqueeze(2)\n",
        "        y = self.project_C2(y)\n",
        "        z = z + y - x\n",
        "\n",
        "        return z\n",
        "\n",
        "\n",
        "    def S(self, z: latent_variable) -> inference:\n",
        "      \"\"\"\n",
        "        Final layer that map from latent space to inference space. \n",
        "        Operations: project, sum across OD pairs, and clamp\n",
        "          Inputs: \n",
        "            z = action with shape (batch_size x n_edges x n_ODpairs) \n",
        "          Output:\n",
        "            v = action with shape (batch_size x n_edges)\n",
        "      \"\"\"\n",
        "\n",
        "        z = self.project_C1(z)\n",
        "        v = torch.sum(z, dim=2)\n",
        "        return torch.clamp(v, max=1e6)\n",
        "\n",
        "    def forward(self, d: context, eps=1.0e-2, max_depth=100, \n",
        "                depth_warning=False) -> inference: \n",
        "\n",
        "        with torch.no_grad():\n",
        "            self.depth = 0.0\n",
        "\n",
        "            z = torch.zeros((d.shape[0], self.n_edges, self.n_ODpairs), device=self.device())\n",
        "            z_prev = z.clone()         \n",
        "            \n",
        "            all_samp_conv = False\n",
        "            while not all_samp_conv and self.depth < max_depth:\n",
        "                z_prev = z.clone()   \n",
        "                z = self.T(z,d)\n",
        "                diff_norm = torch.norm(z - z_prev, dim=1) \n",
        "                diff_norm = torch.norm( diff_norm, dim=1) \n",
        "                diff_norm = torch.max( diff_norm ) # take norm along the latter two dimensions then max\n",
        "                self.depth += 1.0\n",
        "                all_samp_conv = diff_norm <= eps\n",
        "            \n",
        "        if self.depth >= max_depth and depth_warning:\n",
        "            print(\"\\nWarning: Max Depth Reached - Break Forward Loop\\n\")\n",
        "\n",
        "        attach_gradients = self.training\n",
        "        if attach_gradients:\n",
        "            z = self.T(z, d)\n",
        "            return self.S(z)\n",
        "        else:\n",
        "            return self.S(z) \n",
        "\n",
        "\n",
        "  "
      ],
      "execution_count": null,
      "outputs": []
    },
    {
      "cell_type": "code",
      "metadata": {
        "id": "H1IRHSkWyujD",
        "colab": {
          "base_uri": "https://localhost:8080/"
        },
        "outputId": "c71150f9-8302-41c3-c4d5-c80eb6d80da0"
      },
      "source": [
        "alpha = 1e-2\n",
        "net = Traffix_Net(N, b, context_size, alpha, device)\n",
        "net.to(device)"
      ],
      "execution_count": null,
      "outputs": [
        {
          "output_type": "execute_result",
          "data": {
            "text/plain": [
              "tensor([[16333.7461, 18297.7168, 16349.4590,  ..., 27312.5547, 22011.2520,\n",
              "         18858.5938],\n",
              "        [16333.7461, 18297.7168, 16349.4590,  ..., 27312.5547, 22011.2520,\n",
              "         18858.5938],\n",
              "        [16333.7461, 18297.7168, 16349.4590,  ..., 27312.5547, 22011.2520,\n",
              "         18858.5938],\n",
              "        ...,\n",
              "        [16333.7461, 18297.7168, 16349.4590,  ..., 27312.5547, 22011.2520,\n",
              "         18858.5938],\n",
              "        [16333.7461, 18297.7168, 16349.4590,  ..., 27312.5547, 22011.2520,\n",
              "         18858.5938],\n",
              "        [16333.7461, 18297.7168, 16349.4590,  ..., 27312.5547, 22011.2520,\n",
              "         18858.5938]], device='cuda:0', grad_fn=<ClampBackward>)"
            ]
          },
          "metadata": {
            "tags": []
          },
          "execution_count": 9
        }
      ]
    },
    {
      "cell_type": "code",
      "metadata": {
        "id": "MKp1D-LSFuf-"
      },
      "source": [
        "def get_trafix_score(x_pred: action, x_true: action, eps=5.0e-3, \n",
        "                     tol=1.0e-3) -> float:\n",
        "  err           = torch.abs(x_pred - x_true)\n",
        "  denom         = torch.abs(x_true) + tol\n",
        "  rel_err       = err.div(denom)\n",
        "  acc_preds     = rel_err < eps  \n",
        "  num_samples   = x_true.shape[0]\n",
        "  num_preds     = x_true.shape[1]\n",
        "  trafix_score  = 100.0 * sum(sum(acc_preds)) / (num_samples * num_preds) \n",
        "  return trafix_score\n",
        "\n",
        "def get_testing_stats(net, test_loader, criterion, n_edges, eps, depth, eps_traffix_score, device=device):\n",
        "    test_loss = 0\n",
        "    correct = 0\n",
        "    rel_err = 0\n",
        "    rel_err_dim0 = torch.zeros(n_edges, device=device)\n",
        "\n",
        "    net.eval()\n",
        "    with torch.no_grad():\n",
        "        for _, (x_true, d_true) in enumerate(test_loader):\n",
        "          \n",
        "          x_true, d_true = x_true.to(device), d_true.to(device)\n",
        "          batch_size = x_true.shape[0]\n",
        "\n",
        "          x_pred = net(d_true, eps=eps, max_depth=depth) \n",
        "\n",
        "          test_loss += batch_size * criterion(x_pred, x_true)\n",
        "\n",
        "          rel_err += torch.norm(x_pred - x_true)**2\n",
        "          rel_err_dim0 += torch.norm(x_pred - x_true, dim=0)**2\n",
        "\n",
        "    test_loss  /= len(test_loader.dataset)\n",
        "    rel_err    = torch.sqrt(rel_err) / norm_x_test\n",
        "\n",
        "    traffix_score = get_trafix_score(x_pred, x_true, eps=eps_traffix_score) \n",
        "    \n",
        "\n",
        "    net.train()\n",
        "\n",
        "    return test_loss, rel_err, traffix_score\n"
      ],
      "execution_count": null,
      "outputs": []
    },
    {
      "cell_type": "code",
      "metadata": {
        "id": "GzIL4AFf7ByG",
        "colab": {
          "base_uri": "https://localhost:8080/"
        },
        "outputId": "aa059f85-051d-4ab0-c4a0-7e2c5f39f2d6"
      },
      "source": [
        "def model_params(net):\n",
        "    table = PrettyTable([\"Network Component\", \"# Parameters\"])\n",
        "    num_params = 0\n",
        "    for name, parameter in net.named_parameters():\n",
        "        if not parameter.requires_grad:\n",
        "            continue\n",
        "        table.add_row([name, parameter.numel()])\n",
        "        num_params += parameter.numel()\n",
        "    table.add_row(['TOTAL', num_params])\n",
        "    return table\n",
        "\n",
        "print(net)\n",
        "print(model_params(net))"
      ],
      "execution_count": null,
      "outputs": [
        {
          "output_type": "stream",
          "text": [
            "Traffix_Net(\n",
            "  (F_fcs_d): ModuleList(\n",
            "    (0): Linear(in_features=10, out_features=100, bias=True)\n",
            "    (1): Linear(in_features=100, out_features=100, bias=True)\n",
            "    (2): Linear(in_features=100, out_features=76, bias=True)\n",
            "  )\n",
            "  (fc_final_d): Linear(in_features=76, out_features=76, bias=True)\n",
            "  (F_fcs): ModuleList(\n",
            "    (0): Linear(in_features=76, out_features=100, bias=True)\n",
            "    (1): Linear(in_features=100, out_features=76, bias=True)\n",
            "  )\n",
            "  (fc_final): Linear(in_features=76, out_features=76, bias=True)\n",
            "  (relu): ReLU()\n",
            "  (leaky_relu): LeakyReLU(negative_slope=0.1)\n",
            "  (tanh): Tanh()\n",
            ")\n",
            "+-------------------+--------------+\n",
            "| Network Component | # Parameters |\n",
            "+-------------------+--------------+\n",
            "|  F_fcs_d.0.weight |     1000     |\n",
            "|   F_fcs_d.0.bias  |     100      |\n",
            "|  F_fcs_d.1.weight |    10000     |\n",
            "|   F_fcs_d.1.bias  |     100      |\n",
            "|  F_fcs_d.2.weight |     7600     |\n",
            "|   F_fcs_d.2.bias  |      76      |\n",
            "| fc_final_d.weight |     5776     |\n",
            "|  fc_final_d.bias  |      76      |\n",
            "|   F_fcs.0.weight  |     7600     |\n",
            "|    F_fcs.0.bias   |     100      |\n",
            "|   F_fcs.1.weight  |     7600     |\n",
            "|    F_fcs.1.bias   |      76      |\n",
            "|  fc_final.weight  |     5776     |\n",
            "|   fc_final.bias   |      76      |\n",
            "|       TOTAL       |    45956     |\n",
            "+-------------------+--------------+\n"
          ],
          "name": "stdout"
        }
      ]
    },
    {
      "cell_type": "markdown",
      "metadata": {
        "id": "nfrpKYfkpSS6"
      },
      "source": [
        "## Set up Training"
      ]
    },
    {
      "cell_type": "code",
      "metadata": {
        "id": "jY6ajFo5yul4",
        "colab": {
          "base_uri": "https://localhost:8080/"
        },
        "outputId": "1230c6e5-e3d2-430e-ab7e-fe6db2a62061"
      },
      "source": [
        "# training setup\n",
        "learning_rate = 1e-3\n",
        "optimizer     = optim.Adam(net.parameters(), lr=learning_rate)\n",
        "lr_scheduler  = optim.lr_scheduler.StepLR(optimizer, step_size=250, gamma=0.1)\n",
        "eps           = 1.0e-4  \n",
        "criterion     = nn.MSELoss()\n",
        "max_depth     = 50\n",
        "\n",
        "train_loss_hist     = []\n",
        "test_loss_hist      = []\n",
        "traffix_score_hist  = []\n",
        "rel_err_hist        = []\n",
        "best_traffix_score  = 0.0\n",
        "\n",
        "max_epochs = int(2e2)\n",
        "x_test = x_test.to(device)\n",
        "d_test = d_test.to(device)\n",
        "\n",
        "fmt        = '[{:4d}/{:4d}]: train loss = {:7.3e} | test loss = {:7.3e} | TRAFFIX score = {:7.3f}% | rel error = {:7.3e} ' \n",
        "fmt       += 'depth = {:5.1f} | lr = {:5.1e} | eps = {:5.1e} | time = {:5.1e}'\n",
        "print(net)                 \n",
        " \n",
        "print('\\nTraining G-FPN')\n",
        "for epoch in range(max_epochs): \n",
        "\n",
        "  net.train()\n",
        "  sleep(0.3)  \n",
        "  loss_ave        = 0.0\n",
        "  epoch_start_time = time.time()\n",
        "  tot = len(train_loader)\n",
        "  with tqdm(total=tot, unit=\" batch\", leave=False, ascii=True) as tepoch:\n",
        "\n",
        "    tepoch.set_description(\"[{:3d}/{:3d}]\".format(epoch+1, max_epochs))\n",
        "\n",
        "    for _, (x_true, d_true) in enumerate(train_loader):\n",
        "\n",
        "      x_true, d_true = x_true.to(device), d_true.to(device)\n",
        "\n",
        "      optimizer.zero_grad()\n",
        "      x_pred = net(d_true, eps=eps, max_depth=max_depth) \n",
        "\n",
        "      loss = criterion(x_pred, x_true)\n",
        "      local_batch_size = x_true.shape[0]\n",
        "      loss_ave += local_batch_size * loss\n",
        "\n",
        "      loss.backward()\n",
        "      optimizer.step()\n",
        "\n",
        "      tepoch.update(1)\n",
        "      tepoch.set_postfix(train_loss=\"{:5.2e}\".format(loss.detach().cpu().numpy()),\n",
        "                          depth=\"{:5.1f}\".format(net.depth))\n",
        "\n",
        "  lr_scheduler.step()\n",
        "  epoch_end_time = time.time()\n",
        "  time_epoch = epoch_end_time - epoch_start_time\n",
        "  loss_ave = loss_ave/n_train\n",
        "  train_loss_hist.append(loss_ave)\n",
        "\n",
        "  eps_traffix_score = 5e-3\n",
        "  test_loss, rel_err_test, traffix_score = get_testing_stats(net, test_loader, criterion, n_edges, eps, max_depth, eps_traffix_score)\n",
        "\n",
        "  traffix_score_hist.append(traffix_score)\n",
        "  test_loss_hist.append(test_loss)\n",
        "  rel_err_hist.append(rel_err_test)\n",
        "\n",
        " \n",
        "  print(fmt.format(epoch+1, max_epochs, loss.item(), test_loss, traffix_score, rel_err_test, net.depth, \n",
        "                    optimizer.param_groups[0]['lr'], eps, time_epoch))\n",
        "  \n",
        "  # ---------------------------------------------------------------------\n",
        "  # Save weights\n",
        "  # ---------------------------------------------------------------------\n",
        "  if traffix_score > best_traffix_score:\n",
        "    best_traffix_score = traffix_score\n",
        "    state = {\n",
        "        'test_loss_hist': test_loss_hist,\n",
        "        'traffix_score_hist': traffix_score_hist,\n",
        "        'rel_err_hist': rel_err_hist,\n",
        "        'net_state_dict': net.state_dict(),\n",
        "        'optimizer_state_dict': optimizer.state_dict(),\n",
        "        'lr_scheduler': lr_scheduler,\n",
        "    }\n",
        "    file_name = save_dir + 'FinalResults/' + data_set + '_weights.pth'\n",
        "    torch.save(state, file_name)\n",
        "    print('Model weights saved to ' + file_name)\n",
        "\n",
        "  # ---------------------------------------------------------------------\n",
        "  # Save history at last epoch\n",
        "  # ---------------------------------------------------------------------\n",
        "  if epoch+1 == max_epochs:\n",
        "      state = {\n",
        "        'test_loss_hist': test_loss_hist,\n",
        "        'traffix_score_hist': traffix_score_hist,\n",
        "        'rel_err_hist': rel_err_hist,\n",
        "        'lr_scheduler': lr_scheduler,\n",
        "        'eps': eps,\n",
        "      }\n",
        "      file_name = save_dir + 'FinalResults/' + data_set + '_history.pth'\n",
        "      torch.save(state, file_name)\n",
        "      print('Training history saved to ' + file_name)"
      ],
      "execution_count": null,
      "outputs": [
        {
          "output_type": "stream",
          "text": [
            "Traffix_Net(\n",
            "  (F_fcs_d): ModuleList(\n",
            "    (0): Linear(in_features=10, out_features=100, bias=True)\n",
            "    (1): Linear(in_features=100, out_features=100, bias=True)\n",
            "    (2): Linear(in_features=100, out_features=76, bias=True)\n",
            "  )\n",
            "  (fc_final_d): Linear(in_features=76, out_features=76, bias=True)\n",
            "  (F_fcs): ModuleList(\n",
            "    (0): Linear(in_features=76, out_features=100, bias=True)\n",
            "    (1): Linear(in_features=100, out_features=76, bias=True)\n",
            "  )\n",
            "  (fc_final): Linear(in_features=76, out_features=76, bias=True)\n",
            "  (relu): ReLU()\n",
            "  (leaky_relu): LeakyReLU(negative_slope=0.1)\n",
            "  (tanh): Tanh()\n",
            ")\n",
            "\n",
            "Training G-FPN\n"
          ],
          "name": "stdout"
        },
        {
          "output_type": "stream",
          "text": [
            ""
          ],
          "name": "stderr"
        },
        {
          "output_type": "stream",
          "text": [
            "[   1/ 200]: train loss = 2.908e+04 | test loss = 2.899e+04 | TRAFFIX score =  73.703% | rel error = 7.271e-03 depth =  50.0 | lr = 1.0e-03 | eps = 1.0e-04 | time = 4.0e+00\n",
            "Model weights saved to drive/MyDrive/NashFPNs/TrafficTrainingData/FinalResults/SiouxFalls_weights.pth\n"
          ],
          "name": "stdout"
        },
        {
          "output_type": "stream",
          "text": [
            ""
          ],
          "name": "stderr"
        },
        {
          "output_type": "stream",
          "text": [
            "[   2/ 200]: train loss = 2.499e+04 | test loss = 2.394e+04 | TRAFFIX score =  69.808% | rel error = 6.607e-03 depth =  50.0 | lr = 1.0e-03 | eps = 1.0e-04 | time = 4.0e+00\n"
          ],
          "name": "stdout"
        },
        {
          "output_type": "stream",
          "text": [
            ""
          ],
          "name": "stderr"
        },
        {
          "output_type": "stream",
          "text": [
            "[   3/ 200]: train loss = 2.199e+04 | test loss = 2.261e+04 | TRAFFIX score =  71.642% | rel error = 6.421e-03 depth =  50.0 | lr = 1.0e-03 | eps = 1.0e-04 | time = 4.0e+00\n"
          ],
          "name": "stdout"
        },
        {
          "output_type": "stream",
          "text": [
            ""
          ],
          "name": "stderr"
        },
        {
          "output_type": "stream",
          "text": [
            "[   4/ 200]: train loss = 2.200e+04 | test loss = 2.165e+04 | TRAFFIX score =  72.429% | rel error = 6.283e-03 depth =  50.0 | lr = 1.0e-03 | eps = 1.0e-04 | time = 4.0e+00\n"
          ],
          "name": "stdout"
        },
        {
          "output_type": "stream",
          "text": [
            ""
          ],
          "name": "stderr"
        },
        {
          "output_type": "stream",
          "text": [
            "[   5/ 200]: train loss = 1.858e+04 | test loss = 1.954e+04 | TRAFFIX score =  74.916% | rel error = 5.969e-03 depth =  50.0 | lr = 1.0e-03 | eps = 1.0e-04 | time = 4.0e+00\n",
            "Model weights saved to drive/MyDrive/NashFPNs/TrafficTrainingData/FinalResults/SiouxFalls_weights.pth\n"
          ],
          "name": "stdout"
        },
        {
          "output_type": "stream",
          "text": [
            ""
          ],
          "name": "stderr"
        },
        {
          "output_type": "stream",
          "text": [
            "[   6/ 200]: train loss = 1.859e+04 | test loss = 1.810e+04 | TRAFFIX score =  74.839% | rel error = 5.745e-03 depth =  50.0 | lr = 1.0e-03 | eps = 1.0e-04 | time = 4.0e+00\n"
          ],
          "name": "stdout"
        },
        {
          "output_type": "stream",
          "text": [
            ""
          ],
          "name": "stderr"
        },
        {
          "output_type": "stream",
          "text": [
            "[   7/ 200]: train loss = 1.637e+04 | test loss = 1.586e+04 | TRAFFIX score =  76.792% | rel error = 5.378e-03 depth =  50.0 | lr = 1.0e-03 | eps = 1.0e-04 | time = 4.0e+00\n",
            "Model weights saved to drive/MyDrive/NashFPNs/TrafficTrainingData/FinalResults/SiouxFalls_weights.pth\n"
          ],
          "name": "stdout"
        },
        {
          "output_type": "stream",
          "text": [
            ""
          ],
          "name": "stderr"
        },
        {
          "output_type": "stream",
          "text": [
            "[   8/ 200]: train loss = 1.455e+04 | test loss = 1.432e+04 | TRAFFIX score =  77.739% | rel error = 5.110e-03 depth =  50.0 | lr = 1.0e-03 | eps = 1.0e-04 | time = 4.0e+00\n",
            "Model weights saved to drive/MyDrive/NashFPNs/TrafficTrainingData/FinalResults/SiouxFalls_weights.pth\n"
          ],
          "name": "stdout"
        },
        {
          "output_type": "stream",
          "text": [
            ""
          ],
          "name": "stderr"
        },
        {
          "output_type": "stream",
          "text": [
            "[   9/ 200]: train loss = 1.232e+04 | test loss = 1.307e+04 | TRAFFIX score =  77.361% | rel error = 4.882e-03 depth =  50.0 | lr = 1.0e-03 | eps = 1.0e-04 | time = 4.0e+00\n"
          ],
          "name": "stdout"
        },
        {
          "output_type": "stream",
          "text": [
            ""
          ],
          "name": "stderr"
        },
        {
          "output_type": "stream",
          "text": [
            "[  10/ 200]: train loss = 1.244e+04 | test loss = 1.257e+04 | TRAFFIX score =  77.724% | rel error = 4.789e-03 depth =  50.0 | lr = 1.0e-03 | eps = 1.0e-04 | time = 4.0e+00\n"
          ],
          "name": "stdout"
        },
        {
          "output_type": "stream",
          "text": [
            ""
          ],
          "name": "stderr"
        },
        {
          "output_type": "stream",
          "text": [
            "[  11/ 200]: train loss = 1.088e+04 | test loss = 1.127e+04 | TRAFFIX score =  79.484% | rel error = 4.532e-03 depth =  50.0 | lr = 1.0e-03 | eps = 1.0e-04 | time = 4.0e+00\n",
            "Model weights saved to drive/MyDrive/NashFPNs/TrafficTrainingData/FinalResults/SiouxFalls_weights.pth\n"
          ],
          "name": "stdout"
        },
        {
          "output_type": "stream",
          "text": [
            ""
          ],
          "name": "stderr"
        },
        {
          "output_type": "stream",
          "text": [
            "[  12/ 200]: train loss = 1.117e+04 | test loss = 1.068e+04 | TRAFFIX score =  80.087% | rel error = 4.412e-03 depth =  50.0 | lr = 1.0e-03 | eps = 1.0e-04 | time = 4.0e+00\n",
            "Model weights saved to drive/MyDrive/NashFPNs/TrafficTrainingData/FinalResults/SiouxFalls_weights.pth\n"
          ],
          "name": "stdout"
        },
        {
          "output_type": "stream",
          "text": [
            ""
          ],
          "name": "stderr"
        },
        {
          "output_type": "stream",
          "text": [
            "[  13/ 200]: train loss = 1.063e+04 | test loss = 1.082e+04 | TRAFFIX score =  80.234% | rel error = 4.442e-03 depth =  50.0 | lr = 1.0e-03 | eps = 1.0e-04 | time = 4.0e+00\n",
            "Model weights saved to drive/MyDrive/NashFPNs/TrafficTrainingData/FinalResults/SiouxFalls_weights.pth\n"
          ],
          "name": "stdout"
        },
        {
          "output_type": "stream",
          "text": [
            ""
          ],
          "name": "stderr"
        },
        {
          "output_type": "stream",
          "text": [
            "[  14/ 200]: train loss = 1.037e+04 | test loss = 1.010e+04 | TRAFFIX score =  81.192% | rel error = 4.291e-03 depth =  50.0 | lr = 1.0e-03 | eps = 1.0e-04 | time = 4.0e+00\n",
            "Model weights saved to drive/MyDrive/NashFPNs/TrafficTrainingData/FinalResults/SiouxFalls_weights.pth\n"
          ],
          "name": "stdout"
        },
        {
          "output_type": "stream",
          "text": [
            ""
          ],
          "name": "stderr"
        },
        {
          "output_type": "stream",
          "text": [
            "[  15/ 200]: train loss = 1.065e+04 | test loss = 1.043e+04 | TRAFFIX score =  80.318% | rel error = 4.361e-03 depth =  50.0 | lr = 1.0e-03 | eps = 1.0e-04 | time = 4.0e+00\n"
          ],
          "name": "stdout"
        },
        {
          "output_type": "stream",
          "text": [
            ""
          ],
          "name": "stderr"
        },
        {
          "output_type": "stream",
          "text": [
            "[  16/ 200]: train loss = 9.269e+03 | test loss = 9.743e+03 | TRAFFIX score =  81.405% | rel error = 4.215e-03 depth =  50.0 | lr = 1.0e-03 | eps = 1.0e-04 | time = 4.0e+00\n",
            "Model weights saved to drive/MyDrive/NashFPNs/TrafficTrainingData/FinalResults/SiouxFalls_weights.pth\n"
          ],
          "name": "stdout"
        },
        {
          "output_type": "stream",
          "text": [
            ""
          ],
          "name": "stderr"
        },
        {
          "output_type": "stream",
          "text": [
            "[  17/ 200]: train loss = 9.822e+03 | test loss = 9.647e+03 | TRAFFIX score =  82.287% | rel error = 4.194e-03 depth =  50.0 | lr = 1.0e-03 | eps = 1.0e-04 | time = 4.0e+00\n",
            "Model weights saved to drive/MyDrive/NashFPNs/TrafficTrainingData/FinalResults/SiouxFalls_weights.pth\n"
          ],
          "name": "stdout"
        },
        {
          "output_type": "stream",
          "text": [
            ""
          ],
          "name": "stderr"
        },
        {
          "output_type": "stream",
          "text": [
            "[  18/ 200]: train loss = 9.669e+03 | test loss = 9.376e+03 | TRAFFIX score =  82.468% | rel error = 4.135e-03 depth =  50.0 | lr = 1.0e-03 | eps = 1.0e-04 | time = 4.0e+00\n",
            "Model weights saved to drive/MyDrive/NashFPNs/TrafficTrainingData/FinalResults/SiouxFalls_weights.pth\n"
          ],
          "name": "stdout"
        },
        {
          "output_type": "stream",
          "text": [
            ""
          ],
          "name": "stderr"
        },
        {
          "output_type": "stream",
          "text": [
            "[  19/ 200]: train loss = 8.759e+03 | test loss = 9.245e+03 | TRAFFIX score =  82.663% | rel error = 4.106e-03 depth =  50.0 | lr = 1.0e-03 | eps = 1.0e-04 | time = 4.0e+00\n",
            "Model weights saved to drive/MyDrive/NashFPNs/TrafficTrainingData/FinalResults/SiouxFalls_weights.pth\n"
          ],
          "name": "stdout"
        },
        {
          "output_type": "stream",
          "text": [
            ""
          ],
          "name": "stderr"
        },
        {
          "output_type": "stream",
          "text": [
            "[  20/ 200]: train loss = 9.582e+03 | test loss = 9.522e+03 | TRAFFIX score =  82.326% | rel error = 4.167e-03 depth =  50.0 | lr = 1.0e-03 | eps = 1.0e-04 | time = 4.0e+00\n"
          ],
          "name": "stdout"
        },
        {
          "output_type": "stream",
          "text": [
            ""
          ],
          "name": "stderr"
        },
        {
          "output_type": "stream",
          "text": [
            "[  21/ 200]: train loss = 8.652e+03 | test loss = 9.171e+03 | TRAFFIX score =  83.192% | rel error = 4.089e-03 depth =  50.0 | lr = 1.0e-03 | eps = 1.0e-04 | time = 4.0e+00\n",
            "Model weights saved to drive/MyDrive/NashFPNs/TrafficTrainingData/FinalResults/SiouxFalls_weights.pth\n"
          ],
          "name": "stdout"
        },
        {
          "output_type": "stream",
          "text": [
            ""
          ],
          "name": "stderr"
        },
        {
          "output_type": "stream",
          "text": [
            "[  22/ 200]: train loss = 8.327e+03 | test loss = 8.809e+03 | TRAFFIX score =  83.447% | rel error = 4.008e-03 depth =  50.0 | lr = 1.0e-03 | eps = 1.0e-04 | time = 4.0e+00\n",
            "Model weights saved to drive/MyDrive/NashFPNs/TrafficTrainingData/FinalResults/SiouxFalls_weights.pth\n"
          ],
          "name": "stdout"
        },
        {
          "output_type": "stream",
          "text": [
            ""
          ],
          "name": "stderr"
        },
        {
          "output_type": "stream",
          "text": [
            "[  23/ 200]: train loss = 1.217e+04 | test loss = 1.213e+04 | TRAFFIX score =  76.563% | rel error = 4.702e-03 depth =  50.0 | lr = 1.0e-03 | eps = 1.0e-04 | time = 4.0e+00\n"
          ],
          "name": "stdout"
        },
        {
          "output_type": "stream",
          "text": [
            ""
          ],
          "name": "stderr"
        },
        {
          "output_type": "stream",
          "text": [
            "[  24/ 200]: train loss = 9.476e+03 | test loss = 9.134e+03 | TRAFFIX score =  82.582% | rel error = 4.081e-03 depth =  50.0 | lr = 1.0e-03 | eps = 1.0e-04 | time = 4.0e+00\n"
          ],
          "name": "stdout"
        },
        {
          "output_type": "stream",
          "text": [
            ""
          ],
          "name": "stderr"
        },
        {
          "output_type": "stream",
          "text": [
            "[  25/ 200]: train loss = 9.051e+03 | test loss = 8.886e+03 | TRAFFIX score =  82.997% | rel error = 4.025e-03 depth =  50.0 | lr = 1.0e-03 | eps = 1.0e-04 | time = 4.0e+00\n"
          ],
          "name": "stdout"
        },
        {
          "output_type": "stream",
          "text": [
            ""
          ],
          "name": "stderr"
        },
        {
          "output_type": "stream",
          "text": [
            "[  26/ 200]: train loss = 7.612e+03 | test loss = 8.354e+03 | TRAFFIX score =  84.692% | rel error = 3.903e-03 depth =  50.0 | lr = 1.0e-03 | eps = 1.0e-04 | time = 4.0e+00\n",
            "Model weights saved to drive/MyDrive/NashFPNs/TrafficTrainingData/FinalResults/SiouxFalls_weights.pth\n"
          ],
          "name": "stdout"
        },
        {
          "output_type": "stream",
          "text": [
            ""
          ],
          "name": "stderr"
        },
        {
          "output_type": "stream",
          "text": [
            "[  27/ 200]: train loss = 7.864e+03 | test loss = 7.708e+03 | TRAFFIX score =  85.679% | rel error = 3.749e-03 depth =  50.0 | lr = 1.0e-03 | eps = 1.0e-04 | time = 4.0e+00\n",
            "Model weights saved to drive/MyDrive/NashFPNs/TrafficTrainingData/FinalResults/SiouxFalls_weights.pth\n"
          ],
          "name": "stdout"
        },
        {
          "output_type": "stream",
          "text": [
            ""
          ],
          "name": "stderr"
        },
        {
          "output_type": "stream",
          "text": [
            "[  28/ 200]: train loss = 7.026e+03 | test loss = 7.318e+03 | TRAFFIX score =  86.468% | rel error = 3.653e-03 depth =  50.0 | lr = 1.0e-03 | eps = 1.0e-04 | time = 4.0e+00\n",
            "Model weights saved to drive/MyDrive/NashFPNs/TrafficTrainingData/FinalResults/SiouxFalls_weights.pth\n"
          ],
          "name": "stdout"
        },
        {
          "output_type": "stream",
          "text": [
            ""
          ],
          "name": "stderr"
        },
        {
          "output_type": "stream",
          "text": [
            "[  29/ 200]: train loss = 6.845e+03 | test loss = 7.007e+03 | TRAFFIX score =  87.182% | rel error = 3.574e-03 depth =  50.0 | lr = 1.0e-03 | eps = 1.0e-04 | time = 4.0e+00\n",
            "Model weights saved to drive/MyDrive/NashFPNs/TrafficTrainingData/FinalResults/SiouxFalls_weights.pth\n"
          ],
          "name": "stdout"
        },
        {
          "output_type": "stream",
          "text": [
            ""
          ],
          "name": "stderr"
        },
        {
          "output_type": "stream",
          "text": [
            "[  30/ 200]: train loss = 6.724e+03 | test loss = 6.905e+03 | TRAFFIX score =  87.745% | rel error = 3.549e-03 depth =  50.0 | lr = 1.0e-03 | eps = 1.0e-04 | time = 4.0e+00\n",
            "Model weights saved to drive/MyDrive/NashFPNs/TrafficTrainingData/FinalResults/SiouxFalls_weights.pth\n"
          ],
          "name": "stdout"
        },
        {
          "output_type": "stream",
          "text": [
            ""
          ],
          "name": "stderr"
        },
        {
          "output_type": "stream",
          "text": [
            "[  31/ 200]: train loss = 6.953e+03 | test loss = 6.785e+03 | TRAFFIX score =  88.079% | rel error = 3.517e-03 depth =  50.0 | lr = 1.0e-03 | eps = 1.0e-04 | time = 4.0e+00\n",
            "Model weights saved to drive/MyDrive/NashFPNs/TrafficTrainingData/FinalResults/SiouxFalls_weights.pth\n"
          ],
          "name": "stdout"
        },
        {
          "output_type": "stream",
          "text": [
            ""
          ],
          "name": "stderr"
        },
        {
          "output_type": "stream",
          "text": [
            "[  32/ 200]: train loss = 6.627e+03 | test loss = 6.800e+03 | TRAFFIX score =  87.976% | rel error = 3.521e-03 depth =  50.0 | lr = 1.0e-03 | eps = 1.0e-04 | time = 4.0e+00\n"
          ],
          "name": "stdout"
        },
        {
          "output_type": "stream",
          "text": [
            ""
          ],
          "name": "stderr"
        },
        {
          "output_type": "stream",
          "text": [
            "[  33/ 200]: train loss = 6.491e+03 | test loss = 6.634e+03 | TRAFFIX score =  88.505% | rel error = 3.478e-03 depth =  50.0 | lr = 1.0e-03 | eps = 1.0e-04 | time = 4.0e+00\n",
            "Model weights saved to drive/MyDrive/NashFPNs/TrafficTrainingData/FinalResults/SiouxFalls_weights.pth\n"
          ],
          "name": "stdout"
        },
        {
          "output_type": "stream",
          "text": [
            ""
          ],
          "name": "stderr"
        },
        {
          "output_type": "stream",
          "text": [
            "[  34/ 200]: train loss = 6.241e+03 | test loss = 6.620e+03 | TRAFFIX score =  88.447% | rel error = 3.474e-03 depth =  50.0 | lr = 1.0e-03 | eps = 1.0e-04 | time = 4.0e+00\n"
          ],
          "name": "stdout"
        },
        {
          "output_type": "stream",
          "text": [
            ""
          ],
          "name": "stderr"
        },
        {
          "output_type": "stream",
          "text": [
            "[  35/ 200]: train loss = 6.518e+03 | test loss = 6.500e+03 | TRAFFIX score =  88.839% | rel error = 3.443e-03 depth =  50.0 | lr = 1.0e-03 | eps = 1.0e-04 | time = 4.0e+00\n",
            "Model weights saved to drive/MyDrive/NashFPNs/TrafficTrainingData/FinalResults/SiouxFalls_weights.pth\n"
          ],
          "name": "stdout"
        },
        {
          "output_type": "stream",
          "text": [
            ""
          ],
          "name": "stderr"
        },
        {
          "output_type": "stream",
          "text": [
            "[  36/ 200]: train loss = 5.945e+03 | test loss = 6.417e+03 | TRAFFIX score =  88.845% | rel error = 3.421e-03 depth =  50.0 | lr = 1.0e-03 | eps = 1.0e-04 | time = 4.0e+00\n",
            "Model weights saved to drive/MyDrive/NashFPNs/TrafficTrainingData/FinalResults/SiouxFalls_weights.pth\n"
          ],
          "name": "stdout"
        },
        {
          "output_type": "stream",
          "text": [
            ""
          ],
          "name": "stderr"
        },
        {
          "output_type": "stream",
          "text": [
            "[  37/ 200]: train loss = 6.074e+03 | test loss = 6.390e+03 | TRAFFIX score =  89.076% | rel error = 3.414e-03 depth =  50.0 | lr = 1.0e-03 | eps = 1.0e-04 | time = 4.0e+00\n",
            "Model weights saved to drive/MyDrive/NashFPNs/TrafficTrainingData/FinalResults/SiouxFalls_weights.pth\n"
          ],
          "name": "stdout"
        },
        {
          "output_type": "stream",
          "text": [
            ""
          ],
          "name": "stderr"
        },
        {
          "output_type": "stream",
          "text": [
            "[  38/ 200]: train loss = 6.338e+03 | test loss = 6.266e+03 | TRAFFIX score =  89.229% | rel error = 3.380e-03 depth =  50.0 | lr = 1.0e-03 | eps = 1.0e-04 | time = 4.0e+00\n",
            "Model weights saved to drive/MyDrive/NashFPNs/TrafficTrainingData/FinalResults/SiouxFalls_weights.pth\n"
          ],
          "name": "stdout"
        },
        {
          "output_type": "stream",
          "text": [
            ""
          ],
          "name": "stderr"
        },
        {
          "output_type": "stream",
          "text": [
            "[  39/ 200]: train loss = 5.948e+03 | test loss = 6.174e+03 | TRAFFIX score =  89.547% | rel error = 3.355e-03 depth =  50.0 | lr = 1.0e-03 | eps = 1.0e-04 | time = 4.0e+00\n",
            "Model weights saved to drive/MyDrive/NashFPNs/TrafficTrainingData/FinalResults/SiouxFalls_weights.pth\n"
          ],
          "name": "stdout"
        },
        {
          "output_type": "stream",
          "text": [
            ""
          ],
          "name": "stderr"
        },
        {
          "output_type": "stream",
          "text": [
            "[  40/ 200]: train loss = 5.950e+03 | test loss = 6.106e+03 | TRAFFIX score =  89.645% | rel error = 3.337e-03 depth =  50.0 | lr = 1.0e-03 | eps = 1.0e-04 | time = 4.0e+00\n",
            "Model weights saved to drive/MyDrive/NashFPNs/TrafficTrainingData/FinalResults/SiouxFalls_weights.pth\n"
          ],
          "name": "stdout"
        },
        {
          "output_type": "stream",
          "text": [
            ""
          ],
          "name": "stderr"
        },
        {
          "output_type": "stream",
          "text": [
            "[  41/ 200]: train loss = 5.812e+03 | test loss = 5.985e+03 | TRAFFIX score =  89.976% | rel error = 3.304e-03 depth =  50.0 | lr = 1.0e-03 | eps = 1.0e-04 | time = 4.0e+00\n",
            "Model weights saved to drive/MyDrive/NashFPNs/TrafficTrainingData/FinalResults/SiouxFalls_weights.pth\n"
          ],
          "name": "stdout"
        },
        {
          "output_type": "stream",
          "text": [
            ""
          ],
          "name": "stderr"
        },
        {
          "output_type": "stream",
          "text": [
            "[  42/ 200]: train loss = 5.792e+03 | test loss = 5.903e+03 | TRAFFIX score =  90.203% | rel error = 3.281e-03 depth =  50.0 | lr = 1.0e-03 | eps = 1.0e-04 | time = 4.0e+00\n",
            "Model weights saved to drive/MyDrive/NashFPNs/TrafficTrainingData/FinalResults/SiouxFalls_weights.pth\n"
          ],
          "name": "stdout"
        },
        {
          "output_type": "stream",
          "text": [
            ""
          ],
          "name": "stderr"
        },
        {
          "output_type": "stream",
          "text": [
            "[  43/ 200]: train loss = 5.609e+03 | test loss = 5.823e+03 | TRAFFIX score =  90.405% | rel error = 3.259e-03 depth =  50.0 | lr = 1.0e-03 | eps = 1.0e-04 | time = 4.0e+00\n",
            "Model weights saved to drive/MyDrive/NashFPNs/TrafficTrainingData/FinalResults/SiouxFalls_weights.pth\n"
          ],
          "name": "stdout"
        },
        {
          "output_type": "stream",
          "text": [
            ""
          ],
          "name": "stderr"
        },
        {
          "output_type": "stream",
          "text": [
            "[  44/ 200]: train loss = 5.430e+03 | test loss = 5.725e+03 | TRAFFIX score =  90.618% | rel error = 3.231e-03 depth =  50.0 | lr = 1.0e-03 | eps = 1.0e-04 | time = 4.0e+00\n",
            "Model weights saved to drive/MyDrive/NashFPNs/TrafficTrainingData/FinalResults/SiouxFalls_weights.pth\n"
          ],
          "name": "stdout"
        },
        {
          "output_type": "stream",
          "text": [
            ""
          ],
          "name": "stderr"
        },
        {
          "output_type": "stream",
          "text": [
            "[  45/ 200]: train loss = 5.377e+03 | test loss = 5.656e+03 | TRAFFIX score =  90.861% | rel error = 3.212e-03 depth =  50.0 | lr = 1.0e-03 | eps = 1.0e-04 | time = 4.0e+00\n",
            "Model weights saved to drive/MyDrive/NashFPNs/TrafficTrainingData/FinalResults/SiouxFalls_weights.pth\n"
          ],
          "name": "stdout"
        },
        {
          "output_type": "stream",
          "text": [
            ""
          ],
          "name": "stderr"
        },
        {
          "output_type": "stream",
          "text": [
            "[  46/ 200]: train loss = 5.643e+03 | test loss = 5.608e+03 | TRAFFIX score =  90.966% | rel error = 3.198e-03 depth =  50.0 | lr = 1.0e-03 | eps = 1.0e-04 | time = 4.0e+00\n",
            "Model weights saved to drive/MyDrive/NashFPNs/TrafficTrainingData/FinalResults/SiouxFalls_weights.pth\n"
          ],
          "name": "stdout"
        },
        {
          "output_type": "stream",
          "text": [
            ""
          ],
          "name": "stderr"
        },
        {
          "output_type": "stream",
          "text": [
            "[  47/ 200]: train loss = 5.216e+03 | test loss = 5.529e+03 | TRAFFIX score =  91.239% | rel error = 3.175e-03 depth =  50.0 | lr = 1.0e-03 | eps = 1.0e-04 | time = 4.0e+00\n",
            "Model weights saved to drive/MyDrive/NashFPNs/TrafficTrainingData/FinalResults/SiouxFalls_weights.pth\n"
          ],
          "name": "stdout"
        },
        {
          "output_type": "stream",
          "text": [
            ""
          ],
          "name": "stderr"
        },
        {
          "output_type": "stream",
          "text": [
            "[  48/ 200]: train loss = 5.769e+03 | test loss = 5.462e+03 | TRAFFIX score =  91.287% | rel error = 3.156e-03 depth =  50.0 | lr = 1.0e-03 | eps = 1.0e-04 | time = 4.0e+00\n",
            "Model weights saved to drive/MyDrive/NashFPNs/TrafficTrainingData/FinalResults/SiouxFalls_weights.pth\n"
          ],
          "name": "stdout"
        },
        {
          "output_type": "stream",
          "text": [
            ""
          ],
          "name": "stderr"
        },
        {
          "output_type": "stream",
          "text": [
            "[  49/ 200]: train loss = 5.339e+03 | test loss = 5.398e+03 | TRAFFIX score =  91.468% | rel error = 3.137e-03 depth =  50.0 | lr = 1.0e-03 | eps = 1.0e-04 | time = 4.0e+00\n",
            "Model weights saved to drive/MyDrive/NashFPNs/TrafficTrainingData/FinalResults/SiouxFalls_weights.pth\n"
          ],
          "name": "stdout"
        },
        {
          "output_type": "stream",
          "text": [
            ""
          ],
          "name": "stderr"
        },
        {
          "output_type": "stream",
          "text": [
            "[  50/ 200]: train loss = 5.359e+03 | test loss = 5.335e+03 | TRAFFIX score =  91.616% | rel error = 3.119e-03 depth =  50.0 | lr = 1.0e-03 | eps = 1.0e-04 | time = 4.0e+00\n",
            "Model weights saved to drive/MyDrive/NashFPNs/TrafficTrainingData/FinalResults/SiouxFalls_weights.pth\n"
          ],
          "name": "stdout"
        },
        {
          "output_type": "stream",
          "text": [
            ""
          ],
          "name": "stderr"
        },
        {
          "output_type": "stream",
          "text": [
            "[  51/ 200]: train loss = 5.408e+03 | test loss = 5.298e+03 | TRAFFIX score =  91.600% | rel error = 3.108e-03 depth =  50.0 | lr = 1.0e-03 | eps = 1.0e-04 | time = 4.0e+00\n"
          ],
          "name": "stdout"
        },
        {
          "output_type": "stream",
          "text": [
            ""
          ],
          "name": "stderr"
        },
        {
          "output_type": "stream",
          "text": [
            "[  52/ 200]: train loss = 5.402e+03 | test loss = 5.245e+03 | TRAFFIX score =  91.655% | rel error = 3.093e-03 depth =  50.0 | lr = 1.0e-03 | eps = 1.0e-04 | time = 4.0e+00\n",
            "Model weights saved to drive/MyDrive/NashFPNs/TrafficTrainingData/FinalResults/SiouxFalls_weights.pth\n"
          ],
          "name": "stdout"
        },
        {
          "output_type": "stream",
          "text": [
            ""
          ],
          "name": "stderr"
        },
        {
          "output_type": "stream",
          "text": [
            "[  53/ 200]: train loss = 5.292e+03 | test loss = 5.191e+03 | TRAFFIX score =  91.784% | rel error = 3.077e-03 depth =  50.0 | lr = 1.0e-03 | eps = 1.0e-04 | time = 4.0e+00\n",
            "Model weights saved to drive/MyDrive/NashFPNs/TrafficTrainingData/FinalResults/SiouxFalls_weights.pth\n"
          ],
          "name": "stdout"
        },
        {
          "output_type": "stream",
          "text": [
            ""
          ],
          "name": "stderr"
        },
        {
          "output_type": "stream",
          "text": [
            "[  54/ 200]: train loss = 4.564e+03 | test loss = 5.169e+03 | TRAFFIX score =  91.839% | rel error = 3.070e-03 depth =  50.0 | lr = 1.0e-03 | eps = 1.0e-04 | time = 4.0e+00\n",
            "Model weights saved to drive/MyDrive/NashFPNs/TrafficTrainingData/FinalResults/SiouxFalls_weights.pth\n"
          ],
          "name": "stdout"
        },
        {
          "output_type": "stream",
          "text": [
            ""
          ],
          "name": "stderr"
        },
        {
          "output_type": "stream",
          "text": [
            "[  55/ 200]: train loss = 4.737e+03 | test loss = 5.121e+03 | TRAFFIX score =  91.947% | rel error = 3.056e-03 depth =  50.0 | lr = 1.0e-03 | eps = 1.0e-04 | time = 4.0e+00\n",
            "Model weights saved to drive/MyDrive/NashFPNs/TrafficTrainingData/FinalResults/SiouxFalls_weights.pth\n"
          ],
          "name": "stdout"
        },
        {
          "output_type": "stream",
          "text": [
            ""
          ],
          "name": "stderr"
        },
        {
          "output_type": "stream",
          "text": [
            "[  56/ 200]: train loss = 4.641e+03 | test loss = 5.082e+03 | TRAFFIX score =  91.871% | rel error = 3.044e-03 depth =  50.0 | lr = 1.0e-03 | eps = 1.0e-04 | time = 4.0e+00\n"
          ],
          "name": "stdout"
        },
        {
          "output_type": "stream",
          "text": [
            ""
          ],
          "name": "stderr"
        },
        {
          "output_type": "stream",
          "text": [
            "[  57/ 200]: train loss = 4.859e+03 | test loss = 5.037e+03 | TRAFFIX score =  92.095% | rel error = 3.031e-03 depth =  50.0 | lr = 1.0e-03 | eps = 1.0e-04 | time = 4.0e+00\n",
            "Model weights saved to drive/MyDrive/NashFPNs/TrafficTrainingData/FinalResults/SiouxFalls_weights.pth\n"
          ],
          "name": "stdout"
        },
        {
          "output_type": "stream",
          "text": [
            ""
          ],
          "name": "stderr"
        },
        {
          "output_type": "stream",
          "text": [
            "[  58/ 200]: train loss = 4.946e+03 | test loss = 5.000e+03 | TRAFFIX score =  92.111% | rel error = 3.019e-03 depth =  50.0 | lr = 1.0e-03 | eps = 1.0e-04 | time = 4.0e+00\n",
            "Model weights saved to drive/MyDrive/NashFPNs/TrafficTrainingData/FinalResults/SiouxFalls_weights.pth\n"
          ],
          "name": "stdout"
        },
        {
          "output_type": "stream",
          "text": [
            ""
          ],
          "name": "stderr"
        },
        {
          "output_type": "stream",
          "text": [
            "[  59/ 200]: train loss = 4.940e+03 | test loss = 4.958e+03 | TRAFFIX score =  92.145% | rel error = 3.007e-03 depth =  50.0 | lr = 1.0e-03 | eps = 1.0e-04 | time = 4.0e+00\n",
            "Model weights saved to drive/MyDrive/NashFPNs/TrafficTrainingData/FinalResults/SiouxFalls_weights.pth\n"
          ],
          "name": "stdout"
        },
        {
          "output_type": "stream",
          "text": [
            ""
          ],
          "name": "stderr"
        },
        {
          "output_type": "stream",
          "text": [
            "[  60/ 200]: train loss = 4.894e+03 | test loss = 4.920e+03 | TRAFFIX score =  92.216% | rel error = 2.995e-03 depth =  50.0 | lr = 1.0e-03 | eps = 1.0e-04 | time = 4.0e+00\n",
            "Model weights saved to drive/MyDrive/NashFPNs/TrafficTrainingData/FinalResults/SiouxFalls_weights.pth\n"
          ],
          "name": "stdout"
        },
        {
          "output_type": "stream",
          "text": [
            ""
          ],
          "name": "stderr"
        },
        {
          "output_type": "stream",
          "text": [
            "[  61/ 200]: train loss = 4.780e+03 | test loss = 4.871e+03 | TRAFFIX score =  92.305% | rel error = 2.980e-03 depth =  50.0 | lr = 1.0e-03 | eps = 1.0e-04 | time = 4.0e+00\n",
            "Model weights saved to drive/MyDrive/NashFPNs/TrafficTrainingData/FinalResults/SiouxFalls_weights.pth\n"
          ],
          "name": "stdout"
        },
        {
          "output_type": "stream",
          "text": [
            ""
          ],
          "name": "stderr"
        },
        {
          "output_type": "stream",
          "text": [
            "[  62/ 200]: train loss = 4.800e+03 | test loss = 4.841e+03 | TRAFFIX score =  92.387% | rel error = 2.971e-03 depth =  50.0 | lr = 1.0e-03 | eps = 1.0e-04 | time = 4.0e+00\n",
            "Model weights saved to drive/MyDrive/NashFPNs/TrafficTrainingData/FinalResults/SiouxFalls_weights.pth\n"
          ],
          "name": "stdout"
        },
        {
          "output_type": "stream",
          "text": [
            ""
          ],
          "name": "stderr"
        },
        {
          "output_type": "stream",
          "text": [
            "[  63/ 200]: train loss = 4.841e+03 | test loss = 4.801e+03 | TRAFFIX score =  92.505% | rel error = 2.959e-03 depth =  50.0 | lr = 1.0e-03 | eps = 1.0e-04 | time = 4.0e+00\n",
            "Model weights saved to drive/MyDrive/NashFPNs/TrafficTrainingData/FinalResults/SiouxFalls_weights.pth\n"
          ],
          "name": "stdout"
        },
        {
          "output_type": "stream",
          "text": [
            ""
          ],
          "name": "stderr"
        },
        {
          "output_type": "stream",
          "text": [
            "[  64/ 200]: train loss = 4.639e+03 | test loss = 4.760e+03 | TRAFFIX score =  92.513% | rel error = 2.946e-03 depth =  50.0 | lr = 1.0e-03 | eps = 1.0e-04 | time = 4.0e+00\n",
            "Model weights saved to drive/MyDrive/NashFPNs/TrafficTrainingData/FinalResults/SiouxFalls_weights.pth\n"
          ],
          "name": "stdout"
        },
        {
          "output_type": "stream",
          "text": [
            ""
          ],
          "name": "stderr"
        },
        {
          "output_type": "stream",
          "text": [
            "[  65/ 200]: train loss = 4.713e+03 | test loss = 4.721e+03 | TRAFFIX score =  92.655% | rel error = 2.934e-03 depth =  50.0 | lr = 1.0e-03 | eps = 1.0e-04 | time = 4.0e+00\n",
            "Model weights saved to drive/MyDrive/NashFPNs/TrafficTrainingData/FinalResults/SiouxFalls_weights.pth\n"
          ],
          "name": "stdout"
        },
        {
          "output_type": "stream",
          "text": [
            ""
          ],
          "name": "stderr"
        },
        {
          "output_type": "stream",
          "text": [
            "[  66/ 200]: train loss = 4.629e+03 | test loss = 4.672e+03 | TRAFFIX score =  92.676% | rel error = 2.919e-03 depth =  50.0 | lr = 1.0e-03 | eps = 1.0e-04 | time = 4.0e+00\n",
            "Model weights saved to drive/MyDrive/NashFPNs/TrafficTrainingData/FinalResults/SiouxFalls_weights.pth\n"
          ],
          "name": "stdout"
        },
        {
          "output_type": "stream",
          "text": [
            ""
          ],
          "name": "stderr"
        },
        {
          "output_type": "stream",
          "text": [
            "[  67/ 200]: train loss = 4.516e+03 | test loss = 4.628e+03 | TRAFFIX score =  92.724% | rel error = 2.905e-03 depth =  50.0 | lr = 1.0e-03 | eps = 1.0e-04 | time = 4.0e+00\n",
            "Model weights saved to drive/MyDrive/NashFPNs/TrafficTrainingData/FinalResults/SiouxFalls_weights.pth\n"
          ],
          "name": "stdout"
        },
        {
          "output_type": "stream",
          "text": [
            ""
          ],
          "name": "stderr"
        },
        {
          "output_type": "stream",
          "text": [
            "[  68/ 200]: train loss = 4.184e+03 | test loss = 4.587e+03 | TRAFFIX score =  92.924% | rel error = 2.892e-03 depth =  50.0 | lr = 1.0e-03 | eps = 1.0e-04 | time = 4.0e+00\n",
            "Model weights saved to drive/MyDrive/NashFPNs/TrafficTrainingData/FinalResults/SiouxFalls_weights.pth\n"
          ],
          "name": "stdout"
        },
        {
          "output_type": "stream",
          "text": [
            ""
          ],
          "name": "stderr"
        },
        {
          "output_type": "stream",
          "text": [
            "[  69/ 200]: train loss = 4.614e+03 | test loss = 4.541e+03 | TRAFFIX score =  93.084% | rel error = 2.878e-03 depth =  50.0 | lr = 1.0e-03 | eps = 1.0e-04 | time = 4.0e+00\n",
            "Model weights saved to drive/MyDrive/NashFPNs/TrafficTrainingData/FinalResults/SiouxFalls_weights.pth\n"
          ],
          "name": "stdout"
        },
        {
          "output_type": "stream",
          "text": [
            ""
          ],
          "name": "stderr"
        },
        {
          "output_type": "stream",
          "text": [
            "[  70/ 200]: train loss = 4.766e+03 | test loss = 4.479e+03 | TRAFFIX score =  93.113% | rel error = 2.858e-03 depth =  50.0 | lr = 1.0e-03 | eps = 1.0e-04 | time = 4.0e+00\n",
            "Model weights saved to drive/MyDrive/NashFPNs/TrafficTrainingData/FinalResults/SiouxFalls_weights.pth\n"
          ],
          "name": "stdout"
        },
        {
          "output_type": "stream",
          "text": [
            ""
          ],
          "name": "stderr"
        },
        {
          "output_type": "stream",
          "text": [
            "[  71/ 200]: train loss = 4.155e+03 | test loss = 4.425e+03 | TRAFFIX score =  93.284% | rel error = 2.841e-03 depth =  50.0 | lr = 1.0e-03 | eps = 1.0e-04 | time = 4.0e+00\n",
            "Model weights saved to drive/MyDrive/NashFPNs/TrafficTrainingData/FinalResults/SiouxFalls_weights.pth\n"
          ],
          "name": "stdout"
        },
        {
          "output_type": "stream",
          "text": [
            ""
          ],
          "name": "stderr"
        },
        {
          "output_type": "stream",
          "text": [
            "[  72/ 200]: train loss = 4.235e+03 | test loss = 4.382e+03 | TRAFFIX score =  93.297% | rel error = 2.827e-03 depth =  50.0 | lr = 1.0e-03 | eps = 1.0e-04 | time = 4.0e+00\n",
            "Model weights saved to drive/MyDrive/NashFPNs/TrafficTrainingData/FinalResults/SiouxFalls_weights.pth\n"
          ],
          "name": "stdout"
        },
        {
          "output_type": "stream",
          "text": [
            ""
          ],
          "name": "stderr"
        },
        {
          "output_type": "stream",
          "text": [
            "[  73/ 200]: train loss = 4.426e+03 | test loss = 4.332e+03 | TRAFFIX score =  93.418% | rel error = 2.811e-03 depth =  50.0 | lr = 1.0e-03 | eps = 1.0e-04 | time = 4.0e+00\n",
            "Model weights saved to drive/MyDrive/NashFPNs/TrafficTrainingData/FinalResults/SiouxFalls_weights.pth\n"
          ],
          "name": "stdout"
        },
        {
          "output_type": "stream",
          "text": [
            ""
          ],
          "name": "stderr"
        },
        {
          "output_type": "stream",
          "text": [
            "[  74/ 200]: train loss = 4.012e+03 | test loss = 4.294e+03 | TRAFFIX score =  93.503% | rel error = 2.798e-03 depth =  50.0 | lr = 1.0e-03 | eps = 1.0e-04 | time = 4.0e+00\n",
            "Model weights saved to drive/MyDrive/NashFPNs/TrafficTrainingData/FinalResults/SiouxFalls_weights.pth\n"
          ],
          "name": "stdout"
        },
        {
          "output_type": "stream",
          "text": [
            ""
          ],
          "name": "stderr"
        },
        {
          "output_type": "stream",
          "text": [
            "[  75/ 200]: train loss = 4.282e+03 | test loss = 4.246e+03 | TRAFFIX score =  93.542% | rel error = 2.783e-03 depth =  50.0 | lr = 1.0e-03 | eps = 1.0e-04 | time = 4.0e+00\n",
            "Model weights saved to drive/MyDrive/NashFPNs/TrafficTrainingData/FinalResults/SiouxFalls_weights.pth\n"
          ],
          "name": "stdout"
        },
        {
          "output_type": "stream",
          "text": [
            ""
          ],
          "name": "stderr"
        },
        {
          "output_type": "stream",
          "text": [
            "[  76/ 200]: train loss = 4.081e+03 | test loss = 4.198e+03 | TRAFFIX score =  93.674% | rel error = 2.767e-03 depth =  50.0 | lr = 1.0e-03 | eps = 1.0e-04 | time = 4.0e+00\n",
            "Model weights saved to drive/MyDrive/NashFPNs/TrafficTrainingData/FinalResults/SiouxFalls_weights.pth\n"
          ],
          "name": "stdout"
        },
        {
          "output_type": "stream",
          "text": [
            ""
          ],
          "name": "stderr"
        },
        {
          "output_type": "stream",
          "text": [
            "[  77/ 200]: train loss = 3.954e+03 | test loss = 4.161e+03 | TRAFFIX score =  93.774% | rel error = 2.755e-03 depth =  50.0 | lr = 1.0e-03 | eps = 1.0e-04 | time = 4.0e+00\n",
            "Model weights saved to drive/MyDrive/NashFPNs/TrafficTrainingData/FinalResults/SiouxFalls_weights.pth\n"
          ],
          "name": "stdout"
        },
        {
          "output_type": "stream",
          "text": [
            ""
          ],
          "name": "stderr"
        },
        {
          "output_type": "stream",
          "text": [
            "[  78/ 200]: train loss = 4.213e+03 | test loss = 4.123e+03 | TRAFFIX score =  93.821% | rel error = 2.742e-03 depth =  50.0 | lr = 1.0e-03 | eps = 1.0e-04 | time = 4.0e+00\n",
            "Model weights saved to drive/MyDrive/NashFPNs/TrafficTrainingData/FinalResults/SiouxFalls_weights.pth\n"
          ],
          "name": "stdout"
        },
        {
          "output_type": "stream",
          "text": [
            ""
          ],
          "name": "stderr"
        },
        {
          "output_type": "stream",
          "text": [
            "[  79/ 200]: train loss = 3.632e+03 | test loss = 4.077e+03 | TRAFFIX score =  93.897% | rel error = 2.727e-03 depth =  50.0 | lr = 1.0e-03 | eps = 1.0e-04 | time = 4.0e+00\n",
            "Model weights saved to drive/MyDrive/NashFPNs/TrafficTrainingData/FinalResults/SiouxFalls_weights.pth\n"
          ],
          "name": "stdout"
        },
        {
          "output_type": "stream",
          "text": [
            ""
          ],
          "name": "stderr"
        },
        {
          "output_type": "stream",
          "text": [
            "[  80/ 200]: train loss = 4.004e+03 | test loss = 4.061e+03 | TRAFFIX score =  93.921% | rel error = 2.721e-03 depth =  50.0 | lr = 1.0e-03 | eps = 1.0e-04 | time = 4.0e+00\n",
            "Model weights saved to drive/MyDrive/NashFPNs/TrafficTrainingData/FinalResults/SiouxFalls_weights.pth\n"
          ],
          "name": "stdout"
        },
        {
          "output_type": "stream",
          "text": [
            ""
          ],
          "name": "stderr"
        },
        {
          "output_type": "stream",
          "text": [
            "[  81/ 200]: train loss = 3.837e+03 | test loss = 4.018e+03 | TRAFFIX score =  94.016% | rel error = 2.707e-03 depth =  50.0 | lr = 1.0e-03 | eps = 1.0e-04 | time = 4.0e+00\n",
            "Model weights saved to drive/MyDrive/NashFPNs/TrafficTrainingData/FinalResults/SiouxFalls_weights.pth\n"
          ],
          "name": "stdout"
        },
        {
          "output_type": "stream",
          "text": [
            ""
          ],
          "name": "stderr"
        },
        {
          "output_type": "stream",
          "text": [
            "[  82/ 200]: train loss = 4.011e+03 | test loss = 3.999e+03 | TRAFFIX score =  94.084% | rel error = 2.701e-03 depth =  50.0 | lr = 1.0e-03 | eps = 1.0e-04 | time = 4.0e+00\n",
            "Model weights saved to drive/MyDrive/NashFPNs/TrafficTrainingData/FinalResults/SiouxFalls_weights.pth\n"
          ],
          "name": "stdout"
        },
        {
          "output_type": "stream",
          "text": [
            ""
          ],
          "name": "stderr"
        },
        {
          "output_type": "stream",
          "text": [
            "[  83/ 200]: train loss = 3.654e+03 | test loss = 3.965e+03 | TRAFFIX score =  94.189% | rel error = 2.689e-03 depth =  50.0 | lr = 1.0e-03 | eps = 1.0e-04 | time = 4.0e+00\n",
            "Model weights saved to drive/MyDrive/NashFPNs/TrafficTrainingData/FinalResults/SiouxFalls_weights.pth\n"
          ],
          "name": "stdout"
        },
        {
          "output_type": "stream",
          "text": [
            ""
          ],
          "name": "stderr"
        },
        {
          "output_type": "stream",
          "text": [
            "[  84/ 200]: train loss = 3.789e+03 | test loss = 3.924e+03 | TRAFFIX score =  94.255% | rel error = 2.675e-03 depth =  50.0 | lr = 1.0e-03 | eps = 1.0e-04 | time = 4.0e+00\n",
            "Model weights saved to drive/MyDrive/NashFPNs/TrafficTrainingData/FinalResults/SiouxFalls_weights.pth\n"
          ],
          "name": "stdout"
        },
        {
          "output_type": "stream",
          "text": [
            ""
          ],
          "name": "stderr"
        },
        {
          "output_type": "stream",
          "text": [
            "[  85/ 200]: train loss = 3.815e+03 | test loss = 3.896e+03 | TRAFFIX score =  94.321% | rel error = 2.666e-03 depth =  50.0 | lr = 1.0e-03 | eps = 1.0e-04 | time = 4.0e+00\n",
            "Model weights saved to drive/MyDrive/NashFPNs/TrafficTrainingData/FinalResults/SiouxFalls_weights.pth\n"
          ],
          "name": "stdout"
        },
        {
          "output_type": "stream",
          "text": [
            ""
          ],
          "name": "stderr"
        },
        {
          "output_type": "stream",
          "text": [
            "[  86/ 200]: train loss = 3.806e+03 | test loss = 3.876e+03 | TRAFFIX score =  94.397% | rel error = 2.659e-03 depth =  50.0 | lr = 1.0e-03 | eps = 1.0e-04 | time = 4.0e+00\n",
            "Model weights saved to drive/MyDrive/NashFPNs/TrafficTrainingData/FinalResults/SiouxFalls_weights.pth\n"
          ],
          "name": "stdout"
        },
        {
          "output_type": "stream",
          "text": [
            ""
          ],
          "name": "stderr"
        },
        {
          "output_type": "stream",
          "text": [
            "[  87/ 200]: train loss = 3.702e+03 | test loss = 3.864e+03 | TRAFFIX score =  94.408% | rel error = 2.655e-03 depth =  50.0 | lr = 1.0e-03 | eps = 1.0e-04 | time = 4.0e+00\n",
            "Model weights saved to drive/MyDrive/NashFPNs/TrafficTrainingData/FinalResults/SiouxFalls_weights.pth\n"
          ],
          "name": "stdout"
        },
        {
          "output_type": "stream",
          "text": [
            ""
          ],
          "name": "stderr"
        },
        {
          "output_type": "stream",
          "text": [
            "[  88/ 200]: train loss = 3.839e+03 | test loss = 3.823e+03 | TRAFFIX score =  94.421% | rel error = 2.640e-03 depth =  50.0 | lr = 1.0e-03 | eps = 1.0e-04 | time = 4.0e+00\n",
            "Model weights saved to drive/MyDrive/NashFPNs/TrafficTrainingData/FinalResults/SiouxFalls_weights.pth\n"
          ],
          "name": "stdout"
        },
        {
          "output_type": "stream",
          "text": [
            ""
          ],
          "name": "stderr"
        },
        {
          "output_type": "stream",
          "text": [
            "[  89/ 200]: train loss = 3.415e+03 | test loss = 3.807e+03 | TRAFFIX score =  94.445% | rel error = 2.635e-03 depth =  50.0 | lr = 1.0e-03 | eps = 1.0e-04 | time = 4.0e+00\n",
            "Model weights saved to drive/MyDrive/NashFPNs/TrafficTrainingData/FinalResults/SiouxFalls_weights.pth\n"
          ],
          "name": "stdout"
        },
        {
          "output_type": "stream",
          "text": [
            ""
          ],
          "name": "stderr"
        },
        {
          "output_type": "stream",
          "text": [
            "[  90/ 200]: train loss = 4.206e+03 | test loss = 3.780e+03 | TRAFFIX score =  94.521% | rel error = 2.626e-03 depth =  50.0 | lr = 1.0e-03 | eps = 1.0e-04 | time = 4.0e+00\n",
            "Model weights saved to drive/MyDrive/NashFPNs/TrafficTrainingData/FinalResults/SiouxFalls_weights.pth\n"
          ],
          "name": "stdout"
        },
        {
          "output_type": "stream",
          "text": [
            ""
          ],
          "name": "stderr"
        },
        {
          "output_type": "stream",
          "text": [
            "[  91/ 200]: train loss = 3.567e+03 | test loss = 3.764e+03 | TRAFFIX score =  94.587% | rel error = 2.620e-03 depth =  50.0 | lr = 1.0e-03 | eps = 1.0e-04 | time = 4.0e+00\n",
            "Model weights saved to drive/MyDrive/NashFPNs/TrafficTrainingData/FinalResults/SiouxFalls_weights.pth\n"
          ],
          "name": "stdout"
        },
        {
          "output_type": "stream",
          "text": [
            ""
          ],
          "name": "stderr"
        },
        {
          "output_type": "stream",
          "text": [
            "[  92/ 200]: train loss = 3.889e+03 | test loss = 3.750e+03 | TRAFFIX score =  94.679% | rel error = 2.615e-03 depth =  50.0 | lr = 1.0e-03 | eps = 1.0e-04 | time = 4.0e+00\n",
            "Model weights saved to drive/MyDrive/NashFPNs/TrafficTrainingData/FinalResults/SiouxFalls_weights.pth\n"
          ],
          "name": "stdout"
        },
        {
          "output_type": "stream",
          "text": [
            ""
          ],
          "name": "stderr"
        },
        {
          "output_type": "stream",
          "text": [
            "[  93/ 200]: train loss = 4.084e+03 | test loss = 3.714e+03 | TRAFFIX score =  94.705% | rel error = 2.602e-03 depth =  50.0 | lr = 1.0e-03 | eps = 1.0e-04 | time = 4.0e+00\n",
            "Model weights saved to drive/MyDrive/NashFPNs/TrafficTrainingData/FinalResults/SiouxFalls_weights.pth\n"
          ],
          "name": "stdout"
        },
        {
          "output_type": "stream",
          "text": [
            ""
          ],
          "name": "stderr"
        },
        {
          "output_type": "stream",
          "text": [
            "[  94/ 200]: train loss = 3.321e+03 | test loss = 3.765e+03 | TRAFFIX score =  94.634% | rel error = 2.620e-03 depth =  50.0 | lr = 1.0e-03 | eps = 1.0e-04 | time = 4.0e+00\n"
          ],
          "name": "stdout"
        },
        {
          "output_type": "stream",
          "text": [
            ""
          ],
          "name": "stderr"
        },
        {
          "output_type": "stream",
          "text": [
            "[  95/ 200]: train loss = 3.532e+03 | test loss = 3.693e+03 | TRAFFIX score =  94.761% | rel error = 2.595e-03 depth =  50.0 | lr = 1.0e-03 | eps = 1.0e-04 | time = 4.0e+00\n",
            "Model weights saved to drive/MyDrive/NashFPNs/TrafficTrainingData/FinalResults/SiouxFalls_weights.pth\n"
          ],
          "name": "stdout"
        },
        {
          "output_type": "stream",
          "text": [
            ""
          ],
          "name": "stderr"
        },
        {
          "output_type": "stream",
          "text": [
            "[  96/ 200]: train loss = 3.397e+03 | test loss = 3.669e+03 | TRAFFIX score =  94.818% | rel error = 2.587e-03 depth =  50.0 | lr = 1.0e-03 | eps = 1.0e-04 | time = 4.0e+00\n",
            "Model weights saved to drive/MyDrive/NashFPNs/TrafficTrainingData/FinalResults/SiouxFalls_weights.pth\n"
          ],
          "name": "stdout"
        },
        {
          "output_type": "stream",
          "text": [
            ""
          ],
          "name": "stderr"
        },
        {
          "output_type": "stream",
          "text": [
            "[  97/ 200]: train loss = 3.795e+03 | test loss = 3.684e+03 | TRAFFIX score =  94.795% | rel error = 2.592e-03 depth =  50.0 | lr = 1.0e-03 | eps = 1.0e-04 | time = 4.0e+00\n"
          ],
          "name": "stdout"
        },
        {
          "output_type": "stream",
          "text": [
            ""
          ],
          "name": "stderr"
        },
        {
          "output_type": "stream",
          "text": [
            "[  98/ 200]: train loss = 4.055e+03 | test loss = 3.647e+03 | TRAFFIX score =  94.832% | rel error = 2.579e-03 depth =  50.0 | lr = 1.0e-03 | eps = 1.0e-04 | time = 4.0e+00\n",
            "Model weights saved to drive/MyDrive/NashFPNs/TrafficTrainingData/FinalResults/SiouxFalls_weights.pth\n"
          ],
          "name": "stdout"
        },
        {
          "output_type": "stream",
          "text": [
            ""
          ],
          "name": "stderr"
        },
        {
          "output_type": "stream",
          "text": [
            "[  99/ 200]: train loss = 3.662e+03 | test loss = 3.644e+03 | TRAFFIX score =  94.776% | rel error = 2.578e-03 depth =  50.0 | lr = 1.0e-03 | eps = 1.0e-04 | time = 4.0e+00\n"
          ],
          "name": "stdout"
        },
        {
          "output_type": "stream",
          "text": [
            ""
          ],
          "name": "stderr"
        },
        {
          "output_type": "stream",
          "text": [
            "[ 100/ 200]: train loss = 3.616e+03 | test loss = 3.613e+03 | TRAFFIX score =  94.879% | rel error = 2.567e-03 depth =  50.0 | lr = 1.0e-03 | eps = 1.0e-04 | time = 4.0e+00\n",
            "Model weights saved to drive/MyDrive/NashFPNs/TrafficTrainingData/FinalResults/SiouxFalls_weights.pth\n"
          ],
          "name": "stdout"
        },
        {
          "output_type": "stream",
          "text": [
            ""
          ],
          "name": "stderr"
        },
        {
          "output_type": "stream",
          "text": [
            "[ 101/ 200]: train loss = 3.524e+03 | test loss = 3.614e+03 | TRAFFIX score =  94.908% | rel error = 2.567e-03 depth =  50.0 | lr = 1.0e-03 | eps = 1.0e-04 | time = 4.0e+00\n",
            "Model weights saved to drive/MyDrive/NashFPNs/TrafficTrainingData/FinalResults/SiouxFalls_weights.pth\n"
          ],
          "name": "stdout"
        },
        {
          "output_type": "stream",
          "text": [
            ""
          ],
          "name": "stderr"
        },
        {
          "output_type": "stream",
          "text": [
            "[ 102/ 200]: train loss = 3.310e+03 | test loss = 3.594e+03 | TRAFFIX score =  94.868% | rel error = 2.560e-03 depth =  50.0 | lr = 1.0e-03 | eps = 1.0e-04 | time = 4.0e+00\n"
          ],
          "name": "stdout"
        },
        {
          "output_type": "stream",
          "text": [
            ""
          ],
          "name": "stderr"
        },
        {
          "output_type": "stream",
          "text": [
            "[ 103/ 200]: train loss = 3.684e+03 | test loss = 3.603e+03 | TRAFFIX score =  94.839% | rel error = 2.563e-03 depth =  50.0 | lr = 1.0e-03 | eps = 1.0e-04 | time = 4.0e+00\n"
          ],
          "name": "stdout"
        },
        {
          "output_type": "stream",
          "text": [
            ""
          ],
          "name": "stderr"
        },
        {
          "output_type": "stream",
          "text": [
            "[ 104/ 200]: train loss = 3.312e+03 | test loss = 3.567e+03 | TRAFFIX score =  94.882% | rel error = 2.551e-03 depth =  50.0 | lr = 1.0e-03 | eps = 1.0e-04 | time = 4.0e+00\n"
          ],
          "name": "stdout"
        },
        {
          "output_type": "stream",
          "text": [
            ""
          ],
          "name": "stderr"
        },
        {
          "output_type": "stream",
          "text": [
            "[ 105/ 200]: train loss = 3.537e+03 | test loss = 3.575e+03 | TRAFFIX score =  94.905% | rel error = 2.553e-03 depth =  50.0 | lr = 1.0e-03 | eps = 1.0e-04 | time = 4.0e+00\n"
          ],
          "name": "stdout"
        },
        {
          "output_type": "stream",
          "text": [
            ""
          ],
          "name": "stderr"
        },
        {
          "output_type": "stream",
          "text": [
            "[ 106/ 200]: train loss = 3.709e+03 | test loss = 3.571e+03 | TRAFFIX score =  94.897% | rel error = 2.552e-03 depth =  50.0 | lr = 1.0e-03 | eps = 1.0e-04 | time = 4.0e+00\n"
          ],
          "name": "stdout"
        },
        {
          "output_type": "stream",
          "text": [
            ""
          ],
          "name": "stderr"
        },
        {
          "output_type": "stream",
          "text": [
            "[ 107/ 200]: train loss = 3.413e+03 | test loss = 3.580e+03 | TRAFFIX score =  94.947% | rel error = 2.555e-03 depth =  50.0 | lr = 1.0e-03 | eps = 1.0e-04 | time = 4.0e+00\n",
            "Model weights saved to drive/MyDrive/NashFPNs/TrafficTrainingData/FinalResults/SiouxFalls_weights.pth\n"
          ],
          "name": "stdout"
        },
        {
          "output_type": "stream",
          "text": [
            ""
          ],
          "name": "stderr"
        },
        {
          "output_type": "stream",
          "text": [
            "[ 108/ 200]: train loss = 3.465e+03 | test loss = 3.536e+03 | TRAFFIX score =  94.903% | rel error = 2.539e-03 depth =  50.0 | lr = 1.0e-03 | eps = 1.0e-04 | time = 4.0e+00\n"
          ],
          "name": "stdout"
        },
        {
          "output_type": "stream",
          "text": [
            ""
          ],
          "name": "stderr"
        },
        {
          "output_type": "stream",
          "text": [
            "[ 109/ 200]: train loss = 3.358e+03 | test loss = 3.526e+03 | TRAFFIX score =  95.013% | rel error = 2.536e-03 depth =  50.0 | lr = 1.0e-03 | eps = 1.0e-04 | time = 4.0e+00\n",
            "Model weights saved to drive/MyDrive/NashFPNs/TrafficTrainingData/FinalResults/SiouxFalls_weights.pth\n"
          ],
          "name": "stdout"
        },
        {
          "output_type": "stream",
          "text": [
            ""
          ],
          "name": "stderr"
        },
        {
          "output_type": "stream",
          "text": [
            "[ 110/ 200]: train loss = 3.779e+03 | test loss = 3.525e+03 | TRAFFIX score =  94.974% | rel error = 2.536e-03 depth =  50.0 | lr = 1.0e-03 | eps = 1.0e-04 | time = 4.0e+00\n"
          ],
          "name": "stdout"
        },
        {
          "output_type": "stream",
          "text": [
            ""
          ],
          "name": "stderr"
        },
        {
          "output_type": "stream",
          "text": [
            "[ 111/ 200]: train loss = 3.525e+03 | test loss = 3.505e+03 | TRAFFIX score =  94.955% | rel error = 2.528e-03 depth =  50.0 | lr = 1.0e-03 | eps = 1.0e-04 | time = 4.0e+00\n"
          ],
          "name": "stdout"
        },
        {
          "output_type": "stream",
          "text": [
            ""
          ],
          "name": "stderr"
        },
        {
          "output_type": "stream",
          "text": [
            "[ 112/ 200]: train loss = 3.248e+03 | test loss = 3.513e+03 | TRAFFIX score =  94.953% | rel error = 2.531e-03 depth =  50.0 | lr = 1.0e-03 | eps = 1.0e-04 | time = 4.0e+00\n"
          ],
          "name": "stdout"
        },
        {
          "output_type": "stream",
          "text": [
            ""
          ],
          "name": "stderr"
        },
        {
          "output_type": "stream",
          "text": [
            "[ 113/ 200]: train loss = 3.209e+03 | test loss = 3.512e+03 | TRAFFIX score =  95.018% | rel error = 2.531e-03 depth =  50.0 | lr = 1.0e-03 | eps = 1.0e-04 | time = 4.0e+00\n",
            "Model weights saved to drive/MyDrive/NashFPNs/TrafficTrainingData/FinalResults/SiouxFalls_weights.pth\n"
          ],
          "name": "stdout"
        },
        {
          "output_type": "stream",
          "text": [
            ""
          ],
          "name": "stderr"
        },
        {
          "output_type": "stream",
          "text": [
            "[ 114/ 200]: train loss = 3.595e+03 | test loss = 3.501e+03 | TRAFFIX score =  94.995% | rel error = 2.527e-03 depth =  50.0 | lr = 1.0e-03 | eps = 1.0e-04 | time = 4.0e+00\n"
          ],
          "name": "stdout"
        },
        {
          "output_type": "stream",
          "text": [
            ""
          ],
          "name": "stderr"
        },
        {
          "output_type": "stream",
          "text": [
            "[ 115/ 200]: train loss = 3.767e+03 | test loss = 3.526e+03 | TRAFFIX score =  94.968% | rel error = 2.536e-03 depth =  50.0 | lr = 1.0e-03 | eps = 1.0e-04 | time = 4.0e+00\n"
          ],
          "name": "stdout"
        },
        {
          "output_type": "stream",
          "text": [
            ""
          ],
          "name": "stderr"
        },
        {
          "output_type": "stream",
          "text": [
            "[ 116/ 200]: train loss = 3.888e+03 | test loss = 3.485e+03 | TRAFFIX score =  94.982% | rel error = 2.521e-03 depth =  50.0 | lr = 1.0e-03 | eps = 1.0e-04 | time = 4.0e+00\n"
          ],
          "name": "stdout"
        },
        {
          "output_type": "stream",
          "text": [
            ""
          ],
          "name": "stderr"
        },
        {
          "output_type": "stream",
          "text": [
            "[ 117/ 200]: train loss = 3.320e+03 | test loss = 3.520e+03 | TRAFFIX score =  94.989% | rel error = 2.533e-03 depth =  50.0 | lr = 1.0e-03 | eps = 1.0e-04 | time = 4.0e+00\n"
          ],
          "name": "stdout"
        },
        {
          "output_type": "stream",
          "text": [
            ""
          ],
          "name": "stderr"
        },
        {
          "output_type": "stream",
          "text": [
            "[ 118/ 200]: train loss = 3.365e+03 | test loss = 3.477e+03 | TRAFFIX score =  94.984% | rel error = 2.518e-03 depth =  50.0 | lr = 1.0e-03 | eps = 1.0e-04 | time = 4.0e+00\n"
          ],
          "name": "stdout"
        },
        {
          "output_type": "stream",
          "text": [
            ""
          ],
          "name": "stderr"
        },
        {
          "output_type": "stream",
          "text": [
            "[ 119/ 200]: train loss = 3.555e+03 | test loss = 3.490e+03 | TRAFFIX score =  95.003% | rel error = 2.523e-03 depth =  50.0 | lr = 1.0e-03 | eps = 1.0e-04 | time = 4.0e+00\n"
          ],
          "name": "stdout"
        },
        {
          "output_type": "stream",
          "text": [
            ""
          ],
          "name": "stderr"
        },
        {
          "output_type": "stream",
          "text": [
            "[ 120/ 200]: train loss = 3.219e+03 | test loss = 3.464e+03 | TRAFFIX score =  95.016% | rel error = 2.513e-03 depth =  50.0 | lr = 1.0e-03 | eps = 1.0e-04 | time = 4.0e+00\n"
          ],
          "name": "stdout"
        },
        {
          "output_type": "stream",
          "text": [
            ""
          ],
          "name": "stderr"
        },
        {
          "output_type": "stream",
          "text": [
            "[ 121/ 200]: train loss = 3.315e+03 | test loss = 3.447e+03 | TRAFFIX score =  95.058% | rel error = 2.507e-03 depth =  50.0 | lr = 1.0e-03 | eps = 1.0e-04 | time = 4.0e+00\n",
            "Model weights saved to drive/MyDrive/NashFPNs/TrafficTrainingData/FinalResults/SiouxFalls_weights.pth\n"
          ],
          "name": "stdout"
        },
        {
          "output_type": "stream",
          "text": [
            ""
          ],
          "name": "stderr"
        },
        {
          "output_type": "stream",
          "text": [
            "[ 122/ 200]: train loss = 3.453e+03 | test loss = 3.445e+03 | TRAFFIX score =  95.047% | rel error = 2.506e-03 depth =  50.0 | lr = 1.0e-03 | eps = 1.0e-04 | time = 4.0e+00\n"
          ],
          "name": "stdout"
        },
        {
          "output_type": "stream",
          "text": [
            ""
          ],
          "name": "stderr"
        },
        {
          "output_type": "stream",
          "text": [
            "[ 123/ 200]: train loss = 3.703e+03 | test loss = 3.475e+03 | TRAFFIX score =  94.997% | rel error = 2.517e-03 depth =  50.0 | lr = 1.0e-03 | eps = 1.0e-04 | time = 4.0e+00\n"
          ],
          "name": "stdout"
        },
        {
          "output_type": "stream",
          "text": [
            ""
          ],
          "name": "stderr"
        },
        {
          "output_type": "stream",
          "text": [
            "[ 124/ 200]: train loss = 3.598e+03 | test loss = 3.445e+03 | TRAFFIX score =  95.021% | rel error = 2.506e-03 depth =  50.0 | lr = 1.0e-03 | eps = 1.0e-04 | time = 4.0e+00\n"
          ],
          "name": "stdout"
        },
        {
          "output_type": "stream",
          "text": [
            ""
          ],
          "name": "stderr"
        },
        {
          "output_type": "stream",
          "text": [
            "[ 125/ 200]: train loss = 3.136e+03 | test loss = 3.443e+03 | TRAFFIX score =  95.011% | rel error = 2.506e-03 depth =  50.0 | lr = 1.0e-03 | eps = 1.0e-04 | time = 4.0e+00\n"
          ],
          "name": "stdout"
        },
        {
          "output_type": "stream",
          "text": [
            ""
          ],
          "name": "stderr"
        },
        {
          "output_type": "stream",
          "text": [
            "[ 126/ 200]: train loss = 3.255e+03 | test loss = 3.447e+03 | TRAFFIX score =  95.063% | rel error = 2.507e-03 depth =  50.0 | lr = 1.0e-03 | eps = 1.0e-04 | time = 4.0e+00\n",
            "Model weights saved to drive/MyDrive/NashFPNs/TrafficTrainingData/FinalResults/SiouxFalls_weights.pth\n"
          ],
          "name": "stdout"
        },
        {
          "output_type": "stream",
          "text": [
            ""
          ],
          "name": "stderr"
        },
        {
          "output_type": "stream",
          "text": [
            "[ 127/ 200]: train loss = 3.455e+03 | test loss = 3.450e+03 | TRAFFIX score =  95.113% | rel error = 2.508e-03 depth =  50.0 | lr = 1.0e-03 | eps = 1.0e-04 | time = 4.0e+00\n",
            "Model weights saved to drive/MyDrive/NashFPNs/TrafficTrainingData/FinalResults/SiouxFalls_weights.pth\n"
          ],
          "name": "stdout"
        },
        {
          "output_type": "stream",
          "text": [
            ""
          ],
          "name": "stderr"
        },
        {
          "output_type": "stream",
          "text": [
            "[ 128/ 200]: train loss = 3.384e+03 | test loss = 3.436e+03 | TRAFFIX score =  95.071% | rel error = 2.503e-03 depth =  50.0 | lr = 1.0e-03 | eps = 1.0e-04 | time = 4.0e+00\n"
          ],
          "name": "stdout"
        },
        {
          "output_type": "stream",
          "text": [
            ""
          ],
          "name": "stderr"
        },
        {
          "output_type": "stream",
          "text": [
            "[ 129/ 200]: train loss = 3.404e+03 | test loss = 3.482e+03 | TRAFFIX score =  94.987% | rel error = 2.520e-03 depth =  50.0 | lr = 1.0e-03 | eps = 1.0e-04 | time = 4.0e+00\n"
          ],
          "name": "stdout"
        },
        {
          "output_type": "stream",
          "text": [
            ""
          ],
          "name": "stderr"
        },
        {
          "output_type": "stream",
          "text": [
            "[ 130/ 200]: train loss = 3.337e+03 | test loss = 3.415e+03 | TRAFFIX score =  95.121% | rel error = 2.496e-03 depth =  50.0 | lr = 1.0e-03 | eps = 1.0e-04 | time = 4.0e+00\n",
            "Model weights saved to drive/MyDrive/NashFPNs/TrafficTrainingData/FinalResults/SiouxFalls_weights.pth\n"
          ],
          "name": "stdout"
        },
        {
          "output_type": "stream",
          "text": [
            ""
          ],
          "name": "stderr"
        },
        {
          "output_type": "stream",
          "text": [
            "[ 131/ 200]: train loss = 3.454e+03 | test loss = 3.407e+03 | TRAFFIX score =  95.124% | rel error = 2.493e-03 depth =  50.0 | lr = 1.0e-03 | eps = 1.0e-04 | time = 4.0e+00\n",
            "Model weights saved to drive/MyDrive/NashFPNs/TrafficTrainingData/FinalResults/SiouxFalls_weights.pth\n"
          ],
          "name": "stdout"
        },
        {
          "output_type": "stream",
          "text": [
            ""
          ],
          "name": "stderr"
        },
        {
          "output_type": "stream",
          "text": [
            "[ 132/ 200]: train loss = 3.262e+03 | test loss = 3.398e+03 | TRAFFIX score =  95.163% | rel error = 2.489e-03 depth =  50.0 | lr = 1.0e-03 | eps = 1.0e-04 | time = 4.0e+00\n",
            "Model weights saved to drive/MyDrive/NashFPNs/TrafficTrainingData/FinalResults/SiouxFalls_weights.pth\n"
          ],
          "name": "stdout"
        },
        {
          "output_type": "stream",
          "text": [
            ""
          ],
          "name": "stderr"
        },
        {
          "output_type": "stream",
          "text": [
            "[ 133/ 200]: train loss = 3.652e+03 | test loss = 3.395e+03 | TRAFFIX score =  95.108% | rel error = 2.488e-03 depth =  50.0 | lr = 1.0e-03 | eps = 1.0e-04 | time = 4.0e+00\n"
          ],
          "name": "stdout"
        },
        {
          "output_type": "stream",
          "text": [
            ""
          ],
          "name": "stderr"
        },
        {
          "output_type": "stream",
          "text": [
            "[ 134/ 200]: train loss = 3.153e+03 | test loss = 3.377e+03 | TRAFFIX score =  95.153% | rel error = 2.481e-03 depth =  50.0 | lr = 1.0e-03 | eps = 1.0e-04 | time = 4.0e+00\n"
          ],
          "name": "stdout"
        },
        {
          "output_type": "stream",
          "text": [
            ""
          ],
          "name": "stderr"
        },
        {
          "output_type": "stream",
          "text": [
            "[ 135/ 200]: train loss = 3.112e+03 | test loss = 3.393e+03 | TRAFFIX score =  95.150% | rel error = 2.487e-03 depth =  50.0 | lr = 1.0e-03 | eps = 1.0e-04 | time = 4.0e+00\n"
          ],
          "name": "stdout"
        },
        {
          "output_type": "stream",
          "text": [
            ""
          ],
          "name": "stderr"
        },
        {
          "output_type": "stream",
          "text": [
            "[ 136/ 200]: train loss = 3.600e+03 | test loss = 3.384e+03 | TRAFFIX score =  95.139% | rel error = 2.484e-03 depth =  50.0 | lr = 1.0e-03 | eps = 1.0e-04 | time = 4.0e+00\n"
          ],
          "name": "stdout"
        },
        {
          "output_type": "stream",
          "text": [
            ""
          ],
          "name": "stderr"
        },
        {
          "output_type": "stream",
          "text": [
            "[ 137/ 200]: train loss = 3.166e+03 | test loss = 3.366e+03 | TRAFFIX score =  95.187% | rel error = 2.478e-03 depth =  50.0 | lr = 1.0e-03 | eps = 1.0e-04 | time = 4.0e+00\n",
            "Model weights saved to drive/MyDrive/NashFPNs/TrafficTrainingData/FinalResults/SiouxFalls_weights.pth\n"
          ],
          "name": "stdout"
        },
        {
          "output_type": "stream",
          "text": [
            ""
          ],
          "name": "stderr"
        },
        {
          "output_type": "stream",
          "text": [
            "[ 138/ 200]: train loss = 3.229e+03 | test loss = 3.342e+03 | TRAFFIX score =  95.182% | rel error = 2.469e-03 depth =  50.0 | lr = 1.0e-03 | eps = 1.0e-04 | time = 4.0e+00\n"
          ],
          "name": "stdout"
        },
        {
          "output_type": "stream",
          "text": [
            ""
          ],
          "name": "stderr"
        },
        {
          "output_type": "stream",
          "text": [
            "[ 139/ 200]: train loss = 3.222e+03 | test loss = 3.343e+03 | TRAFFIX score =  95.168% | rel error = 2.469e-03 depth =  50.0 | lr = 1.0e-03 | eps = 1.0e-04 | time = 4.0e+00\n"
          ],
          "name": "stdout"
        },
        {
          "output_type": "stream",
          "text": [
            ""
          ],
          "name": "stderr"
        },
        {
          "output_type": "stream",
          "text": [
            "[ 140/ 200]: train loss = 3.131e+03 | test loss = 3.325e+03 | TRAFFIX score =  95.224% | rel error = 2.462e-03 depth =  50.0 | lr = 1.0e-03 | eps = 1.0e-04 | time = 4.0e+00\n",
            "Model weights saved to drive/MyDrive/NashFPNs/TrafficTrainingData/FinalResults/SiouxFalls_weights.pth\n"
          ],
          "name": "stdout"
        },
        {
          "output_type": "stream",
          "text": [
            ""
          ],
          "name": "stderr"
        },
        {
          "output_type": "stream",
          "text": [
            "[ 141/ 200]: train loss = 3.210e+03 | test loss = 3.349e+03 | TRAFFIX score =  95.182% | rel error = 2.471e-03 depth =  50.0 | lr = 1.0e-03 | eps = 1.0e-04 | time = 4.0e+00\n"
          ],
          "name": "stdout"
        },
        {
          "output_type": "stream",
          "text": [
            ""
          ],
          "name": "stderr"
        },
        {
          "output_type": "stream",
          "text": [
            "[ 142/ 200]: train loss = 3.059e+03 | test loss = 3.326e+03 | TRAFFIX score =  95.197% | rel error = 2.463e-03 depth =  50.0 | lr = 1.0e-03 | eps = 1.0e-04 | time = 4.0e+00\n"
          ],
          "name": "stdout"
        },
        {
          "output_type": "stream",
          "text": [
            ""
          ],
          "name": "stderr"
        },
        {
          "output_type": "stream",
          "text": [
            "[ 143/ 200]: train loss = 3.593e+03 | test loss = 3.299e+03 | TRAFFIX score =  95.229% | rel error = 2.453e-03 depth =  50.0 | lr = 1.0e-03 | eps = 1.0e-04 | time = 4.0e+00\n",
            "Model weights saved to drive/MyDrive/NashFPNs/TrafficTrainingData/FinalResults/SiouxFalls_weights.pth\n"
          ],
          "name": "stdout"
        },
        {
          "output_type": "stream",
          "text": [
            ""
          ],
          "name": "stderr"
        },
        {
          "output_type": "stream",
          "text": [
            "[ 144/ 200]: train loss = 3.070e+03 | test loss = 3.302e+03 | TRAFFIX score =  95.237% | rel error = 2.454e-03 depth =  50.0 | lr = 1.0e-03 | eps = 1.0e-04 | time = 4.0e+00\n",
            "Model weights saved to drive/MyDrive/NashFPNs/TrafficTrainingData/FinalResults/SiouxFalls_weights.pth\n"
          ],
          "name": "stdout"
        },
        {
          "output_type": "stream",
          "text": [
            ""
          ],
          "name": "stderr"
        },
        {
          "output_type": "stream",
          "text": [
            "[ 145/ 200]: train loss = 3.316e+03 | test loss = 3.282e+03 | TRAFFIX score =  95.284% | rel error = 2.447e-03 depth =  50.0 | lr = 1.0e-03 | eps = 1.0e-04 | time = 4.0e+00\n",
            "Model weights saved to drive/MyDrive/NashFPNs/TrafficTrainingData/FinalResults/SiouxFalls_weights.pth\n"
          ],
          "name": "stdout"
        },
        {
          "output_type": "stream",
          "text": [
            ""
          ],
          "name": "stderr"
        },
        {
          "output_type": "stream",
          "text": [
            "[ 146/ 200]: train loss = 3.290e+03 | test loss = 3.284e+03 | TRAFFIX score =  95.284% | rel error = 2.447e-03 depth =  50.0 | lr = 1.0e-03 | eps = 1.0e-04 | time = 4.0e+00\n"
          ],
          "name": "stdout"
        },
        {
          "output_type": "stream",
          "text": [
            ""
          ],
          "name": "stderr"
        },
        {
          "output_type": "stream",
          "text": [
            "[ 147/ 200]: train loss = 3.411e+03 | test loss = 3.271e+03 | TRAFFIX score =  95.287% | rel error = 2.442e-03 depth =  50.0 | lr = 1.0e-03 | eps = 1.0e-04 | time = 4.0e+00\n",
            "Model weights saved to drive/MyDrive/NashFPNs/TrafficTrainingData/FinalResults/SiouxFalls_weights.pth\n"
          ],
          "name": "stdout"
        },
        {
          "output_type": "stream",
          "text": [
            ""
          ],
          "name": "stderr"
        },
        {
          "output_type": "stream",
          "text": [
            "[ 148/ 200]: train loss = 3.636e+03 | test loss = 3.305e+03 | TRAFFIX score =  95.216% | rel error = 2.455e-03 depth =  50.0 | lr = 1.0e-03 | eps = 1.0e-04 | time = 4.0e+00\n"
          ],
          "name": "stdout"
        },
        {
          "output_type": "stream",
          "text": [
            ""
          ],
          "name": "stderr"
        },
        {
          "output_type": "stream",
          "text": [
            "[ 149/ 200]: train loss = 3.237e+03 | test loss = 3.260e+03 | TRAFFIX score =  95.274% | rel error = 2.438e-03 depth =  50.0 | lr = 1.0e-03 | eps = 1.0e-04 | time = 4.0e+00\n"
          ],
          "name": "stdout"
        },
        {
          "output_type": "stream",
          "text": [
            ""
          ],
          "name": "stderr"
        },
        {
          "output_type": "stream",
          "text": [
            "[ 150/ 200]: train loss = 3.335e+03 | test loss = 3.247e+03 | TRAFFIX score =  95.268% | rel error = 2.433e-03 depth =  50.0 | lr = 1.0e-03 | eps = 1.0e-04 | time = 4.0e+00\n"
          ],
          "name": "stdout"
        },
        {
          "output_type": "stream",
          "text": [
            ""
          ],
          "name": "stderr"
        },
        {
          "output_type": "stream",
          "text": [
            "[ 151/ 200]: train loss = 3.345e+03 | test loss = 3.284e+03 | TRAFFIX score =  95.268% | rel error = 2.447e-03 depth =  50.0 | lr = 1.0e-03 | eps = 1.0e-04 | time = 4.0e+00\n"
          ],
          "name": "stdout"
        },
        {
          "output_type": "stream",
          "text": [
            ""
          ],
          "name": "stderr"
        },
        {
          "output_type": "stream",
          "text": [
            "[ 152/ 200]: train loss = 3.612e+03 | test loss = 3.224e+03 | TRAFFIX score =  95.297% | rel error = 2.425e-03 depth =  50.0 | lr = 1.0e-03 | eps = 1.0e-04 | time = 4.0e+00\n",
            "Model weights saved to drive/MyDrive/NashFPNs/TrafficTrainingData/FinalResults/SiouxFalls_weights.pth\n"
          ],
          "name": "stdout"
        },
        {
          "output_type": "stream",
          "text": [
            ""
          ],
          "name": "stderr"
        },
        {
          "output_type": "stream",
          "text": [
            "[ 153/ 200]: train loss = 3.337e+03 | test loss = 3.219e+03 | TRAFFIX score =  95.276% | rel error = 2.423e-03 depth =  50.0 | lr = 1.0e-03 | eps = 1.0e-04 | time = 4.0e+00\n"
          ],
          "name": "stdout"
        },
        {
          "output_type": "stream",
          "text": [
            ""
          ],
          "name": "stderr"
        },
        {
          "output_type": "stream",
          "text": [
            "[ 154/ 200]: train loss = 3.065e+03 | test loss = 3.218e+03 | TRAFFIX score =  95.303% | rel error = 2.422e-03 depth =  50.0 | lr = 1.0e-03 | eps = 1.0e-04 | time = 4.0e+00\n",
            "Model weights saved to drive/MyDrive/NashFPNs/TrafficTrainingData/FinalResults/SiouxFalls_weights.pth\n"
          ],
          "name": "stdout"
        },
        {
          "output_type": "stream",
          "text": [
            ""
          ],
          "name": "stderr"
        },
        {
          "output_type": "stream",
          "text": [
            "[ 155/ 200]: train loss = 3.148e+03 | test loss = 3.242e+03 | TRAFFIX score =  95.308% | rel error = 2.432e-03 depth =  50.0 | lr = 1.0e-03 | eps = 1.0e-04 | time = 4.0e+00\n",
            "Model weights saved to drive/MyDrive/NashFPNs/TrafficTrainingData/FinalResults/SiouxFalls_weights.pth\n"
          ],
          "name": "stdout"
        },
        {
          "output_type": "stream",
          "text": [
            ""
          ],
          "name": "stderr"
        },
        {
          "output_type": "stream",
          "text": [
            "[ 156/ 200]: train loss = 2.902e+03 | test loss = 3.187e+03 | TRAFFIX score =  95.258% | rel error = 2.411e-03 depth =  50.0 | lr = 1.0e-03 | eps = 1.0e-04 | time = 4.0e+00\n"
          ],
          "name": "stdout"
        },
        {
          "output_type": "stream",
          "text": [
            ""
          ],
          "name": "stderr"
        },
        {
          "output_type": "stream",
          "text": [
            "[ 157/ 200]: train loss = 3.254e+03 | test loss = 3.176e+03 | TRAFFIX score =  95.308% | rel error = 2.407e-03 depth =  50.0 | lr = 1.0e-03 | eps = 1.0e-04 | time = 4.0e+00\n"
          ],
          "name": "stdout"
        },
        {
          "output_type": "stream",
          "text": [
            ""
          ],
          "name": "stderr"
        },
        {
          "output_type": "stream",
          "text": [
            "[ 158/ 200]: train loss = 3.339e+03 | test loss = 3.186e+03 | TRAFFIX score =  95.300% | rel error = 2.410e-03 depth =  50.0 | lr = 1.0e-03 | eps = 1.0e-04 | time = 4.0e+00\n"
          ],
          "name": "stdout"
        },
        {
          "output_type": "stream",
          "text": [
            ""
          ],
          "name": "stderr"
        },
        {
          "output_type": "stream",
          "text": [
            "[ 159/ 200]: train loss = 3.386e+03 | test loss = 3.162e+03 | TRAFFIX score =  95.318% | rel error = 2.401e-03 depth =  50.0 | lr = 1.0e-03 | eps = 1.0e-04 | time = 4.0e+00\n",
            "Model weights saved to drive/MyDrive/NashFPNs/TrafficTrainingData/FinalResults/SiouxFalls_weights.pth\n"
          ],
          "name": "stdout"
        },
        {
          "output_type": "stream",
          "text": [
            ""
          ],
          "name": "stderr"
        },
        {
          "output_type": "stream",
          "text": [
            "[ 160/ 200]: train loss = 3.449e+03 | test loss = 3.141e+03 | TRAFFIX score =  95.358% | rel error = 2.393e-03 depth =  50.0 | lr = 1.0e-03 | eps = 1.0e-04 | time = 4.0e+00\n",
            "Model weights saved to drive/MyDrive/NashFPNs/TrafficTrainingData/FinalResults/SiouxFalls_weights.pth\n"
          ],
          "name": "stdout"
        },
        {
          "output_type": "stream",
          "text": [
            ""
          ],
          "name": "stderr"
        },
        {
          "output_type": "stream",
          "text": [
            "[ 161/ 200]: train loss = 3.367e+03 | test loss = 3.110e+03 | TRAFFIX score =  95.397% | rel error = 2.381e-03 depth =  50.0 | lr = 1.0e-03 | eps = 1.0e-04 | time = 4.0e+00\n",
            "Model weights saved to drive/MyDrive/NashFPNs/TrafficTrainingData/FinalResults/SiouxFalls_weights.pth\n"
          ],
          "name": "stdout"
        },
        {
          "output_type": "stream",
          "text": [
            ""
          ],
          "name": "stderr"
        },
        {
          "output_type": "stream",
          "text": [
            "[ 162/ 200]: train loss = 3.136e+03 | test loss = 3.157e+03 | TRAFFIX score =  95.413% | rel error = 2.400e-03 depth =  50.0 | lr = 1.0e-03 | eps = 1.0e-04 | time = 4.0e+00\n",
            "Model weights saved to drive/MyDrive/NashFPNs/TrafficTrainingData/FinalResults/SiouxFalls_weights.pth\n"
          ],
          "name": "stdout"
        },
        {
          "output_type": "stream",
          "text": [
            ""
          ],
          "name": "stderr"
        },
        {
          "output_type": "stream",
          "text": [
            "[ 163/ 200]: train loss = 3.132e+03 | test loss = 3.059e+03 | TRAFFIX score =  95.434% | rel error = 2.362e-03 depth =  50.0 | lr = 1.0e-03 | eps = 1.0e-04 | time = 4.0e+00\n",
            "Model weights saved to drive/MyDrive/NashFPNs/TrafficTrainingData/FinalResults/SiouxFalls_weights.pth\n"
          ],
          "name": "stdout"
        },
        {
          "output_type": "stream",
          "text": [
            ""
          ],
          "name": "stderr"
        },
        {
          "output_type": "stream",
          "text": [
            "[ 164/ 200]: train loss = 2.867e+03 | test loss = 3.030e+03 | TRAFFIX score =  95.492% | rel error = 2.351e-03 depth =  50.0 | lr = 1.0e-03 | eps = 1.0e-04 | time = 4.0e+00\n",
            "Model weights saved to drive/MyDrive/NashFPNs/TrafficTrainingData/FinalResults/SiouxFalls_weights.pth\n"
          ],
          "name": "stdout"
        },
        {
          "output_type": "stream",
          "text": [
            ""
          ],
          "name": "stderr"
        },
        {
          "output_type": "stream",
          "text": [
            "[ 165/ 200]: train loss = 2.921e+03 | test loss = 2.993e+03 | TRAFFIX score =  95.497% | rel error = 2.336e-03 depth =  50.0 | lr = 1.0e-03 | eps = 1.0e-04 | time = 4.0e+00\n",
            "Model weights saved to drive/MyDrive/NashFPNs/TrafficTrainingData/FinalResults/SiouxFalls_weights.pth\n"
          ],
          "name": "stdout"
        },
        {
          "output_type": "stream",
          "text": [
            ""
          ],
          "name": "stderr"
        },
        {
          "output_type": "stream",
          "text": [
            "[ 166/ 200]: train loss = 3.036e+03 | test loss = 2.960e+03 | TRAFFIX score =  95.532% | rel error = 2.323e-03 depth =  50.0 | lr = 1.0e-03 | eps = 1.0e-04 | time = 4.0e+00\n",
            "Model weights saved to drive/MyDrive/NashFPNs/TrafficTrainingData/FinalResults/SiouxFalls_weights.pth\n"
          ],
          "name": "stdout"
        },
        {
          "output_type": "stream",
          "text": [
            ""
          ],
          "name": "stderr"
        },
        {
          "output_type": "stream",
          "text": [
            "[ 167/ 200]: train loss = 2.830e+03 | test loss = 2.896e+03 | TRAFFIX score =  95.658% | rel error = 2.298e-03 depth =  50.0 | lr = 1.0e-03 | eps = 1.0e-04 | time = 4.0e+00\n",
            "Model weights saved to drive/MyDrive/NashFPNs/TrafficTrainingData/FinalResults/SiouxFalls_weights.pth\n"
          ],
          "name": "stdout"
        },
        {
          "output_type": "stream",
          "text": [
            ""
          ],
          "name": "stderr"
        },
        {
          "output_type": "stream",
          "text": [
            "[ 168/ 200]: train loss = 2.647e+03 | test loss = 2.827e+03 | TRAFFIX score =  95.766% | rel error = 2.270e-03 depth =  50.0 | lr = 1.0e-03 | eps = 1.0e-04 | time = 4.0e+00\n",
            "Model weights saved to drive/MyDrive/NashFPNs/TrafficTrainingData/FinalResults/SiouxFalls_weights.pth\n"
          ],
          "name": "stdout"
        },
        {
          "output_type": "stream",
          "text": [
            ""
          ],
          "name": "stderr"
        },
        {
          "output_type": "stream",
          "text": [
            "[ 169/ 200]: train loss = 2.679e+03 | test loss = 2.779e+03 | TRAFFIX score =  95.818% | rel error = 2.251e-03 depth =  50.0 | lr = 1.0e-03 | eps = 1.0e-04 | time = 4.0e+00\n",
            "Model weights saved to drive/MyDrive/NashFPNs/TrafficTrainingData/FinalResults/SiouxFalls_weights.pth\n"
          ],
          "name": "stdout"
        },
        {
          "output_type": "stream",
          "text": [
            ""
          ],
          "name": "stderr"
        },
        {
          "output_type": "stream",
          "text": [
            "[ 170/ 200]: train loss = 2.944e+03 | test loss = 2.689e+03 | TRAFFIX score =  95.979% | rel error = 2.214e-03 depth =  50.0 | lr = 1.0e-03 | eps = 1.0e-04 | time = 4.0e+00\n",
            "Model weights saved to drive/MyDrive/NashFPNs/TrafficTrainingData/FinalResults/SiouxFalls_weights.pth\n"
          ],
          "name": "stdout"
        },
        {
          "output_type": "stream",
          "text": [
            ""
          ],
          "name": "stderr"
        },
        {
          "output_type": "stream",
          "text": [
            "[ 171/ 200]: train loss = 2.698e+03 | test loss = 2.637e+03 | TRAFFIX score =  96.042% | rel error = 2.193e-03 depth =  50.0 | lr = 1.0e-03 | eps = 1.0e-04 | time = 4.0e+00\n",
            "Model weights saved to drive/MyDrive/NashFPNs/TrafficTrainingData/FinalResults/SiouxFalls_weights.pth\n"
          ],
          "name": "stdout"
        },
        {
          "output_type": "stream",
          "text": [
            ""
          ],
          "name": "stderr"
        },
        {
          "output_type": "stream",
          "text": [
            "[ 172/ 200]: train loss = 2.560e+03 | test loss = 2.582e+03 | TRAFFIX score =  96.113% | rel error = 2.170e-03 depth =  50.0 | lr = 1.0e-03 | eps = 1.0e-04 | time = 4.0e+00\n",
            "Model weights saved to drive/MyDrive/NashFPNs/TrafficTrainingData/FinalResults/SiouxFalls_weights.pth\n"
          ],
          "name": "stdout"
        },
        {
          "output_type": "stream",
          "text": [
            ""
          ],
          "name": "stderr"
        },
        {
          "output_type": "stream",
          "text": [
            "[ 173/ 200]: train loss = 2.566e+03 | test loss = 2.525e+03 | TRAFFIX score =  96.197% | rel error = 2.146e-03 depth =  50.0 | lr = 1.0e-03 | eps = 1.0e-04 | time = 4.0e+00\n",
            "Model weights saved to drive/MyDrive/NashFPNs/TrafficTrainingData/FinalResults/SiouxFalls_weights.pth\n"
          ],
          "name": "stdout"
        },
        {
          "output_type": "stream",
          "text": [
            ""
          ],
          "name": "stderr"
        },
        {
          "output_type": "stream",
          "text": [
            "[ 174/ 200]: train loss = 2.393e+03 | test loss = 2.470e+03 | TRAFFIX score =  96.268% | rel error = 2.122e-03 depth =  50.0 | lr = 1.0e-03 | eps = 1.0e-04 | time = 4.0e+00\n",
            "Model weights saved to drive/MyDrive/NashFPNs/TrafficTrainingData/FinalResults/SiouxFalls_weights.pth\n"
          ],
          "name": "stdout"
        },
        {
          "output_type": "stream",
          "text": [
            ""
          ],
          "name": "stderr"
        },
        {
          "output_type": "stream",
          "text": [
            "[ 175/ 200]: train loss = 2.266e+03 | test loss = 2.475e+03 | TRAFFIX score =  96.337% | rel error = 2.124e-03 depth =  50.0 | lr = 1.0e-03 | eps = 1.0e-04 | time = 4.0e+00\n",
            "Model weights saved to drive/MyDrive/NashFPNs/TrafficTrainingData/FinalResults/SiouxFalls_weights.pth\n"
          ],
          "name": "stdout"
        },
        {
          "output_type": "stream",
          "text": [
            ""
          ],
          "name": "stderr"
        },
        {
          "output_type": "stream",
          "text": [
            "[ 176/ 200]: train loss = 2.425e+03 | test loss = 2.386e+03 | TRAFFIX score =  96.305% | rel error = 2.086e-03 depth =  50.0 | lr = 1.0e-03 | eps = 1.0e-04 | time = 4.0e+00\n"
          ],
          "name": "stdout"
        },
        {
          "output_type": "stream",
          "text": [
            ""
          ],
          "name": "stderr"
        },
        {
          "output_type": "stream",
          "text": [
            "[ 177/ 200]: train loss = 2.327e+03 | test loss = 2.344e+03 | TRAFFIX score =  96.379% | rel error = 2.068e-03 depth =  50.0 | lr = 1.0e-03 | eps = 1.0e-04 | time = 4.0e+00\n",
            "Model weights saved to drive/MyDrive/NashFPNs/TrafficTrainingData/FinalResults/SiouxFalls_weights.pth\n"
          ],
          "name": "stdout"
        },
        {
          "output_type": "stream",
          "text": [
            ""
          ],
          "name": "stderr"
        },
        {
          "output_type": "stream",
          "text": [
            "[ 178/ 200]: train loss = 2.309e+03 | test loss = 2.314e+03 | TRAFFIX score =  96.482% | rel error = 2.054e-03 depth =  50.0 | lr = 1.0e-03 | eps = 1.0e-04 | time = 4.0e+00\n",
            "Model weights saved to drive/MyDrive/NashFPNs/TrafficTrainingData/FinalResults/SiouxFalls_weights.pth\n"
          ],
          "name": "stdout"
        },
        {
          "output_type": "stream",
          "text": [
            ""
          ],
          "name": "stderr"
        },
        {
          "output_type": "stream",
          "text": [
            "[ 179/ 200]: train loss = 2.194e+03 | test loss = 2.313e+03 | TRAFFIX score =  96.468% | rel error = 2.054e-03 depth =  50.0 | lr = 1.0e-03 | eps = 1.0e-04 | time = 4.0e+00\n"
          ],
          "name": "stdout"
        },
        {
          "output_type": "stream",
          "text": [
            ""
          ],
          "name": "stderr"
        },
        {
          "output_type": "stream",
          "text": [
            "[ 180/ 200]: train loss = 2.077e+03 | test loss = 2.255e+03 | TRAFFIX score =  96.555% | rel error = 2.028e-03 depth =  50.0 | lr = 1.0e-03 | eps = 1.0e-04 | time = 4.0e+00\n",
            "Model weights saved to drive/MyDrive/NashFPNs/TrafficTrainingData/FinalResults/SiouxFalls_weights.pth\n"
          ],
          "name": "stdout"
        },
        {
          "output_type": "stream",
          "text": [
            ""
          ],
          "name": "stderr"
        },
        {
          "output_type": "stream",
          "text": [
            "[ 181/ 200]: train loss = 2.203e+03 | test loss = 2.260e+03 | TRAFFIX score =  96.513% | rel error = 2.030e-03 depth =  50.0 | lr = 1.0e-03 | eps = 1.0e-04 | time = 4.0e+00\n"
          ],
          "name": "stdout"
        },
        {
          "output_type": "stream",
          "text": [
            ""
          ],
          "name": "stderr"
        },
        {
          "output_type": "stream",
          "text": [
            "[ 182/ 200]: train loss = 2.067e+03 | test loss = 2.241e+03 | TRAFFIX score =  96.566% | rel error = 2.021e-03 depth =  50.0 | lr = 1.0e-03 | eps = 1.0e-04 | time = 4.0e+00\n",
            "Model weights saved to drive/MyDrive/NashFPNs/TrafficTrainingData/FinalResults/SiouxFalls_weights.pth\n"
          ],
          "name": "stdout"
        },
        {
          "output_type": "stream",
          "text": [
            ""
          ],
          "name": "stderr"
        },
        {
          "output_type": "stream",
          "text": [
            "[ 183/ 200]: train loss = 2.122e+03 | test loss = 2.212e+03 | TRAFFIX score =  96.629% | rel error = 2.008e-03 depth =  50.0 | lr = 1.0e-03 | eps = 1.0e-04 | time = 4.0e+00\n",
            "Model weights saved to drive/MyDrive/NashFPNs/TrafficTrainingData/FinalResults/SiouxFalls_weights.pth\n"
          ],
          "name": "stdout"
        },
        {
          "output_type": "stream",
          "text": [
            ""
          ],
          "name": "stderr"
        },
        {
          "output_type": "stream",
          "text": [
            "[ 184/ 200]: train loss = 2.059e+03 | test loss = 2.196e+03 | TRAFFIX score =  96.684% | rel error = 2.001e-03 depth =  50.0 | lr = 1.0e-03 | eps = 1.0e-04 | time = 4.0e+00\n",
            "Model weights saved to drive/MyDrive/NashFPNs/TrafficTrainingData/FinalResults/SiouxFalls_weights.pth\n"
          ],
          "name": "stdout"
        },
        {
          "output_type": "stream",
          "text": [
            ""
          ],
          "name": "stderr"
        },
        {
          "output_type": "stream",
          "text": [
            "[ 185/ 200]: train loss = 2.144e+03 | test loss = 2.154e+03 | TRAFFIX score =  96.755% | rel error = 1.982e-03 depth =  50.0 | lr = 1.0e-03 | eps = 1.0e-04 | time = 4.0e+00\n",
            "Model weights saved to drive/MyDrive/NashFPNs/TrafficTrainingData/FinalResults/SiouxFalls_weights.pth\n"
          ],
          "name": "stdout"
        },
        {
          "output_type": "stream",
          "text": [
            ""
          ],
          "name": "stderr"
        },
        {
          "output_type": "stream",
          "text": [
            "[ 186/ 200]: train loss = 2.320e+03 | test loss = 2.170e+03 | TRAFFIX score =  96.742% | rel error = 1.989e-03 depth =  50.0 | lr = 1.0e-03 | eps = 1.0e-04 | time = 4.0e+00\n"
          ],
          "name": "stdout"
        },
        {
          "output_type": "stream",
          "text": [
            ""
          ],
          "name": "stderr"
        },
        {
          "output_type": "stream",
          "text": [
            "[ 187/ 200]: train loss = 2.074e+03 | test loss = 2.155e+03 | TRAFFIX score =  96.826% | rel error = 1.982e-03 depth =  50.0 | lr = 1.0e-03 | eps = 1.0e-04 | time = 4.0e+00\n",
            "Model weights saved to drive/MyDrive/NashFPNs/TrafficTrainingData/FinalResults/SiouxFalls_weights.pth\n"
          ],
          "name": "stdout"
        },
        {
          "output_type": "stream",
          "text": [
            ""
          ],
          "name": "stderr"
        },
        {
          "output_type": "stream",
          "text": [
            "[ 188/ 200]: train loss = 1.902e+03 | test loss = 2.128e+03 | TRAFFIX score =  96.842% | rel error = 1.970e-03 depth =  50.0 | lr = 1.0e-03 | eps = 1.0e-04 | time = 4.0e+00\n",
            "Model weights saved to drive/MyDrive/NashFPNs/TrafficTrainingData/FinalResults/SiouxFalls_weights.pth\n"
          ],
          "name": "stdout"
        },
        {
          "output_type": "stream",
          "text": [
            ""
          ],
          "name": "stderr"
        },
        {
          "output_type": "stream",
          "text": [
            "[ 189/ 200]: train loss = 2.056e+03 | test loss = 2.116e+03 | TRAFFIX score =  96.850% | rel error = 1.964e-03 depth =  50.0 | lr = 1.0e-03 | eps = 1.0e-04 | time = 4.0e+00\n",
            "Model weights saved to drive/MyDrive/NashFPNs/TrafficTrainingData/FinalResults/SiouxFalls_weights.pth\n"
          ],
          "name": "stdout"
        },
        {
          "output_type": "stream",
          "text": [
            ""
          ],
          "name": "stderr"
        },
        {
          "output_type": "stream",
          "text": [
            "[ 190/ 200]: train loss = 1.976e+03 | test loss = 2.100e+03 | TRAFFIX score =  96.876% | rel error = 1.957e-03 depth =  50.0 | lr = 1.0e-03 | eps = 1.0e-04 | time = 4.0e+00\n",
            "Model weights saved to drive/MyDrive/NashFPNs/TrafficTrainingData/FinalResults/SiouxFalls_weights.pth\n"
          ],
          "name": "stdout"
        },
        {
          "output_type": "stream",
          "text": [
            ""
          ],
          "name": "stderr"
        },
        {
          "output_type": "stream",
          "text": [
            "[ 191/ 200]: train loss = 2.077e+03 | test loss = 2.088e+03 | TRAFFIX score =  96.882% | rel error = 1.951e-03 depth =  50.0 | lr = 1.0e-03 | eps = 1.0e-04 | time = 4.0e+00\n",
            "Model weights saved to drive/MyDrive/NashFPNs/TrafficTrainingData/FinalResults/SiouxFalls_weights.pth\n"
          ],
          "name": "stdout"
        },
        {
          "output_type": "stream",
          "text": [
            ""
          ],
          "name": "stderr"
        },
        {
          "output_type": "stream",
          "text": [
            "[ 192/ 200]: train loss = 2.180e+03 | test loss = 2.085e+03 | TRAFFIX score =  96.855% | rel error = 1.950e-03 depth =  50.0 | lr = 1.0e-03 | eps = 1.0e-04 | time = 4.0e+00\n"
          ],
          "name": "stdout"
        },
        {
          "output_type": "stream",
          "text": [
            ""
          ],
          "name": "stderr"
        },
        {
          "output_type": "stream",
          "text": [
            "[ 193/ 200]: train loss = 2.050e+03 | test loss = 2.091e+03 | TRAFFIX score =  96.871% | rel error = 1.953e-03 depth =  50.0 | lr = 1.0e-03 | eps = 1.0e-04 | time = 4.0e+00\n"
          ],
          "name": "stdout"
        },
        {
          "output_type": "stream",
          "text": [
            ""
          ],
          "name": "stderr"
        },
        {
          "output_type": "stream",
          "text": [
            "[ 194/ 200]: train loss = 1.889e+03 | test loss = 2.063e+03 | TRAFFIX score =  96.942% | rel error = 1.940e-03 depth =  50.0 | lr = 1.0e-03 | eps = 1.0e-04 | time = 4.0e+00\n",
            "Model weights saved to drive/MyDrive/NashFPNs/TrafficTrainingData/FinalResults/SiouxFalls_weights.pth\n"
          ],
          "name": "stdout"
        },
        {
          "output_type": "stream",
          "text": [
            ""
          ],
          "name": "stderr"
        },
        {
          "output_type": "stream",
          "text": [
            "[ 195/ 200]: train loss = 2.039e+03 | test loss = 2.066e+03 | TRAFFIX score =  96.876% | rel error = 1.941e-03 depth =  50.0 | lr = 1.0e-03 | eps = 1.0e-04 | time = 4.0e+00\n"
          ],
          "name": "stdout"
        },
        {
          "output_type": "stream",
          "text": [
            ""
          ],
          "name": "stderr"
        },
        {
          "output_type": "stream",
          "text": [
            "[ 196/ 200]: train loss = 2.068e+03 | test loss = 2.059e+03 | TRAFFIX score =  96.884% | rel error = 1.938e-03 depth =  50.0 | lr = 1.0e-03 | eps = 1.0e-04 | time = 4.0e+00\n"
          ],
          "name": "stdout"
        },
        {
          "output_type": "stream",
          "text": [
            ""
          ],
          "name": "stderr"
        },
        {
          "output_type": "stream",
          "text": [
            "[ 197/ 200]: train loss = 2.044e+03 | test loss = 2.036e+03 | TRAFFIX score =  97.018% | rel error = 1.927e-03 depth =  50.0 | lr = 1.0e-03 | eps = 1.0e-04 | time = 4.0e+00\n",
            "Model weights saved to drive/MyDrive/NashFPNs/TrafficTrainingData/FinalResults/SiouxFalls_weights.pth\n"
          ],
          "name": "stdout"
        },
        {
          "output_type": "stream",
          "text": [
            ""
          ],
          "name": "stderr"
        },
        {
          "output_type": "stream",
          "text": [
            "[ 198/ 200]: train loss = 1.991e+03 | test loss = 2.039e+03 | TRAFFIX score =  96.989% | rel error = 1.928e-03 depth =  50.0 | lr = 1.0e-03 | eps = 1.0e-04 | time = 4.0e+00\n"
          ],
          "name": "stdout"
        },
        {
          "output_type": "stream",
          "text": [
            ""
          ],
          "name": "stderr"
        },
        {
          "output_type": "stream",
          "text": [
            "[ 199/ 200]: train loss = 2.096e+03 | test loss = 2.038e+03 | TRAFFIX score =  96.958% | rel error = 1.928e-03 depth =  50.0 | lr = 1.0e-03 | eps = 1.0e-04 | time = 4.0e+00\n"
          ],
          "name": "stdout"
        },
        {
          "output_type": "stream",
          "text": [
            ""
          ],
          "name": "stderr"
        },
        {
          "output_type": "stream",
          "text": [
            "[ 200/ 200]: train loss = 2.058e+03 | test loss = 2.001e+03 | TRAFFIX score =  97.076% | rel error = 1.910e-03 depth =  50.0 | lr = 1.0e-03 | eps = 1.0e-04 | time = 4.0e+00\n",
            "Model weights saved to drive/MyDrive/NashFPNs/TrafficTrainingData/FinalResults/SiouxFalls_weights.pth\n",
            "Training history saved to drive/MyDrive/NashFPNs/TrafficTrainingData/FinalResults/SiouxFalls_history.pth\n"
          ],
          "name": "stdout"
        }
      ]
    },
    {
      "cell_type": "markdown",
      "metadata": {
        "id": "nqXJxGJoxMWn"
      },
      "source": [
        "## Plot Testing Error"
      ]
    },
    {
      "cell_type": "code",
      "metadata": {
        "id": "rlzK9VrHyuqF",
        "colab": {
          "base_uri": "https://localhost:8080/",
          "height": 54
        },
        "outputId": "006a2e9f-c963-4cb6-9a74-2d322236bebc"
      },
      "source": [
        "# ---------------------------------------------\n",
        "# Plot testing history\n",
        "# ---------------------------------------------\n",
        "import matplotlib.pyplot as plt\n",
        "\n",
        "fig1 = plt.figure(1)\n",
        "plt.semilogy(train_loss_hist, linewidth=3)\n",
        "plt.semilogy(test_loss_hist, linewidth=3)\n",
        "plt.legend(['training loss', 'testing loss'], fontsize=15)\n",
        "plt.xlabel('epochs', fontsize=15)\n",
        "plt.ylabel('|z - z*|', fontsize=15)\n",
        "plt.title('Mean Squared Error', fontsize=15)\n",
        "plt.savefig('line_plot.pdf')  "
      ],
      "execution_count": null,
      "outputs": [
        {
          "output_type": "display_data",
          "data": {
            "image/png": "[encoded data removed]",
            "text/plain": [
              "<Figure size 432x288 with 1 Axes>"
            ]
          },
          "metadata": {
            "tags": [],
            "needs_background": "light"
          }
        }
      ]
    },
    {
      "cell_type": "code",
      "metadata": {
        "id": "7f2yRiqEV6Hm",
        "colab": {
          "base_uri": "https://localhost:8080/",
          "height": 302
        },
        "outputId": "5f35515e-1baa-4519-a497-d84ca11f140e"
      },
      "source": [
        "fig1 = plt.figure(2)\n",
        "plt.plot(traffix_score_hist, linewidth=3)\n",
        "plt.legend(['traffix score history'], fontsize=15)\n",
        "plt.xlabel('epochs', fontsize=15)\n",
        "plt.ylabel('traffix score', fontsize=15)\n",
        "plt.title('Traffix Score', fontsize=15)\n",
        "plt.savefig('traffix_score_plot.pdf')  "
      ],
      "execution_count": null,
      "outputs": [
        {
          "output_type": "display_data",
          "data": {
            "image/png": "[encoded data removed]",
            "text/plain": [
              "<Figure size 432x288 with 1 Axes>"
            ]
          },
          "metadata": {
            "tags": [],
            "needs_background": "light"
          }
        }
      ]
    },
    {
      "cell_type": "markdown",
      "metadata": {
        "id": "IpweimogmRc3"
      },
      "source": [
        "### Generate CSV file"
      ]
    },
    {
      "cell_type": "code",
      "metadata": {
        "id": "Rs0kpi_pxF3L"
      },
      "source": [
        "filename = data_set + '_epoch_vs_relerr.csv'\n",
        "with open(filename, 'w') as f: \n",
        "  for epoch, rel_err in enumerate(rel_err_hist):     \n",
        "    f.write('%0.5e,%0.5e\\n' % (epoch + 1, rel_err)) \n",
        "\n",
        "filename = data_set + '_epoch_vs_trafix.csv'\n",
        "with open(filename, 'w') as f: \n",
        "  for epoch, traffix_score in enumerate(traffix_score_hist):     \n",
        "    f.write('%0.5e,%0.5e\\n' % (epoch + 1, traffix_score)) "
      ],
      "execution_count": null,
      "outputs": []
    }
  ]
}