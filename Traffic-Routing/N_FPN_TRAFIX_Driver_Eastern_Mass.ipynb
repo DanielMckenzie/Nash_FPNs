{
  "nbformat": 4,
  "nbformat_minor": 0,
  "metadata": {
    "accelerator": "GPU",
    "colab": {
      "name": "Nash-FPN-TRAFIX-Driver-Eastern-Mass.ipynb",
      "provenance": [],
      "collapsed_sections": [],
      "toc_visible": true
    },
    "kernelspec": {
      "display_name": "Python 3",
      "name": "python3"
    },
    "language_info": {
      "name": "python"
    }
  },
  "cells": [
    {
      "cell_type": "code",
      "metadata": {
        "id": "nVWmv8cbI4MI",
        "colab": {
          "base_uri": "https://localhost:8080/"
        },
        "outputId": "cb3c7464-6d8a-43a7-ba26-9e58e6541d1a"
      },
      "source": [
        "import numpy as np\n",
        "import torch\n",
        "import torch.nn               as nn\n",
        "import torch.distributions as tdist\n",
        "import os\n",
        "import sys\n",
        "from torch.utils.data import Dataset, TensorDataset, DataLoader\n",
        "import torch.optim as optim\n",
        "import torch.nn.utils.spectral_norm as spectral_norm\n",
        "from torch.utils.data         import Dataset, TensorDataset, DataLoader\n",
        "from torchvision              import datasets\n",
        "import time\n",
        "from time import sleep\n",
        "from tqdm import tqdm\n",
        "from prettytable import PrettyTable\n",
        "\n",
        "from google.colab import drive\n",
        "drive.mount('/content/drive')\n",
        "sys.path.append('/content/drive/MyDrive/NashFPNs/TransportationNetworks/')\n",
        "save_dir = './drive/MyDrive/NashFPNs/' # generated data should be saved in this path\n",
        "\n",
        "device = \"cuda\"\n",
        "\n",
        "capacity   = torch.tensor\n",
        "context    = torch.tensor\n",
        "action     = torch.tensor\n",
        "edge       = torch.tensor\n",
        "inference  = torch.tensor \n",
        "context    = torch.tensor\n",
        "\n",
        "seed = 42\n",
        "torch.manual_seed(seed)"
      ],
      "execution_count": null,
      "outputs": [
        {
          "output_type": "stream",
          "text": [
            "Drive already mounted at /content/drive; to attempt to forcibly remount, call drive.mount(\"/content/drive\", force_remount=True).\n"
          ],
          "name": "stdout"
        }
      ]
    },
    {
      "cell_type": "markdown",
      "metadata": {
        "id": "UJrw1eNdJXFO"
      },
      "source": [
        "## Load Training Data"
      ]
    },
    {
      "cell_type": "code",
      "metadata": {
        "id": "7fAsRmF3C0XA"
      },
      "source": [
        "# load data and split into training and testing set:\n",
        "data_set = 'Eastern-Massachusetts'\n",
        "save_dir = 'drive/MyDrive/NashFPNs/TrafficTrainingData/'\n",
        "state_path = save_dir + data_set + '_training_data.pth'\n",
        "state = torch.load(state_path)"
      ],
      "execution_count": null,
      "outputs": []
    },
    {
      "cell_type": "code",
      "metadata": {
        "id": "SdRvrGubJgNI"
      },
      "source": [
        "capacity        = state['capacity']\n",
        "W               = state['W']\n",
        "N               = state['N']\n",
        "free_flow_time  = state['free_flow_time']\n",
        "x_train         = state['x_train']\n",
        "x_test          = state['x_test']\n",
        "d_train         = state['d_train']\n",
        "d_test          = state['d_test']\n",
        "b               = state['origin_destination_pairs']\n",
        "\n",
        "context_size    = d_train.shape[1]\n",
        "n_train         = d_train.shape[0]\n",
        "n_test          = d_test.shape[0]\n",
        "\n",
        "n_ODpairs       = b.shape[1]\n",
        "n_edges         = x_train.shape[1]\n",
        "n_nodes         = b.shape[0]"
      ],
      "execution_count": null,
      "outputs": []
    },
    {
      "cell_type": "code",
      "metadata": {
        "id": "6BmanQ3rSFB3"
      },
      "source": [
        ""
      ],
      "execution_count": null,
      "outputs": []
    },
    {
      "cell_type": "code",
      "metadata": {
        "id": "X9b3A_YXJq2C"
      },
      "source": [
        "train_dataset   = TensorDataset(x_train, d_train)\n",
        "test_dataset    = TensorDataset(x_test, d_test)\n",
        "\n",
        "train_batch_size = 500\n",
        "test_batch_size  = 500\n",
        "\n",
        "train_loader  = DataLoader(dataset=train_dataset,  \n",
        "                            batch_size=train_batch_size, shuffle=True) \n",
        "test_loader   = DataLoader(dataset=test_dataset,   \n",
        "                            batch_size=test_batch_size,  shuffle=False) "
      ],
      "execution_count": null,
      "outputs": []
    },
    {
      "cell_type": "code",
      "metadata": {
        "id": "43fxNXnfQaXq"
      },
      "source": [
        "norm_x_test = torch.norm(x_test)"
      ],
      "execution_count": null,
      "outputs": []
    },
    {
      "cell_type": "code",
      "metadata": {
        "colab": {
          "base_uri": "https://localhost:8080/"
        },
        "id": "0-3HZWnVIO6l",
        "outputId": "7bbf982d-ef32-44d7-a9e1-1a53066bc026"
      },
      "source": [
        "print('n_ODpairs = ', n_ODpairs, 'n_nodes = ', n_nodes, ', n_edges = ', n_edges, ', n_train = ', x_train.shape[0])"
      ],
      "execution_count": null,
      "outputs": [
        {
          "output_type": "stream",
          "text": [
            "n_ODpairs =  1113 n_nodes =  74 , n_edges =  258 , n_train =  5000\n"
          ],
          "name": "stdout"
        }
      ]
    },
    {
      "cell_type": "markdown",
      "metadata": {
        "id": "wijoA6pndMlk"
      },
      "source": [
        "## Create Neural Network Architecture"
      ]
    },
    {
      "cell_type": "code",
      "metadata": {
        "id": "6WxTVgZPyugn"
      },
      "source": [
        "inference = torch.tensor\n",
        "latent_variable = torch.tensor\n",
        "context = torch.tensor\n",
        "\n",
        "class Traffix_Net(nn.Module):\n",
        "    def __init__(self, N, b, context_size, alpha, device):\n",
        "        super().__init__()\n",
        "        \n",
        "        self.b = b.to(device)\n",
        "        self.alpha = alpha\n",
        "\n",
        "        U,s,VT = torch.linalg.svd(N, full_matrices=False) \n",
        "        # truncate sing. values below 1e-5\n",
        "        ind = s >= 1e-5 \n",
        "        s = s[ind]\n",
        "        U = U[:,ind]\n",
        "        VT = VT[ind, :]\n",
        "        self.V = VT.t().to(device)\n",
        "        self.V_Sinv_UT = VT.t().matmul( torch.diag(1/s).matmul(U.t()) ).to(device)\n",
        "\n",
        "        self.n_nodes    = N.shape[0]\n",
        "        self.n_edges    = N.shape[1] \n",
        "        self.n_ODpairs  = b.shape[1] \n",
        "\n",
        "        self.F_fcs_d = nn.ModuleList([nn.Linear(context_size, 100), \n",
        "                                    nn.Linear(100, 100)])\n",
        "        self.fc_final_d = nn.Linear(100, self.n_edges)\n",
        "\n",
        "        self.F_fcs = nn.ModuleList([nn.Linear(self.n_edges, 100), \n",
        "                                    nn.Linear(100, 100)])\n",
        "        self.fc_final = nn.Linear(100, self.n_edges)\n",
        "        self.relu = nn.ReLU()\n",
        "        self.leaky_relu = nn.LeakyReLU(0.1)\n",
        "\n",
        "        self.tanh = nn.Tanh()\n",
        "\n",
        "        for fc in self.F_fcs: \n",
        "          torch.nn.init.zeros_(fc.weight)\n",
        "        for fc in self.F_fcs_d: \n",
        "          torch.nn.init.zeros_(fc.weight)\n",
        "\n",
        "        torch.nn.init.zeros_(self.fc_final.weight)\n",
        "        torch.nn.init.zeros_(self.fc_final_d.weight)\n",
        "\n",
        "    def device(self):\n",
        "        return next(self.parameters()).data.device\n",
        "\n",
        "    def project_C1(self, z: latent_variable) -> latent_variable: \n",
        "        return torch.clamp(z, min=0)\n",
        "\n",
        "    def project_C2(self, z: latent_variable) -> latent_variable:\n",
        "        Pz    = z - (self.V).matmul(self.V.t().matmul(z)) + self.V_Sinv_UT.matmul(self.b.unsqueeze(0))\n",
        "        return Pz\n",
        "\n",
        "    def F(self, x: action, d: context) -> action: \n",
        "      \"\"\"\n",
        "        Game Gradient Parameterization\n",
        "          Inputs: \n",
        "            x = action with shape (batch_size x n_edges) \n",
        "            d = context with shape (batch_size x context_size)\n",
        "      \"\"\"\n",
        "\n",
        "        Fd = d\n",
        "        for fc in self.F_fcs_d:\n",
        "          Fd = self.tanh(fc(Fd))\n",
        "        Fd = self.leaky_relu(self.fc_final_d(Fd))\n",
        "        \n",
        "        Fx = x\n",
        "        for fc in self.F_fcs: \n",
        "            Fx = self.tanh(fc(Fx)) \n",
        "\n",
        "        Fx = self.leaky_relu(self.fc_final(Fx))\n",
        "        Fx = torch.clamp(Fx, min = -5e6, max=5e6) \n",
        "        \n",
        "        return self.leaky_relu(Fx*Fd)\n",
        "        \n",
        "\n",
        "    def T(self, z: latent_variable, d: context) -> latent_variable: \n",
        "      \"\"\"\n",
        "        Davis-Yin Splitting described in Algorithm 3 \n",
        "          Inputs: \n",
        "            z = action with shape (batch_size x n_edges x n_ODpairs) \n",
        "            d = context with shape (batch_size x context_size)\n",
        "      \"\"\"\n",
        "\n",
        "        x = self.project_C1(z)\n",
        "        v = torch.sum(x, dim=2)\n",
        "        Fv = self.F(v,d)\n",
        "        y = 2*x - z - self.alpha*Fv.unsqueeze(2)\n",
        "        y = self.project_C2(y)\n",
        "        z = z + y - x\n",
        "\n",
        "        return z\n",
        "\n",
        "\n",
        "    def S(self, z: latent_variable) -> inference:\n",
        "      \"\"\"\n",
        "        Final layer that map from latent space to inference space. \n",
        "        Operations: project, sum across OD pairs, and clamp\n",
        "          Inputs: \n",
        "            z = action with shape (batch_size x n_edges x n_ODpairs) \n",
        "          Output:\n",
        "            v = action with shape (batch_size x n_edges)\n",
        "      \"\"\"\n",
        "\n",
        "        z = self.project_C1(z)\n",
        "        v = torch.sum(z, dim=2)\n",
        "        return torch.clamp(v, max=1e6)\n",
        "\n",
        "    def forward(self, d: context, eps=1.0e-2, max_depth=100, \n",
        "                depth_warning=False) -> inference: \n",
        "\n",
        "        with torch.no_grad():\n",
        "            self.depth = 0.0\n",
        "\n",
        "            z = torch.zeros((d.shape[0], self.n_edges, self.n_ODpairs), device=self.device())\n",
        "            z_prev = z.clone()         \n",
        "            \n",
        "            all_samp_conv = False\n",
        "            while not all_samp_conv and self.depth < max_depth:\n",
        "                z_prev = z.clone()   \n",
        "                z = self.T(z,d)\n",
        "                diff_norm = torch.norm(z - z_prev, dim=1) \n",
        "                diff_norm = torch.norm( diff_norm, dim=1) \n",
        "                diff_norm = torch.max( diff_norm ) # take norm along the latter two dimensions then max\n",
        "                self.depth += 1.0\n",
        "                all_samp_conv = diff_norm <= eps\n",
        "            \n",
        "        if self.depth >= max_depth and depth_warning:\n",
        "            print(\"\\nWarning: Max Depth Reached - Break Forward Loop\\n\")\n",
        "\n",
        "        attach_gradients = self.training\n",
        "        if attach_gradients:\n",
        "            z = self.T(z, d)\n",
        "            return self.S(z)\n",
        "        else:\n",
        "            return self.S(z) \n",
        "\n",
        "\n",
        "  "
      ],
      "execution_count": null,
      "outputs": []
    },
    {
      "cell_type": "code",
      "metadata": {
        "id": "H1IRHSkWyujD",
        "colab": {
          "base_uri": "https://localhost:8080/"
        },
        "outputId": "22b46a3b-3b90-4306-d955-f041586e9c43"
      },
      "source": [
        "alpha = 1e-2\n",
        "net = Traffix_Net(N, b, context_size, alpha, device)\n",
        "net.to(device)"
      ],
      "execution_count": null,
      "outputs": [
        {
          "output_type": "execute_result",
          "data": {
            "text/plain": [
              "tensor([[1.3804e+03, 9.7330e+02, 9.6257e+02,  ..., 6.3508e-03, 2.3857e+03,\n",
              "         1.9018e+03],\n",
              "        [1.3804e+03, 9.7330e+02, 9.6257e+02,  ..., 6.3508e-03, 2.3857e+03,\n",
              "         1.9018e+03],\n",
              "        [1.3804e+03, 9.7330e+02, 9.6257e+02,  ..., 6.3508e-03, 2.3857e+03,\n",
              "         1.9018e+03],\n",
              "        ...,\n",
              "        [1.3804e+03, 9.7330e+02, 9.6257e+02,  ..., 6.3508e-03, 2.3857e+03,\n",
              "         1.9018e+03],\n",
              "        [1.3804e+03, 9.7330e+02, 9.6257e+02,  ..., 6.3508e-03, 2.3857e+03,\n",
              "         1.9018e+03],\n",
              "        [1.3804e+03, 9.7330e+02, 9.6257e+02,  ..., 6.3508e-03, 2.3857e+03,\n",
              "         1.9018e+03]], device='cuda:0', grad_fn=<ClampBackward>)"
            ]
          },
          "metadata": {
            "tags": []
          },
          "execution_count": 8
        }
      ]
    },
    {
      "cell_type": "code",
      "metadata": {
        "id": "MKp1D-LSFuf-"
      },
      "source": [
        "def get_trafix_score(x_pred: action, x_true: action, eps=5.0e-3, \n",
        "                     tol=1.0e-3) -> float:\n",
        "  err           = torch.abs(x_pred - x_true)\n",
        "  denom         = torch.abs(x_true) + tol\n",
        "  rel_err       = err.div(denom)\n",
        "  acc_preds     = rel_err < eps  \n",
        "  num_samples   = x_true.shape[0]\n",
        "  num_preds     = x_true.shape[1]\n",
        "  trafix_score  = 100.0 * sum(sum(acc_preds)) / (num_samples * num_preds) \n",
        "  return trafix_score\n",
        "\n",
        "def get_testing_stats(net, test_loader, criterion, n_edges, eps, depth, eps_traffix_score, device=device):\n",
        "    test_loss = 0\n",
        "    correct = 0\n",
        "    rel_err = 0\n",
        "    rel_err_dim0 = torch.zeros(n_edges, device=device)\n",
        "\n",
        "    net.eval()\n",
        "    with torch.no_grad():\n",
        "        for _, (x_true, d_true) in enumerate(test_loader):\n",
        "          \n",
        "          x_true, d_true = x_true.to(device), d_true.to(device)\n",
        "          batch_size = x_true.shape[0]\n",
        "\n",
        "          x_pred = net(d_true, eps=eps, max_depth=depth) \n",
        "\n",
        "          test_loss += batch_size * criterion(x_pred, x_true)\n",
        "\n",
        "          rel_err += torch.norm(x_pred - x_true)**2\n",
        "          rel_err_dim0 += torch.norm(x_pred - x_true, dim=0)**2\n",
        "\n",
        "    test_loss  /= len(test_loader.dataset)\n",
        "    rel_err    = torch.sqrt(rel_err) / norm_x_test\n",
        "\n",
        "    # rel_err_dim0 = torch.sqrt(rel_err_dim0) / norm_x_test_dim0\n",
        "    # ind = rel_err_dim0 < eps_traffic_score\n",
        "    # traffic_score = 100*(sum(ind)/n_edges)\n",
        "    traffix_score = get_trafix_score(x_pred, x_true, eps=eps_traffix_score) \n",
        "    \n",
        "\n",
        "    net.train()\n",
        "\n",
        "    return test_loss, rel_err, traffix_score\n"
      ],
      "execution_count": null,
      "outputs": []
    },
    {
      "cell_type": "code",
      "metadata": {
        "id": "GzIL4AFf7ByG",
        "colab": {
          "base_uri": "https://localhost:8080/"
        },
        "outputId": "e93cc1de-d279-4287-d5a7-2f5e062a755c"
      },
      "source": [
        "def model_params(net):\n",
        "    table = PrettyTable([\"Network Component\", \"# Parameters\"])\n",
        "    num_params = 0\n",
        "    for name, parameter in net.named_parameters():\n",
        "        if not parameter.requires_grad:\n",
        "            continue\n",
        "        table.add_row([name, parameter.numel()])\n",
        "        num_params += parameter.numel()\n",
        "    table.add_row(['TOTAL', num_params])\n",
        "    return table\n",
        "\n",
        "print(net)\n",
        "print(model_params(net))"
      ],
      "execution_count": null,
      "outputs": [
        {
          "output_type": "stream",
          "text": [
            "Traffix_Net(\n",
            "  (F_fcs_d): ModuleList(\n",
            "    (0): Linear(in_features=10, out_features=100, bias=True)\n",
            "    (1): Linear(in_features=100, out_features=100, bias=True)\n",
            "  )\n",
            "  (fc_final_d): Linear(in_features=100, out_features=258, bias=True)\n",
            "  (F_fcs): ModuleList(\n",
            "    (0): Linear(in_features=258, out_features=100, bias=True)\n",
            "    (1): Linear(in_features=100, out_features=100, bias=True)\n",
            "  )\n",
            "  (fc_final): Linear(in_features=100, out_features=258, bias=True)\n",
            "  (relu): ReLU()\n",
            "  (leaky_relu): LeakyReLU(negative_slope=0.1)\n",
            "  (tanh): Tanh()\n",
            ")\n",
            "+-------------------+--------------+\n",
            "| Network Component | # Parameters |\n",
            "+-------------------+--------------+\n",
            "|  F_fcs_d.0.weight |     1000     |\n",
            "|   F_fcs_d.0.bias  |     100      |\n",
            "|  F_fcs_d.1.weight |    10000     |\n",
            "|   F_fcs_d.1.bias  |     100      |\n",
            "| fc_final_d.weight |    25800     |\n",
            "|  fc_final_d.bias  |     258      |\n",
            "|   F_fcs.0.weight  |    25800     |\n",
            "|    F_fcs.0.bias   |     100      |\n",
            "|   F_fcs.1.weight  |    10000     |\n",
            "|    F_fcs.1.bias   |     100      |\n",
            "|  fc_final.weight  |    25800     |\n",
            "|   fc_final.bias   |     258      |\n",
            "|       TOTAL       |    99316     |\n",
            "+-------------------+--------------+\n"
          ],
          "name": "stdout"
        }
      ]
    },
    {
      "cell_type": "markdown",
      "metadata": {
        "id": "nfrpKYfkpSS6"
      },
      "source": [
        "## Set up Training"
      ]
    },
    {
      "cell_type": "code",
      "metadata": {
        "id": "jY6ajFo5yul4",
        "colab": {
          "base_uri": "https://localhost:8080/"
        },
        "outputId": "2c7d1f6d-f24b-41f5-d0f9-e51dcde6fc34"
      },
      "source": [
        "# training setup\n",
        "learning_rate = 1e-3\n",
        "optimizer     = optim.Adam(net.parameters(), lr=learning_rate)\n",
        "lr_scheduler  = optim.lr_scheduler.StepLR(optimizer, step_size=250, gamma=0.1)\n",
        "eps           = 1.0e-4  # Used for stopping criterion in implicit-depth\n",
        "criterion     = nn.MSELoss()\n",
        "max_depth     = 50\n",
        "\n",
        "train_loss_hist     = []\n",
        "test_loss_hist      = []\n",
        "traffix_score_hist  = []\n",
        "rel_err_hist        = []\n",
        "best_traffix_score  = 0.0\n",
        "\n",
        "max_epochs = int(2e2)\n",
        "x_test = x_test.to(device)\n",
        "d_test = d_test.to(device)\n",
        "\n",
        "# start_time_epoch = time.time() # timer for display execution time per epoch multiple\n",
        "fmt        = '[{:4d}/{:4d}]: train loss = {:7.3e} | test loss = {:7.3e} | traffix score = {:7.3f}% | rel error = {:7.3e} ' \n",
        "fmt       += 'depth = {:5.1f} | lr = {:5.1e} | eps = {:5.1e} | time = {:5.1e}'\n",
        "print(net)                 # display Tnet configuration\n",
        " \n",
        "print('\\nTraining G-FPN')\n",
        "for epoch in range(max_epochs): \n",
        "\n",
        "  net.train()\n",
        "  sleep(0.3)  # slows progress bar so it won't print on multiple lines\n",
        "  loss_ave        = 0.0\n",
        "  epoch_start_time = time.time()\n",
        "  tot = len(train_loader)\n",
        "  with tqdm(total=tot, unit=\" batch\", leave=False, ascii=True) as tepoch:\n",
        "\n",
        "    tepoch.set_description(\"[{:3d}/{:3d}]\".format(epoch+1, max_epochs))\n",
        "\n",
        "    for _, (x_true, d_true) in enumerate(train_loader):\n",
        "\n",
        "      x_true, d_true = x_true.to(device), d_true.to(device)\n",
        "\n",
        "      optimizer.zero_grad()\n",
        "      x_pred = net(d_true, eps=eps, max_depth=max_depth) \n",
        "\n",
        "      loss = criterion(x_pred, x_true)\n",
        "      local_batch_size = x_true.shape[0]\n",
        "      loss_ave += local_batch_size * loss\n",
        "\n",
        "      loss.backward()\n",
        "      optimizer.step()\n",
        "\n",
        "      tepoch.update(1)\n",
        "      tepoch.set_postfix(train_loss=\"{:5.2e}\".format(loss.detach().cpu().numpy()),\n",
        "                          depth=\"{:5.1f}\".format(net.depth))\n",
        "\n",
        "  lr_scheduler.step()\n",
        "  epoch_end_time = time.time()\n",
        "  time_epoch = epoch_end_time - epoch_start_time\n",
        "  loss_ave = loss_ave/n_train\n",
        "  train_loss_hist.append(loss_ave)\n",
        "\n",
        "  eps_traffix_score = 5e-3\n",
        "  test_loss, rel_err_test, traffix_score = get_testing_stats(net, test_loader, criterion, n_edges, eps, max_depth, eps_traffix_score)\n",
        "\n",
        "  traffix_score_hist.append(traffix_score)\n",
        "  test_loss_hist.append(test_loss)\n",
        "  rel_err_hist.append(rel_err_test)\n",
        "\n",
        " \n",
        "  print(fmt.format(epoch+1, max_epochs, loss.item(), test_loss, traffix_score, rel_err_test, net.depth, \n",
        "                    optimizer.param_groups[0]['lr'], eps, time_epoch))\n",
        "  \n",
        "  # ---------------------------------------------------------------------\n",
        "  # Save weights\n",
        "  # ---------------------------------------------------------------------\n",
        "  if traffix_score > best_traffix_score:\n",
        "    best_traffix_score = traffix_score\n",
        "    state = {\n",
        "        'test_loss_hist': test_loss_hist,\n",
        "        'traffix_score_hist': traffix_score_hist,\n",
        "        'rel_err_hist': rel_err_hist,\n",
        "        'net_state_dict': net.state_dict(),\n",
        "        'optimizer_state_dict': optimizer.state_dict(),\n",
        "        'lr_scheduler': lr_scheduler,\n",
        "    }\n",
        "    file_name = save_dir + 'FinalResults/' + data_set + '_weights.pth'\n",
        "    torch.save(state, file_name)\n",
        "    print('Model weights saved to ' + file_name)\n",
        "\n",
        "  # ---------------------------------------------------------------------\n",
        "  # Save history at last epoch\n",
        "  # ---------------------------------------------------------------------\n",
        "\n",
        "  if epoch+1 == max_epochs:\n",
        "      state = {\n",
        "        'test_loss_hist': test_loss_hist,\n",
        "        'traffix_score_hist': traffix_score_hist,\n",
        "        'rel_err_hist': rel_err_hist,\n",
        "        'lr_scheduler': lr_scheduler,\n",
        "        'eps': eps,\n",
        "      }\n",
        "      file_name = save_dir + 'FinalResults/' + data_set + '_history.pth'\n",
        "      torch.save(state, file_name)\n",
        "      print('Training history saved to ' + file_name)"
      ],
      "execution_count": null,
      "outputs": [
        {
          "output_type": "stream",
          "text": [
            "Traffix_Net(\n",
            "  (F_fcs_d): ModuleList(\n",
            "    (0): Linear(in_features=10, out_features=100, bias=True)\n",
            "    (1): Linear(in_features=100, out_features=100, bias=True)\n",
            "  )\n",
            "  (fc_final_d): Linear(in_features=100, out_features=258, bias=True)\n",
            "  (F_fcs): ModuleList(\n",
            "    (0): Linear(in_features=258, out_features=100, bias=True)\n",
            "    (1): Linear(in_features=100, out_features=100, bias=True)\n",
            "  )\n",
            "  (fc_final): Linear(in_features=100, out_features=258, bias=True)\n",
            "  (relu): ReLU()\n",
            "  (leaky_relu): LeakyReLU(negative_slope=0.1)\n",
            "  (tanh): Tanh()\n",
            ")\n",
            "\n",
            "Training G-FPN\n"
          ],
          "name": "stdout"
        },
        {
          "output_type": "stream",
          "text": [
            ""
          ],
          "name": "stderr"
        },
        {
          "output_type": "stream",
          "text": [
            "[   1/ 200]: train loss = 1.329e+02 | test loss = 1.353e+02 | traffix score =  90.326% | rel error = 6.160e-03 depth =  50.0 | lr = 1.0e-03 | eps = 1.0e-04 | time = 2.9e+01\n",
            "Model weights saved to drive/MyDrive/NashFPNs/TrafficTrainingData/FinalResults/Eastern-Massachusetts_weights.pth\n"
          ],
          "name": "stdout"
        },
        {
          "output_type": "stream",
          "text": [
            ""
          ],
          "name": "stderr"
        },
        {
          "output_type": "stream",
          "text": [
            "[   2/ 200]: train loss = 1.241e+02 | test loss = 1.164e+02 | traffix score =  92.064% | rel error = 5.715e-03 depth =  50.0 | lr = 1.0e-03 | eps = 1.0e-04 | time = 2.9e+01\n",
            "Model weights saved to drive/MyDrive/NashFPNs/TrafficTrainingData/FinalResults/Eastern-Massachusetts_weights.pth\n"
          ],
          "name": "stdout"
        },
        {
          "output_type": "stream",
          "text": [
            ""
          ],
          "name": "stderr"
        },
        {
          "output_type": "stream",
          "text": [
            "[   3/ 200]: train loss = 7.295e+01 | test loss = 6.973e+01 | traffix score =  92.015% | rel error = 4.422e-03 depth =  50.0 | lr = 1.0e-03 | eps = 1.0e-04 | time = 2.9e+01\n"
          ],
          "name": "stdout"
        },
        {
          "output_type": "stream",
          "text": [
            ""
          ],
          "name": "stderr"
        },
        {
          "output_type": "stream",
          "text": [
            "[   4/ 200]: train loss = 6.072e+01 | test loss = 6.013e+01 | traffix score =  92.267% | rel error = 4.107e-03 depth =  50.0 | lr = 1.0e-03 | eps = 1.0e-04 | time = 2.9e+01\n",
            "Model weights saved to drive/MyDrive/NashFPNs/TrafficTrainingData/FinalResults/Eastern-Massachusetts_weights.pth\n"
          ],
          "name": "stdout"
        },
        {
          "output_type": "stream",
          "text": [
            ""
          ],
          "name": "stderr"
        },
        {
          "output_type": "stream",
          "text": [
            "[   5/ 200]: train loss = 5.181e+01 | test loss = 5.046e+01 | traffix score =  93.856% | rel error = 3.762e-03 depth =  50.0 | lr = 1.0e-03 | eps = 1.0e-04 | time = 2.9e+01\n",
            "Model weights saved to drive/MyDrive/NashFPNs/TrafficTrainingData/FinalResults/Eastern-Massachusetts_weights.pth\n"
          ],
          "name": "stdout"
        },
        {
          "output_type": "stream",
          "text": [
            ""
          ],
          "name": "stderr"
        },
        {
          "output_type": "stream",
          "text": [
            "[   6/ 200]: train loss = 4.008e+01 | test loss = 3.604e+01 | traffix score =  95.009% | rel error = 3.179e-03 depth =  50.0 | lr = 1.0e-03 | eps = 1.0e-04 | time = 2.9e+01\n",
            "Model weights saved to drive/MyDrive/NashFPNs/TrafficTrainingData/FinalResults/Eastern-Massachusetts_weights.pth\n"
          ],
          "name": "stdout"
        },
        {
          "output_type": "stream",
          "text": [
            ""
          ],
          "name": "stderr"
        },
        {
          "output_type": "stream",
          "text": [
            "[   7/ 200]: train loss = 4.646e+01 | test loss = 4.231e+01 | traffix score =  94.284% | rel error = 3.445e-03 depth =  50.0 | lr = 1.0e-03 | eps = 1.0e-04 | time = 2.9e+01\n"
          ],
          "name": "stdout"
        },
        {
          "output_type": "stream",
          "text": [
            ""
          ],
          "name": "stderr"
        },
        {
          "output_type": "stream",
          "text": [
            "[   8/ 200]: train loss = 4.206e+01 | test loss = 4.096e+01 | traffix score =  94.686% | rel error = 3.389e-03 depth =  50.0 | lr = 1.0e-03 | eps = 1.0e-04 | time = 2.9e+01\n"
          ],
          "name": "stdout"
        },
        {
          "output_type": "stream",
          "text": [
            ""
          ],
          "name": "stderr"
        },
        {
          "output_type": "stream",
          "text": [
            "[   9/ 200]: train loss = 3.454e+01 | test loss = 3.247e+01 | traffix score =  95.320% | rel error = 3.017e-03 depth =  50.0 | lr = 1.0e-03 | eps = 1.0e-04 | time = 2.9e+01\n",
            "Model weights saved to drive/MyDrive/NashFPNs/TrafficTrainingData/FinalResults/Eastern-Massachusetts_weights.pth\n"
          ],
          "name": "stdout"
        },
        {
          "output_type": "stream",
          "text": [
            ""
          ],
          "name": "stderr"
        },
        {
          "output_type": "stream",
          "text": [
            "[  10/ 200]: train loss = 3.001e+01 | test loss = 2.979e+01 | traffix score =  95.553% | rel error = 2.891e-03 depth =  50.0 | lr = 1.0e-03 | eps = 1.0e-04 | time = 2.9e+01\n",
            "Model weights saved to drive/MyDrive/NashFPNs/TrafficTrainingData/FinalResults/Eastern-Massachusetts_weights.pth\n"
          ],
          "name": "stdout"
        },
        {
          "output_type": "stream",
          "text": [
            ""
          ],
          "name": "stderr"
        },
        {
          "output_type": "stream",
          "text": [
            "[  11/ 200]: train loss = 2.888e+01 | test loss = 2.793e+01 | traffix score =  95.546% | rel error = 2.799e-03 depth =  50.0 | lr = 1.0e-03 | eps = 1.0e-04 | time = 2.9e+01\n"
          ],
          "name": "stdout"
        },
        {
          "output_type": "stream",
          "text": [
            ""
          ],
          "name": "stderr"
        },
        {
          "output_type": "stream",
          "text": [
            "[  12/ 200]: train loss = 2.853e+01 | test loss = 2.626e+01 | traffix score =  95.810% | rel error = 2.714e-03 depth =  50.0 | lr = 1.0e-03 | eps = 1.0e-04 | time = 2.9e+01\n",
            "Model weights saved to drive/MyDrive/NashFPNs/TrafficTrainingData/FinalResults/Eastern-Massachusetts_weights.pth\n"
          ],
          "name": "stdout"
        },
        {
          "output_type": "stream",
          "text": [
            ""
          ],
          "name": "stderr"
        },
        {
          "output_type": "stream",
          "text": [
            "[  13/ 200]: train loss = 2.517e+01 | test loss = 2.592e+01 | traffix score =  95.908% | rel error = 2.696e-03 depth =  50.0 | lr = 1.0e-03 | eps = 1.0e-04 | time = 2.9e+01\n",
            "Model weights saved to drive/MyDrive/NashFPNs/TrafficTrainingData/FinalResults/Eastern-Massachusetts_weights.pth\n"
          ],
          "name": "stdout"
        },
        {
          "output_type": "stream",
          "text": [
            ""
          ],
          "name": "stderr"
        },
        {
          "output_type": "stream",
          "text": [
            "[  14/ 200]: train loss = 2.663e+01 | test loss = 2.543e+01 | traffix score =  95.891% | rel error = 2.670e-03 depth =  50.0 | lr = 1.0e-03 | eps = 1.0e-04 | time = 2.9e+01\n"
          ],
          "name": "stdout"
        },
        {
          "output_type": "stream",
          "text": [
            ""
          ],
          "name": "stderr"
        },
        {
          "output_type": "stream",
          "text": [
            "[  15/ 200]: train loss = 2.607e+01 | test loss = 2.431e+01 | traffix score =  95.943% | rel error = 2.611e-03 depth =  50.0 | lr = 1.0e-03 | eps = 1.0e-04 | time = 2.9e+01\n",
            "Model weights saved to drive/MyDrive/NashFPNs/TrafficTrainingData/FinalResults/Eastern-Massachusetts_weights.pth\n"
          ],
          "name": "stdout"
        },
        {
          "output_type": "stream",
          "text": [
            ""
          ],
          "name": "stderr"
        },
        {
          "output_type": "stream",
          "text": [
            "[  16/ 200]: train loss = 2.507e+01 | test loss = 2.310e+01 | traffix score =  96.033% | rel error = 2.545e-03 depth =  50.0 | lr = 1.0e-03 | eps = 1.0e-04 | time = 2.9e+01\n",
            "Model weights saved to drive/MyDrive/NashFPNs/TrafficTrainingData/FinalResults/Eastern-Massachusetts_weights.pth\n"
          ],
          "name": "stdout"
        },
        {
          "output_type": "stream",
          "text": [
            ""
          ],
          "name": "stderr"
        },
        {
          "output_type": "stream",
          "text": [
            "[  17/ 200]: train loss = 2.132e+01 | test loss = 2.151e+01 | traffix score =  96.180% | rel error = 2.456e-03 depth =  50.0 | lr = 1.0e-03 | eps = 1.0e-04 | time = 2.9e+01\n",
            "Model weights saved to drive/MyDrive/NashFPNs/TrafficTrainingData/FinalResults/Eastern-Massachusetts_weights.pth\n"
          ],
          "name": "stdout"
        },
        {
          "output_type": "stream",
          "text": [
            ""
          ],
          "name": "stderr"
        },
        {
          "output_type": "stream",
          "text": [
            "[  18/ 200]: train loss = 2.061e+01 | test loss = 2.109e+01 | traffix score =  96.161% | rel error = 2.432e-03 depth =  50.0 | lr = 1.0e-03 | eps = 1.0e-04 | time = 2.9e+01\n"
          ],
          "name": "stdout"
        },
        {
          "output_type": "stream",
          "text": [
            ""
          ],
          "name": "stderr"
        },
        {
          "output_type": "stream",
          "text": [
            "[  19/ 200]: train loss = 2.063e+01 | test loss = 2.056e+01 | traffix score =  96.222% | rel error = 2.401e-03 depth =  50.0 | lr = 1.0e-03 | eps = 1.0e-04 | time = 2.9e+01\n",
            "Model weights saved to drive/MyDrive/NashFPNs/TrafficTrainingData/FinalResults/Eastern-Massachusetts_weights.pth\n"
          ],
          "name": "stdout"
        },
        {
          "output_type": "stream",
          "text": [
            ""
          ],
          "name": "stderr"
        },
        {
          "output_type": "stream",
          "text": [
            "[  20/ 200]: train loss = 1.986e+01 | test loss = 2.027e+01 | traffix score =  96.234% | rel error = 2.385e-03 depth =  50.0 | lr = 1.0e-03 | eps = 1.0e-04 | time = 2.9e+01\n",
            "Model weights saved to drive/MyDrive/NashFPNs/TrafficTrainingData/FinalResults/Eastern-Massachusetts_weights.pth\n"
          ],
          "name": "stdout"
        },
        {
          "output_type": "stream",
          "text": [
            ""
          ],
          "name": "stderr"
        },
        {
          "output_type": "stream",
          "text": [
            "[  21/ 200]: train loss = 1.919e+01 | test loss = 1.940e+01 | traffix score =  96.298% | rel error = 2.332e-03 depth =  50.0 | lr = 1.0e-03 | eps = 1.0e-04 | time = 2.9e+01\n",
            "Model weights saved to drive/MyDrive/NashFPNs/TrafficTrainingData/FinalResults/Eastern-Massachusetts_weights.pth\n"
          ],
          "name": "stdout"
        },
        {
          "output_type": "stream",
          "text": [
            ""
          ],
          "name": "stderr"
        },
        {
          "output_type": "stream",
          "text": [
            "[  22/ 200]: train loss = 1.721e+01 | test loss = 1.870e+01 | traffix score =  96.390% | rel error = 2.290e-03 depth =  50.0 | lr = 1.0e-03 | eps = 1.0e-04 | time = 2.9e+01\n",
            "Model weights saved to drive/MyDrive/NashFPNs/TrafficTrainingData/FinalResults/Eastern-Massachusetts_weights.pth\n"
          ],
          "name": "stdout"
        },
        {
          "output_type": "stream",
          "text": [
            ""
          ],
          "name": "stderr"
        },
        {
          "output_type": "stream",
          "text": [
            "[  23/ 200]: train loss = 1.832e+01 | test loss = 1.877e+01 | traffix score =  96.412% | rel error = 2.294e-03 depth =  50.0 | lr = 1.0e-03 | eps = 1.0e-04 | time = 2.9e+01\n",
            "Model weights saved to drive/MyDrive/NashFPNs/TrafficTrainingData/FinalResults/Eastern-Massachusetts_weights.pth\n"
          ],
          "name": "stdout"
        },
        {
          "output_type": "stream",
          "text": [
            ""
          ],
          "name": "stderr"
        },
        {
          "output_type": "stream",
          "text": [
            "[  24/ 200]: train loss = 1.897e+01 | test loss = 1.777e+01 | traffix score =  96.473% | rel error = 2.232e-03 depth =  50.0 | lr = 1.0e-03 | eps = 1.0e-04 | time = 2.9e+01\n",
            "Model weights saved to drive/MyDrive/NashFPNs/TrafficTrainingData/FinalResults/Eastern-Massachusetts_weights.pth\n"
          ],
          "name": "stdout"
        },
        {
          "output_type": "stream",
          "text": [
            ""
          ],
          "name": "stderr"
        },
        {
          "output_type": "stream",
          "text": [
            "[  25/ 200]: train loss = 1.858e+01 | test loss = 1.751e+01 | traffix score =  96.509% | rel error = 2.216e-03 depth =  50.0 | lr = 1.0e-03 | eps = 1.0e-04 | time = 2.9e+01\n",
            "Model weights saved to drive/MyDrive/NashFPNs/TrafficTrainingData/FinalResults/Eastern-Massachusetts_weights.pth\n"
          ],
          "name": "stdout"
        },
        {
          "output_type": "stream",
          "text": [
            ""
          ],
          "name": "stderr"
        },
        {
          "output_type": "stream",
          "text": [
            "[  26/ 200]: train loss = 1.716e+01 | test loss = 1.677e+01 | traffix score =  96.591% | rel error = 2.169e-03 depth =  50.0 | lr = 1.0e-03 | eps = 1.0e-04 | time = 2.9e+01\n",
            "Model weights saved to drive/MyDrive/NashFPNs/TrafficTrainingData/FinalResults/Eastern-Massachusetts_weights.pth\n"
          ],
          "name": "stdout"
        },
        {
          "output_type": "stream",
          "text": [
            ""
          ],
          "name": "stderr"
        },
        {
          "output_type": "stream",
          "text": [
            "[  27/ 200]: train loss = 1.635e+01 | test loss = 1.676e+01 | traffix score =  96.627% | rel error = 2.168e-03 depth =  50.0 | lr = 1.0e-03 | eps = 1.0e-04 | time = 2.9e+01\n",
            "Model weights saved to drive/MyDrive/NashFPNs/TrafficTrainingData/FinalResults/Eastern-Massachusetts_weights.pth\n"
          ],
          "name": "stdout"
        },
        {
          "output_type": "stream",
          "text": [
            ""
          ],
          "name": "stderr"
        },
        {
          "output_type": "stream",
          "text": [
            "[  28/ 200]: train loss = 1.658e+01 | test loss = 1.598e+01 | traffix score =  96.665% | rel error = 2.117e-03 depth =  50.0 | lr = 1.0e-03 | eps = 1.0e-04 | time = 2.9e+01\n",
            "Model weights saved to drive/MyDrive/NashFPNs/TrafficTrainingData/FinalResults/Eastern-Massachusetts_weights.pth\n"
          ],
          "name": "stdout"
        },
        {
          "output_type": "stream",
          "text": [
            ""
          ],
          "name": "stderr"
        },
        {
          "output_type": "stream",
          "text": [
            "[  29/ 200]: train loss = 1.690e+01 | test loss = 1.532e+01 | traffix score =  96.712% | rel error = 2.073e-03 depth =  50.0 | lr = 1.0e-03 | eps = 1.0e-04 | time = 2.9e+01\n",
            "Model weights saved to drive/MyDrive/NashFPNs/TrafficTrainingData/FinalResults/Eastern-Massachusetts_weights.pth\n"
          ],
          "name": "stdout"
        },
        {
          "output_type": "stream",
          "text": [
            ""
          ],
          "name": "stderr"
        },
        {
          "output_type": "stream",
          "text": [
            "[  30/ 200]: train loss = 1.505e+01 | test loss = 1.495e+01 | traffix score =  96.753% | rel error = 2.047e-03 depth =  50.0 | lr = 1.0e-03 | eps = 1.0e-04 | time = 2.9e+01\n",
            "Model weights saved to drive/MyDrive/NashFPNs/TrafficTrainingData/FinalResults/Eastern-Massachusetts_weights.pth\n"
          ],
          "name": "stdout"
        },
        {
          "output_type": "stream",
          "text": [
            ""
          ],
          "name": "stderr"
        },
        {
          "output_type": "stream",
          "text": [
            "[  31/ 200]: train loss = 1.449e+01 | test loss = 1.410e+01 | traffix score =  96.806% | rel error = 1.989e-03 depth =  50.0 | lr = 1.0e-03 | eps = 1.0e-04 | time = 2.9e+01\n",
            "Model weights saved to drive/MyDrive/NashFPNs/TrafficTrainingData/FinalResults/Eastern-Massachusetts_weights.pth\n"
          ],
          "name": "stdout"
        },
        {
          "output_type": "stream",
          "text": [
            ""
          ],
          "name": "stderr"
        },
        {
          "output_type": "stream",
          "text": [
            "[  32/ 200]: train loss = 1.414e+01 | test loss = 1.366e+01 | traffix score =  96.816% | rel error = 1.957e-03 depth =  50.0 | lr = 1.0e-03 | eps = 1.0e-04 | time = 2.9e+01\n",
            "Model weights saved to drive/MyDrive/NashFPNs/TrafficTrainingData/FinalResults/Eastern-Massachusetts_weights.pth\n"
          ],
          "name": "stdout"
        },
        {
          "output_type": "stream",
          "text": [
            ""
          ],
          "name": "stderr"
        },
        {
          "output_type": "stream",
          "text": [
            "[  33/ 200]: train loss = 1.364e+01 | test loss = 1.281e+01 | traffix score =  96.864% | rel error = 1.895e-03 depth =  50.0 | lr = 1.0e-03 | eps = 1.0e-04 | time = 2.9e+01\n",
            "Model weights saved to drive/MyDrive/NashFPNs/TrafficTrainingData/FinalResults/Eastern-Massachusetts_weights.pth\n"
          ],
          "name": "stdout"
        },
        {
          "output_type": "stream",
          "text": [
            ""
          ],
          "name": "stderr"
        },
        {
          "output_type": "stream",
          "text": [
            "[  34/ 200]: train loss = 1.197e+01 | test loss = 1.218e+01 | traffix score =  96.962% | rel error = 1.848e-03 depth =  50.0 | lr = 1.0e-03 | eps = 1.0e-04 | time = 2.9e+01\n",
            "Model weights saved to drive/MyDrive/NashFPNs/TrafficTrainingData/FinalResults/Eastern-Massachusetts_weights.pth\n"
          ],
          "name": "stdout"
        },
        {
          "output_type": "stream",
          "text": [
            ""
          ],
          "name": "stderr"
        },
        {
          "output_type": "stream",
          "text": [
            "[  35/ 200]: train loss = 1.133e+01 | test loss = 1.132e+01 | traffix score =  97.069% | rel error = 1.782e-03 depth =  50.0 | lr = 1.0e-03 | eps = 1.0e-04 | time = 2.9e+01\n",
            "Model weights saved to drive/MyDrive/NashFPNs/TrafficTrainingData/FinalResults/Eastern-Massachusetts_weights.pth\n"
          ],
          "name": "stdout"
        },
        {
          "output_type": "stream",
          "text": [
            ""
          ],
          "name": "stderr"
        },
        {
          "output_type": "stream",
          "text": [
            "[  36/ 200]: train loss = 1.003e+01 | test loss = 1.053e+01 | traffix score =  97.156% | rel error = 1.718e-03 depth =  50.0 | lr = 1.0e-03 | eps = 1.0e-04 | time = 2.9e+01\n",
            "Model weights saved to drive/MyDrive/NashFPNs/TrafficTrainingData/FinalResults/Eastern-Massachusetts_weights.pth\n"
          ],
          "name": "stdout"
        },
        {
          "output_type": "stream",
          "text": [
            ""
          ],
          "name": "stderr"
        },
        {
          "output_type": "stream",
          "text": [
            "[  37/ 200]: train loss = 1.050e+01 | test loss = 1.012e+01 | traffix score =  97.174% | rel error = 1.684e-03 depth =  50.0 | lr = 1.0e-03 | eps = 1.0e-04 | time = 2.9e+01\n",
            "Model weights saved to drive/MyDrive/NashFPNs/TrafficTrainingData/FinalResults/Eastern-Massachusetts_weights.pth\n"
          ],
          "name": "stdout"
        },
        {
          "output_type": "stream",
          "text": [
            ""
          ],
          "name": "stderr"
        },
        {
          "output_type": "stream",
          "text": [
            "[  38/ 200]: train loss = 8.871e+00 | test loss = 9.079e+00 | traffix score =  97.223% | rel error = 1.596e-03 depth =  50.0 | lr = 1.0e-03 | eps = 1.0e-04 | time = 2.9e+01\n",
            "Model weights saved to drive/MyDrive/NashFPNs/TrafficTrainingData/FinalResults/Eastern-Massachusetts_weights.pth\n"
          ],
          "name": "stdout"
        },
        {
          "output_type": "stream",
          "text": [
            ""
          ],
          "name": "stderr"
        },
        {
          "output_type": "stream",
          "text": [
            "[  39/ 200]: train loss = 8.603e+00 | test loss = 8.216e+00 | traffix score =  97.335% | rel error = 1.518e-03 depth =  50.0 | lr = 1.0e-03 | eps = 1.0e-04 | time = 2.9e+01\n",
            "Model weights saved to drive/MyDrive/NashFPNs/TrafficTrainingData/FinalResults/Eastern-Massachusetts_weights.pth\n"
          ],
          "name": "stdout"
        },
        {
          "output_type": "stream",
          "text": [
            ""
          ],
          "name": "stderr"
        },
        {
          "output_type": "stream",
          "text": [
            "[  40/ 200]: train loss = 7.718e+00 | test loss = 7.444e+00 | traffix score =  97.285% | rel error = 1.445e-03 depth =  50.0 | lr = 1.0e-03 | eps = 1.0e-04 | time = 2.9e+01\n"
          ],
          "name": "stdout"
        },
        {
          "output_type": "stream",
          "text": [
            ""
          ],
          "name": "stderr"
        },
        {
          "output_type": "stream",
          "text": [
            "[  41/ 200]: train loss = 7.724e+00 | test loss = 6.916e+00 | traffix score =  97.450% | rel error = 1.393e-03 depth =  50.0 | lr = 1.0e-03 | eps = 1.0e-04 | time = 2.9e+01\n",
            "Model weights saved to drive/MyDrive/NashFPNs/TrafficTrainingData/FinalResults/Eastern-Massachusetts_weights.pth\n"
          ],
          "name": "stdout"
        },
        {
          "output_type": "stream",
          "text": [
            ""
          ],
          "name": "stderr"
        },
        {
          "output_type": "stream",
          "text": [
            "[  42/ 200]: train loss = 7.488e+00 | test loss = 6.674e+00 | traffix score =  97.388% | rel error = 1.368e-03 depth =  50.0 | lr = 1.0e-03 | eps = 1.0e-04 | time = 2.9e+01\n"
          ],
          "name": "stdout"
        },
        {
          "output_type": "stream",
          "text": [
            ""
          ],
          "name": "stderr"
        },
        {
          "output_type": "stream",
          "text": [
            "[  43/ 200]: train loss = 6.377e+00 | test loss = 6.145e+00 | traffix score =  97.471% | rel error = 1.313e-03 depth =  50.0 | lr = 1.0e-03 | eps = 1.0e-04 | time = 2.9e+01\n",
            "Model weights saved to drive/MyDrive/NashFPNs/TrafficTrainingData/FinalResults/Eastern-Massachusetts_weights.pth\n"
          ],
          "name": "stdout"
        },
        {
          "output_type": "stream",
          "text": [
            ""
          ],
          "name": "stderr"
        },
        {
          "output_type": "stream",
          "text": [
            "[  44/ 200]: train loss = 6.403e+00 | test loss = 5.888e+00 | traffix score =  97.612% | rel error = 1.285e-03 depth =  50.0 | lr = 1.0e-03 | eps = 1.0e-04 | time = 2.9e+01\n",
            "Model weights saved to drive/MyDrive/NashFPNs/TrafficTrainingData/FinalResults/Eastern-Massachusetts_weights.pth\n"
          ],
          "name": "stdout"
        },
        {
          "output_type": "stream",
          "text": [
            ""
          ],
          "name": "stderr"
        },
        {
          "output_type": "stream",
          "text": [
            "[  45/ 200]: train loss = 5.595e+00 | test loss = 5.707e+00 | traffix score =  97.554% | rel error = 1.265e-03 depth =  50.0 | lr = 1.0e-03 | eps = 1.0e-04 | time = 2.9e+01\n"
          ],
          "name": "stdout"
        },
        {
          "output_type": "stream",
          "text": [
            ""
          ],
          "name": "stderr"
        },
        {
          "output_type": "stream",
          "text": [
            "[  46/ 200]: train loss = 5.892e+00 | test loss = 5.522e+00 | traffix score =  97.518% | rel error = 1.244e-03 depth =  50.0 | lr = 1.0e-03 | eps = 1.0e-04 | time = 2.9e+01\n"
          ],
          "name": "stdout"
        },
        {
          "output_type": "stream",
          "text": [
            ""
          ],
          "name": "stderr"
        },
        {
          "output_type": "stream",
          "text": [
            "[  47/ 200]: train loss = 6.499e+00 | test loss = 5.364e+00 | traffix score =  97.533% | rel error = 1.227e-03 depth =  50.0 | lr = 1.0e-03 | eps = 1.0e-04 | time = 2.9e+01\n"
          ],
          "name": "stdout"
        },
        {
          "output_type": "stream",
          "text": [
            ""
          ],
          "name": "stderr"
        },
        {
          "output_type": "stream",
          "text": [
            "[  48/ 200]: train loss = 5.428e+00 | test loss = 5.208e+00 | traffix score =  97.457% | rel error = 1.209e-03 depth =  50.0 | lr = 1.0e-03 | eps = 1.0e-04 | time = 2.9e+01\n"
          ],
          "name": "stdout"
        },
        {
          "output_type": "stream",
          "text": [
            ""
          ],
          "name": "stderr"
        },
        {
          "output_type": "stream",
          "text": [
            "[  49/ 200]: train loss = 5.563e+00 | test loss = 5.151e+00 | traffix score =  97.526% | rel error = 1.202e-03 depth =  50.0 | lr = 1.0e-03 | eps = 1.0e-04 | time = 2.9e+01\n"
          ],
          "name": "stdout"
        },
        {
          "output_type": "stream",
          "text": [
            ""
          ],
          "name": "stderr"
        },
        {
          "output_type": "stream",
          "text": [
            "[  50/ 200]: train loss = 4.861e+00 | test loss = 4.939e+00 | traffix score =  97.568% | rel error = 1.177e-03 depth =  50.0 | lr = 1.0e-03 | eps = 1.0e-04 | time = 2.9e+01\n"
          ],
          "name": "stdout"
        },
        {
          "output_type": "stream",
          "text": [
            ""
          ],
          "name": "stderr"
        },
        {
          "output_type": "stream",
          "text": [
            "[  51/ 200]: train loss = 4.449e+00 | test loss = 4.733e+00 | traffix score =  97.581% | rel error = 1.152e-03 depth =  50.0 | lr = 1.0e-03 | eps = 1.0e-04 | time = 2.9e+01\n"
          ],
          "name": "stdout"
        },
        {
          "output_type": "stream",
          "text": [
            ""
          ],
          "name": "stderr"
        },
        {
          "output_type": "stream",
          "text": [
            "[  52/ 200]: train loss = 4.794e+00 | test loss = 4.570e+00 | traffix score =  97.598% | rel error = 1.132e-03 depth =  50.0 | lr = 1.0e-03 | eps = 1.0e-04 | time = 2.9e+01\n"
          ],
          "name": "stdout"
        },
        {
          "output_type": "stream",
          "text": [
            ""
          ],
          "name": "stderr"
        },
        {
          "output_type": "stream",
          "text": [
            "[  53/ 200]: train loss = 4.609e+00 | test loss = 4.458e+00 | traffix score =  97.539% | rel error = 1.118e-03 depth =  50.0 | lr = 1.0e-03 | eps = 1.0e-04 | time = 2.9e+01\n"
          ],
          "name": "stdout"
        },
        {
          "output_type": "stream",
          "text": [
            ""
          ],
          "name": "stderr"
        },
        {
          "output_type": "stream",
          "text": [
            "[  54/ 200]: train loss = 4.443e+00 | test loss = 4.365e+00 | traffix score =  97.608% | rel error = 1.106e-03 depth =  50.0 | lr = 1.0e-03 | eps = 1.0e-04 | time = 2.9e+01\n"
          ],
          "name": "stdout"
        },
        {
          "output_type": "stream",
          "text": [
            ""
          ],
          "name": "stderr"
        },
        {
          "output_type": "stream",
          "text": [
            "[  55/ 200]: train loss = 3.932e+00 | test loss = 4.297e+00 | traffix score =  97.676% | rel error = 1.098e-03 depth =  50.0 | lr = 1.0e-03 | eps = 1.0e-04 | time = 2.9e+01\n",
            "Model weights saved to drive/MyDrive/NashFPNs/TrafficTrainingData/FinalResults/Eastern-Massachusetts_weights.pth\n"
          ],
          "name": "stdout"
        },
        {
          "output_type": "stream",
          "text": [
            ""
          ],
          "name": "stderr"
        },
        {
          "output_type": "stream",
          "text": [
            "[  56/ 200]: train loss = 4.421e+00 | test loss = 4.181e+00 | traffix score =  97.637% | rel error = 1.083e-03 depth =  50.0 | lr = 1.0e-03 | eps = 1.0e-04 | time = 2.9e+01\n"
          ],
          "name": "stdout"
        },
        {
          "output_type": "stream",
          "text": [
            ""
          ],
          "name": "stderr"
        },
        {
          "output_type": "stream",
          "text": [
            "[  57/ 200]: train loss = 4.205e+00 | test loss = 4.060e+00 | traffix score =  97.623% | rel error = 1.067e-03 depth =  50.0 | lr = 1.0e-03 | eps = 1.0e-04 | time = 2.9e+01\n"
          ],
          "name": "stdout"
        },
        {
          "output_type": "stream",
          "text": [
            ""
          ],
          "name": "stderr"
        },
        {
          "output_type": "stream",
          "text": [
            "[  58/ 200]: train loss = 3.999e+00 | test loss = 3.950e+00 | traffix score =  97.645% | rel error = 1.052e-03 depth =  50.0 | lr = 1.0e-03 | eps = 1.0e-04 | time = 2.9e+01\n"
          ],
          "name": "stdout"
        },
        {
          "output_type": "stream",
          "text": [
            ""
          ],
          "name": "stderr"
        },
        {
          "output_type": "stream",
          "text": [
            "[  59/ 200]: train loss = 4.265e+00 | test loss = 3.860e+00 | traffix score =  97.662% | rel error = 1.040e-03 depth =  50.0 | lr = 1.0e-03 | eps = 1.0e-04 | time = 2.9e+01\n"
          ],
          "name": "stdout"
        },
        {
          "output_type": "stream",
          "text": [
            ""
          ],
          "name": "stderr"
        },
        {
          "output_type": "stream",
          "text": [
            "[  60/ 200]: train loss = 4.326e+00 | test loss = 3.810e+00 | traffix score =  97.574% | rel error = 1.034e-03 depth =  50.0 | lr = 1.0e-03 | eps = 1.0e-04 | time = 2.9e+01\n"
          ],
          "name": "stdout"
        },
        {
          "output_type": "stream",
          "text": [
            ""
          ],
          "name": "stderr"
        },
        {
          "output_type": "stream",
          "text": [
            "[  61/ 200]: train loss = 3.352e+00 | test loss = 3.689e+00 | traffix score =  97.619% | rel error = 1.017e-03 depth =  50.0 | lr = 1.0e-03 | eps = 1.0e-04 | time = 2.9e+01\n"
          ],
          "name": "stdout"
        },
        {
          "output_type": "stream",
          "text": [
            ""
          ],
          "name": "stderr"
        },
        {
          "output_type": "stream",
          "text": [
            "[  62/ 200]: train loss = 3.385e+00 | test loss = 3.607e+00 | traffix score =  97.649% | rel error = 1.006e-03 depth =  50.0 | lr = 1.0e-03 | eps = 1.0e-04 | time = 2.9e+01\n"
          ],
          "name": "stdout"
        },
        {
          "output_type": "stream",
          "text": [
            ""
          ],
          "name": "stderr"
        },
        {
          "output_type": "stream",
          "text": [
            "[  63/ 200]: train loss = 2.901e+00 | test loss = 3.562e+00 | traffix score =  97.619% | rel error = 9.994e-04 depth =  50.0 | lr = 1.0e-03 | eps = 1.0e-04 | time = 2.9e+01\n"
          ],
          "name": "stdout"
        },
        {
          "output_type": "stream",
          "text": [
            ""
          ],
          "name": "stderr"
        },
        {
          "output_type": "stream",
          "text": [
            "[  64/ 200]: train loss = 3.892e+00 | test loss = 3.448e+00 | traffix score =  97.604% | rel error = 9.834e-04 depth =  50.0 | lr = 1.0e-03 | eps = 1.0e-04 | time = 2.9e+01\n"
          ],
          "name": "stdout"
        },
        {
          "output_type": "stream",
          "text": [
            ""
          ],
          "name": "stderr"
        },
        {
          "output_type": "stream",
          "text": [
            "[  65/ 200]: train loss = 3.164e+00 | test loss = 3.340e+00 | traffix score =  97.668% | rel error = 9.679e-04 depth =  50.0 | lr = 1.0e-03 | eps = 1.0e-04 | time = 2.9e+01\n"
          ],
          "name": "stdout"
        },
        {
          "output_type": "stream",
          "text": [
            ""
          ],
          "name": "stderr"
        },
        {
          "output_type": "stream",
          "text": [
            "[  66/ 200]: train loss = 3.340e+00 | test loss = 3.305e+00 | traffix score =  97.678% | rel error = 9.628e-04 depth =  50.0 | lr = 1.0e-03 | eps = 1.0e-04 | time = 2.9e+01\n",
            "Model weights saved to drive/MyDrive/NashFPNs/TrafficTrainingData/FinalResults/Eastern-Massachusetts_weights.pth\n"
          ],
          "name": "stdout"
        },
        {
          "output_type": "stream",
          "text": [
            ""
          ],
          "name": "stderr"
        },
        {
          "output_type": "stream",
          "text": [
            "[  67/ 200]: train loss = 3.519e+00 | test loss = 3.301e+00 | traffix score =  97.691% | rel error = 9.622e-04 depth =  50.0 | lr = 1.0e-03 | eps = 1.0e-04 | time = 2.9e+01\n",
            "Model weights saved to drive/MyDrive/NashFPNs/TrafficTrainingData/FinalResults/Eastern-Massachusetts_weights.pth\n"
          ],
          "name": "stdout"
        },
        {
          "output_type": "stream",
          "text": [
            ""
          ],
          "name": "stderr"
        },
        {
          "output_type": "stream",
          "text": [
            "[  68/ 200]: train loss = 3.411e+00 | test loss = 3.155e+00 | traffix score =  97.705% | rel error = 9.407e-04 depth =  50.0 | lr = 1.0e-03 | eps = 1.0e-04 | time = 2.9e+01\n",
            "Model weights saved to drive/MyDrive/NashFPNs/TrafficTrainingData/FinalResults/Eastern-Massachusetts_weights.pth\n"
          ],
          "name": "stdout"
        },
        {
          "output_type": "stream",
          "text": [
            ""
          ],
          "name": "stderr"
        },
        {
          "output_type": "stream",
          "text": [
            "[  69/ 200]: train loss = 3.431e+00 | test loss = 3.200e+00 | traffix score =  97.679% | rel error = 9.473e-04 depth =  50.0 | lr = 1.0e-03 | eps = 1.0e-04 | time = 2.9e+01\n"
          ],
          "name": "stdout"
        },
        {
          "output_type": "stream",
          "text": [
            ""
          ],
          "name": "stderr"
        },
        {
          "output_type": "stream",
          "text": [
            "[  70/ 200]: train loss = 2.614e+00 | test loss = 3.052e+00 | traffix score =  97.674% | rel error = 9.251e-04 depth =  50.0 | lr = 1.0e-03 | eps = 1.0e-04 | time = 2.9e+01\n"
          ],
          "name": "stdout"
        },
        {
          "output_type": "stream",
          "text": [
            ""
          ],
          "name": "stderr"
        },
        {
          "output_type": "stream",
          "text": [
            "[  71/ 200]: train loss = 3.222e+00 | test loss = 3.032e+00 | traffix score =  97.726% | rel error = 9.221e-04 depth =  50.0 | lr = 1.0e-03 | eps = 1.0e-04 | time = 2.9e+01\n",
            "Model weights saved to drive/MyDrive/NashFPNs/TrafficTrainingData/FinalResults/Eastern-Massachusetts_weights.pth\n"
          ],
          "name": "stdout"
        },
        {
          "output_type": "stream",
          "text": [
            ""
          ],
          "name": "stderr"
        },
        {
          "output_type": "stream",
          "text": [
            "[  72/ 200]: train loss = 2.618e+00 | test loss = 3.037e+00 | traffix score =  97.626% | rel error = 9.228e-04 depth =  50.0 | lr = 1.0e-03 | eps = 1.0e-04 | time = 2.9e+01\n"
          ],
          "name": "stdout"
        },
        {
          "output_type": "stream",
          "text": [
            ""
          ],
          "name": "stderr"
        },
        {
          "output_type": "stream",
          "text": [
            "[  73/ 200]: train loss = 2.651e+00 | test loss = 2.860e+00 | traffix score =  97.557% | rel error = 8.955e-04 depth =  50.0 | lr = 1.0e-03 | eps = 1.0e-04 | time = 2.9e+01\n"
          ],
          "name": "stdout"
        },
        {
          "output_type": "stream",
          "text": [
            ""
          ],
          "name": "stderr"
        },
        {
          "output_type": "stream",
          "text": [
            "[  74/ 200]: train loss = 3.149e+00 | test loss = 2.784e+00 | traffix score =  97.561% | rel error = 8.837e-04 depth =  50.0 | lr = 1.0e-03 | eps = 1.0e-04 | time = 2.9e+01\n"
          ],
          "name": "stdout"
        },
        {
          "output_type": "stream",
          "text": [
            ""
          ],
          "name": "stderr"
        },
        {
          "output_type": "stream",
          "text": [
            "[  75/ 200]: train loss = 3.099e+00 | test loss = 2.834e+00 | traffix score =  97.587% | rel error = 8.915e-04 depth =  50.0 | lr = 1.0e-03 | eps = 1.0e-04 | time = 2.9e+01\n"
          ],
          "name": "stdout"
        },
        {
          "output_type": "stream",
          "text": [
            ""
          ],
          "name": "stderr"
        },
        {
          "output_type": "stream",
          "text": [
            "[  76/ 200]: train loss = 2.796e+00 | test loss = 2.666e+00 | traffix score =  97.556% | rel error = 8.647e-04 depth =  50.0 | lr = 1.0e-03 | eps = 1.0e-04 | time = 2.9e+01\n"
          ],
          "name": "stdout"
        },
        {
          "output_type": "stream",
          "text": [
            ""
          ],
          "name": "stderr"
        },
        {
          "output_type": "stream",
          "text": [
            "[  77/ 200]: train loss = 2.786e+00 | test loss = 2.701e+00 | traffix score =  97.604% | rel error = 8.704e-04 depth =  50.0 | lr = 1.0e-03 | eps = 1.0e-04 | time = 2.9e+01\n"
          ],
          "name": "stdout"
        },
        {
          "output_type": "stream",
          "text": [
            ""
          ],
          "name": "stderr"
        },
        {
          "output_type": "stream",
          "text": [
            "[  78/ 200]: train loss = 2.586e+00 | test loss = 2.678e+00 | traffix score =  97.788% | rel error = 8.666e-04 depth =  50.0 | lr = 1.0e-03 | eps = 1.0e-04 | time = 2.9e+01\n",
            "Model weights saved to drive/MyDrive/NashFPNs/TrafficTrainingData/FinalResults/Eastern-Massachusetts_weights.pth\n"
          ],
          "name": "stdout"
        },
        {
          "output_type": "stream",
          "text": [
            ""
          ],
          "name": "stderr"
        },
        {
          "output_type": "stream",
          "text": [
            "[  79/ 200]: train loss = 2.668e+00 | test loss = 2.581e+00 | traffix score =  97.713% | rel error = 8.508e-04 depth =  50.0 | lr = 1.0e-03 | eps = 1.0e-04 | time = 2.9e+01\n"
          ],
          "name": "stdout"
        },
        {
          "output_type": "stream",
          "text": [
            ""
          ],
          "name": "stderr"
        },
        {
          "output_type": "stream",
          "text": [
            "[  80/ 200]: train loss = 2.053e+00 | test loss = 2.429e+00 | traffix score =  97.773% | rel error = 8.254e-04 depth =  50.0 | lr = 1.0e-03 | eps = 1.0e-04 | time = 2.9e+01\n"
          ],
          "name": "stdout"
        },
        {
          "output_type": "stream",
          "text": [
            ""
          ],
          "name": "stderr"
        },
        {
          "output_type": "stream",
          "text": [
            "[  81/ 200]: train loss = 2.497e+00 | test loss = 2.750e+00 | traffix score =  97.741% | rel error = 8.782e-04 depth =  50.0 | lr = 1.0e-03 | eps = 1.0e-04 | time = 2.9e+01\n"
          ],
          "name": "stdout"
        },
        {
          "output_type": "stream",
          "text": [
            ""
          ],
          "name": "stderr"
        },
        {
          "output_type": "stream",
          "text": [
            "[  82/ 200]: train loss = 2.115e+00 | test loss = 2.327e+00 | traffix score =  97.790% | rel error = 8.078e-04 depth =  50.0 | lr = 1.0e-03 | eps = 1.0e-04 | time = 2.9e+01\n",
            "Model weights saved to drive/MyDrive/NashFPNs/TrafficTrainingData/FinalResults/Eastern-Massachusetts_weights.pth\n"
          ],
          "name": "stdout"
        },
        {
          "output_type": "stream",
          "text": [
            ""
          ],
          "name": "stderr"
        },
        {
          "output_type": "stream",
          "text": [
            "[  83/ 200]: train loss = 2.078e+00 | test loss = 2.307e+00 | traffix score =  97.803% | rel error = 8.043e-04 depth =  50.0 | lr = 1.0e-03 | eps = 1.0e-04 | time = 2.9e+01\n",
            "Model weights saved to drive/MyDrive/NashFPNs/TrafficTrainingData/FinalResults/Eastern-Massachusetts_weights.pth\n"
          ],
          "name": "stdout"
        },
        {
          "output_type": "stream",
          "text": [
            ""
          ],
          "name": "stderr"
        },
        {
          "output_type": "stream",
          "text": [
            "[  84/ 200]: train loss = 1.756e+00 | test loss = 2.232e+00 | traffix score =  97.838% | rel error = 7.912e-04 depth =  50.0 | lr = 1.0e-03 | eps = 1.0e-04 | time = 2.9e+01\n",
            "Model weights saved to drive/MyDrive/NashFPNs/TrafficTrainingData/FinalResults/Eastern-Massachusetts_weights.pth\n"
          ],
          "name": "stdout"
        },
        {
          "output_type": "stream",
          "text": [
            ""
          ],
          "name": "stderr"
        },
        {
          "output_type": "stream",
          "text": [
            "[  85/ 200]: train loss = 2.100e+00 | test loss = 2.202e+00 | traffix score =  97.816% | rel error = 7.858e-04 depth =  50.0 | lr = 1.0e-03 | eps = 1.0e-04 | time = 2.9e+01\n"
          ],
          "name": "stdout"
        },
        {
          "output_type": "stream",
          "text": [
            ""
          ],
          "name": "stderr"
        },
        {
          "output_type": "stream",
          "text": [
            "[  86/ 200]: train loss = 2.342e+00 | test loss = 2.175e+00 | traffix score =  97.809% | rel error = 7.811e-04 depth =  50.0 | lr = 1.0e-03 | eps = 1.0e-04 | time = 2.9e+01\n"
          ],
          "name": "stdout"
        },
        {
          "output_type": "stream",
          "text": [
            ""
          ],
          "name": "stderr"
        },
        {
          "output_type": "stream",
          "text": [
            "[  87/ 200]: train loss = 1.967e+00 | test loss = 2.110e+00 | traffix score =  97.777% | rel error = 7.692e-04 depth =  50.0 | lr = 1.0e-03 | eps = 1.0e-04 | time = 2.9e+01\n"
          ],
          "name": "stdout"
        },
        {
          "output_type": "stream",
          "text": [
            ""
          ],
          "name": "stderr"
        },
        {
          "output_type": "stream",
          "text": [
            "[  88/ 200]: train loss = 2.178e+00 | test loss = 2.098e+00 | traffix score =  97.809% | rel error = 7.670e-04 depth =  50.0 | lr = 1.0e-03 | eps = 1.0e-04 | time = 2.9e+01\n"
          ],
          "name": "stdout"
        },
        {
          "output_type": "stream",
          "text": [
            ""
          ],
          "name": "stderr"
        },
        {
          "output_type": "stream",
          "text": [
            "[  89/ 200]: train loss = 2.155e+00 | test loss = 2.087e+00 | traffix score =  97.733% | rel error = 7.651e-04 depth =  50.0 | lr = 1.0e-03 | eps = 1.0e-04 | time = 2.9e+01\n"
          ],
          "name": "stdout"
        },
        {
          "output_type": "stream",
          "text": [
            ""
          ],
          "name": "stderr"
        },
        {
          "output_type": "stream",
          "text": [
            "[  90/ 200]: train loss = 1.808e+00 | test loss = 2.042e+00 | traffix score =  97.854% | rel error = 7.567e-04 depth =  50.0 | lr = 1.0e-03 | eps = 1.0e-04 | time = 2.9e+01\n",
            "Model weights saved to drive/MyDrive/NashFPNs/TrafficTrainingData/FinalResults/Eastern-Massachusetts_weights.pth\n"
          ],
          "name": "stdout"
        },
        {
          "output_type": "stream",
          "text": [
            ""
          ],
          "name": "stderr"
        },
        {
          "output_type": "stream",
          "text": [
            "[  91/ 200]: train loss = 1.796e+00 | test loss = 2.021e+00 | traffix score =  97.785% | rel error = 7.528e-04 depth =  50.0 | lr = 1.0e-03 | eps = 1.0e-04 | time = 2.9e+01\n"
          ],
          "name": "stdout"
        },
        {
          "output_type": "stream",
          "text": [
            ""
          ],
          "name": "stderr"
        },
        {
          "output_type": "stream",
          "text": [
            "[  92/ 200]: train loss = 1.634e+00 | test loss = 1.951e+00 | traffix score =  97.744% | rel error = 7.398e-04 depth =  50.0 | lr = 1.0e-03 | eps = 1.0e-04 | time = 2.9e+01\n"
          ],
          "name": "stdout"
        },
        {
          "output_type": "stream",
          "text": [
            ""
          ],
          "name": "stderr"
        },
        {
          "output_type": "stream",
          "text": [
            "[  93/ 200]: train loss = 2.279e+00 | test loss = 1.899e+00 | traffix score =  97.813% | rel error = 7.299e-04 depth =  50.0 | lr = 1.0e-03 | eps = 1.0e-04 | time = 2.9e+01\n"
          ],
          "name": "stdout"
        },
        {
          "output_type": "stream",
          "text": [
            ""
          ],
          "name": "stderr"
        },
        {
          "output_type": "stream",
          "text": [
            "[  94/ 200]: train loss = 2.297e+00 | test loss = 1.927e+00 | traffix score =  97.798% | rel error = 7.352e-04 depth =  50.0 | lr = 1.0e-03 | eps = 1.0e-04 | time = 2.9e+01\n"
          ],
          "name": "stdout"
        },
        {
          "output_type": "stream",
          "text": [
            ""
          ],
          "name": "stderr"
        },
        {
          "output_type": "stream",
          "text": [
            "[  95/ 200]: train loss = 2.264e+00 | test loss = 1.923e+00 | traffix score =  97.805% | rel error = 7.345e-04 depth =  50.0 | lr = 1.0e-03 | eps = 1.0e-04 | time = 2.9e+01\n"
          ],
          "name": "stdout"
        },
        {
          "output_type": "stream",
          "text": [
            ""
          ],
          "name": "stderr"
        },
        {
          "output_type": "stream",
          "text": [
            "[  96/ 200]: train loss = 1.874e+00 | test loss = 1.819e+00 | traffix score =  97.702% | rel error = 7.142e-04 depth =  50.0 | lr = 1.0e-03 | eps = 1.0e-04 | time = 2.9e+01\n"
          ],
          "name": "stdout"
        },
        {
          "output_type": "stream",
          "text": [
            ""
          ],
          "name": "stderr"
        },
        {
          "output_type": "stream",
          "text": [
            "[  97/ 200]: train loss = 1.523e+00 | test loss = 1.810e+00 | traffix score =  97.718% | rel error = 7.124e-04 depth =  50.0 | lr = 1.0e-03 | eps = 1.0e-04 | time = 2.9e+01\n"
          ],
          "name": "stdout"
        },
        {
          "output_type": "stream",
          "text": [
            ""
          ],
          "name": "stderr"
        },
        {
          "output_type": "stream",
          "text": [
            "[  98/ 200]: train loss = 1.997e+00 | test loss = 1.765e+00 | traffix score =  97.800% | rel error = 7.035e-04 depth =  50.0 | lr = 1.0e-03 | eps = 1.0e-04 | time = 2.9e+01\n"
          ],
          "name": "stdout"
        },
        {
          "output_type": "stream",
          "text": [
            ""
          ],
          "name": "stderr"
        },
        {
          "output_type": "stream",
          "text": [
            "[  99/ 200]: train loss = 1.870e+00 | test loss = 1.741e+00 | traffix score =  97.823% | rel error = 6.988e-04 depth =  50.0 | lr = 1.0e-03 | eps = 1.0e-04 | time = 2.9e+01\n"
          ],
          "name": "stdout"
        },
        {
          "output_type": "stream",
          "text": [
            ""
          ],
          "name": "stderr"
        },
        {
          "output_type": "stream",
          "text": [
            "[ 100/ 200]: train loss = 1.648e+00 | test loss = 1.750e+00 | traffix score =  97.789% | rel error = 7.005e-04 depth =  50.0 | lr = 1.0e-03 | eps = 1.0e-04 | time = 2.9e+01\n"
          ],
          "name": "stdout"
        },
        {
          "output_type": "stream",
          "text": [
            ""
          ],
          "name": "stderr"
        },
        {
          "output_type": "stream",
          "text": [
            "[ 101/ 200]: train loss = 1.843e+00 | test loss = 1.705e+00 | traffix score =  97.881% | rel error = 6.914e-04 depth =  50.0 | lr = 1.0e-03 | eps = 1.0e-04 | time = 2.9e+01\n",
            "Model weights saved to drive/MyDrive/NashFPNs/TrafficTrainingData/FinalResults/Eastern-Massachusetts_weights.pth\n"
          ],
          "name": "stdout"
        },
        {
          "output_type": "stream",
          "text": [
            ""
          ],
          "name": "stderr"
        },
        {
          "output_type": "stream",
          "text": [
            "[ 102/ 200]: train loss = 1.786e+00 | test loss = 1.720e+00 | traffix score =  97.822% | rel error = 6.944e-04 depth =  50.0 | lr = 1.0e-03 | eps = 1.0e-04 | time = 2.9e+01\n"
          ],
          "name": "stdout"
        },
        {
          "output_type": "stream",
          "text": [
            ""
          ],
          "name": "stderr"
        },
        {
          "output_type": "stream",
          "text": [
            "[ 103/ 200]: train loss = 1.795e+00 | test loss = 1.618e+00 | traffix score =  97.753% | rel error = 6.737e-04 depth =  50.0 | lr = 1.0e-03 | eps = 1.0e-04 | time = 2.9e+01\n"
          ],
          "name": "stdout"
        },
        {
          "output_type": "stream",
          "text": [
            ""
          ],
          "name": "stderr"
        },
        {
          "output_type": "stream",
          "text": [
            "[ 104/ 200]: train loss = 1.318e+00 | test loss = 1.603e+00 | traffix score =  97.709% | rel error = 6.704e-04 depth =  50.0 | lr = 1.0e-03 | eps = 1.0e-04 | time = 2.9e+01\n"
          ],
          "name": "stdout"
        },
        {
          "output_type": "stream",
          "text": [
            ""
          ],
          "name": "stderr"
        },
        {
          "output_type": "stream",
          "text": [
            "[ 105/ 200]: train loss = 1.431e+00 | test loss = 1.614e+00 | traffix score =  97.778% | rel error = 6.727e-04 depth =  50.0 | lr = 1.0e-03 | eps = 1.0e-04 | time = 2.9e+01\n"
          ],
          "name": "stdout"
        },
        {
          "output_type": "stream",
          "text": [
            ""
          ],
          "name": "stderr"
        },
        {
          "output_type": "stream",
          "text": [
            "[ 106/ 200]: train loss = 2.019e+00 | test loss = 1.558e+00 | traffix score =  97.870% | rel error = 6.611e-04 depth =  50.0 | lr = 1.0e-03 | eps = 1.0e-04 | time = 2.9e+01\n"
          ],
          "name": "stdout"
        },
        {
          "output_type": "stream",
          "text": [
            ""
          ],
          "name": "stderr"
        },
        {
          "output_type": "stream",
          "text": [
            "[ 107/ 200]: train loss = 1.735e+00 | test loss = 1.557e+00 | traffix score =  97.905% | rel error = 6.609e-04 depth =  50.0 | lr = 1.0e-03 | eps = 1.0e-04 | time = 2.9e+01\n",
            "Model weights saved to drive/MyDrive/NashFPNs/TrafficTrainingData/FinalResults/Eastern-Massachusetts_weights.pth\n"
          ],
          "name": "stdout"
        },
        {
          "output_type": "stream",
          "text": [
            ""
          ],
          "name": "stderr"
        },
        {
          "output_type": "stream",
          "text": [
            "[ 108/ 200]: train loss = 1.547e+00 | test loss = 1.571e+00 | traffix score =  97.765% | rel error = 6.639e-04 depth =  50.0 | lr = 1.0e-03 | eps = 1.0e-04 | time = 2.9e+01\n"
          ],
          "name": "stdout"
        },
        {
          "output_type": "stream",
          "text": [
            ""
          ],
          "name": "stderr"
        },
        {
          "output_type": "stream",
          "text": [
            "[ 109/ 200]: train loss = 1.340e+00 | test loss = 1.537e+00 | traffix score =  97.750% | rel error = 6.566e-04 depth =  50.0 | lr = 1.0e-03 | eps = 1.0e-04 | time = 2.9e+01\n"
          ],
          "name": "stdout"
        },
        {
          "output_type": "stream",
          "text": [
            ""
          ],
          "name": "stderr"
        },
        {
          "output_type": "stream",
          "text": [
            "[ 110/ 200]: train loss = 1.709e+00 | test loss = 1.459e+00 | traffix score =  97.926% | rel error = 6.398e-04 depth =  50.0 | lr = 1.0e-03 | eps = 1.0e-04 | time = 2.9e+01\n",
            "Model weights saved to drive/MyDrive/NashFPNs/TrafficTrainingData/FinalResults/Eastern-Massachusetts_weights.pth\n"
          ],
          "name": "stdout"
        },
        {
          "output_type": "stream",
          "text": [
            ""
          ],
          "name": "stderr"
        },
        {
          "output_type": "stream",
          "text": [
            "[ 111/ 200]: train loss = 1.535e+00 | test loss = 1.484e+00 | traffix score =  97.738% | rel error = 6.451e-04 depth =  50.0 | lr = 1.0e-03 | eps = 1.0e-04 | time = 2.9e+01\n"
          ],
          "name": "stdout"
        },
        {
          "output_type": "stream",
          "text": [
            ""
          ],
          "name": "stderr"
        },
        {
          "output_type": "stream",
          "text": [
            "[ 112/ 200]: train loss = 1.233e+00 | test loss = 1.454e+00 | traffix score =  97.805% | rel error = 6.386e-04 depth =  50.0 | lr = 1.0e-03 | eps = 1.0e-04 | time = 2.9e+01\n"
          ],
          "name": "stdout"
        },
        {
          "output_type": "stream",
          "text": [
            ""
          ],
          "name": "stderr"
        },
        {
          "output_type": "stream",
          "text": [
            "[ 113/ 200]: train loss = 1.677e+00 | test loss = 1.632e+00 | traffix score =  97.792% | rel error = 6.766e-04 depth =  50.0 | lr = 1.0e-03 | eps = 1.0e-04 | time = 2.9e+01\n"
          ],
          "name": "stdout"
        },
        {
          "output_type": "stream",
          "text": [
            ""
          ],
          "name": "stderr"
        },
        {
          "output_type": "stream",
          "text": [
            "[ 114/ 200]: train loss = 1.640e+00 | test loss = 1.676e+00 | traffix score =  97.684% | rel error = 6.855e-04 depth =  50.0 | lr = 1.0e-03 | eps = 1.0e-04 | time = 2.9e+01\n"
          ],
          "name": "stdout"
        },
        {
          "output_type": "stream",
          "text": [
            ""
          ],
          "name": "stderr"
        },
        {
          "output_type": "stream",
          "text": [
            "[ 115/ 200]: train loss = 1.162e+00 | test loss = 1.502e+00 | traffix score =  97.733% | rel error = 6.490e-04 depth =  50.0 | lr = 1.0e-03 | eps = 1.0e-04 | time = 2.9e+01\n"
          ],
          "name": "stdout"
        },
        {
          "output_type": "stream",
          "text": [
            ""
          ],
          "name": "stderr"
        },
        {
          "output_type": "stream",
          "text": [
            "[ 116/ 200]: train loss = 1.300e+00 | test loss = 1.456e+00 | traffix score =  97.751% | rel error = 6.389e-04 depth =  50.0 | lr = 1.0e-03 | eps = 1.0e-04 | time = 2.9e+01\n"
          ],
          "name": "stdout"
        },
        {
          "output_type": "stream",
          "text": [
            ""
          ],
          "name": "stderr"
        },
        {
          "output_type": "stream",
          "text": [
            "[ 117/ 200]: train loss = 1.614e+00 | test loss = 1.412e+00 | traffix score =  97.771% | rel error = 6.294e-04 depth =  50.0 | lr = 1.0e-03 | eps = 1.0e-04 | time = 2.9e+01\n"
          ],
          "name": "stdout"
        },
        {
          "output_type": "stream",
          "text": [
            ""
          ],
          "name": "stderr"
        },
        {
          "output_type": "stream",
          "text": [
            "[ 118/ 200]: train loss = 1.278e+00 | test loss = 1.363e+00 | traffix score =  97.772% | rel error = 6.184e-04 depth =  50.0 | lr = 1.0e-03 | eps = 1.0e-04 | time = 2.9e+01\n"
          ],
          "name": "stdout"
        },
        {
          "output_type": "stream",
          "text": [
            ""
          ],
          "name": "stderr"
        },
        {
          "output_type": "stream",
          "text": [
            "[ 119/ 200]: train loss = 1.034e+00 | test loss = 1.333e+00 | traffix score =  97.840% | rel error = 6.113e-04 depth =  50.0 | lr = 1.0e-03 | eps = 1.0e-04 | time = 2.9e+01\n"
          ],
          "name": "stdout"
        },
        {
          "output_type": "stream",
          "text": [
            ""
          ],
          "name": "stderr"
        },
        {
          "output_type": "stream",
          "text": [
            "[ 120/ 200]: train loss = 1.193e+00 | test loss = 1.360e+00 | traffix score =  97.721% | rel error = 6.175e-04 depth =  50.0 | lr = 1.0e-03 | eps = 1.0e-04 | time = 2.9e+01\n"
          ],
          "name": "stdout"
        },
        {
          "output_type": "stream",
          "text": [
            ""
          ],
          "name": "stderr"
        },
        {
          "output_type": "stream",
          "text": [
            "[ 121/ 200]: train loss = 9.690e-01 | test loss = 1.370e+00 | traffix score =  97.764% | rel error = 6.199e-04 depth =  50.0 | lr = 1.0e-03 | eps = 1.0e-04 | time = 2.9e+01\n"
          ],
          "name": "stdout"
        },
        {
          "output_type": "stream",
          "text": [
            ""
          ],
          "name": "stderr"
        },
        {
          "output_type": "stream",
          "text": [
            "[ 122/ 200]: train loss = 1.499e+00 | test loss = 1.404e+00 | traffix score =  97.755% | rel error = 6.275e-04 depth =  50.0 | lr = 1.0e-03 | eps = 1.0e-04 | time = 2.9e+01\n"
          ],
          "name": "stdout"
        },
        {
          "output_type": "stream",
          "text": [
            ""
          ],
          "name": "stderr"
        },
        {
          "output_type": "stream",
          "text": [
            "[ 123/ 200]: train loss = 1.187e+00 | test loss = 1.302e+00 | traffix score =  97.749% | rel error = 6.042e-04 depth =  50.0 | lr = 1.0e-03 | eps = 1.0e-04 | time = 2.9e+01\n"
          ],
          "name": "stdout"
        },
        {
          "output_type": "stream",
          "text": [
            ""
          ],
          "name": "stderr"
        },
        {
          "output_type": "stream",
          "text": [
            "[ 124/ 200]: train loss = 1.063e+00 | test loss = 1.354e+00 | traffix score =  97.725% | rel error = 6.163e-04 depth =  50.0 | lr = 1.0e-03 | eps = 1.0e-04 | time = 2.9e+01\n"
          ],
          "name": "stdout"
        },
        {
          "output_type": "stream",
          "text": [
            ""
          ],
          "name": "stderr"
        },
        {
          "output_type": "stream",
          "text": [
            "[ 125/ 200]: train loss = 1.216e+00 | test loss = 1.257e+00 | traffix score =  97.850% | rel error = 5.937e-04 depth =  50.0 | lr = 1.0e-03 | eps = 1.0e-04 | time = 2.9e+01\n"
          ],
          "name": "stdout"
        },
        {
          "output_type": "stream",
          "text": [
            ""
          ],
          "name": "stderr"
        },
        {
          "output_type": "stream",
          "text": [
            "[ 126/ 200]: train loss = 1.088e+00 | test loss = 1.331e+00 | traffix score =  97.732% | rel error = 6.109e-04 depth =  50.0 | lr = 1.0e-03 | eps = 1.0e-04 | time = 2.9e+01\n"
          ],
          "name": "stdout"
        },
        {
          "output_type": "stream",
          "text": [
            ""
          ],
          "name": "stderr"
        },
        {
          "output_type": "stream",
          "text": [
            "[ 127/ 200]: train loss = 9.149e-01 | test loss = 1.253e+00 | traffix score =  97.847% | rel error = 5.927e-04 depth =  50.0 | lr = 1.0e-03 | eps = 1.0e-04 | time = 2.9e+01\n"
          ],
          "name": "stdout"
        },
        {
          "output_type": "stream",
          "text": [
            ""
          ],
          "name": "stderr"
        },
        {
          "output_type": "stream",
          "text": [
            "[ 128/ 200]: train loss = 8.835e-01 | test loss = 1.254e+00 | traffix score =  97.813% | rel error = 5.931e-04 depth =  50.0 | lr = 1.0e-03 | eps = 1.0e-04 | time = 2.9e+01\n"
          ],
          "name": "stdout"
        },
        {
          "output_type": "stream",
          "text": [
            ""
          ],
          "name": "stderr"
        },
        {
          "output_type": "stream",
          "text": [
            "[ 129/ 200]: train loss = 1.448e+00 | test loss = 1.220e+00 | traffix score =  97.857% | rel error = 5.849e-04 depth =  50.0 | lr = 1.0e-03 | eps = 1.0e-04 | time = 2.9e+01\n"
          ],
          "name": "stdout"
        },
        {
          "output_type": "stream",
          "text": [
            ""
          ],
          "name": "stderr"
        },
        {
          "output_type": "stream",
          "text": [
            "[ 130/ 200]: train loss = 1.175e+00 | test loss = 1.326e+00 | traffix score =  97.884% | rel error = 6.098e-04 depth =  50.0 | lr = 1.0e-03 | eps = 1.0e-04 | time = 2.9e+01\n"
          ],
          "name": "stdout"
        },
        {
          "output_type": "stream",
          "text": [
            ""
          ],
          "name": "stderr"
        },
        {
          "output_type": "stream",
          "text": [
            "[ 131/ 200]: train loss = 1.011e+00 | test loss = 1.226e+00 | traffix score =  97.733% | rel error = 5.864e-04 depth =  50.0 | lr = 1.0e-03 | eps = 1.0e-04 | time = 2.9e+01\n"
          ],
          "name": "stdout"
        },
        {
          "output_type": "stream",
          "text": [
            ""
          ],
          "name": "stderr"
        },
        {
          "output_type": "stream",
          "text": [
            "[ 132/ 200]: train loss = 1.020e+00 | test loss = 1.247e+00 | traffix score =  97.778% | rel error = 5.914e-04 depth =  50.0 | lr = 1.0e-03 | eps = 1.0e-04 | time = 2.9e+01\n"
          ],
          "name": "stdout"
        },
        {
          "output_type": "stream",
          "text": [
            ""
          ],
          "name": "stderr"
        },
        {
          "output_type": "stream",
          "text": [
            "[ 133/ 200]: train loss = 1.146e+00 | test loss = 1.157e+00 | traffix score =  97.798% | rel error = 5.697e-04 depth =  50.0 | lr = 1.0e-03 | eps = 1.0e-04 | time = 2.9e+01\n"
          ],
          "name": "stdout"
        },
        {
          "output_type": "stream",
          "text": [
            ""
          ],
          "name": "stderr"
        },
        {
          "output_type": "stream",
          "text": [
            "[ 134/ 200]: train loss = 1.042e+00 | test loss = 1.148e+00 | traffix score =  97.884% | rel error = 5.674e-04 depth =  50.0 | lr = 1.0e-03 | eps = 1.0e-04 | time = 2.9e+01\n"
          ],
          "name": "stdout"
        },
        {
          "output_type": "stream",
          "text": [
            ""
          ],
          "name": "stderr"
        },
        {
          "output_type": "stream",
          "text": [
            "[ 135/ 200]: train loss = 1.004e+00 | test loss = 1.335e+00 | traffix score =  97.702% | rel error = 6.120e-04 depth =  50.0 | lr = 1.0e-03 | eps = 1.0e-04 | time = 2.9e+01\n"
          ],
          "name": "stdout"
        },
        {
          "output_type": "stream",
          "text": [
            ""
          ],
          "name": "stderr"
        },
        {
          "output_type": "stream",
          "text": [
            "[ 136/ 200]: train loss = 1.142e+00 | test loss = 1.271e+00 | traffix score =  97.881% | rel error = 5.970e-04 depth =  50.0 | lr = 1.0e-03 | eps = 1.0e-04 | time = 2.9e+01\n"
          ],
          "name": "stdout"
        },
        {
          "output_type": "stream",
          "text": [
            ""
          ],
          "name": "stderr"
        },
        {
          "output_type": "stream",
          "text": [
            "[ 137/ 200]: train loss = 7.476e-01 | test loss = 1.182e+00 | traffix score =  97.806% | rel error = 5.757e-04 depth =  50.0 | lr = 1.0e-03 | eps = 1.0e-04 | time = 2.9e+01\n"
          ],
          "name": "stdout"
        },
        {
          "output_type": "stream",
          "text": [
            ""
          ],
          "name": "stderr"
        },
        {
          "output_type": "stream",
          "text": [
            "[ 138/ 200]: train loss = 8.776e-01 | test loss = 1.140e+00 | traffix score =  97.751% | rel error = 5.654e-04 depth =  50.0 | lr = 1.0e-03 | eps = 1.0e-04 | time = 2.9e+01\n"
          ],
          "name": "stdout"
        },
        {
          "output_type": "stream",
          "text": [
            ""
          ],
          "name": "stderr"
        },
        {
          "output_type": "stream",
          "text": [
            "[ 139/ 200]: train loss = 1.173e+00 | test loss = 1.257e+00 | traffix score =  97.770% | rel error = 5.936e-04 depth =  50.0 | lr = 1.0e-03 | eps = 1.0e-04 | time = 2.9e+01\n"
          ],
          "name": "stdout"
        },
        {
          "output_type": "stream",
          "text": [
            ""
          ],
          "name": "stderr"
        },
        {
          "output_type": "stream",
          "text": [
            "[ 140/ 200]: train loss = 8.729e-01 | test loss = 1.110e+00 | traffix score =  97.791% | rel error = 5.580e-04 depth =  50.0 | lr = 1.0e-03 | eps = 1.0e-04 | time = 2.9e+01\n"
          ],
          "name": "stdout"
        },
        {
          "output_type": "stream",
          "text": [
            ""
          ],
          "name": "stderr"
        },
        {
          "output_type": "stream",
          "text": [
            "[ 141/ 200]: train loss = 1.114e+00 | test loss = 1.093e+00 | traffix score =  97.825% | rel error = 5.537e-04 depth =  50.0 | lr = 1.0e-03 | eps = 1.0e-04 | time = 2.9e+01\n"
          ],
          "name": "stdout"
        },
        {
          "output_type": "stream",
          "text": [
            ""
          ],
          "name": "stderr"
        },
        {
          "output_type": "stream",
          "text": [
            "[ 142/ 200]: train loss = 1.042e+00 | test loss = 1.109e+00 | traffix score =  97.764% | rel error = 5.578e-04 depth =  50.0 | lr = 1.0e-03 | eps = 1.0e-04 | time = 2.9e+01\n"
          ],
          "name": "stdout"
        },
        {
          "output_type": "stream",
          "text": [
            ""
          ],
          "name": "stderr"
        },
        {
          "output_type": "stream",
          "text": [
            "[ 143/ 200]: train loss = 1.021e+00 | test loss = 1.175e+00 | traffix score =  97.756% | rel error = 5.741e-04 depth =  50.0 | lr = 1.0e-03 | eps = 1.0e-04 | time = 2.9e+01\n"
          ],
          "name": "stdout"
        },
        {
          "output_type": "stream",
          "text": [
            ""
          ],
          "name": "stderr"
        },
        {
          "output_type": "stream",
          "text": [
            "[ 144/ 200]: train loss = 9.112e-01 | test loss = 1.199e+00 | traffix score =  97.803% | rel error = 5.800e-04 depth =  50.0 | lr = 1.0e-03 | eps = 1.0e-04 | time = 2.9e+01\n"
          ],
          "name": "stdout"
        },
        {
          "output_type": "stream",
          "text": [
            ""
          ],
          "name": "stderr"
        },
        {
          "output_type": "stream",
          "text": [
            "[ 145/ 200]: train loss = 9.562e-01 | test loss = 1.149e+00 | traffix score =  97.842% | rel error = 5.676e-04 depth =  50.0 | lr = 1.0e-03 | eps = 1.0e-04 | time = 2.9e+01\n"
          ],
          "name": "stdout"
        },
        {
          "output_type": "stream",
          "text": [
            ""
          ],
          "name": "stderr"
        },
        {
          "output_type": "stream",
          "text": [
            "[ 146/ 200]: train loss = 8.053e-01 | test loss = 1.049e+00 | traffix score =  97.865% | rel error = 5.424e-04 depth =  50.0 | lr = 1.0e-03 | eps = 1.0e-04 | time = 2.9e+01\n"
          ],
          "name": "stdout"
        },
        {
          "output_type": "stream",
          "text": [
            ""
          ],
          "name": "stderr"
        },
        {
          "output_type": "stream",
          "text": [
            "[ 147/ 200]: train loss = 9.765e-01 | test loss = 1.635e+00 | traffix score =  97.692% | rel error = 6.771e-04 depth =  50.0 | lr = 1.0e-03 | eps = 1.0e-04 | time = 2.9e+01\n"
          ],
          "name": "stdout"
        },
        {
          "output_type": "stream",
          "text": [
            ""
          ],
          "name": "stderr"
        },
        {
          "output_type": "stream",
          "text": [
            "[ 148/ 200]: train loss = 8.747e-01 | test loss = 1.287e+00 | traffix score =  97.920% | rel error = 6.007e-04 depth =  50.0 | lr = 1.0e-03 | eps = 1.0e-04 | time = 2.9e+01\n"
          ],
          "name": "stdout"
        },
        {
          "output_type": "stream",
          "text": [
            ""
          ],
          "name": "stderr"
        },
        {
          "output_type": "stream",
          "text": [
            "[ 149/ 200]: train loss = 1.085e+00 | test loss = 1.251e+00 | traffix score =  97.824% | rel error = 5.923e-04 depth =  50.0 | lr = 1.0e-03 | eps = 1.0e-04 | time = 2.9e+01\n"
          ],
          "name": "stdout"
        },
        {
          "output_type": "stream",
          "text": [
            ""
          ],
          "name": "stderr"
        },
        {
          "output_type": "stream",
          "text": [
            "[ 150/ 200]: train loss = 1.763e+00 | test loss = 1.284e+00 | traffix score =  97.818% | rel error = 6.000e-04 depth =  50.0 | lr = 1.0e-03 | eps = 1.0e-04 | time = 2.9e+01\n"
          ],
          "name": "stdout"
        },
        {
          "output_type": "stream",
          "text": [
            ""
          ],
          "name": "stderr"
        },
        {
          "output_type": "stream",
          "text": [
            "[ 151/ 200]: train loss = 8.493e-01 | test loss = 1.053e+00 | traffix score =  97.667% | rel error = 5.435e-04 depth =  50.0 | lr = 1.0e-03 | eps = 1.0e-04 | time = 2.9e+01\n"
          ],
          "name": "stdout"
        },
        {
          "output_type": "stream",
          "text": [
            ""
          ],
          "name": "stderr"
        },
        {
          "output_type": "stream",
          "text": [
            "[ 152/ 200]: train loss = 1.007e+00 | test loss = 1.602e+00 | traffix score =  97.753% | rel error = 6.703e-04 depth =  50.0 | lr = 1.0e-03 | eps = 1.0e-04 | time = 2.9e+01\n"
          ],
          "name": "stdout"
        },
        {
          "output_type": "stream",
          "text": [
            ""
          ],
          "name": "stderr"
        },
        {
          "output_type": "stream",
          "text": [
            "[ 153/ 200]: train loss = 2.191e+00 | test loss = 1.700e+00 | traffix score =  97.695% | rel error = 6.906e-04 depth =  50.0 | lr = 1.0e-03 | eps = 1.0e-04 | time = 2.9e+01\n"
          ],
          "name": "stdout"
        },
        {
          "output_type": "stream",
          "text": [
            ""
          ],
          "name": "stderr"
        },
        {
          "output_type": "stream",
          "text": [
            "[ 154/ 200]: train loss = 1.112e+00 | test loss = 1.124e+00 | traffix score =  97.732% | rel error = 5.616e-04 depth =  50.0 | lr = 1.0e-03 | eps = 1.0e-04 | time = 2.9e+01\n"
          ],
          "name": "stdout"
        },
        {
          "output_type": "stream",
          "text": [
            ""
          ],
          "name": "stderr"
        },
        {
          "output_type": "stream",
          "text": [
            "[ 155/ 200]: train loss = 7.531e-01 | test loss = 1.107e+00 | traffix score =  97.767% | rel error = 5.571e-04 depth =  50.0 | lr = 1.0e-03 | eps = 1.0e-04 | time = 2.9e+01\n"
          ],
          "name": "stdout"
        },
        {
          "output_type": "stream",
          "text": [
            ""
          ],
          "name": "stderr"
        },
        {
          "output_type": "stream",
          "text": [
            "[ 156/ 200]: train loss = 1.010e+00 | test loss = 1.069e+00 | traffix score =  97.836% | rel error = 5.475e-04 depth =  50.0 | lr = 1.0e-03 | eps = 1.0e-04 | time = 2.9e+01\n"
          ],
          "name": "stdout"
        },
        {
          "output_type": "stream",
          "text": [
            ""
          ],
          "name": "stderr"
        },
        {
          "output_type": "stream",
          "text": [
            "[ 157/ 200]: train loss = 1.099e+00 | test loss = 1.013e+00 | traffix score =  97.902% | rel error = 5.331e-04 depth =  50.0 | lr = 1.0e-03 | eps = 1.0e-04 | time = 2.9e+01\n"
          ],
          "name": "stdout"
        },
        {
          "output_type": "stream",
          "text": [
            ""
          ],
          "name": "stderr"
        },
        {
          "output_type": "stream",
          "text": [
            "[ 158/ 200]: train loss = 8.903e-01 | test loss = 1.058e+00 | traffix score =  97.794% | rel error = 5.446e-04 depth =  50.0 | lr = 1.0e-03 | eps = 1.0e-04 | time = 2.9e+01\n"
          ],
          "name": "stdout"
        },
        {
          "output_type": "stream",
          "text": [
            ""
          ],
          "name": "stderr"
        },
        {
          "output_type": "stream",
          "text": [
            "[ 159/ 200]: train loss = 8.552e-01 | test loss = 1.023e+00 | traffix score =  97.690% | rel error = 5.355e-04 depth =  50.0 | lr = 1.0e-03 | eps = 1.0e-04 | time = 2.9e+01\n"
          ],
          "name": "stdout"
        },
        {
          "output_type": "stream",
          "text": [
            ""
          ],
          "name": "stderr"
        },
        {
          "output_type": "stream",
          "text": [
            "[ 160/ 200]: train loss = 8.732e-01 | test loss = 1.173e+00 | traffix score =  97.778% | rel error = 5.735e-04 depth =  50.0 | lr = 1.0e-03 | eps = 1.0e-04 | time = 2.9e+01\n"
          ],
          "name": "stdout"
        },
        {
          "output_type": "stream",
          "text": [
            ""
          ],
          "name": "stderr"
        },
        {
          "output_type": "stream",
          "text": [
            "[ 161/ 200]: train loss = 6.446e-01 | test loss = 9.842e-01 | traffix score =  97.798% | rel error = 5.254e-04 depth =  50.0 | lr = 1.0e-03 | eps = 1.0e-04 | time = 2.9e+01\n"
          ],
          "name": "stdout"
        },
        {
          "output_type": "stream",
          "text": [
            ""
          ],
          "name": "stderr"
        },
        {
          "output_type": "stream",
          "text": [
            "[ 162/ 200]: train loss = 9.723e-01 | test loss = 1.011e+00 | traffix score =  97.942% | rel error = 5.324e-04 depth =  50.0 | lr = 1.0e-03 | eps = 1.0e-04 | time = 2.9e+01\n",
            "Model weights saved to drive/MyDrive/NashFPNs/TrafficTrainingData/FinalResults/Eastern-Massachusetts_weights.pth\n"
          ],
          "name": "stdout"
        },
        {
          "output_type": "stream",
          "text": [
            ""
          ],
          "name": "stderr"
        },
        {
          "output_type": "stream",
          "text": [
            "[ 163/ 200]: train loss = 7.453e-01 | test loss = 1.062e+00 | traffix score =  97.856% | rel error = 5.457e-04 depth =  50.0 | lr = 1.0e-03 | eps = 1.0e-04 | time = 2.9e+01\n"
          ],
          "name": "stdout"
        },
        {
          "output_type": "stream",
          "text": [
            ""
          ],
          "name": "stderr"
        },
        {
          "output_type": "stream",
          "text": [
            "[ 164/ 200]: train loss = 1.032e+00 | test loss = 9.408e-01 | traffix score =  97.747% | rel error = 5.137e-04 depth =  50.0 | lr = 1.0e-03 | eps = 1.0e-04 | time = 2.9e+01\n"
          ],
          "name": "stdout"
        },
        {
          "output_type": "stream",
          "text": [
            ""
          ],
          "name": "stderr"
        },
        {
          "output_type": "stream",
          "text": [
            "[ 165/ 200]: train loss = 9.780e-01 | test loss = 9.785e-01 | traffix score =  97.733% | rel error = 5.239e-04 depth =  50.0 | lr = 1.0e-03 | eps = 1.0e-04 | time = 2.9e+01\n"
          ],
          "name": "stdout"
        },
        {
          "output_type": "stream",
          "text": [
            ""
          ],
          "name": "stderr"
        },
        {
          "output_type": "stream",
          "text": [
            "[ 166/ 200]: train loss = 9.968e-01 | test loss = 9.607e-01 | traffix score =  97.751% | rel error = 5.191e-04 depth =  50.0 | lr = 1.0e-03 | eps = 1.0e-04 | time = 2.9e+01\n"
          ],
          "name": "stdout"
        },
        {
          "output_type": "stream",
          "text": [
            ""
          ],
          "name": "stderr"
        },
        {
          "output_type": "stream",
          "text": [
            "[ 167/ 200]: train loss = 7.722e-01 | test loss = 1.028e+00 | traffix score =  97.835% | rel error = 5.369e-04 depth =  50.0 | lr = 1.0e-03 | eps = 1.0e-04 | time = 2.9e+01\n"
          ],
          "name": "stdout"
        },
        {
          "output_type": "stream",
          "text": [
            ""
          ],
          "name": "stderr"
        },
        {
          "output_type": "stream",
          "text": [
            "[ 168/ 200]: train loss = 9.534e-01 | test loss = 9.182e-01 | traffix score =  97.778% | rel error = 5.075e-04 depth =  50.0 | lr = 1.0e-03 | eps = 1.0e-04 | time = 2.9e+01\n"
          ],
          "name": "stdout"
        },
        {
          "output_type": "stream",
          "text": [
            ""
          ],
          "name": "stderr"
        },
        {
          "output_type": "stream",
          "text": [
            "[ 169/ 200]: train loss = 8.814e-01 | test loss = 9.225e-01 | traffix score =  97.861% | rel error = 5.086e-04 depth =  50.0 | lr = 1.0e-03 | eps = 1.0e-04 | time = 2.9e+01\n"
          ],
          "name": "stdout"
        },
        {
          "output_type": "stream",
          "text": [
            ""
          ],
          "name": "stderr"
        },
        {
          "output_type": "stream",
          "text": [
            "[ 170/ 200]: train loss = 8.734e-01 | test loss = 1.005e+00 | traffix score =  97.816% | rel error = 5.310e-04 depth =  50.0 | lr = 1.0e-03 | eps = 1.0e-04 | time = 2.9e+01\n"
          ],
          "name": "stdout"
        },
        {
          "output_type": "stream",
          "text": [
            ""
          ],
          "name": "stderr"
        },
        {
          "output_type": "stream",
          "text": [
            "[ 171/ 200]: train loss = 7.055e-01 | test loss = 1.049e+00 | traffix score =  97.805% | rel error = 5.424e-04 depth =  50.0 | lr = 1.0e-03 | eps = 1.0e-04 | time = 2.9e+01\n"
          ],
          "name": "stdout"
        },
        {
          "output_type": "stream",
          "text": [
            ""
          ],
          "name": "stderr"
        },
        {
          "output_type": "stream",
          "text": [
            "[ 172/ 200]: train loss = 1.015e+00 | test loss = 9.744e-01 | traffix score =  97.762% | rel error = 5.227e-04 depth =  50.0 | lr = 1.0e-03 | eps = 1.0e-04 | time = 2.9e+01\n"
          ],
          "name": "stdout"
        },
        {
          "output_type": "stream",
          "text": [
            ""
          ],
          "name": "stderr"
        },
        {
          "output_type": "stream",
          "text": [
            "[ 173/ 200]: train loss = 7.367e-01 | test loss = 9.121e-01 | traffix score =  97.730% | rel error = 5.058e-04 depth =  50.0 | lr = 1.0e-03 | eps = 1.0e-04 | time = 2.9e+01\n"
          ],
          "name": "stdout"
        },
        {
          "output_type": "stream",
          "text": [
            ""
          ],
          "name": "stderr"
        },
        {
          "output_type": "stream",
          "text": [
            "[ 174/ 200]: train loss = 6.985e-01 | test loss = 9.225e-01 | traffix score =  97.898% | rel error = 5.086e-04 depth =  50.0 | lr = 1.0e-03 | eps = 1.0e-04 | time = 2.9e+01\n"
          ],
          "name": "stdout"
        },
        {
          "output_type": "stream",
          "text": [
            ""
          ],
          "name": "stderr"
        },
        {
          "output_type": "stream",
          "text": [
            "[ 175/ 200]: train loss = 6.476e-01 | test loss = 8.950e-01 | traffix score =  97.745% | rel error = 5.010e-04 depth =  50.0 | lr = 1.0e-03 | eps = 1.0e-04 | time = 2.9e+01\n"
          ],
          "name": "stdout"
        },
        {
          "output_type": "stream",
          "text": [
            ""
          ],
          "name": "stderr"
        },
        {
          "output_type": "stream",
          "text": [
            "[ 176/ 200]: train loss = 7.861e-01 | test loss = 8.706e-01 | traffix score =  97.850% | rel error = 4.941e-04 depth =  50.0 | lr = 1.0e-03 | eps = 1.0e-04 | time = 2.9e+01\n"
          ],
          "name": "stdout"
        },
        {
          "output_type": "stream",
          "text": [
            ""
          ],
          "name": "stderr"
        },
        {
          "output_type": "stream",
          "text": [
            "[ 177/ 200]: train loss = 4.819e-01 | test loss = 1.164e+00 | traffix score =  97.816% | rel error = 5.713e-04 depth =  50.0 | lr = 1.0e-03 | eps = 1.0e-04 | time = 2.9e+01\n"
          ],
          "name": "stdout"
        },
        {
          "output_type": "stream",
          "text": [
            ""
          ],
          "name": "stderr"
        },
        {
          "output_type": "stream",
          "text": [
            "[ 178/ 200]: train loss = 9.488e-01 | test loss = 8.573e-01 | traffix score =  97.808% | rel error = 4.903e-04 depth =  50.0 | lr = 1.0e-03 | eps = 1.0e-04 | time = 2.9e+01\n"
          ],
          "name": "stdout"
        },
        {
          "output_type": "stream",
          "text": [
            ""
          ],
          "name": "stderr"
        },
        {
          "output_type": "stream",
          "text": [
            "[ 179/ 200]: train loss = 9.510e-01 | test loss = 9.353e-01 | traffix score =  97.873% | rel error = 5.122e-04 depth =  50.0 | lr = 1.0e-03 | eps = 1.0e-04 | time = 2.9e+01\n"
          ],
          "name": "stdout"
        },
        {
          "output_type": "stream",
          "text": [
            ""
          ],
          "name": "stderr"
        },
        {
          "output_type": "stream",
          "text": [
            "[ 180/ 200]: train loss = 7.667e-01 | test loss = 9.404e-01 | traffix score =  97.691% | rel error = 5.135e-04 depth =  50.0 | lr = 1.0e-03 | eps = 1.0e-04 | time = 2.9e+01\n"
          ],
          "name": "stdout"
        },
        {
          "output_type": "stream",
          "text": [
            ""
          ],
          "name": "stderr"
        },
        {
          "output_type": "stream",
          "text": [
            "[ 181/ 200]: train loss = 6.041e-01 | test loss = 8.892e-01 | traffix score =  97.781% | rel error = 4.994e-04 depth =  50.0 | lr = 1.0e-03 | eps = 1.0e-04 | time = 2.9e+01\n"
          ],
          "name": "stdout"
        },
        {
          "output_type": "stream",
          "text": [
            ""
          ],
          "name": "stderr"
        },
        {
          "output_type": "stream",
          "text": [
            "[ 182/ 200]: train loss = 5.600e-01 | test loss = 8.811e-01 | traffix score =  97.871% | rel error = 4.971e-04 depth =  50.0 | lr = 1.0e-03 | eps = 1.0e-04 | time = 2.9e+01\n"
          ],
          "name": "stdout"
        },
        {
          "output_type": "stream",
          "text": [
            ""
          ],
          "name": "stderr"
        },
        {
          "output_type": "stream",
          "text": [
            "[ 183/ 200]: train loss = 7.555e-01 | test loss = 8.761e-01 | traffix score =  97.774% | rel error = 4.957e-04 depth =  50.0 | lr = 1.0e-03 | eps = 1.0e-04 | time = 2.9e+01\n"
          ],
          "name": "stdout"
        },
        {
          "output_type": "stream",
          "text": [
            ""
          ],
          "name": "stderr"
        },
        {
          "output_type": "stream",
          "text": [
            "[ 184/ 200]: train loss = 8.286e-01 | test loss = 8.268e-01 | traffix score =  97.871% | rel error = 4.815e-04 depth =  50.0 | lr = 1.0e-03 | eps = 1.0e-04 | time = 2.9e+01\n"
          ],
          "name": "stdout"
        },
        {
          "output_type": "stream",
          "text": [
            ""
          ],
          "name": "stderr"
        },
        {
          "output_type": "stream",
          "text": [
            "[ 185/ 200]: train loss = 6.867e-01 | test loss = 8.304e-01 | traffix score =  97.849% | rel error = 4.826e-04 depth =  50.0 | lr = 1.0e-03 | eps = 1.0e-04 | time = 2.9e+01\n"
          ],
          "name": "stdout"
        },
        {
          "output_type": "stream",
          "text": [
            ""
          ],
          "name": "stderr"
        },
        {
          "output_type": "stream",
          "text": [
            "[ 186/ 200]: train loss = 5.623e-01 | test loss = 8.558e-01 | traffix score =  97.753% | rel error = 4.899e-04 depth =  50.0 | lr = 1.0e-03 | eps = 1.0e-04 | time = 2.9e+01\n"
          ],
          "name": "stdout"
        },
        {
          "output_type": "stream",
          "text": [
            ""
          ],
          "name": "stderr"
        },
        {
          "output_type": "stream",
          "text": [
            "[ 187/ 200]: train loss = 7.313e-01 | test loss = 7.960e-01 | traffix score =  97.868% | rel error = 4.725e-04 depth =  50.0 | lr = 1.0e-03 | eps = 1.0e-04 | time = 2.9e+01\n"
          ],
          "name": "stdout"
        },
        {
          "output_type": "stream",
          "text": [
            ""
          ],
          "name": "stderr"
        },
        {
          "output_type": "stream",
          "text": [
            "[ 188/ 200]: train loss = 6.643e-01 | test loss = 8.481e-01 | traffix score =  97.904% | rel error = 4.877e-04 depth =  50.0 | lr = 1.0e-03 | eps = 1.0e-04 | time = 2.9e+01\n"
          ],
          "name": "stdout"
        },
        {
          "output_type": "stream",
          "text": [
            ""
          ],
          "name": "stderr"
        },
        {
          "output_type": "stream",
          "text": [
            "[ 189/ 200]: train loss = 7.074e-01 | test loss = 8.798e-01 | traffix score =  97.853% | rel error = 4.967e-04 depth =  50.0 | lr = 1.0e-03 | eps = 1.0e-04 | time = 2.9e+01\n"
          ],
          "name": "stdout"
        },
        {
          "output_type": "stream",
          "text": [
            ""
          ],
          "name": "stderr"
        },
        {
          "output_type": "stream",
          "text": [
            "[ 190/ 200]: train loss = 5.249e-01 | test loss = 8.185e-01 | traffix score =  97.907% | rel error = 4.791e-04 depth =  50.0 | lr = 1.0e-03 | eps = 1.0e-04 | time = 2.9e+01\n"
          ],
          "name": "stdout"
        },
        {
          "output_type": "stream",
          "text": [
            ""
          ],
          "name": "stderr"
        },
        {
          "output_type": "stream",
          "text": [
            "[ 191/ 200]: train loss = 7.890e-01 | test loss = 8.403e-01 | traffix score =  97.747% | rel error = 4.854e-04 depth =  50.0 | lr = 1.0e-03 | eps = 1.0e-04 | time = 2.9e+01\n"
          ],
          "name": "stdout"
        },
        {
          "output_type": "stream",
          "text": [
            ""
          ],
          "name": "stderr"
        },
        {
          "output_type": "stream",
          "text": [
            "[ 192/ 200]: train loss = 5.675e-01 | test loss = 8.908e-01 | traffix score =  97.753% | rel error = 4.998e-04 depth =  50.0 | lr = 1.0e-03 | eps = 1.0e-04 | time = 2.9e+01\n"
          ],
          "name": "stdout"
        },
        {
          "output_type": "stream",
          "text": [
            ""
          ],
          "name": "stderr"
        },
        {
          "output_type": "stream",
          "text": [
            "[ 193/ 200]: train loss = 7.623e-01 | test loss = 7.878e-01 | traffix score =  97.816% | rel error = 4.700e-04 depth =  50.0 | lr = 1.0e-03 | eps = 1.0e-04 | time = 2.9e+01\n"
          ],
          "name": "stdout"
        },
        {
          "output_type": "stream",
          "text": [
            ""
          ],
          "name": "stderr"
        },
        {
          "output_type": "stream",
          "text": [
            "[ 194/ 200]: train loss = 5.100e-01 | test loss = 7.747e-01 | traffix score =  97.841% | rel error = 4.661e-04 depth =  50.0 | lr = 1.0e-03 | eps = 1.0e-04 | time = 2.9e+01\n"
          ],
          "name": "stdout"
        },
        {
          "output_type": "stream",
          "text": [
            ""
          ],
          "name": "stderr"
        },
        {
          "output_type": "stream",
          "text": [
            "[ 195/ 200]: train loss = 5.344e-01 | test loss = 8.193e-01 | traffix score =  97.878% | rel error = 4.793e-04 depth =  50.0 | lr = 1.0e-03 | eps = 1.0e-04 | time = 2.9e+01\n"
          ],
          "name": "stdout"
        },
        {
          "output_type": "stream",
          "text": [
            ""
          ],
          "name": "stderr"
        },
        {
          "output_type": "stream",
          "text": [
            "[ 196/ 200]: train loss = 7.311e-01 | test loss = 8.764e-01 | traffix score =  97.936% | rel error = 4.958e-04 depth =  50.0 | lr = 1.0e-03 | eps = 1.0e-04 | time = 2.9e+01\n"
          ],
          "name": "stdout"
        },
        {
          "output_type": "stream",
          "text": [
            ""
          ],
          "name": "stderr"
        },
        {
          "output_type": "stream",
          "text": [
            "[ 197/ 200]: train loss = 5.833e-01 | test loss = 8.481e-01 | traffix score =  97.716% | rel error = 4.877e-04 depth =  50.0 | lr = 1.0e-03 | eps = 1.0e-04 | time = 2.9e+01\n"
          ],
          "name": "stdout"
        },
        {
          "output_type": "stream",
          "text": [
            ""
          ],
          "name": "stderr"
        },
        {
          "output_type": "stream",
          "text": [
            "[ 198/ 200]: train loss = 6.182e-01 | test loss = 7.816e-01 | traffix score =  97.872% | rel error = 4.682e-04 depth =  50.0 | lr = 1.0e-03 | eps = 1.0e-04 | time = 2.9e+01\n"
          ],
          "name": "stdout"
        },
        {
          "output_type": "stream",
          "text": [
            ""
          ],
          "name": "stderr"
        },
        {
          "output_type": "stream",
          "text": [
            "[ 199/ 200]: train loss = 6.215e-01 | test loss = 7.905e-01 | traffix score =  97.924% | rel error = 4.709e-04 depth =  50.0 | lr = 1.0e-03 | eps = 1.0e-04 | time = 2.9e+01\n"
          ],
          "name": "stdout"
        },
        {
          "output_type": "stream",
          "text": [
            ""
          ],
          "name": "stderr"
        },
        {
          "output_type": "stream",
          "text": [
            "[ 200/ 200]: train loss = 5.847e-01 | test loss = 7.870e-01 | traffix score =  97.802% | rel error = 4.698e-04 depth =  50.0 | lr = 1.0e-03 | eps = 1.0e-04 | time = 2.9e+01\n",
            "Training history saved to drive/MyDrive/NashFPNs/TrafficTrainingData/FinalResults/Eastern-Massachusetts_history.pth\n"
          ],
          "name": "stdout"
        }
      ]
    },
    {
      "cell_type": "markdown",
      "metadata": {
        "id": "nqXJxGJoxMWn"
      },
      "source": [
        "## Plot Testing Error"
      ]
    },
    {
      "cell_type": "code",
      "metadata": {
        "id": "rlzK9VrHyuqF",
        "colab": {
          "base_uri": "https://localhost:8080/"
        },
        "outputId": "531afb3f-6a3a-45ed-9ecf-18446937073b"
      },
      "source": [
        "# ---------------------------------------------\n",
        "# Plot testing history\n",
        "# ---------------------------------------------\n",
        "import matplotlib.pyplot as plt\n",
        "\n",
        "fig1 = plt.figure(1)\n",
        "plt.plot(train_loss_hist, linewidth=3)\n",
        "plt.plot(test_loss_hist, linewidth=3)\n",
        "plt.legend(['training loss', 'testing loss'], fontsize=15)\n",
        "plt.xlabel('epochs', fontsize=15)\n",
        "plt.ylabel('|z - z*|', fontsize=15)\n",
        "plt.title('Mean Squared Error', fontsize=15)\n",
        "plt.savefig('line_plot.pdf')  "
      ],
      "execution_count": null,
      "outputs": [
        {
          "output_type": "display_data",
          "data": {
            "image/png": "[encoded data removed]",
            "text/plain": [
              "<Figure size 432x288 with 1 Axes>"
            ]
          },
          "metadata": {
            "tags": [],
            "needs_background": "light"
          }
        }
      ]
    },
    {
      "cell_type": "code",
      "metadata": {
        "id": "7f2yRiqEV6Hm",
        "colab": {
          "base_uri": "https://localhost:8080/"
        },
        "outputId": "3de37463-3eca-4c2b-b584-6b5d6048faa7"
      },
      "source": [
        "fig1 = plt.figure(2)\n",
        "plt.plot(traffix_score_hist, linewidth=3)\n",
        "plt.legend(['traffix score history'], fontsize=15)\n",
        "plt.xlabel('epochs', fontsize=15)\n",
        "plt.ylabel('traffix score', fontsize=15)\n",
        "plt.title('Traffix Score', fontsize=15)\n",
        "plt.savefig('traffix_score_plot.pdf')  "
      ],
      "execution_count": null,
      "outputs": [
        {
          "output_type": "display_data",
          "data": {
            "image/png": "[encoded data removed]",
            "text/plain": [
              "<Figure size 432x288 with 1 Axes>"
            ]
          },
          "metadata": {
            "tags": [],
            "needs_background": "light"
          }
        }
      ]
    },
    {
      "cell_type": "markdown",
      "metadata": {
        "id": "1RKSxqlgjmtQ"
      },
      "source": [
        "## Generate CSV File"
      ]
    },
    {
      "cell_type": "code",
      "metadata": {
        "id": "flzfqtntjnhI"
      },
      "source": [
        "filename = data_set + '_epoch_vs_relerr.csv'\n",
        "with open(filename, 'w') as f: \n",
        "  for epoch, rel_err in enumerate(rel_err_hist):     \n",
        "    f.write('%0.5e,%0.5e\\n' % (epoch + 1, rel_err)) \n",
        "\n",
        "filename = data_set + '_epoch_vs_trafix.csv'\n",
        "with open(filename, 'w') as f: \n",
        "  for epoch, traffix_score in enumerate(traffix_score_hist):     \n",
        "    f.write('%0.5e,%0.5e\\n' % (epoch + 1, traffix_score)) "
      ],
      "execution_count": null,
      "outputs": []
    }
  ]
}