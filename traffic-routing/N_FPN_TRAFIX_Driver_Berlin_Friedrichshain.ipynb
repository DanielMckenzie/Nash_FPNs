{
  "nbformat": 4,
  "nbformat_minor": 0,
  "metadata": {
    "accelerator": "GPU",
    "colab": {
      "name": "Nash-FPN-TRAFIX-Driver-Berlin-Friedrichshain.ipynb",
      "provenance": [],
      "collapsed_sections": [],
      "toc_visible": true
    },
    "kernelspec": {
      "display_name": "Python 3",
      "name": "python3"
    },
    "language_info": {
      "name": "python"
    }
  },
  "cells": [
    {
      "cell_type": "code",
      "metadata": {
        "id": "nVWmv8cbI4MI",
        "colab": {
          "base_uri": "https://localhost:8080/"
        },
        "outputId": "5939c217-3555-4a61-b116-6029026e1cf5"
      },
      "source": [
        "limport numpy as np\n",
        "import torch\n",
        "import torch.nn               as nn\n",
        "import torch.distributions as tdist\n",
        "import os\n",
        "import sys\n",
        "from torch.utils.data import Dataset, TensorDataset, DataLoader\n",
        "import torch.optim as optim\n",
        "import torch.nn.utils.spectral_norm as spectral_norm\n",
        "from torch.utils.data         import Dataset, TensorDataset, DataLoader\n",
        "from torchvision              import datasets\n",
        "import time\n",
        "from time import sleep\n",
        "from tqdm import tqdm\n",
        "from prettytable import PrettyTable\n",
        "\n",
        "from google.colab import drive\n",
        "drive.mount('/content/drive')\n",
        "sys.path.append('/content/drive/MyDrive/NashFPNs/TransportationNetworks/')\n",
        "save_dir = './drive/MyDrive/NashFPNs/' # generated data should be saved in this path\n",
        "\n",
        "device = \"cuda\"\n",
        "\n",
        "capacity   = torch.tensor\n",
        "context    = torch.tensor\n",
        "action     = torch.tensor\n",
        "edge       = torch.tensor\n",
        "inference  = torch.tensor \n",
        "context    = torch.tensor\n",
        "\n",
        "seed = 42\n",
        "torch.manual_seed(seed)"
      ],
      "execution_count": null,
      "outputs": [
        {
          "output_type": "stream",
          "text": [
            "Mounted at /content/drive\n"
          ],
          "name": "stdout"
        }
      ]
    },
    {
      "cell_type": "markdown",
      "metadata": {
        "id": "UJrw1eNdJXFO"
      },
      "source": [
        "## Load Training Data"
      ]
    },
    {
      "cell_type": "code",
      "metadata": {
        "id": "7fAsRmF3C0XA"
      },
      "source": [
        "# load data and split into training and testing set:\n",
        "data_set = 'Berlin-Friedrichshain'\n",
        "save_dir = 'drive/MyDrive/NashFPNs/TrafficTrainingData/'\n",
        "state_path = save_dir + data_set + '_training_data.pth'\n",
        "state = torch.load(state_path)"
      ],
      "execution_count": null,
      "outputs": []
    },
    {
      "cell_type": "code",
      "metadata": {
        "id": "SdRvrGubJgNI"
      },
      "source": [
        "capacity        = state['capacity']\n",
        "W               = state['W']\n",
        "N               = state['N']\n",
        "free_flow_time  = state['free_flow_time']\n",
        "x_train         = state['x_train']\n",
        "x_test          = state['x_test']\n",
        "d_train         = state['d_train']\n",
        "d_test          = state['d_test']\n",
        "b               = state['origin_destination_pairs']\n",
        "\n",
        "context_size    = d_train.shape[1]\n",
        "n_train         = d_train.shape[0]\n",
        "n_test          = d_test.shape[0]\n",
        "\n",
        "n_ODpairs       = b.shape[1]\n",
        "n_edges         = x_train.shape[1]\n",
        "n_nodes         = b.shape[0]"
      ],
      "execution_count": null,
      "outputs": []
    },
    {
      "cell_type": "code",
      "metadata": {
        "id": "X9b3A_YXJq2C"
      },
      "source": [
        "train_dataset   = TensorDataset(x_train, d_train)\n",
        "test_dataset    = TensorDataset(x_test, d_test)\n",
        "\n",
        "train_batch_size = 500\n",
        "test_batch_size  = 500\n",
        "\n",
        "train_loader  = DataLoader(dataset=train_dataset,  \n",
        "                            batch_size=train_batch_size, shuffle=True) \n",
        "test_loader   = DataLoader(dataset=test_dataset,   \n",
        "                            batch_size=test_batch_size,  shuffle=False) "
      ],
      "execution_count": null,
      "outputs": []
    },
    {
      "cell_type": "code",
      "metadata": {
        "colab": {
          "base_uri": "https://localhost:8080/"
        },
        "id": "0-3HZWnVIO6l",
        "outputId": "efa872fb-cf38-4f18-8196-0b74939e3066"
      },
      "source": [
        "print('n_ODpairs = ', n_ODpairs, 'n_nodes = ', n_nodes, ', n_edges = ', n_edges, ', n_train = ', x_train.shape[0])"
      ],
      "execution_count": null,
      "outputs": [
        {
          "output_type": "stream",
          "text": [
            "n_ODpairs =  506 n_nodes =  224 , n_edges =  523 , n_train =  5000\n"
          ],
          "name": "stdout"
        }
      ]
    },
    {
      "cell_type": "markdown",
      "metadata": {
        "id": "wijoA6pndMlk"
      },
      "source": [
        "## Create Neural Network Architecture"
      ]
    },
    {
      "cell_type": "code",
      "metadata": {
        "id": "6WxTVgZPyugn"
      },
      "source": [
        "inference = torch.tensor\n",
        "latent_variable = torch.tensor\n",
        "context = torch.tensor\n",
        "\n",
        "class Traffix_Net(nn.Module):\n",
        "    def __init__(self, N, b, context_size, alpha, device):\n",
        "        super().__init__()\n",
        "        \n",
        "        self.b = b.to(device)\n",
        "        self.alpha = alpha\n",
        "\n",
        "        U,s,VT = torch.linalg.svd(N, full_matrices=False) \n",
        "        # truncate sing. values below 1e-5\n",
        "        ind = s >= 1e-5 \n",
        "        s = s[ind]\n",
        "        U = U[:,ind]\n",
        "        VT = VT[ind, :]\n",
        "        self.V = VT.t().to(device)\n",
        "        self.V_Sinv_UT = VT.t().matmul( torch.diag(1/s).matmul(U.t()) ).to(device)\n",
        "\n",
        "        self.n_nodes    = N.shape[0]\n",
        "        self.n_edges    = N.shape[1] \n",
        "        self.n_ODpairs  = b.shape[1] \n",
        "\n",
        "        self.F_fcs_d = nn.ModuleList([nn.Linear(context_size, 100), \n",
        "                                    nn.Linear(100, 100)])\n",
        "        self.fc_final_d = nn.Linear(100, self.n_edges)\n",
        "\n",
        "        self.F_fcs = nn.ModuleList([nn.Linear(self.n_edges, 100), \n",
        "                                    nn.Linear(100, 100)])\n",
        "        self.fc_final = nn.Linear(100, self.n_edges)\n",
        "        self.relu = nn.ReLU()\n",
        "        self.leaky_relu = nn.LeakyReLU(0.1)\n",
        "\n",
        "        self.tanh = nn.Tanh()\n",
        "\n",
        "        for fc in self.F_fcs: \n",
        "          torch.nn.init.zeros_(fc.weight)\n",
        "        for fc in self.F_fcs_d: \n",
        "          torch.nn.init.zeros_(fc.weight)\n",
        "\n",
        "        torch.nn.init.zeros_(self.fc_final.weight)\n",
        "        torch.nn.init.zeros_(self.fc_final_d.weight)\n",
        "\n",
        "    def device(self):\n",
        "        return next(self.parameters()).data.device\n",
        "\n",
        "    def project_C1(self, z: latent_variable) -> latent_variable: \n",
        "        return torch.clamp(z, min=0)\n",
        "\n",
        "    def project_C2(self, z: latent_variable) -> latent_variable:\n",
        "        Pz    = z - (self.V).matmul(self.V.t().matmul(z)) + self.V_Sinv_UT.matmul(self.b.unsqueeze(0))\n",
        "        return Pz\n",
        "\n",
        "    def F(self, x: action, d: context) -> action: \n",
        "      \"\"\"\n",
        "        Game Gradient Parameterization\n",
        "          Inputs: \n",
        "            x = action with shape (batch_size x n_edges) \n",
        "            d = context with shape (batch_size x context_size)\n",
        "      \"\"\"\n",
        "\n",
        "        Fd = d\n",
        "        for fc in self.F_fcs_d:\n",
        "          Fd = self.tanh(fc(Fd))\n",
        "        Fd = self.leaky_relu(self.fc_final_d(Fd))\n",
        "        \n",
        "        Fx = x\n",
        "        for fc in self.F_fcs: \n",
        "            Fx = self.tanh(fc(Fx)) \n",
        "\n",
        "        Fx = self.leaky_relu(self.fc_final(Fx))\n",
        "        Fx = torch.clamp(Fx, min = -5e6, max=5e6) \n",
        "        \n",
        "        return self.leaky_relu(Fx*Fd)\n",
        "        \n",
        "\n",
        "    def T(self, z: latent_variable, d: context) -> latent_variable: \n",
        "      \"\"\"\n",
        "        Davis-Yin Splitting described in Algorithm 3 \n",
        "          Inputs: \n",
        "            z = action with shape (batch_size x n_edges x n_ODpairs) \n",
        "            d = context with shape (batch_size x context_size)\n",
        "      \"\"\"\n",
        "\n",
        "        x = self.project_C1(z)\n",
        "        v = torch.sum(x, dim=2)\n",
        "        Fv = self.F(v,d)\n",
        "        y = 2*x - z - self.alpha*Fv.unsqueeze(2)\n",
        "        y = self.project_C2(y)\n",
        "        z = z + y - x\n",
        "\n",
        "        return z\n",
        "\n",
        "\n",
        "    def S(self, z: latent_variable) -> inference:\n",
        "      \"\"\"\n",
        "        Final layer that map from latent space to inference space. \n",
        "        Operations: project, sum across OD pairs, and clamp\n",
        "          Inputs: \n",
        "            z = action with shape (batch_size x n_edges x n_ODpairs) \n",
        "          Output:\n",
        "            v = action with shape (batch_size x n_edges)\n",
        "      \"\"\"\n",
        "\n",
        "        z = self.project_C1(z)\n",
        "        v = torch.sum(z, dim=2)\n",
        "        return torch.clamp(v, max=1e6)\n",
        "\n",
        "    def forward(self, d: context, eps=1.0e-2, max_depth=100, \n",
        "                depth_warning=False) -> inference: \n",
        "\n",
        "        with torch.no_grad():\n",
        "            self.depth = 0.0\n",
        "\n",
        "            z = torch.zeros((d.shape[0], self.n_edges, self.n_ODpairs), device=self.device())\n",
        "            z_prev = z.clone()         \n",
        "            \n",
        "            all_samp_conv = False\n",
        "            while not all_samp_conv and self.depth < max_depth:\n",
        "                z_prev = z.clone()   \n",
        "                z = self.T(z,d)\n",
        "                diff_norm = torch.norm(z - z_prev, dim=1) \n",
        "                diff_norm = torch.norm( diff_norm, dim=1) \n",
        "                diff_norm = torch.max( diff_norm ) # take norm along the latter two dimensions then max\n",
        "                self.depth += 1.0\n",
        "                all_samp_conv = diff_norm <= eps\n",
        "            \n",
        "        if self.depth >= max_depth and depth_warning:\n",
        "            print(\"\\nWarning: Max Depth Reached - Break Forward Loop\\n\")\n",
        "\n",
        "        attach_gradients = self.training\n",
        "        if attach_gradients:\n",
        "            z = self.T(z, d)\n",
        "            return self.S(z)\n",
        "        else:\n",
        "            return self.S(z) \n",
        "\n",
        "\n",
        "  "
      ],
      "execution_count": null,
      "outputs": []
    },
    {
      "cell_type": "code",
      "metadata": {
        "id": "H1IRHSkWyujD",
        "colab": {
          "base_uri": "https://localhost:8080/"
        },
        "outputId": "8e38fe92-b566-45b2-c1ae-043d023ec5e0"
      },
      "source": [
        "alpha = 1e-2\n",
        "net = Traffix_Net(N, b, context_size, alpha, device)\n",
        "net.to(device)\n",
        "net(d_test.to(device))"
      ],
      "execution_count": null,
      "outputs": [
        {
          "output_type": "execute_result",
          "data": {
            "text/plain": [
              "tensor([[2.0349e+02, 2.0567e+02, 5.1371e+02,  ..., 8.9395e+02, 1.1399e+03,\n",
              "         2.3662e-03],\n",
              "        [2.0349e+02, 2.0567e+02, 5.1371e+02,  ..., 8.9395e+02, 1.1399e+03,\n",
              "         2.3662e-03],\n",
              "        [2.0349e+02, 2.0567e+02, 5.1371e+02,  ..., 8.9395e+02, 1.1399e+03,\n",
              "         2.3662e-03],\n",
              "        ...,\n",
              "        [2.0349e+02, 2.0567e+02, 5.1371e+02,  ..., 8.9395e+02, 1.1399e+03,\n",
              "         2.3662e-03],\n",
              "        [2.0349e+02, 2.0567e+02, 5.1371e+02,  ..., 8.9395e+02, 1.1399e+03,\n",
              "         2.3662e-03],\n",
              "        [2.0349e+02, 2.0567e+02, 5.1371e+02,  ..., 8.9395e+02, 1.1399e+03,\n",
              "         2.3662e-03]], device='cuda:0', grad_fn=<ClampBackward>)"
            ]
          },
          "metadata": {
            "tags": []
          },
          "execution_count": 8
        }
      ]
    },
    {
      "cell_type": "code",
      "metadata": {
        "id": "MKp1D-LSFuf-"
      },
      "source": [
        "def get_trafix_score(x_pred: action, x_true: action, eps=5.0e-3, \n",
        "                     tol=1.0e-3) -> float:\n",
        "  err           = torch.abs(x_pred - x_true)\n",
        "  denom         = torch.abs(x_true) + tol\n",
        "  rel_err       = err.div(denom)\n",
        "  acc_preds     = rel_err < eps  \n",
        "  num_samples   = x_true.shape[0]\n",
        "  num_preds     = x_true.shape[1]\n",
        "  trafix_score  = 100.0 * sum(sum(acc_preds)) / (num_samples * num_preds) \n",
        "  return trafix_score\n",
        "\n",
        "def get_testing_stats(net, test_loader, criterion, n_edges, eps, depth, eps_traffix_score, device=device):\n",
        "    test_loss = 0\n",
        "    correct = 0\n",
        "    rel_err = 0\n",
        "    rel_err_dim0 = torch.zeros(n_edges, device=device)\n",
        "\n",
        "    net.eval()\n",
        "    with torch.no_grad():\n",
        "        for _, (x_true, d_true) in enumerate(test_loader):\n",
        "          \n",
        "          x_true, d_true = x_true.to(device), d_true.to(device)\n",
        "          batch_size = x_true.shape[0]\n",
        "\n",
        "          x_pred = net(d_true, eps=eps, max_depth=depth) \n",
        "\n",
        "          test_loss += batch_size * criterion(x_pred, x_true)\n",
        "\n",
        "          rel_err += torch.norm(x_pred - x_true)**2\n",
        "          rel_err_dim0 += torch.norm(x_pred - x_true, dim=0)**2\n",
        "\n",
        "    test_loss  /= len(test_loader.dataset)\n",
        "    rel_err    = torch.sqrt(rel_err) / norm_x_test\n",
        "\n",
        "    # rel_err_dim0 = torch.sqrt(rel_err_dim0) / norm_x_test_dim0\n",
        "    # ind = rel_err_dim0 < eps_traffic_score\n",
        "    # traffic_score = 100*(sum(ind)/n_edges)\n",
        "    traffix_score = get_trafix_score(x_pred, x_true, eps=eps_traffix_score) \n",
        "    \n",
        "\n",
        "    net.train()\n",
        "\n",
        "    return test_loss, rel_err, traffix_score\n"
      ],
      "execution_count": null,
      "outputs": []
    },
    {
      "cell_type": "code",
      "metadata": {
        "id": "GzIL4AFf7ByG",
        "colab": {
          "base_uri": "https://localhost:8080/"
        },
        "outputId": "4f5d0651-784e-4ea8-8d66-ffd6c80a9138"
      },
      "source": [
        "def model_params(net):\n",
        "    table = PrettyTable([\"Network Component\", \"# Parameters\"])\n",
        "    num_params = 0\n",
        "    for name, parameter in net.named_parameters():\n",
        "        if not parameter.requires_grad:\n",
        "            continue\n",
        "        table.add_row([name, parameter.numel()])\n",
        "        num_params += parameter.numel()\n",
        "    table.add_row(['TOTAL', num_params])\n",
        "    return table\n",
        "\n",
        "print(net)\n",
        "print(model_params(net))"
      ],
      "execution_count": null,
      "outputs": [
        {
          "output_type": "stream",
          "text": [
            "Traffix_Net(\n",
            "  (F_fcs_d): ModuleList(\n",
            "    (0): Linear(in_features=10, out_features=100, bias=True)\n",
            "    (1): Linear(in_features=100, out_features=100, bias=True)\n",
            "  )\n",
            "  (fc_final_d): Linear(in_features=100, out_features=523, bias=True)\n",
            "  (F_fcs): ModuleList(\n",
            "    (0): Linear(in_features=523, out_features=100, bias=True)\n",
            "    (1): Linear(in_features=100, out_features=100, bias=True)\n",
            "  )\n",
            "  (fc_final): Linear(in_features=100, out_features=523, bias=True)\n",
            "  (relu): ReLU()\n",
            "  (leaky_relu): LeakyReLU(negative_slope=0.1)\n",
            "  (tanh): Tanh()\n",
            ")\n",
            "+-------------------+--------------+\n",
            "| Network Component | # Parameters |\n",
            "+-------------------+--------------+\n",
            "|  F_fcs_d.0.weight |     1000     |\n",
            "|   F_fcs_d.0.bias  |     100      |\n",
            "|  F_fcs_d.1.weight |    10000     |\n",
            "|   F_fcs_d.1.bias  |     100      |\n",
            "| fc_final_d.weight |    52300     |\n",
            "|  fc_final_d.bias  |     523      |\n",
            "|   F_fcs.0.weight  |    52300     |\n",
            "|    F_fcs.0.bias   |     100      |\n",
            "|   F_fcs.1.weight  |    10000     |\n",
            "|    F_fcs.1.bias   |     100      |\n",
            "|  fc_final.weight  |    52300     |\n",
            "|   fc_final.bias   |     523      |\n",
            "|       TOTAL       |    179346    |\n",
            "+-------------------+--------------+\n"
          ],
          "name": "stdout"
        }
      ]
    },
    {
      "cell_type": "markdown",
      "metadata": {
        "id": "nfrpKYfkpSS6"
      },
      "source": [
        "## Set up Training"
      ]
    },
    {
      "cell_type": "code",
      "metadata": {
        "id": "jY6ajFo5yul4",
        "colab": {
          "base_uri": "https://localhost:8080/"
        },
        "outputId": "d70f13ac-c2bb-40d0-f2ed-7934f407139e"
      },
      "source": [
        "# training setup\n",
        "learning_rate = 1e-3\n",
        "optimizer     = optim.Adam(net.parameters(), lr=learning_rate)\n",
        "lr_scheduler  = optim.lr_scheduler.StepLR(optimizer, step_size=250, gamma=0.1)\n",
        "eps           = 1.0e-4  # Used for stopping criterion in implicit-depth\n",
        "criterion     = nn.MSELoss()\n",
        "max_depth     = 50\n",
        "\n",
        "train_loss_hist     = []\n",
        "test_loss_hist      = []\n",
        "traffix_score_hist  = []\n",
        "rel_err_hist        = []\n",
        "best_traffix_score  = 0.0\n",
        "\n",
        "max_epochs = int(2e2)\n",
        "x_test = x_test.to(device)\n",
        "d_test = d_test.to(device)\n",
        "\n",
        "# start_time_epoch = time.time() # timer for display execution time per epoch multiple\n",
        "fmt        = '[{:4d}/{:4d}]: train loss = {:7.3e} | test loss = {:7.3e} | traffix score = {:7.3f}% | rel error = {:7.3e} ' \n",
        "fmt       += 'depth = {:5.1f} | lr = {:5.1e} | eps = {:5.1e} | time = {:5.1e}'\n",
        "print(net)                 # display Tnet configuration\n",
        " \n",
        "print('\\nTraining G-FPN')\n",
        "for epoch in range(max_epochs): \n",
        "\n",
        "  net.train()\n",
        "  sleep(0.3)  # slows progress bar so it won't print on multiple lines\n",
        "  loss_ave        = 0.0\n",
        "  epoch_start_time = time.time()\n",
        "  tot = len(train_loader)\n",
        "  with tqdm(total=tot, unit=\" batch\", leave=False, ascii=True) as tepoch:\n",
        "\n",
        "    tepoch.set_description(\"[{:3d}/{:3d}]\".format(epoch+1, max_epochs))\n",
        "\n",
        "    for _, (x_true, d_true) in enumerate(train_loader):\n",
        "\n",
        "      x_true, d_true = x_true.to(device), d_true.to(device)\n",
        "\n",
        "      optimizer.zero_grad()\n",
        "      x_pred = net(d_true, eps=eps, max_depth=max_depth) \n",
        "\n",
        "      loss = criterion(x_pred, x_true)\n",
        "      local_batch_size = x_true.shape[0]\n",
        "      loss_ave += local_batch_size * loss\n",
        "\n",
        "      loss.backward()\n",
        "      optimizer.step()\n",
        "\n",
        "      tepoch.update(1)\n",
        "      tepoch.set_postfix(train_loss=\"{:5.2e}\".format(loss.detach().cpu().numpy()),\n",
        "                          depth=\"{:5.1f}\".format(net.depth))\n",
        "\n",
        "  lr_scheduler.step()\n",
        "  epoch_end_time = time.time()\n",
        "  time_epoch = epoch_end_time - epoch_start_time\n",
        "  loss_ave = loss_ave/n_train\n",
        "  train_loss_hist.append(loss_ave)\n",
        "\n",
        "  eps_traffix_score = 5e-3\n",
        "  test_loss, rel_err_test, traffix_score = get_testing_stats(net, test_loader, criterion, n_edges, eps, max_depth, eps_traffix_score)\n",
        "\n",
        "  traffix_score_hist.append(traffix_score)\n",
        "  test_loss_hist.append(test_loss)\n",
        "  rel_err_hist.append(rel_err_test)\n",
        "\n",
        " \n",
        "  print(fmt.format(epoch+1, max_epochs, loss.item(), test_loss, traffix_score, rel_err_test, net.depth, \n",
        "                    optimizer.param_groups[0]['lr'], eps, time_epoch))\n",
        "  \n",
        "  # ---------------------------------------------------------------------\n",
        "  # Save weights\n",
        "  # ---------------------------------------------------------------------\n",
        "  if traffix_score > best_traffix_score:\n",
        "    best_traffix_score = traffix_score\n",
        "    state = {\n",
        "        'test_loss_hist': test_loss_hist,\n",
        "        'traffix_score_hist': traffix_score_hist,\n",
        "        'rel_err_hist': rel_err_hist,\n",
        "        'net_state_dict': net.state_dict(),\n",
        "        'optimizer_state_dict': optimizer.state_dict(),\n",
        "        'lr_scheduler': lr_scheduler,\n",
        "    }\n",
        "    file_name = save_dir + 'FinalResults/' + data_set + '_weights.pth'\n",
        "    torch.save(state, file_name)\n",
        "    print('Model weights saved to ' + file_name)\n",
        "\n",
        "  # ---------------------------------------------------------------------\n",
        "  # Save history at last epoch\n",
        "  # ---------------------------------------------------------------------\n",
        "\n",
        "  if epoch+1 == max_epochs:\n",
        "      state = {\n",
        "        'test_loss_hist': test_loss_hist,\n",
        "        'traffix_score_hist': traffix_score_hist,\n",
        "        'rel_err_hist': rel_err_hist,\n",
        "        'lr_scheduler': lr_scheduler,\n",
        "        'eps': eps,\n",
        "      }\n",
        "      file_name = save_dir + 'FinalResults/' + data_set + '_history.pth'\n",
        "      torch.save(state, file_name)\n",
        "      print('Training history saved to ' + file_name)"
      ],
      "execution_count": null,
      "outputs": [
        {
          "output_type": "stream",
          "text": [
            "Traffix_Net(\n",
            "  (F_fcs_d): ModuleList(\n",
            "    (0): Linear(in_features=10, out_features=100, bias=True)\n",
            "    (1): Linear(in_features=100, out_features=100, bias=True)\n",
            "  )\n",
            "  (fc_final_d): Linear(in_features=100, out_features=523, bias=True)\n",
            "  (F_fcs): ModuleList(\n",
            "    (0): Linear(in_features=523, out_features=100, bias=True)\n",
            "    (1): Linear(in_features=100, out_features=100, bias=True)\n",
            "  )\n",
            "  (fc_final): Linear(in_features=100, out_features=523, bias=True)\n",
            "  (relu): ReLU()\n",
            "  (leaky_relu): LeakyReLU(negative_slope=0.1)\n",
            "  (tanh): Tanh()\n",
            ")\n",
            "\n",
            "Training G-FPN\n"
          ],
          "name": "stdout"
        },
        {
          "output_type": "stream",
          "text": [
            ""
          ],
          "name": "stderr"
        },
        {
          "output_type": "stream",
          "text": [
            "[   1/ 200]: train loss = 1.131e+02 | test loss = 1.074e+02 | traffix score =  19.820% | rel error = 1.905e-02 depth =  50.0 | lr = 1.0e-03 | eps = 1.0e-04 | time = 3.2e+01\n",
            "Model weights saved to drive/MyDrive/NashFPNs/TrafficTrainingData/FinalResults/Berlin-Friedrichshain_weights.pth\n"
          ],
          "name": "stdout"
        },
        {
          "output_type": "stream",
          "text": [
            ""
          ],
          "name": "stderr"
        },
        {
          "output_type": "stream",
          "text": [
            "[   2/ 200]: train loss = 8.139e+01 | test loss = 7.949e+01 | traffix score =  29.184% | rel error = 1.638e-02 depth =  50.0 | lr = 1.0e-03 | eps = 1.0e-04 | time = 3.3e+01\n",
            "Model weights saved to drive/MyDrive/NashFPNs/TrafficTrainingData/FinalResults/Berlin-Friedrichshain_weights.pth\n"
          ],
          "name": "stdout"
        },
        {
          "output_type": "stream",
          "text": [
            ""
          ],
          "name": "stderr"
        },
        {
          "output_type": "stream",
          "text": [
            "[   3/ 200]: train loss = 4.812e+01 | test loss = 4.233e+01 | traffix score =  42.378% | rel error = 1.195e-02 depth =  50.0 | lr = 1.0e-03 | eps = 1.0e-04 | time = 3.2e+01\n",
            "Model weights saved to drive/MyDrive/NashFPNs/TrafficTrainingData/FinalResults/Berlin-Friedrichshain_weights.pth\n"
          ],
          "name": "stdout"
        },
        {
          "output_type": "stream",
          "text": [
            ""
          ],
          "name": "stderr"
        },
        {
          "output_type": "stream",
          "text": [
            "[   4/ 200]: train loss = 1.519e+01 | test loss = 1.230e+01 | traffix score =  50.595% | rel error = 6.443e-03 depth =  50.0 | lr = 1.0e-03 | eps = 1.0e-04 | time = 3.2e+01\n",
            "Model weights saved to drive/MyDrive/NashFPNs/TrafficTrainingData/FinalResults/Berlin-Friedrichshain_weights.pth\n"
          ],
          "name": "stdout"
        },
        {
          "output_type": "stream",
          "text": [
            ""
          ],
          "name": "stderr"
        },
        {
          "output_type": "stream",
          "text": [
            "[   5/ 200]: train loss = 4.346e+00 | test loss = 4.124e+00 | traffix score =  69.725% | rel error = 3.731e-03 depth =  50.0 | lr = 1.0e-03 | eps = 1.0e-04 | time = 3.2e+01\n",
            "Model weights saved to drive/MyDrive/NashFPNs/TrafficTrainingData/FinalResults/Berlin-Friedrichshain_weights.pth\n"
          ],
          "name": "stdout"
        },
        {
          "output_type": "stream",
          "text": [
            ""
          ],
          "name": "stderr"
        },
        {
          "output_type": "stream",
          "text": [
            "[   6/ 200]: train loss = 2.072e+00 | test loss = 1.846e+00 | traffix score =  80.333% | rel error = 2.496e-03 depth =  50.0 | lr = 1.0e-03 | eps = 1.0e-04 | time = 3.2e+01\n",
            "Model weights saved to drive/MyDrive/NashFPNs/TrafficTrainingData/FinalResults/Berlin-Friedrichshain_weights.pth\n"
          ],
          "name": "stdout"
        },
        {
          "output_type": "stream",
          "text": [
            ""
          ],
          "name": "stderr"
        },
        {
          "output_type": "stream",
          "text": [
            "[   7/ 200]: train loss = 1.033e+00 | test loss = 1.037e+00 | traffix score =  87.375% | rel error = 1.871e-03 depth =  50.0 | lr = 1.0e-03 | eps = 1.0e-04 | time = 3.2e+01\n",
            "Model weights saved to drive/MyDrive/NashFPNs/TrafficTrainingData/FinalResults/Berlin-Friedrichshain_weights.pth\n"
          ],
          "name": "stdout"
        },
        {
          "output_type": "stream",
          "text": [
            ""
          ],
          "name": "stderr"
        },
        {
          "output_type": "stream",
          "text": [
            "[   8/ 200]: train loss = 8.031e-01 | test loss = 8.439e-01 | traffix score =  90.642% | rel error = 1.688e-03 depth =  50.0 | lr = 1.0e-03 | eps = 1.0e-04 | time = 3.2e+01\n",
            "Model weights saved to drive/MyDrive/NashFPNs/TrafficTrainingData/FinalResults/Berlin-Friedrichshain_weights.pth\n"
          ],
          "name": "stdout"
        },
        {
          "output_type": "stream",
          "text": [
            ""
          ],
          "name": "stderr"
        },
        {
          "output_type": "stream",
          "text": [
            "[   9/ 200]: train loss = 6.429e-01 | test loss = 6.404e-01 | traffix score =  92.403% | rel error = 1.470e-03 depth =  50.0 | lr = 1.0e-03 | eps = 1.0e-04 | time = 3.2e+01\n",
            "Model weights saved to drive/MyDrive/NashFPNs/TrafficTrainingData/FinalResults/Berlin-Friedrichshain_weights.pth\n"
          ],
          "name": "stdout"
        },
        {
          "output_type": "stream",
          "text": [
            ""
          ],
          "name": "stderr"
        },
        {
          "output_type": "stream",
          "text": [
            "[  10/ 200]: train loss = 5.472e-01 | test loss = 5.786e-01 | traffix score =  92.948% | rel error = 1.398e-03 depth =  50.0 | lr = 1.0e-03 | eps = 1.0e-04 | time = 3.2e+01\n",
            "Model weights saved to drive/MyDrive/NashFPNs/TrafficTrainingData/FinalResults/Berlin-Friedrichshain_weights.pth\n"
          ],
          "name": "stdout"
        },
        {
          "output_type": "stream",
          "text": [
            ""
          ],
          "name": "stderr"
        },
        {
          "output_type": "stream",
          "text": [
            "[  11/ 200]: train loss = 4.818e-01 | test loss = 5.203e-01 | traffix score =  94.418% | rel error = 1.325e-03 depth =  50.0 | lr = 1.0e-03 | eps = 1.0e-04 | time = 3.2e+01\n",
            "Model weights saved to drive/MyDrive/NashFPNs/TrafficTrainingData/FinalResults/Berlin-Friedrichshain_weights.pth\n"
          ],
          "name": "stdout"
        },
        {
          "output_type": "stream",
          "text": [
            ""
          ],
          "name": "stderr"
        },
        {
          "output_type": "stream",
          "text": [
            "[  12/ 200]: train loss = 4.547e-01 | test loss = 5.030e-01 | traffix score =  94.641% | rel error = 1.303e-03 depth =  50.0 | lr = 1.0e-03 | eps = 1.0e-04 | time = 3.2e+01\n",
            "Model weights saved to drive/MyDrive/NashFPNs/TrafficTrainingData/FinalResults/Berlin-Friedrichshain_weights.pth\n"
          ],
          "name": "stdout"
        },
        {
          "output_type": "stream",
          "text": [
            ""
          ],
          "name": "stderr"
        },
        {
          "output_type": "stream",
          "text": [
            "[  13/ 200]: train loss = 4.272e-01 | test loss = 4.410e-01 | traffix score =  95.320% | rel error = 1.220e-03 depth =  50.0 | lr = 1.0e-03 | eps = 1.0e-04 | time = 3.2e+01\n",
            "Model weights saved to drive/MyDrive/NashFPNs/TrafficTrainingData/FinalResults/Berlin-Friedrichshain_weights.pth\n"
          ],
          "name": "stdout"
        },
        {
          "output_type": "stream",
          "text": [
            ""
          ],
          "name": "stderr"
        },
        {
          "output_type": "stream",
          "text": [
            "[  14/ 200]: train loss = 3.782e-01 | test loss = 4.263e-01 | traffix score =  95.783% | rel error = 1.200e-03 depth =  50.0 | lr = 1.0e-03 | eps = 1.0e-04 | time = 3.2e+01\n",
            "Model weights saved to drive/MyDrive/NashFPNs/TrafficTrainingData/FinalResults/Berlin-Friedrichshain_weights.pth\n"
          ],
          "name": "stdout"
        },
        {
          "output_type": "stream",
          "text": [
            ""
          ],
          "name": "stderr"
        },
        {
          "output_type": "stream",
          "text": [
            "[  15/ 200]: train loss = 3.705e-01 | test loss = 4.092e-01 | traffix score =  96.120% | rel error = 1.175e-03 depth =  50.0 | lr = 1.0e-03 | eps = 1.0e-04 | time = 3.2e+01\n",
            "Model weights saved to drive/MyDrive/NashFPNs/TrafficTrainingData/FinalResults/Berlin-Friedrichshain_weights.pth\n"
          ],
          "name": "stdout"
        },
        {
          "output_type": "stream",
          "text": [
            ""
          ],
          "name": "stderr"
        },
        {
          "output_type": "stream",
          "text": [
            "[  16/ 200]: train loss = 3.374e-01 | test loss = 4.070e-01 | traffix score =  95.836% | rel error = 1.172e-03 depth =  50.0 | lr = 1.0e-03 | eps = 1.0e-04 | time = 3.2e+01\n"
          ],
          "name": "stdout"
        },
        {
          "output_type": "stream",
          "text": [
            ""
          ],
          "name": "stderr"
        },
        {
          "output_type": "stream",
          "text": [
            "[  17/ 200]: train loss = 3.189e-01 | test loss = 3.666e-01 | traffix score =  96.543% | rel error = 1.113e-03 depth =  50.0 | lr = 1.0e-03 | eps = 1.0e-04 | time = 3.2e+01\n",
            "Model weights saved to drive/MyDrive/NashFPNs/TrafficTrainingData/FinalResults/Berlin-Friedrichshain_weights.pth\n"
          ],
          "name": "stdout"
        },
        {
          "output_type": "stream",
          "text": [
            ""
          ],
          "name": "stderr"
        },
        {
          "output_type": "stream",
          "text": [
            "[  18/ 200]: train loss = 3.321e-01 | test loss = 3.714e-01 | traffix score =  96.455% | rel error = 1.120e-03 depth =  50.0 | lr = 1.0e-03 | eps = 1.0e-04 | time = 3.2e+01\n"
          ],
          "name": "stdout"
        },
        {
          "output_type": "stream",
          "text": [
            ""
          ],
          "name": "stderr"
        },
        {
          "output_type": "stream",
          "text": [
            "[  19/ 200]: train loss = 3.067e-01 | test loss = 3.598e-01 | traffix score =  96.572% | rel error = 1.102e-03 depth =  50.0 | lr = 1.0e-03 | eps = 1.0e-04 | time = 3.2e+01\n",
            "Model weights saved to drive/MyDrive/NashFPNs/TrafficTrainingData/FinalResults/Berlin-Friedrichshain_weights.pth\n"
          ],
          "name": "stdout"
        },
        {
          "output_type": "stream",
          "text": [
            ""
          ],
          "name": "stderr"
        },
        {
          "output_type": "stream",
          "text": [
            "[  20/ 200]: train loss = 3.190e-01 | test loss = 3.554e-01 | traffix score =  96.718% | rel error = 1.095e-03 depth =  50.0 | lr = 1.0e-03 | eps = 1.0e-04 | time = 3.2e+01\n",
            "Model weights saved to drive/MyDrive/NashFPNs/TrafficTrainingData/FinalResults/Berlin-Friedrichshain_weights.pth\n"
          ],
          "name": "stdout"
        },
        {
          "output_type": "stream",
          "text": [
            ""
          ],
          "name": "stderr"
        },
        {
          "output_type": "stream",
          "text": [
            "[  21/ 200]: train loss = 2.888e-01 | test loss = 3.475e-01 | traffix score =  96.888% | rel error = 1.083e-03 depth =  50.0 | lr = 1.0e-03 | eps = 1.0e-04 | time = 3.2e+01\n",
            "Model weights saved to drive/MyDrive/NashFPNs/TrafficTrainingData/FinalResults/Berlin-Friedrichshain_weights.pth\n"
          ],
          "name": "stdout"
        },
        {
          "output_type": "stream",
          "text": [
            ""
          ],
          "name": "stderr"
        },
        {
          "output_type": "stream",
          "text": [
            "[  22/ 200]: train loss = 2.903e-01 | test loss = 3.349e-01 | traffix score =  97.015% | rel error = 1.063e-03 depth =  50.0 | lr = 1.0e-03 | eps = 1.0e-04 | time = 3.2e+01\n",
            "Model weights saved to drive/MyDrive/NashFPNs/TrafficTrainingData/FinalResults/Berlin-Friedrichshain_weights.pth\n"
          ],
          "name": "stdout"
        },
        {
          "output_type": "stream",
          "text": [
            ""
          ],
          "name": "stderr"
        },
        {
          "output_type": "stream",
          "text": [
            "[  23/ 200]: train loss = 2.452e-01 | test loss = 3.512e-01 | traffix score =  96.750% | rel error = 1.089e-03 depth =  50.0 | lr = 1.0e-03 | eps = 1.0e-04 | time = 3.3e+01\n"
          ],
          "name": "stdout"
        },
        {
          "output_type": "stream",
          "text": [
            ""
          ],
          "name": "stderr"
        },
        {
          "output_type": "stream",
          "text": [
            "[  24/ 200]: train loss = 2.664e-01 | test loss = 3.453e-01 | traffix score =  96.735% | rel error = 1.080e-03 depth =  50.0 | lr = 1.0e-03 | eps = 1.0e-04 | time = 3.2e+01\n"
          ],
          "name": "stdout"
        },
        {
          "output_type": "stream",
          "text": [
            ""
          ],
          "name": "stderr"
        },
        {
          "output_type": "stream",
          "text": [
            "[  25/ 200]: train loss = 2.564e-01 | test loss = 3.273e-01 | traffix score =  97.166% | rel error = 1.051e-03 depth =  50.0 | lr = 1.0e-03 | eps = 1.0e-04 | time = 3.2e+01\n",
            "Model weights saved to drive/MyDrive/NashFPNs/TrafficTrainingData/FinalResults/Berlin-Friedrichshain_weights.pth\n"
          ],
          "name": "stdout"
        },
        {
          "output_type": "stream",
          "text": [
            ""
          ],
          "name": "stderr"
        },
        {
          "output_type": "stream",
          "text": [
            "[  26/ 200]: train loss = 2.595e-01 | test loss = 3.251e-01 | traffix score =  97.198% | rel error = 1.048e-03 depth =  50.0 | lr = 1.0e-03 | eps = 1.0e-04 | time = 3.2e+01\n",
            "Model weights saved to drive/MyDrive/NashFPNs/TrafficTrainingData/FinalResults/Berlin-Friedrichshain_weights.pth\n"
          ],
          "name": "stdout"
        },
        {
          "output_type": "stream",
          "text": [
            ""
          ],
          "name": "stderr"
        },
        {
          "output_type": "stream",
          "text": [
            "[  27/ 200]: train loss = 2.474e-01 | test loss = 3.163e-01 | traffix score =  97.269% | rel error = 1.033e-03 depth =  50.0 | lr = 1.0e-03 | eps = 1.0e-04 | time = 3.2e+01\n",
            "Model weights saved to drive/MyDrive/NashFPNs/TrafficTrainingData/FinalResults/Berlin-Friedrichshain_weights.pth\n"
          ],
          "name": "stdout"
        },
        {
          "output_type": "stream",
          "text": [
            ""
          ],
          "name": "stderr"
        },
        {
          "output_type": "stream",
          "text": [
            "[  28/ 200]: train loss = 2.564e-01 | test loss = 3.180e-01 | traffix score =  97.120% | rel error = 1.036e-03 depth =  50.0 | lr = 1.0e-03 | eps = 1.0e-04 | time = 3.2e+01\n"
          ],
          "name": "stdout"
        },
        {
          "output_type": "stream",
          "text": [
            ""
          ],
          "name": "stderr"
        },
        {
          "output_type": "stream",
          "text": [
            "[  29/ 200]: train loss = 2.623e-01 | test loss = 3.134e-01 | traffix score =  97.235% | rel error = 1.029e-03 depth =  50.0 | lr = 1.0e-03 | eps = 1.0e-04 | time = 3.2e+01\n"
          ],
          "name": "stdout"
        },
        {
          "output_type": "stream",
          "text": [
            ""
          ],
          "name": "stderr"
        },
        {
          "output_type": "stream",
          "text": [
            "[  30/ 200]: train loss = 2.451e-01 | test loss = 3.145e-01 | traffix score =  97.169% | rel error = 1.030e-03 depth =  50.0 | lr = 1.0e-03 | eps = 1.0e-04 | time = 3.2e+01\n"
          ],
          "name": "stdout"
        },
        {
          "output_type": "stream",
          "text": [
            ""
          ],
          "name": "stderr"
        },
        {
          "output_type": "stream",
          "text": [
            "[  31/ 200]: train loss = 2.672e-01 | test loss = 3.151e-01 | traffix score =  97.301% | rel error = 1.031e-03 depth =  50.0 | lr = 1.0e-03 | eps = 1.0e-04 | time = 3.2e+01\n",
            "Model weights saved to drive/MyDrive/NashFPNs/TrafficTrainingData/FinalResults/Berlin-Friedrichshain_weights.pth\n"
          ],
          "name": "stdout"
        },
        {
          "output_type": "stream",
          "text": [
            ""
          ],
          "name": "stderr"
        },
        {
          "output_type": "stream",
          "text": [
            "[  32/ 200]: train loss = 2.363e-01 | test loss = 3.138e-01 | traffix score =  97.208% | rel error = 1.029e-03 depth =  50.0 | lr = 1.0e-03 | eps = 1.0e-04 | time = 3.2e+01\n"
          ],
          "name": "stdout"
        },
        {
          "output_type": "stream",
          "text": [
            ""
          ],
          "name": "stderr"
        },
        {
          "output_type": "stream",
          "text": [
            "[  33/ 200]: train loss = 2.541e-01 | test loss = 3.107e-01 | traffix score =  97.221% | rel error = 1.024e-03 depth =  50.0 | lr = 1.0e-03 | eps = 1.0e-04 | time = 3.2e+01\n"
          ],
          "name": "stdout"
        },
        {
          "output_type": "stream",
          "text": [
            ""
          ],
          "name": "stderr"
        },
        {
          "output_type": "stream",
          "text": [
            "[  34/ 200]: train loss = 2.474e-01 | test loss = 3.112e-01 | traffix score =  97.218% | rel error = 1.025e-03 depth =  50.0 | lr = 1.0e-03 | eps = 1.0e-04 | time = 3.2e+01\n"
          ],
          "name": "stdout"
        },
        {
          "output_type": "stream",
          "text": [
            ""
          ],
          "name": "stderr"
        },
        {
          "output_type": "stream",
          "text": [
            "[  35/ 200]: train loss = 2.505e-01 | test loss = 3.159e-01 | traffix score =  97.222% | rel error = 1.033e-03 depth =  50.0 | lr = 1.0e-03 | eps = 1.0e-04 | time = 3.2e+01\n"
          ],
          "name": "stdout"
        },
        {
          "output_type": "stream",
          "text": [
            ""
          ],
          "name": "stderr"
        },
        {
          "output_type": "stream",
          "text": [
            "[  36/ 200]: train loss = 2.472e-01 | test loss = 3.154e-01 | traffix score =  97.214% | rel error = 1.032e-03 depth =  50.0 | lr = 1.0e-03 | eps = 1.0e-04 | time = 3.2e+01\n"
          ],
          "name": "stdout"
        },
        {
          "output_type": "stream",
          "text": [
            ""
          ],
          "name": "stderr"
        },
        {
          "output_type": "stream",
          "text": [
            "[  37/ 200]: train loss = 2.651e-01 | test loss = 3.159e-01 | traffix score =  97.216% | rel error = 1.033e-03 depth =  50.0 | lr = 1.0e-03 | eps = 1.0e-04 | time = 3.2e+01\n"
          ],
          "name": "stdout"
        },
        {
          "output_type": "stream",
          "text": [
            ""
          ],
          "name": "stderr"
        },
        {
          "output_type": "stream",
          "text": [
            "[  38/ 200]: train loss = 2.580e-01 | test loss = 3.101e-01 | traffix score =  97.229% | rel error = 1.023e-03 depth =  50.0 | lr = 1.0e-03 | eps = 1.0e-04 | time = 3.3e+01\n"
          ],
          "name": "stdout"
        },
        {
          "output_type": "stream",
          "text": [
            ""
          ],
          "name": "stderr"
        },
        {
          "output_type": "stream",
          "text": [
            "[  39/ 200]: train loss = 2.442e-01 | test loss = 3.138e-01 | traffix score =  97.233% | rel error = 1.029e-03 depth =  50.0 | lr = 1.0e-03 | eps = 1.0e-04 | time = 3.2e+01\n"
          ],
          "name": "stdout"
        },
        {
          "output_type": "stream",
          "text": [
            ""
          ],
          "name": "stderr"
        },
        {
          "output_type": "stream",
          "text": [
            "[  40/ 200]: train loss = 2.521e-01 | test loss = 3.130e-01 | traffix score =  97.217% | rel error = 1.028e-03 depth =  50.0 | lr = 1.0e-03 | eps = 1.0e-04 | time = 3.2e+01\n"
          ],
          "name": "stdout"
        },
        {
          "output_type": "stream",
          "text": [
            ""
          ],
          "name": "stderr"
        },
        {
          "output_type": "stream",
          "text": [
            "[  41/ 200]: train loss = 2.406e-01 | test loss = 3.104e-01 | traffix score =  97.237% | rel error = 1.024e-03 depth =  50.0 | lr = 1.0e-03 | eps = 1.0e-04 | time = 3.2e+01\n"
          ],
          "name": "stdout"
        },
        {
          "output_type": "stream",
          "text": [
            ""
          ],
          "name": "stderr"
        },
        {
          "output_type": "stream",
          "text": [
            "[  42/ 200]: train loss = 2.375e-01 | test loss = 3.097e-01 | traffix score =  97.228% | rel error = 1.023e-03 depth =  50.0 | lr = 1.0e-03 | eps = 1.0e-04 | time = 3.2e+01\n"
          ],
          "name": "stdout"
        },
        {
          "output_type": "stream",
          "text": [
            ""
          ],
          "name": "stderr"
        },
        {
          "output_type": "stream",
          "text": [
            "[  43/ 200]: train loss = 2.385e-01 | test loss = 3.122e-01 | traffix score =  97.226% | rel error = 1.027e-03 depth =  50.0 | lr = 1.0e-03 | eps = 1.0e-04 | time = 3.2e+01\n"
          ],
          "name": "stdout"
        },
        {
          "output_type": "stream",
          "text": [
            ""
          ],
          "name": "stderr"
        },
        {
          "output_type": "stream",
          "text": [
            "[  44/ 200]: train loss = 2.262e-01 | test loss = 3.182e-01 | traffix score =  97.214% | rel error = 1.036e-03 depth =  50.0 | lr = 1.0e-03 | eps = 1.0e-04 | time = 3.2e+01\n"
          ],
          "name": "stdout"
        },
        {
          "output_type": "stream",
          "text": [
            ""
          ],
          "name": "stderr"
        },
        {
          "output_type": "stream",
          "text": [
            "[  45/ 200]: train loss = 2.485e-01 | test loss = 3.090e-01 | traffix score =  97.241% | rel error = 1.021e-03 depth =  50.0 | lr = 1.0e-03 | eps = 1.0e-04 | time = 3.2e+01\n"
          ],
          "name": "stdout"
        },
        {
          "output_type": "stream",
          "text": [
            ""
          ],
          "name": "stderr"
        },
        {
          "output_type": "stream",
          "text": [
            "[  46/ 200]: train loss = 2.201e-01 | test loss = 3.104e-01 | traffix score =  97.215% | rel error = 1.024e-03 depth =  50.0 | lr = 1.0e-03 | eps = 1.0e-04 | time = 3.2e+01\n"
          ],
          "name": "stdout"
        },
        {
          "output_type": "stream",
          "text": [
            ""
          ],
          "name": "stderr"
        },
        {
          "output_type": "stream",
          "text": [
            "[  47/ 200]: train loss = 2.418e-01 | test loss = 3.058e-01 | traffix score =  97.269% | rel error = 1.016e-03 depth =  50.0 | lr = 1.0e-03 | eps = 1.0e-04 | time = 3.2e+01\n"
          ],
          "name": "stdout"
        },
        {
          "output_type": "stream",
          "text": [
            ""
          ],
          "name": "stderr"
        },
        {
          "output_type": "stream",
          "text": [
            "[  48/ 200]: train loss = 2.279e-01 | test loss = 3.183e-01 | traffix score =  97.167% | rel error = 1.037e-03 depth =  50.0 | lr = 1.0e-03 | eps = 1.0e-04 | time = 3.2e+01\n"
          ],
          "name": "stdout"
        },
        {
          "output_type": "stream",
          "text": [
            ""
          ],
          "name": "stderr"
        },
        {
          "output_type": "stream",
          "text": [
            "[  49/ 200]: train loss = 2.566e-01 | test loss = 3.088e-01 | traffix score =  96.645% | rel error = 1.021e-03 depth =  50.0 | lr = 1.0e-03 | eps = 1.0e-04 | time = 3.2e+01\n"
          ],
          "name": "stdout"
        },
        {
          "output_type": "stream",
          "text": [
            ""
          ],
          "name": "stderr"
        },
        {
          "output_type": "stream",
          "text": [
            "[  50/ 200]: train loss = 2.413e-01 | test loss = 3.131e-01 | traffix score =  97.218% | rel error = 1.028e-03 depth =  50.0 | lr = 1.0e-03 | eps = 1.0e-04 | time = 3.2e+01\n"
          ],
          "name": "stdout"
        },
        {
          "output_type": "stream",
          "text": [
            ""
          ],
          "name": "stderr"
        },
        {
          "output_type": "stream",
          "text": [
            "[  51/ 200]: train loss = 2.336e-01 | test loss = 3.078e-01 | traffix score =  96.914% | rel error = 1.019e-03 depth =  50.0 | lr = 1.0e-03 | eps = 1.0e-04 | time = 3.2e+01\n"
          ],
          "name": "stdout"
        },
        {
          "output_type": "stream",
          "text": [
            ""
          ],
          "name": "stderr"
        },
        {
          "output_type": "stream",
          "text": [
            "[  52/ 200]: train loss = 2.258e-01 | test loss = 3.142e-01 | traffix score =  96.667% | rel error = 1.030e-03 depth =  50.0 | lr = 1.0e-03 | eps = 1.0e-04 | time = 3.2e+01\n"
          ],
          "name": "stdout"
        },
        {
          "output_type": "stream",
          "text": [
            ""
          ],
          "name": "stderr"
        },
        {
          "output_type": "stream",
          "text": [
            "[  53/ 200]: train loss = 2.459e-01 | test loss = 3.064e-01 | traffix score =  96.811% | rel error = 1.017e-03 depth =  50.0 | lr = 1.0e-03 | eps = 1.0e-04 | time = 3.2e+01\n"
          ],
          "name": "stdout"
        },
        {
          "output_type": "stream",
          "text": [
            ""
          ],
          "name": "stderr"
        },
        {
          "output_type": "stream",
          "text": [
            "[  54/ 200]: train loss = 2.306e-01 | test loss = 3.110e-01 | traffix score =  97.069% | rel error = 1.025e-03 depth =  50.0 | lr = 1.0e-03 | eps = 1.0e-04 | time = 3.2e+01\n"
          ],
          "name": "stdout"
        },
        {
          "output_type": "stream",
          "text": [
            ""
          ],
          "name": "stderr"
        },
        {
          "output_type": "stream",
          "text": [
            "[  55/ 200]: train loss = 2.215e-01 | test loss = 3.041e-01 | traffix score =  96.912% | rel error = 1.013e-03 depth =  50.0 | lr = 1.0e-03 | eps = 1.0e-04 | time = 3.2e+01\n"
          ],
          "name": "stdout"
        },
        {
          "output_type": "stream",
          "text": [
            ""
          ],
          "name": "stderr"
        },
        {
          "output_type": "stream",
          "text": [
            "[  56/ 200]: train loss = 2.373e-01 | test loss = 3.032e-01 | traffix score =  96.390% | rel error = 1.012e-03 depth =  50.0 | lr = 1.0e-03 | eps = 1.0e-04 | time = 3.2e+01\n"
          ],
          "name": "stdout"
        },
        {
          "output_type": "stream",
          "text": [
            ""
          ],
          "name": "stderr"
        },
        {
          "output_type": "stream",
          "text": [
            "[  57/ 200]: train loss = 2.164e-01 | test loss = 3.098e-01 | traffix score =  97.205% | rel error = 1.023e-03 depth =  50.0 | lr = 1.0e-03 | eps = 1.0e-04 | time = 3.2e+01\n"
          ],
          "name": "stdout"
        },
        {
          "output_type": "stream",
          "text": [
            ""
          ],
          "name": "stderr"
        },
        {
          "output_type": "stream",
          "text": [
            "[  58/ 200]: train loss = 2.283e-01 | test loss = 2.984e-01 | traffix score =  96.839% | rel error = 1.004e-03 depth =  50.0 | lr = 1.0e-03 | eps = 1.0e-04 | time = 3.2e+01\n"
          ],
          "name": "stdout"
        },
        {
          "output_type": "stream",
          "text": [
            ""
          ],
          "name": "stderr"
        },
        {
          "output_type": "stream",
          "text": [
            "[  59/ 200]: train loss = 2.546e-01 | test loss = 2.998e-01 | traffix score =  96.402% | rel error = 1.006e-03 depth =  50.0 | lr = 1.0e-03 | eps = 1.0e-04 | time = 3.2e+01\n"
          ],
          "name": "stdout"
        },
        {
          "output_type": "stream",
          "text": [
            ""
          ],
          "name": "stderr"
        },
        {
          "output_type": "stream",
          "text": [
            "[  60/ 200]: train loss = 2.382e-01 | test loss = 3.315e-01 | traffix score =  95.940% | rel error = 1.058e-03 depth =  50.0 | lr = 1.0e-03 | eps = 1.0e-04 | time = 3.3e+01\n"
          ],
          "name": "stdout"
        },
        {
          "output_type": "stream",
          "text": [
            ""
          ],
          "name": "stderr"
        },
        {
          "output_type": "stream",
          "text": [
            "[  61/ 200]: train loss = 2.294e-01 | test loss = 3.147e-01 | traffix score =  96.433% | rel error = 1.031e-03 depth =  50.0 | lr = 1.0e-03 | eps = 1.0e-04 | time = 3.2e+01\n"
          ],
          "name": "stdout"
        },
        {
          "output_type": "stream",
          "text": [
            ""
          ],
          "name": "stderr"
        },
        {
          "output_type": "stream",
          "text": [
            "[  62/ 200]: train loss = 2.247e-01 | test loss = 2.978e-01 | traffix score =  96.963% | rel error = 1.003e-03 depth =  50.0 | lr = 1.0e-03 | eps = 1.0e-04 | time = 3.2e+01\n"
          ],
          "name": "stdout"
        },
        {
          "output_type": "stream",
          "text": [
            ""
          ],
          "name": "stderr"
        },
        {
          "output_type": "stream",
          "text": [
            "[  63/ 200]: train loss = 2.330e-01 | test loss = 2.830e-01 | traffix score =  97.147% | rel error = 9.774e-04 depth =  50.0 | lr = 1.0e-03 | eps = 1.0e-04 | time = 3.2e+01\n"
          ],
          "name": "stdout"
        },
        {
          "output_type": "stream",
          "text": [
            ""
          ],
          "name": "stderr"
        },
        {
          "output_type": "stream",
          "text": [
            "[  64/ 200]: train loss = 2.136e-01 | test loss = 2.866e-01 | traffix score =  96.912% | rel error = 9.837e-04 depth =  50.0 | lr = 1.0e-03 | eps = 1.0e-04 | time = 3.2e+01\n"
          ],
          "name": "stdout"
        },
        {
          "output_type": "stream",
          "text": [
            ""
          ],
          "name": "stderr"
        },
        {
          "output_type": "stream",
          "text": [
            "[  65/ 200]: train loss = 2.067e-01 | test loss = 2.650e-01 | traffix score =  97.197% | rel error = 9.459e-04 depth =  50.0 | lr = 1.0e-03 | eps = 1.0e-04 | time = 3.2e+01\n"
          ],
          "name": "stdout"
        },
        {
          "output_type": "stream",
          "text": [
            ""
          ],
          "name": "stderr"
        },
        {
          "output_type": "stream",
          "text": [
            "[  66/ 200]: train loss = 2.011e-01 | test loss = 2.816e-01 | traffix score =  96.898% | rel error = 9.751e-04 depth =  50.0 | lr = 1.0e-03 | eps = 1.0e-04 | time = 3.2e+01\n"
          ],
          "name": "stdout"
        },
        {
          "output_type": "stream",
          "text": [
            ""
          ],
          "name": "stderr"
        },
        {
          "output_type": "stream",
          "text": [
            "[  67/ 200]: train loss = 1.960e-01 | test loss = 2.502e-01 | traffix score =  96.066% | rel error = 9.190e-04 depth =  50.0 | lr = 1.0e-03 | eps = 1.0e-04 | time = 3.2e+01\n"
          ],
          "name": "stdout"
        },
        {
          "output_type": "stream",
          "text": [
            ""
          ],
          "name": "stderr"
        },
        {
          "output_type": "stream",
          "text": [
            "[  68/ 200]: train loss = 1.855e-01 | test loss = 2.513e-01 | traffix score =  96.151% | rel error = 9.210e-04 depth =  50.0 | lr = 1.0e-03 | eps = 1.0e-04 | time = 3.2e+01\n"
          ],
          "name": "stdout"
        },
        {
          "output_type": "stream",
          "text": [
            ""
          ],
          "name": "stderr"
        },
        {
          "output_type": "stream",
          "text": [
            "[  69/ 200]: train loss = 1.648e-01 | test loss = 2.339e-01 | traffix score =  96.372% | rel error = 8.886e-04 depth =  50.0 | lr = 1.0e-03 | eps = 1.0e-04 | time = 3.2e+01\n"
          ],
          "name": "stdout"
        },
        {
          "output_type": "stream",
          "text": [
            ""
          ],
          "name": "stderr"
        },
        {
          "output_type": "stream",
          "text": [
            "[  70/ 200]: train loss = 1.994e-01 | test loss = 2.749e-01 | traffix score =  96.383% | rel error = 9.633e-04 depth =  50.0 | lr = 1.0e-03 | eps = 1.0e-04 | time = 3.2e+01\n"
          ],
          "name": "stdout"
        },
        {
          "output_type": "stream",
          "text": [
            ""
          ],
          "name": "stderr"
        },
        {
          "output_type": "stream",
          "text": [
            "[  71/ 200]: train loss = 1.630e-01 | test loss = 2.162e-01 | traffix score =  96.755% | rel error = 8.542e-04 depth =  50.0 | lr = 1.0e-03 | eps = 1.0e-04 | time = 3.2e+01\n"
          ],
          "name": "stdout"
        },
        {
          "output_type": "stream",
          "text": [
            ""
          ],
          "name": "stderr"
        },
        {
          "output_type": "stream",
          "text": [
            "[  72/ 200]: train loss = 1.618e-01 | test loss = 2.164e-01 | traffix score =  97.075% | rel error = 8.547e-04 depth =  50.0 | lr = 1.0e-03 | eps = 1.0e-04 | time = 3.2e+01\n"
          ],
          "name": "stdout"
        },
        {
          "output_type": "stream",
          "text": [
            ""
          ],
          "name": "stderr"
        },
        {
          "output_type": "stream",
          "text": [
            "[  73/ 200]: train loss = 1.529e-01 | test loss = 2.124e-01 | traffix score =  96.951% | rel error = 8.467e-04 depth =  50.0 | lr = 1.0e-03 | eps = 1.0e-04 | time = 3.2e+01\n"
          ],
          "name": "stdout"
        },
        {
          "output_type": "stream",
          "text": [
            ""
          ],
          "name": "stderr"
        },
        {
          "output_type": "stream",
          "text": [
            "[  74/ 200]: train loss = 1.534e-01 | test loss = 2.213e-01 | traffix score =  96.576% | rel error = 8.643e-04 depth =  50.0 | lr = 1.0e-03 | eps = 1.0e-04 | time = 3.3e+01\n"
          ],
          "name": "stdout"
        },
        {
          "output_type": "stream",
          "text": [
            ""
          ],
          "name": "stderr"
        },
        {
          "output_type": "stream",
          "text": [
            "[  75/ 200]: train loss = 1.559e-01 | test loss = 2.050e-01 | traffix score =  96.563% | rel error = 8.318e-04 depth =  50.0 | lr = 1.0e-03 | eps = 1.0e-04 | time = 3.2e+01\n"
          ],
          "name": "stdout"
        },
        {
          "output_type": "stream",
          "text": [
            ""
          ],
          "name": "stderr"
        },
        {
          "output_type": "stream",
          "text": [
            "[  76/ 200]: train loss = 1.439e-01 | test loss = 2.121e-01 | traffix score =  96.249% | rel error = 8.462e-04 depth =  50.0 | lr = 1.0e-03 | eps = 1.0e-04 | time = 3.2e+01\n"
          ],
          "name": "stdout"
        },
        {
          "output_type": "stream",
          "text": [
            ""
          ],
          "name": "stderr"
        },
        {
          "output_type": "stream",
          "text": [
            "[  77/ 200]: train loss = 1.323e-01 | test loss = 1.925e-01 | traffix score =  97.048% | rel error = 8.061e-04 depth =  50.0 | lr = 1.0e-03 | eps = 1.0e-04 | time = 3.2e+01\n"
          ],
          "name": "stdout"
        },
        {
          "output_type": "stream",
          "text": [
            ""
          ],
          "name": "stderr"
        },
        {
          "output_type": "stream",
          "text": [
            "[  78/ 200]: train loss = 1.265e-01 | test loss = 1.831e-01 | traffix score =  96.687% | rel error = 7.863e-04 depth =  50.0 | lr = 1.0e-03 | eps = 1.0e-04 | time = 3.2e+01\n"
          ],
          "name": "stdout"
        },
        {
          "output_type": "stream",
          "text": [
            ""
          ],
          "name": "stderr"
        },
        {
          "output_type": "stream",
          "text": [
            "[  79/ 200]: train loss = 1.300e-01 | test loss = 1.763e-01 | traffix score =  96.575% | rel error = 7.714e-04 depth =  50.0 | lr = 1.0e-03 | eps = 1.0e-04 | time = 3.2e+01\n"
          ],
          "name": "stdout"
        },
        {
          "output_type": "stream",
          "text": [
            ""
          ],
          "name": "stderr"
        },
        {
          "output_type": "stream",
          "text": [
            "[  80/ 200]: train loss = 1.203e-01 | test loss = 1.730e-01 | traffix score =  96.590% | rel error = 7.643e-04 depth =  50.0 | lr = 1.0e-03 | eps = 1.0e-04 | time = 3.2e+01\n"
          ],
          "name": "stdout"
        },
        {
          "output_type": "stream",
          "text": [
            ""
          ],
          "name": "stderr"
        },
        {
          "output_type": "stream",
          "text": [
            "[  81/ 200]: train loss = 1.147e-01 | test loss = 1.904e-01 | traffix score =  96.144% | rel error = 8.017e-04 depth =  50.0 | lr = 1.0e-03 | eps = 1.0e-04 | time = 3.2e+01\n"
          ],
          "name": "stdout"
        },
        {
          "output_type": "stream",
          "text": [
            ""
          ],
          "name": "stderr"
        },
        {
          "output_type": "stream",
          "text": [
            "[  82/ 200]: train loss = 1.230e-01 | test loss = 1.805e-01 | traffix score =  96.405% | rel error = 7.806e-04 depth =  50.0 | lr = 1.0e-03 | eps = 1.0e-04 | time = 3.2e+01\n"
          ],
          "name": "stdout"
        },
        {
          "output_type": "stream",
          "text": [
            ""
          ],
          "name": "stderr"
        },
        {
          "output_type": "stream",
          "text": [
            "[  83/ 200]: train loss = 1.108e-01 | test loss = 1.794e-01 | traffix score =  96.930% | rel error = 7.783e-04 depth =  50.0 | lr = 1.0e-03 | eps = 1.0e-04 | time = 3.2e+01\n"
          ],
          "name": "stdout"
        },
        {
          "output_type": "stream",
          "text": [
            ""
          ],
          "name": "stderr"
        },
        {
          "output_type": "stream",
          "text": [
            "[  84/ 200]: train loss = 1.056e-01 | test loss = 1.667e-01 | traffix score =  96.872% | rel error = 7.501e-04 depth =  50.0 | lr = 1.0e-03 | eps = 1.0e-04 | time = 3.2e+01\n"
          ],
          "name": "stdout"
        },
        {
          "output_type": "stream",
          "text": [
            ""
          ],
          "name": "stderr"
        },
        {
          "output_type": "stream",
          "text": [
            "[  85/ 200]: train loss = 1.144e-01 | test loss = 1.716e-01 | traffix score =  96.304% | rel error = 7.611e-04 depth =  50.0 | lr = 1.0e-03 | eps = 1.0e-04 | time = 3.2e+01\n"
          ],
          "name": "stdout"
        },
        {
          "output_type": "stream",
          "text": [
            ""
          ],
          "name": "stderr"
        },
        {
          "output_type": "stream",
          "text": [
            "[  86/ 200]: train loss = 1.038e-01 | test loss = 1.551e-01 | traffix score =  96.453% | rel error = 7.236e-04 depth =  50.0 | lr = 1.0e-03 | eps = 1.0e-04 | time = 3.2e+01\n"
          ],
          "name": "stdout"
        },
        {
          "output_type": "stream",
          "text": [
            ""
          ],
          "name": "stderr"
        },
        {
          "output_type": "stream",
          "text": [
            "[  87/ 200]: train loss = 9.580e-02 | test loss = 1.482e-01 | traffix score =  96.715% | rel error = 7.074e-04 depth =  50.0 | lr = 1.0e-03 | eps = 1.0e-04 | time = 3.2e+01\n"
          ],
          "name": "stdout"
        },
        {
          "output_type": "stream",
          "text": [
            ""
          ],
          "name": "stderr"
        },
        {
          "output_type": "stream",
          "text": [
            "[  88/ 200]: train loss = 8.727e-02 | test loss = 1.456e-01 | traffix score =  96.946% | rel error = 7.010e-04 depth =  50.0 | lr = 1.0e-03 | eps = 1.0e-04 | time = 3.3e+01\n"
          ],
          "name": "stdout"
        },
        {
          "output_type": "stream",
          "text": [
            ""
          ],
          "name": "stderr"
        },
        {
          "output_type": "stream",
          "text": [
            "[  89/ 200]: train loss = 9.388e-02 | test loss = 1.395e-01 | traffix score =  96.860% | rel error = 6.862e-04 depth =  50.0 | lr = 1.0e-03 | eps = 1.0e-04 | time = 3.2e+01\n"
          ],
          "name": "stdout"
        },
        {
          "output_type": "stream",
          "text": [
            ""
          ],
          "name": "stderr"
        },
        {
          "output_type": "stream",
          "text": [
            "[  90/ 200]: train loss = 1.085e-01 | test loss = 1.451e-01 | traffix score =  96.712% | rel error = 7.000e-04 depth =  50.0 | lr = 1.0e-03 | eps = 1.0e-04 | time = 3.2e+01\n"
          ],
          "name": "stdout"
        },
        {
          "output_type": "stream",
          "text": [
            ""
          ],
          "name": "stderr"
        },
        {
          "output_type": "stream",
          "text": [
            "[  91/ 200]: train loss = 8.245e-02 | test loss = 1.449e-01 | traffix score =  96.845% | rel error = 6.994e-04 depth =  50.0 | lr = 1.0e-03 | eps = 1.0e-04 | time = 3.2e+01\n"
          ],
          "name": "stdout"
        },
        {
          "output_type": "stream",
          "text": [
            ""
          ],
          "name": "stderr"
        },
        {
          "output_type": "stream",
          "text": [
            "[  92/ 200]: train loss = 7.671e-02 | test loss = 1.469e-01 | traffix score =  96.656% | rel error = 7.041e-04 depth =  50.0 | lr = 1.0e-03 | eps = 1.0e-04 | time = 3.2e+01\n"
          ],
          "name": "stdout"
        },
        {
          "output_type": "stream",
          "text": [
            ""
          ],
          "name": "stderr"
        },
        {
          "output_type": "stream",
          "text": [
            "[  93/ 200]: train loss = 7.740e-02 | test loss = 1.402e-01 | traffix score =  96.992% | rel error = 6.879e-04 depth =  50.0 | lr = 1.0e-03 | eps = 1.0e-04 | time = 3.2e+01\n"
          ],
          "name": "stdout"
        },
        {
          "output_type": "stream",
          "text": [
            ""
          ],
          "name": "stderr"
        },
        {
          "output_type": "stream",
          "text": [
            "[  94/ 200]: train loss = 7.884e-02 | test loss = 1.347e-01 | traffix score =  96.490% | rel error = 6.742e-04 depth =  50.0 | lr = 1.0e-03 | eps = 1.0e-04 | time = 3.2e+01\n"
          ],
          "name": "stdout"
        },
        {
          "output_type": "stream",
          "text": [
            ""
          ],
          "name": "stderr"
        },
        {
          "output_type": "stream",
          "text": [
            "[  95/ 200]: train loss = 9.309e-02 | test loss = 1.391e-01 | traffix score =  95.303% | rel error = 6.852e-04 depth =  50.0 | lr = 1.0e-03 | eps = 1.0e-04 | time = 3.2e+01\n"
          ],
          "name": "stdout"
        },
        {
          "output_type": "stream",
          "text": [
            ""
          ],
          "name": "stderr"
        },
        {
          "output_type": "stream",
          "text": [
            "[  96/ 200]: train loss = 7.915e-02 | test loss = 1.317e-01 | traffix score =  95.954% | rel error = 6.667e-04 depth =  50.0 | lr = 1.0e-03 | eps = 1.0e-04 | time = 3.2e+01\n"
          ],
          "name": "stdout"
        },
        {
          "output_type": "stream",
          "text": [
            ""
          ],
          "name": "stderr"
        },
        {
          "output_type": "stream",
          "text": [
            "[  97/ 200]: train loss = 8.336e-02 | test loss = 1.343e-01 | traffix score =  97.036% | rel error = 6.733e-04 depth =  50.0 | lr = 1.0e-03 | eps = 1.0e-04 | time = 3.2e+01\n"
          ],
          "name": "stdout"
        },
        {
          "output_type": "stream",
          "text": [
            ""
          ],
          "name": "stderr"
        },
        {
          "output_type": "stream",
          "text": [
            "[  98/ 200]: train loss = 7.351e-02 | test loss = 1.269e-01 | traffix score =  97.181% | rel error = 6.546e-04 depth =  50.0 | lr = 1.0e-03 | eps = 1.0e-04 | time = 3.2e+01\n"
          ],
          "name": "stdout"
        },
        {
          "output_type": "stream",
          "text": [
            ""
          ],
          "name": "stderr"
        },
        {
          "output_type": "stream",
          "text": [
            "[  99/ 200]: train loss = 7.776e-02 | test loss = 1.304e-01 | traffix score =  96.595% | rel error = 6.636e-04 depth =  50.0 | lr = 1.0e-03 | eps = 1.0e-04 | time = 3.2e+01\n"
          ],
          "name": "stdout"
        },
        {
          "output_type": "stream",
          "text": [
            ""
          ],
          "name": "stderr"
        },
        {
          "output_type": "stream",
          "text": [
            "[ 100/ 200]: train loss = 7.574e-02 | test loss = 1.291e-01 | traffix score =  96.987% | rel error = 6.601e-04 depth =  50.0 | lr = 1.0e-03 | eps = 1.0e-04 | time = 3.2e+01\n"
          ],
          "name": "stdout"
        },
        {
          "output_type": "stream",
          "text": [
            ""
          ],
          "name": "stderr"
        },
        {
          "output_type": "stream",
          "text": [
            "[ 101/ 200]: train loss = 7.138e-02 | test loss = 1.339e-01 | traffix score =  97.086% | rel error = 6.722e-04 depth =  50.0 | lr = 1.0e-03 | eps = 1.0e-04 | time = 3.2e+01\n"
          ],
          "name": "stdout"
        },
        {
          "output_type": "stream",
          "text": [
            ""
          ],
          "name": "stderr"
        },
        {
          "output_type": "stream",
          "text": [
            "[ 102/ 200]: train loss = 7.115e-02 | test loss = 1.254e-01 | traffix score =  96.951% | rel error = 6.506e-04 depth =  50.0 | lr = 1.0e-03 | eps = 1.0e-04 | time = 3.3e+01\n"
          ],
          "name": "stdout"
        },
        {
          "output_type": "stream",
          "text": [
            ""
          ],
          "name": "stderr"
        },
        {
          "output_type": "stream",
          "text": [
            "[ 103/ 200]: train loss = 7.310e-02 | test loss = 1.414e-01 | traffix score =  96.433% | rel error = 6.908e-04 depth =  50.0 | lr = 1.0e-03 | eps = 1.0e-04 | time = 3.2e+01\n"
          ],
          "name": "stdout"
        },
        {
          "output_type": "stream",
          "text": [
            ""
          ],
          "name": "stderr"
        },
        {
          "output_type": "stream",
          "text": [
            "[ 104/ 200]: train loss = 6.739e-02 | test loss = 1.290e-01 | traffix score =  96.587% | rel error = 6.600e-04 depth =  50.0 | lr = 1.0e-03 | eps = 1.0e-04 | time = 3.2e+01\n"
          ],
          "name": "stdout"
        },
        {
          "output_type": "stream",
          "text": [
            ""
          ],
          "name": "stderr"
        },
        {
          "output_type": "stream",
          "text": [
            "[ 105/ 200]: train loss = 6.659e-02 | test loss = 1.229e-01 | traffix score =  96.630% | rel error = 6.442e-04 depth =  50.0 | lr = 1.0e-03 | eps = 1.0e-04 | time = 3.3e+01\n"
          ],
          "name": "stdout"
        },
        {
          "output_type": "stream",
          "text": [
            ""
          ],
          "name": "stderr"
        },
        {
          "output_type": "stream",
          "text": [
            "[ 106/ 200]: train loss = 6.487e-02 | test loss = 1.247e-01 | traffix score =  96.325% | rel error = 6.488e-04 depth =  50.0 | lr = 1.0e-03 | eps = 1.0e-04 | time = 3.3e+01\n"
          ],
          "name": "stdout"
        },
        {
          "output_type": "stream",
          "text": [
            ""
          ],
          "name": "stderr"
        },
        {
          "output_type": "stream",
          "text": [
            "[ 107/ 200]: train loss = 6.537e-02 | test loss = 1.301e-01 | traffix score =  96.234% | rel error = 6.627e-04 depth =  50.0 | lr = 1.0e-03 | eps = 1.0e-04 | time = 3.3e+01\n"
          ],
          "name": "stdout"
        },
        {
          "output_type": "stream",
          "text": [
            ""
          ],
          "name": "stderr"
        },
        {
          "output_type": "stream",
          "text": [
            "[ 108/ 200]: train loss = 6.201e-02 | test loss = 1.164e-01 | traffix score =  96.865% | rel error = 6.268e-04 depth =  50.0 | lr = 1.0e-03 | eps = 1.0e-04 | time = 3.2e+01\n"
          ],
          "name": "stdout"
        },
        {
          "output_type": "stream",
          "text": [
            ""
          ],
          "name": "stderr"
        },
        {
          "output_type": "stream",
          "text": [
            "[ 109/ 200]: train loss = 5.445e-02 | test loss = 1.179e-01 | traffix score =  97.177% | rel error = 6.308e-04 depth =  50.0 | lr = 1.0e-03 | eps = 1.0e-04 | time = 3.2e+01\n"
          ],
          "name": "stdout"
        },
        {
          "output_type": "stream",
          "text": [
            ""
          ],
          "name": "stderr"
        },
        {
          "output_type": "stream",
          "text": [
            "[ 110/ 200]: train loss = 7.176e-02 | test loss = 1.389e-01 | traffix score =  94.980% | rel error = 6.848e-04 depth =  50.0 | lr = 1.0e-03 | eps = 1.0e-04 | time = 3.2e+01\n"
          ],
          "name": "stdout"
        },
        {
          "output_type": "stream",
          "text": [
            ""
          ],
          "name": "stderr"
        },
        {
          "output_type": "stream",
          "text": [
            "[ 111/ 200]: train loss = 6.580e-02 | test loss = 1.117e-01 | traffix score =  96.303% | rel error = 6.141e-04 depth =  50.0 | lr = 1.0e-03 | eps = 1.0e-04 | time = 3.2e+01\n"
          ],
          "name": "stdout"
        },
        {
          "output_type": "stream",
          "text": [
            ""
          ],
          "name": "stderr"
        },
        {
          "output_type": "stream",
          "text": [
            "[ 112/ 200]: train loss = 6.087e-02 | test loss = 1.259e-01 | traffix score =  96.439% | rel error = 6.520e-04 depth =  50.0 | lr = 1.0e-03 | eps = 1.0e-04 | time = 3.2e+01\n"
          ],
          "name": "stdout"
        },
        {
          "output_type": "stream",
          "text": [
            ""
          ],
          "name": "stderr"
        },
        {
          "output_type": "stream",
          "text": [
            "[ 113/ 200]: train loss = 5.555e-02 | test loss = 1.096e-01 | traffix score =  96.755% | rel error = 6.082e-04 depth =  50.0 | lr = 1.0e-03 | eps = 1.0e-04 | time = 3.2e+01\n"
          ],
          "name": "stdout"
        },
        {
          "output_type": "stream",
          "text": [
            ""
          ],
          "name": "stderr"
        },
        {
          "output_type": "stream",
          "text": [
            "[ 114/ 200]: train loss = 6.144e-02 | test loss = 1.193e-01 | traffix score =  96.977% | rel error = 6.347e-04 depth =  50.0 | lr = 1.0e-03 | eps = 1.0e-04 | time = 3.2e+01\n"
          ],
          "name": "stdout"
        },
        {
          "output_type": "stream",
          "text": [
            ""
          ],
          "name": "stderr"
        },
        {
          "output_type": "stream",
          "text": [
            "[ 115/ 200]: train loss = 6.000e-02 | test loss = 1.205e-01 | traffix score =  97.073% | rel error = 6.379e-04 depth =  50.0 | lr = 1.0e-03 | eps = 1.0e-04 | time = 3.2e+01\n"
          ],
          "name": "stdout"
        },
        {
          "output_type": "stream",
          "text": [
            ""
          ],
          "name": "stderr"
        },
        {
          "output_type": "stream",
          "text": [
            "[ 116/ 200]: train loss = 6.344e-02 | test loss = 1.186e-01 | traffix score =  96.906% | rel error = 6.327e-04 depth =  50.0 | lr = 1.0e-03 | eps = 1.0e-04 | time = 3.3e+01\n"
          ],
          "name": "stdout"
        },
        {
          "output_type": "stream",
          "text": [
            ""
          ],
          "name": "stderr"
        },
        {
          "output_type": "stream",
          "text": [
            "[ 117/ 200]: train loss = 6.070e-02 | test loss = 1.095e-01 | traffix score =  97.198% | rel error = 6.081e-04 depth =  50.0 | lr = 1.0e-03 | eps = 1.0e-04 | time = 3.2e+01\n"
          ],
          "name": "stdout"
        },
        {
          "output_type": "stream",
          "text": [
            ""
          ],
          "name": "stderr"
        },
        {
          "output_type": "stream",
          "text": [
            "[ 118/ 200]: train loss = 5.037e-02 | test loss = 1.100e-01 | traffix score =  96.075% | rel error = 6.094e-04 depth =  50.0 | lr = 1.0e-03 | eps = 1.0e-04 | time = 3.2e+01\n"
          ],
          "name": "stdout"
        },
        {
          "output_type": "stream",
          "text": [
            ""
          ],
          "name": "stderr"
        },
        {
          "output_type": "stream",
          "text": [
            "[ 119/ 200]: train loss = 5.553e-02 | test loss = 1.121e-01 | traffix score =  97.024% | rel error = 6.152e-04 depth =  50.0 | lr = 1.0e-03 | eps = 1.0e-04 | time = 3.2e+01\n"
          ],
          "name": "stdout"
        },
        {
          "output_type": "stream",
          "text": [
            ""
          ],
          "name": "stderr"
        },
        {
          "output_type": "stream",
          "text": [
            "[ 120/ 200]: train loss = 5.147e-02 | test loss = 1.093e-01 | traffix score =  97.172% | rel error = 6.073e-04 depth =  50.0 | lr = 1.0e-03 | eps = 1.0e-04 | time = 3.2e+01\n"
          ],
          "name": "stdout"
        },
        {
          "output_type": "stream",
          "text": [
            ""
          ],
          "name": "stderr"
        },
        {
          "output_type": "stream",
          "text": [
            "[ 121/ 200]: train loss = 5.976e-02 | test loss = 1.224e-01 | traffix score =  96.283% | rel error = 6.427e-04 depth =  50.0 | lr = 1.0e-03 | eps = 1.0e-04 | time = 3.2e+01\n"
          ],
          "name": "stdout"
        },
        {
          "output_type": "stream",
          "text": [
            ""
          ],
          "name": "stderr"
        },
        {
          "output_type": "stream",
          "text": [
            "[ 122/ 200]: train loss = 5.218e-02 | test loss = 1.119e-01 | traffix score =  95.334% | rel error = 6.147e-04 depth =  50.0 | lr = 1.0e-03 | eps = 1.0e-04 | time = 3.2e+01\n"
          ],
          "name": "stdout"
        },
        {
          "output_type": "stream",
          "text": [
            ""
          ],
          "name": "stderr"
        },
        {
          "output_type": "stream",
          "text": [
            "[ 123/ 200]: train loss = 4.656e-02 | test loss = 1.073e-01 | traffix score =  97.168% | rel error = 6.018e-04 depth =  50.0 | lr = 1.0e-03 | eps = 1.0e-04 | time = 3.2e+01\n"
          ],
          "name": "stdout"
        },
        {
          "output_type": "stream",
          "text": [
            ""
          ],
          "name": "stderr"
        },
        {
          "output_type": "stream",
          "text": [
            "[ 124/ 200]: train loss = 4.660e-02 | test loss = 1.052e-01 | traffix score =  96.919% | rel error = 5.960e-04 depth =  50.0 | lr = 1.0e-03 | eps = 1.0e-04 | time = 3.2e+01\n"
          ],
          "name": "stdout"
        },
        {
          "output_type": "stream",
          "text": [
            ""
          ],
          "name": "stderr"
        },
        {
          "output_type": "stream",
          "text": [
            "[ 125/ 200]: train loss = 4.690e-02 | test loss = 1.096e-01 | traffix score =  96.529% | rel error = 6.083e-04 depth =  50.0 | lr = 1.0e-03 | eps = 1.0e-04 | time = 3.2e+01\n"
          ],
          "name": "stdout"
        },
        {
          "output_type": "stream",
          "text": [
            ""
          ],
          "name": "stderr"
        },
        {
          "output_type": "stream",
          "text": [
            "[ 126/ 200]: train loss = 4.704e-02 | test loss = 1.071e-01 | traffix score =  96.585% | rel error = 6.013e-04 depth =  50.0 | lr = 1.0e-03 | eps = 1.0e-04 | time = 3.2e+01\n"
          ],
          "name": "stdout"
        },
        {
          "output_type": "stream",
          "text": [
            ""
          ],
          "name": "stderr"
        },
        {
          "output_type": "stream",
          "text": [
            "[ 127/ 200]: train loss = 4.665e-02 | test loss = 1.059e-01 | traffix score =  95.756% | rel error = 5.980e-04 depth =  50.0 | lr = 1.0e-03 | eps = 1.0e-04 | time = 3.2e+01\n"
          ],
          "name": "stdout"
        },
        {
          "output_type": "stream",
          "text": [
            ""
          ],
          "name": "stderr"
        },
        {
          "output_type": "stream",
          "text": [
            "[ 128/ 200]: train loss = 4.750e-02 | test loss = 1.065e-01 | traffix score =  96.183% | rel error = 5.996e-04 depth =  50.0 | lr = 1.0e-03 | eps = 1.0e-04 | time = 3.2e+01\n"
          ],
          "name": "stdout"
        },
        {
          "output_type": "stream",
          "text": [
            ""
          ],
          "name": "stderr"
        },
        {
          "output_type": "stream",
          "text": [
            "[ 129/ 200]: train loss = 4.591e-02 | test loss = 1.011e-01 | traffix score =  96.842% | rel error = 5.842e-04 depth =  50.0 | lr = 1.0e-03 | eps = 1.0e-04 | time = 3.2e+01\n"
          ],
          "name": "stdout"
        },
        {
          "output_type": "stream",
          "text": [
            ""
          ],
          "name": "stderr"
        },
        {
          "output_type": "stream",
          "text": [
            "[ 130/ 200]: train loss = 4.619e-02 | test loss = 9.717e-02 | traffix score =  96.230% | rel error = 5.728e-04 depth =  50.0 | lr = 1.0e-03 | eps = 1.0e-04 | time = 3.3e+01\n"
          ],
          "name": "stdout"
        },
        {
          "output_type": "stream",
          "text": [
            ""
          ],
          "name": "stderr"
        },
        {
          "output_type": "stream",
          "text": [
            "[ 131/ 200]: train loss = 5.466e-02 | test loss = 1.159e-01 | traffix score =  95.566% | rel error = 6.256e-04 depth =  50.0 | lr = 1.0e-03 | eps = 1.0e-04 | time = 3.2e+01\n"
          ],
          "name": "stdout"
        },
        {
          "output_type": "stream",
          "text": [
            ""
          ],
          "name": "stderr"
        },
        {
          "output_type": "stream",
          "text": [
            "[ 132/ 200]: train loss = 4.357e-02 | test loss = 1.017e-01 | traffix score =  97.286% | rel error = 5.860e-04 depth =  50.0 | lr = 1.0e-03 | eps = 1.0e-04 | time = 3.2e+01\n"
          ],
          "name": "stdout"
        },
        {
          "output_type": "stream",
          "text": [
            ""
          ],
          "name": "stderr"
        },
        {
          "output_type": "stream",
          "text": [
            "[ 133/ 200]: train loss = 4.116e-02 | test loss = 9.489e-02 | traffix score =  97.240% | rel error = 5.660e-04 depth =  50.0 | lr = 1.0e-03 | eps = 1.0e-04 | time = 3.2e+01\n"
          ],
          "name": "stdout"
        },
        {
          "output_type": "stream",
          "text": [
            ""
          ],
          "name": "stderr"
        },
        {
          "output_type": "stream",
          "text": [
            "[ 134/ 200]: train loss = 4.345e-02 | test loss = 9.446e-02 | traffix score =  96.860% | rel error = 5.647e-04 depth =  50.0 | lr = 1.0e-03 | eps = 1.0e-04 | time = 3.2e+01\n"
          ],
          "name": "stdout"
        },
        {
          "output_type": "stream",
          "text": [
            ""
          ],
          "name": "stderr"
        },
        {
          "output_type": "stream",
          "text": [
            "[ 135/ 200]: train loss = 3.355e-02 | test loss = 9.510e-02 | traffix score =  96.364% | rel error = 5.666e-04 depth =  50.0 | lr = 1.0e-03 | eps = 1.0e-04 | time = 3.2e+01\n"
          ],
          "name": "stdout"
        },
        {
          "output_type": "stream",
          "text": [
            ""
          ],
          "name": "stderr"
        },
        {
          "output_type": "stream",
          "text": [
            "[ 136/ 200]: train loss = 4.106e-02 | test loss = 1.006e-01 | traffix score =  96.226% | rel error = 5.827e-04 depth =  50.0 | lr = 1.0e-03 | eps = 1.0e-04 | time = 3.2e+01\n"
          ],
          "name": "stdout"
        },
        {
          "output_type": "stream",
          "text": [
            ""
          ],
          "name": "stderr"
        },
        {
          "output_type": "stream",
          "text": [
            "[ 137/ 200]: train loss = 5.071e-02 | test loss = 1.054e-01 | traffix score =  95.153% | rel error = 5.966e-04 depth =  50.0 | lr = 1.0e-03 | eps = 1.0e-04 | time = 3.2e+01\n"
          ],
          "name": "stdout"
        },
        {
          "output_type": "stream",
          "text": [
            ""
          ],
          "name": "stderr"
        },
        {
          "output_type": "stream",
          "text": [
            "[ 138/ 200]: train loss = 3.680e-02 | test loss = 9.300e-02 | traffix score =  96.713% | rel error = 5.603e-04 depth =  50.0 | lr = 1.0e-03 | eps = 1.0e-04 | time = 3.2e+01\n"
          ],
          "name": "stdout"
        },
        {
          "output_type": "stream",
          "text": [
            ""
          ],
          "name": "stderr"
        },
        {
          "output_type": "stream",
          "text": [
            "[ 139/ 200]: train loss = 3.607e-02 | test loss = 9.278e-02 | traffix score =  96.834% | rel error = 5.597e-04 depth =  50.0 | lr = 1.0e-03 | eps = 1.0e-04 | time = 3.2e+01\n"
          ],
          "name": "stdout"
        },
        {
          "output_type": "stream",
          "text": [
            ""
          ],
          "name": "stderr"
        },
        {
          "output_type": "stream",
          "text": [
            "[ 140/ 200]: train loss = 2.988e-02 | test loss = 9.100e-02 | traffix score =  96.674% | rel error = 5.543e-04 depth =  50.0 | lr = 1.0e-03 | eps = 1.0e-04 | time = 3.2e+01\n"
          ],
          "name": "stdout"
        },
        {
          "output_type": "stream",
          "text": [
            ""
          ],
          "name": "stderr"
        },
        {
          "output_type": "stream",
          "text": [
            "[ 141/ 200]: train loss = 3.449e-02 | test loss = 9.286e-02 | traffix score =  96.888% | rel error = 5.599e-04 depth =  50.0 | lr = 1.0e-03 | eps = 1.0e-04 | time = 3.3e+01\n"
          ],
          "name": "stdout"
        },
        {
          "output_type": "stream",
          "text": [
            ""
          ],
          "name": "stderr"
        },
        {
          "output_type": "stream",
          "text": [
            "[ 142/ 200]: train loss = 4.585e-02 | test loss = 1.038e-01 | traffix score =  97.122% | rel error = 5.919e-04 depth =  50.0 | lr = 1.0e-03 | eps = 1.0e-04 | time = 3.2e+01\n"
          ],
          "name": "stdout"
        },
        {
          "output_type": "stream",
          "text": [
            ""
          ],
          "name": "stderr"
        },
        {
          "output_type": "stream",
          "text": [
            "[ 143/ 200]: train loss = 5.088e-02 | test loss = 1.191e-01 | traffix score =  95.626% | rel error = 6.342e-04 depth =  50.0 | lr = 1.0e-03 | eps = 1.0e-04 | time = 3.3e+01\n"
          ],
          "name": "stdout"
        },
        {
          "output_type": "stream",
          "text": [
            ""
          ],
          "name": "stderr"
        },
        {
          "output_type": "stream",
          "text": [
            "[ 144/ 200]: train loss = 4.067e-02 | test loss = 9.704e-02 | traffix score =  94.891% | rel error = 5.724e-04 depth =  50.0 | lr = 1.0e-03 | eps = 1.0e-04 | time = 3.3e+01\n"
          ],
          "name": "stdout"
        },
        {
          "output_type": "stream",
          "text": [
            ""
          ],
          "name": "stderr"
        },
        {
          "output_type": "stream",
          "text": [
            "[ 145/ 200]: train loss = 3.728e-02 | test loss = 9.191e-02 | traffix score =  96.532% | rel error = 5.570e-04 depth =  50.0 | lr = 1.0e-03 | eps = 1.0e-04 | time = 3.2e+01\n"
          ],
          "name": "stdout"
        },
        {
          "output_type": "stream",
          "text": [
            ""
          ],
          "name": "stderr"
        },
        {
          "output_type": "stream",
          "text": [
            "[ 146/ 200]: train loss = 3.526e-02 | test loss = 8.938e-02 | traffix score =  96.837% | rel error = 5.493e-04 depth =  50.0 | lr = 1.0e-03 | eps = 1.0e-04 | time = 3.2e+01\n"
          ],
          "name": "stdout"
        },
        {
          "output_type": "stream",
          "text": [
            ""
          ],
          "name": "stderr"
        },
        {
          "output_type": "stream",
          "text": [
            "[ 147/ 200]: train loss = 2.797e-02 | test loss = 8.999e-02 | traffix score =  96.220% | rel error = 5.512e-04 depth =  50.0 | lr = 1.0e-03 | eps = 1.0e-04 | time = 3.2e+01\n"
          ],
          "name": "stdout"
        },
        {
          "output_type": "stream",
          "text": [
            ""
          ],
          "name": "stderr"
        },
        {
          "output_type": "stream",
          "text": [
            "[ 148/ 200]: train loss = 3.114e-02 | test loss = 8.578e-02 | traffix score =  96.984% | rel error = 5.381e-04 depth =  50.0 | lr = 1.0e-03 | eps = 1.0e-04 | time = 3.2e+01\n"
          ],
          "name": "stdout"
        },
        {
          "output_type": "stream",
          "text": [
            ""
          ],
          "name": "stderr"
        },
        {
          "output_type": "stream",
          "text": [
            "[ 149/ 200]: train loss = 2.430e-02 | test loss = 8.977e-02 | traffix score =  96.917% | rel error = 5.505e-04 depth =  50.0 | lr = 1.0e-03 | eps = 1.0e-04 | time = 3.2e+01\n"
          ],
          "name": "stdout"
        },
        {
          "output_type": "stream",
          "text": [
            ""
          ],
          "name": "stderr"
        },
        {
          "output_type": "stream",
          "text": [
            "[ 150/ 200]: train loss = 3.102e-02 | test loss = 8.460e-02 | traffix score =  97.085% | rel error = 5.344e-04 depth =  50.0 | lr = 1.0e-03 | eps = 1.0e-04 | time = 3.2e+01\n"
          ],
          "name": "stdout"
        },
        {
          "output_type": "stream",
          "text": [
            ""
          ],
          "name": "stderr"
        },
        {
          "output_type": "stream",
          "text": [
            "[ 151/ 200]: train loss = 4.366e-02 | test loss = 1.006e-01 | traffix score =  95.432% | rel error = 5.828e-04 depth =  50.0 | lr = 1.0e-03 | eps = 1.0e-04 | time = 3.2e+01\n"
          ],
          "name": "stdout"
        },
        {
          "output_type": "stream",
          "text": [
            ""
          ],
          "name": "stderr"
        },
        {
          "output_type": "stream",
          "text": [
            "[ 152/ 200]: train loss = 3.683e-02 | test loss = 9.610e-02 | traffix score =  96.896% | rel error = 5.696e-04 depth =  50.0 | lr = 1.0e-03 | eps = 1.0e-04 | time = 3.2e+01\n"
          ],
          "name": "stdout"
        },
        {
          "output_type": "stream",
          "text": [
            ""
          ],
          "name": "stderr"
        },
        {
          "output_type": "stream",
          "text": [
            "[ 153/ 200]: train loss = 2.929e-02 | test loss = 8.915e-02 | traffix score =  96.155% | rel error = 5.486e-04 depth =  50.0 | lr = 1.0e-03 | eps = 1.0e-04 | time = 3.2e+01\n"
          ],
          "name": "stdout"
        },
        {
          "output_type": "stream",
          "text": [
            ""
          ],
          "name": "stderr"
        },
        {
          "output_type": "stream",
          "text": [
            "[ 154/ 200]: train loss = 3.097e-02 | test loss = 9.287e-02 | traffix score =  96.530% | rel error = 5.599e-04 depth =  50.0 | lr = 1.0e-03 | eps = 1.0e-04 | time = 3.2e+01\n"
          ],
          "name": "stdout"
        },
        {
          "output_type": "stream",
          "text": [
            ""
          ],
          "name": "stderr"
        },
        {
          "output_type": "stream",
          "text": [
            "[ 155/ 200]: train loss = 4.355e-02 | test loss = 9.195e-02 | traffix score =  95.390% | rel error = 5.571e-04 depth =  50.0 | lr = 1.0e-03 | eps = 1.0e-04 | time = 3.2e+01\n"
          ],
          "name": "stdout"
        },
        {
          "output_type": "stream",
          "text": [
            ""
          ],
          "name": "stderr"
        },
        {
          "output_type": "stream",
          "text": [
            "[ 156/ 200]: train loss = 2.922e-02 | test loss = 8.608e-02 | traffix score =  96.471% | rel error = 5.391e-04 depth =  50.0 | lr = 1.0e-03 | eps = 1.0e-04 | time = 3.2e+01\n"
          ],
          "name": "stdout"
        },
        {
          "output_type": "stream",
          "text": [
            ""
          ],
          "name": "stderr"
        },
        {
          "output_type": "stream",
          "text": [
            "[ 157/ 200]: train loss = 3.230e-02 | test loss = 8.970e-02 | traffix score =  96.376% | rel error = 5.503e-04 depth =  50.0 | lr = 1.0e-03 | eps = 1.0e-04 | time = 3.2e+01\n"
          ],
          "name": "stdout"
        },
        {
          "output_type": "stream",
          "text": [
            ""
          ],
          "name": "stderr"
        },
        {
          "output_type": "stream",
          "text": [
            "[ 158/ 200]: train loss = 2.839e-02 | test loss = 8.523e-02 | traffix score =  95.746% | rel error = 5.364e-04 depth =  50.0 | lr = 1.0e-03 | eps = 1.0e-04 | time = 3.2e+01\n"
          ],
          "name": "stdout"
        },
        {
          "output_type": "stream",
          "text": [
            ""
          ],
          "name": "stderr"
        },
        {
          "output_type": "stream",
          "text": [
            "[ 159/ 200]: train loss = 2.620e-02 | test loss = 8.645e-02 | traffix score =  96.771% | rel error = 5.402e-04 depth =  50.0 | lr = 1.0e-03 | eps = 1.0e-04 | time = 3.3e+01\n"
          ],
          "name": "stdout"
        },
        {
          "output_type": "stream",
          "text": [
            ""
          ],
          "name": "stderr"
        },
        {
          "output_type": "stream",
          "text": [
            "[ 160/ 200]: train loss = 2.406e-02 | test loss = 8.619e-02 | traffix score =  96.537% | rel error = 5.394e-04 depth =  50.0 | lr = 1.0e-03 | eps = 1.0e-04 | time = 3.2e+01\n"
          ],
          "name": "stdout"
        },
        {
          "output_type": "stream",
          "text": [
            ""
          ],
          "name": "stderr"
        },
        {
          "output_type": "stream",
          "text": [
            "[ 161/ 200]: train loss = 2.874e-02 | test loss = 8.807e-02 | traffix score =  96.772% | rel error = 5.453e-04 depth =  50.0 | lr = 1.0e-03 | eps = 1.0e-04 | time = 3.2e+01\n"
          ],
          "name": "stdout"
        },
        {
          "output_type": "stream",
          "text": [
            ""
          ],
          "name": "stderr"
        },
        {
          "output_type": "stream",
          "text": [
            "[ 162/ 200]: train loss = 4.212e-02 | test loss = 1.026e-01 | traffix score =  96.992% | rel error = 5.887e-04 depth =  50.0 | lr = 1.0e-03 | eps = 1.0e-04 | time = 3.2e+01\n"
          ],
          "name": "stdout"
        },
        {
          "output_type": "stream",
          "text": [
            ""
          ],
          "name": "stderr"
        },
        {
          "output_type": "stream",
          "text": [
            "[ 163/ 200]: train loss = 5.139e-02 | test loss = 9.899e-02 | traffix score =  96.271% | rel error = 5.781e-04 depth =  50.0 | lr = 1.0e-03 | eps = 1.0e-04 | time = 3.2e+01\n"
          ],
          "name": "stdout"
        },
        {
          "output_type": "stream",
          "text": [
            ""
          ],
          "name": "stderr"
        },
        {
          "output_type": "stream",
          "text": [
            "[ 164/ 200]: train loss = 3.231e-02 | test loss = 8.589e-02 | traffix score =  96.466% | rel error = 5.385e-04 depth =  50.0 | lr = 1.0e-03 | eps = 1.0e-04 | time = 3.2e+01\n"
          ],
          "name": "stdout"
        },
        {
          "output_type": "stream",
          "text": [
            ""
          ],
          "name": "stderr"
        },
        {
          "output_type": "stream",
          "text": [
            "[ 165/ 200]: train loss = 2.828e-02 | test loss = 8.574e-02 | traffix score =  96.962% | rel error = 5.380e-04 depth =  50.0 | lr = 1.0e-03 | eps = 1.0e-04 | time = 3.2e+01\n"
          ],
          "name": "stdout"
        },
        {
          "output_type": "stream",
          "text": [
            ""
          ],
          "name": "stderr"
        },
        {
          "output_type": "stream",
          "text": [
            "[ 166/ 200]: train loss = 2.305e-02 | test loss = 8.930e-02 | traffix score =  96.992% | rel error = 5.491e-04 depth =  50.0 | lr = 1.0e-03 | eps = 1.0e-04 | time = 3.2e+01\n"
          ],
          "name": "stdout"
        },
        {
          "output_type": "stream",
          "text": [
            ""
          ],
          "name": "stderr"
        },
        {
          "output_type": "stream",
          "text": [
            "[ 167/ 200]: train loss = 2.230e-02 | test loss = 8.258e-02 | traffix score =  97.257% | rel error = 5.280e-04 depth =  50.0 | lr = 1.0e-03 | eps = 1.0e-04 | time = 3.3e+01\n"
          ],
          "name": "stdout"
        },
        {
          "output_type": "stream",
          "text": [
            ""
          ],
          "name": "stderr"
        },
        {
          "output_type": "stream",
          "text": [
            "[ 168/ 200]: train loss = 2.580e-02 | test loss = 8.503e-02 | traffix score =  96.916% | rel error = 5.358e-04 depth =  50.0 | lr = 1.0e-03 | eps = 1.0e-04 | time = 3.2e+01\n"
          ],
          "name": "stdout"
        },
        {
          "output_type": "stream",
          "text": [
            ""
          ],
          "name": "stderr"
        },
        {
          "output_type": "stream",
          "text": [
            "[ 169/ 200]: train loss = 3.006e-02 | test loss = 9.869e-02 | traffix score =  96.565% | rel error = 5.772e-04 depth =  50.0 | lr = 1.0e-03 | eps = 1.0e-04 | time = 3.2e+01\n"
          ],
          "name": "stdout"
        },
        {
          "output_type": "stream",
          "text": [
            ""
          ],
          "name": "stderr"
        },
        {
          "output_type": "stream",
          "text": [
            "[ 170/ 200]: train loss = 2.448e-02 | test loss = 8.313e-02 | traffix score =  96.085% | rel error = 5.298e-04 depth =  50.0 | lr = 1.0e-03 | eps = 1.0e-04 | time = 3.2e+01\n"
          ],
          "name": "stdout"
        },
        {
          "output_type": "stream",
          "text": [
            ""
          ],
          "name": "stderr"
        },
        {
          "output_type": "stream",
          "text": [
            "[ 171/ 200]: train loss = 2.339e-02 | test loss = 8.749e-02 | traffix score =  96.933% | rel error = 5.435e-04 depth =  50.0 | lr = 1.0e-03 | eps = 1.0e-04 | time = 3.2e+01\n"
          ],
          "name": "stdout"
        },
        {
          "output_type": "stream",
          "text": [
            ""
          ],
          "name": "stderr"
        },
        {
          "output_type": "stream",
          "text": [
            "[ 172/ 200]: train loss = 2.333e-02 | test loss = 8.401e-02 | traffix score =  96.456% | rel error = 5.325e-04 depth =  50.0 | lr = 1.0e-03 | eps = 1.0e-04 | time = 3.2e+01\n"
          ],
          "name": "stdout"
        },
        {
          "output_type": "stream",
          "text": [
            ""
          ],
          "name": "stderr"
        },
        {
          "output_type": "stream",
          "text": [
            "[ 173/ 200]: train loss = 2.276e-02 | test loss = 8.018e-02 | traffix score =  96.774% | rel error = 5.203e-04 depth =  50.0 | lr = 1.0e-03 | eps = 1.0e-04 | time = 3.3e+01\n"
          ],
          "name": "stdout"
        },
        {
          "output_type": "stream",
          "text": [
            ""
          ],
          "name": "stderr"
        },
        {
          "output_type": "stream",
          "text": [
            "[ 174/ 200]: train loss = 2.925e-02 | test loss = 9.030e-02 | traffix score =  96.299% | rel error = 5.521e-04 depth =  50.0 | lr = 1.0e-03 | eps = 1.0e-04 | time = 3.2e+01\n"
          ],
          "name": "stdout"
        },
        {
          "output_type": "stream",
          "text": [
            ""
          ],
          "name": "stderr"
        },
        {
          "output_type": "stream",
          "text": [
            "[ 175/ 200]: train loss = 2.710e-02 | test loss = 8.568e-02 | traffix score =  96.907% | rel error = 5.378e-04 depth =  50.0 | lr = 1.0e-03 | eps = 1.0e-04 | time = 3.2e+01\n"
          ],
          "name": "stdout"
        },
        {
          "output_type": "stream",
          "text": [
            ""
          ],
          "name": "stderr"
        },
        {
          "output_type": "stream",
          "text": [
            "[ 176/ 200]: train loss = 2.164e-02 | test loss = 8.840e-02 | traffix score =  96.770% | rel error = 5.463e-04 depth =  50.0 | lr = 1.0e-03 | eps = 1.0e-04 | time = 3.2e+01\n"
          ],
          "name": "stdout"
        },
        {
          "output_type": "stream",
          "text": [
            ""
          ],
          "name": "stderr"
        },
        {
          "output_type": "stream",
          "text": [
            "[ 177/ 200]: train loss = 2.324e-02 | test loss = 8.218e-02 | traffix score =  96.772% | rel error = 5.267e-04 depth =  50.0 | lr = 1.0e-03 | eps = 1.0e-04 | time = 3.2e+01\n"
          ],
          "name": "stdout"
        },
        {
          "output_type": "stream",
          "text": [
            ""
          ],
          "name": "stderr"
        },
        {
          "output_type": "stream",
          "text": [
            "[ 178/ 200]: train loss = 2.463e-02 | test loss = 8.691e-02 | traffix score =  96.764% | rel error = 5.416e-04 depth =  50.0 | lr = 1.0e-03 | eps = 1.0e-04 | time = 3.2e+01\n"
          ],
          "name": "stdout"
        },
        {
          "output_type": "stream",
          "text": [
            ""
          ],
          "name": "stderr"
        },
        {
          "output_type": "stream",
          "text": [
            "[ 179/ 200]: train loss = 3.945e-02 | test loss = 1.064e-01 | traffix score =  96.560% | rel error = 5.993e-04 depth =  50.0 | lr = 1.0e-03 | eps = 1.0e-04 | time = 3.2e+01\n"
          ],
          "name": "stdout"
        },
        {
          "output_type": "stream",
          "text": [
            ""
          ],
          "name": "stderr"
        },
        {
          "output_type": "stream",
          "text": [
            "[ 180/ 200]: train loss = 2.962e-02 | test loss = 8.736e-02 | traffix score =  96.886% | rel error = 5.431e-04 depth =  50.0 | lr = 1.0e-03 | eps = 1.0e-04 | time = 3.2e+01\n"
          ],
          "name": "stdout"
        },
        {
          "output_type": "stream",
          "text": [
            ""
          ],
          "name": "stderr"
        },
        {
          "output_type": "stream",
          "text": [
            "[ 181/ 200]: train loss = 2.898e-02 | test loss = 8.352e-02 | traffix score =  96.372% | rel error = 5.310e-04 depth =  50.0 | lr = 1.0e-03 | eps = 1.0e-04 | time = 3.2e+01\n"
          ],
          "name": "stdout"
        },
        {
          "output_type": "stream",
          "text": [
            ""
          ],
          "name": "stderr"
        },
        {
          "output_type": "stream",
          "text": [
            "[ 182/ 200]: train loss = 2.867e-02 | test loss = 8.888e-02 | traffix score =  96.224% | rel error = 5.478e-04 depth =  50.0 | lr = 1.0e-03 | eps = 1.0e-04 | time = 3.2e+01\n"
          ],
          "name": "stdout"
        },
        {
          "output_type": "stream",
          "text": [
            ""
          ],
          "name": "stderr"
        },
        {
          "output_type": "stream",
          "text": [
            "[ 183/ 200]: train loss = 2.197e-02 | test loss = 8.473e-02 | traffix score =  97.418% | rel error = 5.348e-04 depth =  50.0 | lr = 1.0e-03 | eps = 1.0e-04 | time = 3.2e+01\n",
            "Model weights saved to drive/MyDrive/NashFPNs/TrafficTrainingData/FinalResults/Berlin-Friedrichshain_weights.pth\n"
          ],
          "name": "stdout"
        },
        {
          "output_type": "stream",
          "text": [
            ""
          ],
          "name": "stderr"
        },
        {
          "output_type": "stream",
          "text": [
            "[ 184/ 200]: train loss = 2.121e-02 | test loss = 8.156e-02 | traffix score =  96.708% | rel error = 5.247e-04 depth =  50.0 | lr = 1.0e-03 | eps = 1.0e-04 | time = 3.2e+01\n"
          ],
          "name": "stdout"
        },
        {
          "output_type": "stream",
          "text": [
            ""
          ],
          "name": "stderr"
        },
        {
          "output_type": "stream",
          "text": [
            "[ 185/ 200]: train loss = 2.236e-02 | test loss = 8.787e-02 | traffix score =  96.864% | rel error = 5.446e-04 depth =  50.0 | lr = 1.0e-03 | eps = 1.0e-04 | time = 3.3e+01\n"
          ],
          "name": "stdout"
        },
        {
          "output_type": "stream",
          "text": [
            ""
          ],
          "name": "stderr"
        },
        {
          "output_type": "stream",
          "text": [
            "[ 186/ 200]: train loss = 1.775e-02 | test loss = 8.092e-02 | traffix score =  96.894% | rel error = 5.227e-04 depth =  50.0 | lr = 1.0e-03 | eps = 1.0e-04 | time = 3.3e+01\n"
          ],
          "name": "stdout"
        },
        {
          "output_type": "stream",
          "text": [
            ""
          ],
          "name": "stderr"
        },
        {
          "output_type": "stream",
          "text": [
            "[ 187/ 200]: train loss = 2.505e-02 | test loss = 8.827e-02 | traffix score =  96.471% | rel error = 5.459e-04 depth =  50.0 | lr = 1.0e-03 | eps = 1.0e-04 | time = 3.3e+01\n"
          ],
          "name": "stdout"
        },
        {
          "output_type": "stream",
          "text": [
            ""
          ],
          "name": "stderr"
        },
        {
          "output_type": "stream",
          "text": [
            "[ 188/ 200]: train loss = 3.085e-02 | test loss = 8.648e-02 | traffix score =  96.285% | rel error = 5.403e-04 depth =  50.0 | lr = 1.0e-03 | eps = 1.0e-04 | time = 3.2e+01\n"
          ],
          "name": "stdout"
        },
        {
          "output_type": "stream",
          "text": [
            ""
          ],
          "name": "stderr"
        },
        {
          "output_type": "stream",
          "text": [
            "[ 189/ 200]: train loss = 2.252e-02 | test loss = 8.223e-02 | traffix score =  96.574% | rel error = 5.269e-04 depth =  50.0 | lr = 1.0e-03 | eps = 1.0e-04 | time = 3.2e+01\n"
          ],
          "name": "stdout"
        },
        {
          "output_type": "stream",
          "text": [
            ""
          ],
          "name": "stderr"
        },
        {
          "output_type": "stream",
          "text": [
            "[ 190/ 200]: train loss = 2.127e-02 | test loss = 8.884e-02 | traffix score =  95.824% | rel error = 5.476e-04 depth =  50.0 | lr = 1.0e-03 | eps = 1.0e-04 | time = 3.2e+01\n"
          ],
          "name": "stdout"
        },
        {
          "output_type": "stream",
          "text": [
            ""
          ],
          "name": "stderr"
        },
        {
          "output_type": "stream",
          "text": [
            "[ 191/ 200]: train loss = 2.026e-02 | test loss = 7.911e-02 | traffix score =  96.735% | rel error = 5.168e-04 depth =  50.0 | lr = 1.0e-03 | eps = 1.0e-04 | time = 3.2e+01\n"
          ],
          "name": "stdout"
        },
        {
          "output_type": "stream",
          "text": [
            ""
          ],
          "name": "stderr"
        },
        {
          "output_type": "stream",
          "text": [
            "[ 192/ 200]: train loss = 4.621e-02 | test loss = 9.856e-02 | traffix score =  96.584% | rel error = 5.768e-04 depth =  50.0 | lr = 1.0e-03 | eps = 1.0e-04 | time = 3.2e+01\n"
          ],
          "name": "stdout"
        },
        {
          "output_type": "stream",
          "text": [
            ""
          ],
          "name": "stderr"
        },
        {
          "output_type": "stream",
          "text": [
            "[ 193/ 200]: train loss = 4.064e-02 | test loss = 1.097e-01 | traffix score =  94.486% | rel error = 6.086e-04 depth =  50.0 | lr = 1.0e-03 | eps = 1.0e-04 | time = 3.2e+01\n"
          ],
          "name": "stdout"
        },
        {
          "output_type": "stream",
          "text": [
            ""
          ],
          "name": "stderr"
        },
        {
          "output_type": "stream",
          "text": [
            "[ 194/ 200]: train loss = 2.612e-02 | test loss = 8.926e-02 | traffix score =  95.397% | rel error = 5.489e-04 depth =  50.0 | lr = 1.0e-03 | eps = 1.0e-04 | time = 3.2e+01\n"
          ],
          "name": "stdout"
        },
        {
          "output_type": "stream",
          "text": [
            ""
          ],
          "name": "stderr"
        },
        {
          "output_type": "stream",
          "text": [
            "[ 195/ 200]: train loss = 2.461e-02 | test loss = 8.605e-02 | traffix score =  95.976% | rel error = 5.390e-04 depth =  50.0 | lr = 1.0e-03 | eps = 1.0e-04 | time = 3.2e+01\n"
          ],
          "name": "stdout"
        },
        {
          "output_type": "stream",
          "text": [
            ""
          ],
          "name": "stderr"
        },
        {
          "output_type": "stream",
          "text": [
            "[ 196/ 200]: train loss = 9.968e-02 | test loss = 1.628e-01 | traffix score =  96.228% | rel error = 7.414e-04 depth =  50.0 | lr = 1.0e-03 | eps = 1.0e-04 | time = 3.2e+01\n"
          ],
          "name": "stdout"
        },
        {
          "output_type": "stream",
          "text": [
            ""
          ],
          "name": "stderr"
        },
        {
          "output_type": "stream",
          "text": [
            "[ 197/ 200]: train loss = 6.740e-02 | test loss = 1.182e-01 | traffix score =  95.584% | rel error = 6.316e-04 depth =  50.0 | lr = 1.0e-03 | eps = 1.0e-04 | time = 3.2e+01\n"
          ],
          "name": "stdout"
        },
        {
          "output_type": "stream",
          "text": [
            ""
          ],
          "name": "stderr"
        },
        {
          "output_type": "stream",
          "text": [
            "[ 198/ 200]: train loss = 5.634e-02 | test loss = 1.011e-01 | traffix score =  97.044% | rel error = 5.842e-04 depth =  50.0 | lr = 1.0e-03 | eps = 1.0e-04 | time = 3.2e+01\n"
          ],
          "name": "stdout"
        },
        {
          "output_type": "stream",
          "text": [
            ""
          ],
          "name": "stderr"
        },
        {
          "output_type": "stream",
          "text": [
            "[ 199/ 200]: train loss = 3.169e-02 | test loss = 8.788e-02 | traffix score =  96.685% | rel error = 5.447e-04 depth =  50.0 | lr = 1.0e-03 | eps = 1.0e-04 | time = 3.2e+01\n"
          ],
          "name": "stdout"
        },
        {
          "output_type": "stream",
          "text": [
            ""
          ],
          "name": "stderr"
        },
        {
          "output_type": "stream",
          "text": [
            "[ 200/ 200]: train loss = 2.717e-02 | test loss = 8.544e-02 | traffix score =  96.756% | rel error = 5.371e-04 depth =  50.0 | lr = 1.0e-03 | eps = 1.0e-04 | time = 3.2e+01\n",
            "Training history saved to drive/MyDrive/NashFPNs/TrafficTrainingData/FinalResults/Berlin-Friedrichshain_history.pth\n"
          ],
          "name": "stdout"
        }
      ]
    },
    {
      "cell_type": "markdown",
      "metadata": {
        "id": "nqXJxGJoxMWn"
      },
      "source": [
        "## Plot Testing Error"
      ]
    },
    {
      "cell_type": "code",
      "metadata": {
        "id": "rlzK9VrHyuqF",
        "colab": {
          "base_uri": "https://localhost:8080/",
          "height": 302
        },
        "outputId": "8ca90b6f-2723-4971-94e5-c8b4fdc9995d"
      },
      "source": [
        "# ---------------------------------------------\n",
        "# Plot testing history\n",
        "# ---------------------------------------------\n",
        "import matplotlib.pyplot as plt\n",
        "\n",
        "fig1 = plt.figure(1)\n",
        "plt.plot(train_loss_hist, linewidth=3)\n",
        "plt.plot(test_loss_hist, linewidth=3)\n",
        "plt.legend(['training loss', 'testing loss'], fontsize=15)\n",
        "plt.xlabel('epochs', fontsize=15)\n",
        "plt.ylabel('|z - z*|', fontsize=15)\n",
        "plt.title('Mean Squared Error', fontsize=15)\n",
        "plt.savefig('line_plot.pdf')  "
      ],
      "execution_count": null,
      "outputs": [
        {
          "output_type": "display_data",
          "data": {
            "image/png": "[encoded data removed]",
            "text/plain": [
              "<Figure size 432x288 with 1 Axes>"
            ]
          },
          "metadata": {
            "tags": [],
            "needs_background": "light"
          }
        }
      ]
    },
    {
      "cell_type": "code",
      "metadata": {
        "id": "7f2yRiqEV6Hm",
        "colab": {
          "base_uri": "https://localhost:8080/",
          "height": 302
        },
        "outputId": "c1c605d2-2a3d-4b7f-cfc9-5452fa63f95e"
      },
      "source": [
        "fig1 = plt.figure(2)\n",
        "plt.plot(traffix_score_hist, linewidth=3)\n",
        "plt.legend(['traffix score history'], fontsize=15)\n",
        "plt.xlabel('epochs', fontsize=15)\n",
        "plt.ylabel('traffix score', fontsize=15)\n",
        "plt.title('Traffix Score', fontsize=15)\n",
        "plt.savefig('traffix_score_plot.pdf')  "
      ],
      "execution_count": null,
      "outputs": [
        {
          "output_type": "display_data",
          "data": {
            "image/png": "[encoded data removed]",
            "text/plain": [
              "<Figure size 432x288 with 1 Axes>"
            ]
          },
          "metadata": {
            "tags": [],
            "needs_background": "light"
          }
        }
      ]
    },
    {
      "cell_type": "markdown",
      "metadata": {
        "id": "qA7cyT-CjhtY"
      },
      "source": [
        "## Generate CSV File"
      ]
    },
    {
      "cell_type": "code",
      "metadata": {
        "id": "VmRNYsSmtIZp"
      },
      "source": [
        "filename = data_set + '_epoch_vs_relerr.csv'\n",
        "with open(filename, 'w') as f: \n",
        "  for epoch, rel_err in enumerate(rel_err_hist):     \n",
        "    f.write('%0.5e,%0.5e\\n' % (epoch + 1, rel_err)) \n",
        "\n",
        "filename = data_set + '_epoch_vs_trafix.csv'\n",
        "with open(filename, 'w') as f: \n",
        "  for epoch, traffix_score in enumerate(traffix_score_hist):     \n",
        "    f.write('%0.5e,%0.5e\\n' % (epoch + 1, traffix_score)) "
      ],
      "execution_count": null,
      "outputs": []
    }
  ]
}